{
 "cells": [
  {
   "cell_type": "markdown",
   "id": "2748f50a",
   "metadata": {},
   "source": [
    "### Object Oriented Programming"
   ]
  },
  {
   "cell_type": "markdown",
   "id": "64953633",
   "metadata": {},
   "source": [
    "---"
   ]
  },
  {
   "cell_type": "markdown",
   "id": "c00dc478",
   "metadata": {},
   "source": [
    "##### What is procedural approach of coding?"
   ]
  },
  {
   "cell_type": "markdown",
   "id": "4b3de1a7",
   "metadata": {},
   "source": [
    "It is a straightforward way of writing code, where the program flow is determined by procedure calls and the order of statements in the code.\n",
    "\n",
    "While this approach is effective for smaller programs, it can become complex and hard to maintain for larger, more intricate systems."
   ]
  },
  {
   "cell_type": "markdown",
   "id": "0d0331a3",
   "metadata": {},
   "source": [
    "---"
   ]
  },
  {
   "cell_type": "markdown",
   "id": "5de15299",
   "metadata": {},
   "source": [
    "##### What is Object Oriented Programming?"
   ]
  },
  {
   "cell_type": "markdown",
   "id": "2cf722fb",
   "metadata": {},
   "source": [
    "Object-Oriented Programming (OOP) is a way of writing computer programs by creating \"objects\" that can hold data and code to work with that data.\n",
    "\n",
    "Imagine an object as a container that holds information and the tools to work with that information. These objects can be based on blueprints called \"classes,\" which define what the objects can do and what kind of information they can hold.\n",
    "OOP helps organize code in a more logical and reusable way, making it easier to build and maintain complex programs. It's like building with Lego blocks, where you can create different things using the same set of standard pieces"
   ]
  },
  {
   "cell_type": "markdown",
   "id": "4939581a",
   "metadata": {},
   "source": [
    "---"
   ]
  },
  {
   "cell_type": "markdown",
   "id": "8825b779",
   "metadata": {},
   "source": [
    "##### What is object in OOP?"
   ]
  },
  {
   "cell_type": "markdown",
   "id": "cbf17782",
   "metadata": {},
   "source": [
    "Think of a class as a blueprint or template for creating something, and an object as the actual thing created from that blueprint. For example, a class \"Car\" can have attributes like color and model, and methods like \"drive\" and \"stop\". An object of the class \"Car\" could be a specific car like \"Toyota Camry\" with a color \"red\". So, the class defines what the object will be like, and the object is the actual instance based on that definition."
   ]
  },
  {
   "cell_type": "markdown",
   "id": "28f72631",
   "metadata": {},
   "source": [
    "---"
   ]
  },
  {
   "cell_type": "markdown",
   "id": "c0b29cc4",
   "metadata": {},
   "source": [
    "##### What exactly OOP does?"
   ]
  },
  {
   "cell_type": "markdown",
   "id": "9ba24641",
   "metadata": {},
   "source": [
    "The primary strength of OOP is that it empowers programmers to craft/create their own data types.\n",
    "\n",
    "Python considers all the data types as object"
   ]
  },
  {
   "cell_type": "markdown",
   "id": "00b56e99",
   "metadata": {},
   "source": [
    "---"
   ]
  },
  {
   "cell_type": "markdown",
   "id": "3d1c1b4c",
   "metadata": {},
   "source": [
    "##### What problem does OOP solve?"
   ]
  },
  {
   "cell_type": "markdown",
   "id": "83f3f0ce",
   "metadata": {},
   "source": [
    "Object-oriented programming (OOP) addresses several key issues in software development:<br>\n",
    "<b>1. Complexity Management:</b> OOP allows for the organization of code into reusable modules (objects and classes), making it easier to manage and maintain large codebases. This modular approach reduces complexity by encapsulating data and behavior within objects, promoting code reusability and easier maintenance.<br>\n",
    "<b>2. Code Reusability:</b> OOP promotes the reuse of objects and classes across different parts of a program or in different programs altogether. This reduces redundancy, improves productivity, and ensures consistency in the codebase.<br>\n",
    "<b>3. Data Security:</b> OOP enables data encapsulation, where data is hidden within objects and can only be accessed or modified through well-defined interfaces. This helps prevent unintended modifications and ensures data security.<br>\n",
    "<b>4. Flexibility and Scalability:</b> OOP supports inheritance, allowing new classes to be derived from existing ones. This enables the creation of hierarchies of classes, making it easier to extend and modify existing code to accommodate new requirements.<br>\n",
    "<b>5. Problem Modeling:</b> OOP allows developers to model real-world problems more accurately by representing entities, their attributes, and behaviors as objects. This makes it easier to map real-world concepts to software solutions, leading to more intuitive and maintainable code.<br>\n",
    "\n",
    "Overall, OOP provides a more organized, modular, and scalable approach to software development, addressing many of the challenges encountered in traditional procedural programming. "
   ]
  },
  {
   "cell_type": "markdown",
   "id": "3aae6d5e",
   "metadata": {},
   "source": [
    "---"
   ]
  },
  {
   "cell_type": "markdown",
   "id": "f9d620dc",
   "metadata": {},
   "source": [
    "##### What are the principles of OOP?"
   ]
  },
  {
   "cell_type": "markdown",
   "id": "9d60c940",
   "metadata": {},
   "source": [
    "<b>1. Class:</b> In object-oriented programming (OOP), a class is a blueprint for creating objects (instances). It defines the properties (attributes) and behaviors (methods) that objects of the class will have. Essentially, a class serves as a template for creating objects with similar attributes and behaviors. It encapsulates the data and methods that operate on the data.<br>\n",
    "<b>2. Object:</b>Object is an instance of class<br>\n",
    "<b>3. Encapsulation:</b> Bundling data and methods that work on the data into a single unit, preventing direct access to the data from outside the unit.<br>\n",
    "<b>4. Abstraction:</b> Hiding the complex implementation details and showing only the necessary features of an object.<br>\n",
    "<b>5. Inheritance:</b> Creating new classes from existing ones, allowing the new classes to inherit the properties and behaviors of the existing classes.<br>\n",
    "<b>6. Polymorphism:</b> The ability of different classes to be treated as objects of a common superclass, allowing for more flexibility and dynamic behavior."
   ]
  },
  {
   "cell_type": "markdown",
   "id": "82f4aeb4",
   "metadata": {},
   "source": [
    "---"
   ]
  },
  {
   "cell_type": "markdown",
   "id": "e004f2c5",
   "metadata": {},
   "source": [
    "##### What is class?"
   ]
  },
  {
   "cell_type": "markdown",
   "id": "e14c7ba8",
   "metadata": {},
   "source": [
    "In object-oriented programming (OOP), a class is a blueprint for creating objects (instances). It serves as a template for defining the properties (attributes) and behaviors (methods) that objects of that class will exhibit."
   ]
  },
  {
   "cell_type": "markdown",
   "id": "0e4d7c9a",
   "metadata": {},
   "source": [
    "---"
   ]
  },
  {
   "cell_type": "markdown",
   "id": "cf170e0f",
   "metadata": {},
   "source": [
    "##### What exactly does a class contain?"
   ]
  },
  {
   "cell_type": "markdown",
   "id": "634a40db",
   "metadata": {},
   "source": [
    "<b>1. Attributes/Fields/Properties:</b> These are the data members that represent the state of the object. They define the characteristics or features of the object.<br>\n",
    "<b>2. Methods/Functions:</b> These are the behaviors or actions that the object can perform. They operate on the object's data and provide functionality to the object.<br>\n",
    "<b>3. Constructor:</b> This is a special method used for initializing new objects of the class. It sets initial values for the object's attributes.<br>\n",
    "<b>4. Other special methods:</b> These include methods for operator overloading, representing the object as a string, comparing objects, and more.<br>\n",
    "The combination of these elements defines the structure and behavior of objects created from the class."
   ]
  },
  {
   "cell_type": "markdown",
   "id": "adc93837",
   "metadata": {},
   "source": [
    "---"
   ]
  },
  {
   "cell_type": "markdown",
   "id": "27070327",
   "metadata": {},
   "source": [
    "##### What is object?\n"
   ]
  },
  {
   "cell_type": "markdown",
   "id": "f517a95f",
   "metadata": {},
   "source": [
    "In object-oriented programming (OOP), an object is a concrete instance of a class. It is a runtime entity that represents a particular realization of the class, with its own set of attributes and behaviors."
   ]
  },
  {
   "cell_type": "markdown",
   "id": "ef604a05",
   "metadata": {},
   "source": [
    "---"
   ]
  },
  {
   "cell_type": "markdown",
   "id": "1cd7247b",
   "metadata": {},
   "source": [
    "##### What is object literal?"
   ]
  },
  {
   "cell_type": "markdown",
   "id": "e02c61f0",
   "metadata": {},
   "source": [
    "In the context of Object-Oriented Programming (OOP), an object literal typically refers to a notation used to represent an instance of a class directly in the source code, without the need for a formal class definition.\n",
    "\n",
    "We can create a list in 2 ways:\n",
    "- L = list() This is inheriting class\n",
    "- L = [1,2,3,4,5] This is creating an object without inherting class, therefore its called literal"
   ]
  },
  {
   "cell_type": "markdown",
   "id": "e282bb5d",
   "metadata": {},
   "source": [
    "---"
   ]
  },
  {
   "cell_type": "markdown",
   "id": "bca98b5d",
   "metadata": {},
   "source": [
    "##### Where is variable created?"
   ]
  },
  {
   "cell_type": "markdown",
   "id": "586995de",
   "metadata": {},
   "source": [
    "Variable is always created inside a costructor"
   ]
  },
  {
   "cell_type": "markdown",
   "id": "0e010220",
   "metadata": {},
   "source": [
    "---"
   ]
  },
  {
   "cell_type": "markdown",
   "id": "87f0966a",
   "metadata": {},
   "source": [
    "##### What is Pascal case?"
   ]
  },
  {
   "cell_type": "markdown",
   "id": "1e45818f",
   "metadata": {},
   "source": [
    "Pascal case is a convention for naming identifiers in which the first letter of each word in a compound word is capitalized, and there are no spaces between the words. For example, \"PascalCaseExample\"."
   ]
  },
  {
   "cell_type": "markdown",
   "id": "a23b07dc",
   "metadata": {},
   "source": [
    "---"
   ]
  },
  {
   "cell_type": "markdown",
   "id": "d61000ec",
   "metadata": {},
   "source": [
    "##### What are different classes in Python?"
   ]
  },
  {
   "cell_type": "markdown",
   "id": "3e950026",
   "metadata": {},
   "source": [
    "There are mainly 2 classes in Python. They are:\n",
    "- Built-in classes: These are classes that are built into the Python language, such as int, str, list, dict, and many others.\n",
    "- Custom classes: These are user-defined classes created by the programmer to model real-world entities or abstract concepts.\n"
   ]
  },
  {
   "cell_type": "markdown",
   "id": "1f4aa5f6",
   "metadata": {},
   "source": [
    "---"
   ]
  },
  {
   "cell_type": "markdown",
   "id": "26bd5de4",
   "metadata": {},
   "source": [
    "---"
   ]
  },
  {
   "cell_type": "markdown",
   "id": "8d3fe3e4",
   "metadata": {},
   "source": [
    "##### What is the difference between methods and functions?"
   ]
  },
  {
   "cell_type": "markdown",
   "id": "4ec2341c",
   "metadata": {},
   "source": [
    "In object-oriented programming (OOP), a method is a function that is associated with a specific class. It is defined within the class and operates on instances of the class. Methods have access to the data stored in the instance and can modify that data. In Python, methods are defined using the def keyword within a class.\n",
    "\n",
    "On the other hand, a function is a block of code that is organized and named, and can be called to perform a specific task. Functions in Python are defined using the def keyword outside of a class.\n",
    "\n",
    "In this example, bark is a method of the Dog class, and add_numbers is a function. The bark method operates on an instance of the Dog class and has access to the name attribute of that instance. The add_numbers function is not associated with any class and can be called independently.\n",
    "\n",
    "In summary, methods are functions that are associated with a class and operate on instances of the class, while functions are independent blocks of code that can be called to perform specific tasks."
   ]
  },
  {
   "cell_type": "code",
   "execution_count": 7,
   "id": "06485a3b",
   "metadata": {},
   "outputs": [],
   "source": [
    "# Here's a simple example to illustrate the difference:\n",
    "class Dog:\n",
    "    def __init__(self, name):\n",
    "        self.name = name\n",
    "    def bark(self):\n",
    "        print(f\"{self.name} says woof!\")\n",
    "def add_numbers(x, y):\n",
    "    return x + y\n"
   ]
  },
  {
   "cell_type": "markdown",
   "id": "bfe58a96",
   "metadata": {},
   "source": [
    "---"
   ]
  },
  {
   "cell_type": "markdown",
   "id": "8470015c",
   "metadata": {},
   "source": [
    "##### What is a class diagram?"
   ]
  },
  {
   "cell_type": "markdown",
   "id": "e9b5d745",
   "metadata": {},
   "source": [
    "A class diagram is a type of static structure diagram in the Unified Modeling Language (UML) that describes the structure of a system by showing the system's classes, their attributes, methods, and the relationships among the classes. It's commonly used in object-oriented modeling to visualize the structure of a system."
   ]
  },
  {
   "cell_type": "markdown",
   "id": "a51dfd0d",
   "metadata": {},
   "source": [
    "---"
   ]
  },
  {
   "cell_type": "markdown",
   "id": "202ff195",
   "metadata": {},
   "source": [
    "##### What is magic method/Dunder method?"
   ]
  },
  {
   "cell_type": "markdown",
   "id": "01076f0c",
   "metadata": {},
   "source": [
    "In Python, a \"magic method\" refers to special methods that start and end with double underscores, like __init__, __str__, __add__, etc. These methods allow you to define specific behaviors for your custom objects. For example, __init__ is used to initialize a newly created object, __str__ is used to define the string representation of an object, and __add__ is used to define the behavior of the + operator when used with your custom objects. Magic methods are a powerful feature of Python's object-oriented programming. If you have more questions about Python or anything else, feel free to ask!\n",
    " "
   ]
  },
  {
   "cell_type": "markdown",
   "id": "fb9b63ca",
   "metadata": {},
   "source": [
    "---"
   ]
  },
  {
   "cell_type": "markdown",
   "id": "7aeeffc3",
   "metadata": {},
   "source": [
    "##### What is constructor?"
   ]
  },
  {
   "cell_type": "markdown",
   "id": "a3737652",
   "metadata": {},
   "source": [
    "In object-oriented programming (OOP), a constructor is a special type of method (magic method) that is automatically called when an instance (object) of a class is created. Its primary purpose is to initialize the newly created object.\n",
    "In Python, the constructor method is called \"__init__\" (double underscore init double underscore)."
   ]
  },
  {
   "cell_type": "markdown",
   "id": "62d21ba8",
   "metadata": {},
   "source": [
    "---"
   ]
  },
  {
   "cell_type": "markdown",
   "id": "a8621c2e",
   "metadata": {},
   "source": [
    "##### What is the benefit of using constructor?"
   ]
  },
  {
   "cell_type": "markdown",
   "id": "09b88d28",
   "metadata": {},
   "source": [
    "In the context of a constructor, you'd typically write code to handle tasks that are essential for the object's functionality (consideration related task) but should not be directly controlled by the user. For instance, establishing a connection to a database is a prime example of this.\n",
    "\n",
    "Here's an example of how you might frame it:"
   ]
  },
  {
   "cell_type": "code",
   "execution_count": 8,
   "id": "2c089c47",
   "metadata": {},
   "outputs": [],
   "source": [
    "class DatabaseConnection:\n",
    "    def __init__(self, username, password, database_name):\n",
    "        # Perform tasks to establish a database connection\n",
    "        self.connection = self._connect_to_database(username, password, database_name)\n",
    "    \n",
    "    def _connect_to_database(self, username, password, database_name):\n",
    "        # Actual implementation to establish a database connection\n",
    "        # ...\n",
    "        # Return the database connection object\n",
    "        return database_connection_object"
   ]
  },
  {
   "cell_type": "markdown",
   "id": "722892aa",
   "metadata": {},
   "source": [
    "In this example, the _connect_to_database method is a private method that handles the intricacies of establishing the connection. By encapsulating this logic within the constructor and a private method, you ensure that the user doesn't directly control the connection process, thereby maintaining better control over the object's behavior.\n",
    "This approach aligns with the principle of encapsulation in object-oriented programming, enhancing the security and robustness of the code.\n",
    "\n",
    "Name of constructor can not be changed"
   ]
  },
  {
   "cell_type": "markdown",
   "id": "dc0dcc2c",
   "metadata": {},
   "source": [
    "---"
   ]
  },
  {
   "cell_type": "markdown",
   "id": "fb24c66b",
   "metadata": {},
   "source": [
    "##### What is the golden rule of OOP?"
   ]
  },
  {
   "cell_type": "markdown",
   "id": "b750d333",
   "metadata": {},
   "source": [
    "Anything present inside a class can only be accessed by object\n",
    "\n",
    "Two methods under a class cannot call eachother"
   ]
  },
  {
   "cell_type": "markdown",
   "id": "0e99a69a",
   "metadata": {},
   "source": [
    "---"
   ]
  },
  {
   "cell_type": "markdown",
   "id": "cbc69390",
   "metadata": {},
   "source": [
    "##### What is self?"
   ]
  },
  {
   "cell_type": "markdown",
   "id": "4f5d65c5",
   "metadata": {},
   "source": [
    "self is nothing but the current object of the class with which we are working currently.\n",
    "\n",
    "As per the golden rule of OOP, no method under the class can talk to each other. Its only the object who has this power. Therefore, you use self to access the attributes and methods of that same class. It's a bit like saying \"this is me\" inside the class, so you can do things and access your own stuff. It helps keep everything organized and separate for each instance of the class."
   ]
  },
  {
   "cell_type": "markdown",
   "id": "31cbb5d5",
   "metadata": {},
   "source": [
    "---"
   ]
  },
  {
   "cell_type": "markdown",
   "id": "cf7834b2",
   "metadata": {},
   "source": [
    "##### What are different types of constructor?"
   ]
  },
  {
   "cell_type": "markdown",
   "id": "9eb59037",
   "metadata": {},
   "source": [
    "In object-oriented programming, constructors are special methods used for initializing objects. In Python, there are two main types of constructors:\n",
    "\n",
    "<b>1. Default/Non-parameterized Constructor:</b> Also known as the no-argument constructor, it is automatically invoked when an object is created. It doesn't take any parameters.<br>\n",
    "<b>2. Parameterized Constructor:</b> This type of constructor takes parameters to initialize the object with specific values. It allows you to pass values to the object at the time of its creation.\n",
    "These constructors help set up the initial state of objects and are a fundamental part of object-oriented programming.\n",
    " "
   ]
  },
  {
   "cell_type": "markdown",
   "id": "c830aa0d",
   "metadata": {},
   "source": [
    "---"
   ]
  },
  {
   "cell_type": "markdown",
   "id": "d16a48f2",
   "metadata": {},
   "source": [
    "##### What is __str__ (double underscore) method?"
   ]
  },
  {
   "cell_type": "markdown",
   "id": "c78a992f",
   "metadata": {},
   "source": [
    "In Python, __str__ is a special method used to define a custom string representation of an object. When you use the print function or str() to convert an object to a string, Python calls the __str__ method of that object if it's defined.\n",
    "\n",
    "By implementing the __str__ method in a class, you can specify how instances of that class should be represented as strings. This is useful for providing a more meaningful or descriptive output when the object is printed or used as a string."
   ]
  },
  {
   "cell_type": "code",
   "execution_count": 10,
   "id": "cdd783d6",
   "metadata": {},
   "outputs": [
    {
     "name": "stdout",
     "output_type": "stream",
     "text": [
      "A Toyota Camry\n"
     ]
    }
   ],
   "source": [
    "class Car:\n",
    "    def __init__(self, brand, model):\n",
    "        self.brand = brand\n",
    "        self.model = model\n",
    "\n",
    "    def __str__(self):\n",
    "        return f\"A {self.brand} {self.model}\"\n",
    "\n",
    "my_car = Car(\"Toyota\", \"Camry\")\n",
    "print(my_car)  # Output: A Toyota Camry"
   ]
  },
  {
   "cell_type": "markdown",
   "id": "ad50e934",
   "metadata": {},
   "source": [
    "---"
   ]
  },
  {
   "cell_type": "markdown",
   "id": "cc03f272",
   "metadata": {},
   "source": [
    "##### How can we see all the magic methods in Python?"
   ]
  },
  {
   "cell_type": "markdown",
   "id": "61e8408c",
   "metadata": {},
   "source": [
    "<b>dir(int)</b> will display all the magic methods present in Python"
   ]
  },
  {
   "cell_type": "markdown",
   "id": "9118afaf",
   "metadata": {},
   "source": [
    "---"
   ]
  },
  {
   "cell_type": "markdown",
   "id": "d6f3054f",
   "metadata": {},
   "source": [
    "##### Is it possible to create attribute from outside the class?"
   ]
  },
  {
   "cell_type": "markdown",
   "id": "3df05f01",
   "metadata": {},
   "source": [
    "Attributes are typically defined within the class to describe the properties of objects instantiated from that class.\n",
    "\n",
    "But in Python, attributes can be created from outside the class using the instance of the class. This can be done by directly assigning a value to a new attribute on an instance of the class (object). However, it's important to note that this is generally not recommended as it can lead to unexpected behavior and can break encapsulation, which is a key principle of object-oriented programming. It's usually better to define attributes within the class and provide methods to interact with them"
   ]
  },
  {
   "cell_type": "markdown",
   "id": "068a0bd4",
   "metadata": {},
   "source": [
    "---"
   ]
  },
  {
   "cell_type": "markdown",
   "id": "db44f5c1",
   "metadata": {},
   "source": [
    "##### What is reference variable?"
   ]
  },
  {
   "cell_type": "markdown",
   "id": "bf231014",
   "metadata": {},
   "source": [
    "A reference variable in programming is a variable that stores the memory address of an object or data structure rather than the actual value itself. In languages like Java, C++, or Python, when you create an object, the variable you use to refer to that object actually holds a reference to the memory location where the object is stored, rather than the object's data directly. This allows multiple variables to refer to the same object, and changes made through one variable will be reflected in others that reference the same object."
   ]
  },
  {
   "cell_type": "markdown",
   "id": "c9a682ec",
   "metadata": {},
   "source": [
    "---"
   ]
  },
  {
   "cell_type": "markdown",
   "id": "8ff747d3",
   "metadata": {},
   "source": [
    "##### What are the characteristics of reference variable?"
   ]
  },
  {
   "cell_type": "markdown",
   "id": "92c136ff",
   "metadata": {},
   "source": [
    "The characteristics of reference variables include:\n",
    "\n",
    "\n",
    "<b>1. Memory Address:</b> Reference variables store the memory address of an object or data structure.\n",
    "Indirection: They provide an indirect way to access the actual data, allowing for flexibility and dynamic memory management.<br>\n",
    "<b>2. Object Access:</b> They enable multiple variables to refer to the same object, allowing for efficient memory usage and the ability to share and modify data.<br>\n",
    "<b>3. Pass-By-Reference:</b> In some languages, when passing reference variables to functions, the function can modify the actual object rather than a copy of it.<br>\n",
    "<b>4. Dynamic Binding:</b> Reference variables allow for dynamic binding, which means that the specific method or property being accessed is determined at runtime based on the actual type of the object being referred to.<br>\n",
    "<b>5.</b> Refrence variables hold the object<br>\n",
    "<b>6.</b> We can create objects without reference variable as well<br>\n",
    "<b>7.</b> An object can have multiple reference variables<br>\n",
    "<b>8.</b> Assigning a new reference variable to an existing object does not create a new object"
   ]
  },
  {
   "cell_type": "markdown",
   "id": "eae3c9fb",
   "metadata": {},
   "source": [
    "---"
   ]
  },
  {
   "cell_type": "markdown",
   "id": "9ec95656",
   "metadata": {},
   "source": [
    "##### What is pass by reference?"
   ]
  },
  {
   "cell_type": "markdown",
   "id": "1925fe37",
   "metadata": {},
   "source": [
    "Pass by reference is a method of passing arguments to a function in programming languages. When a parameter is passed by reference, the function receives a reference to the original variable rather than a copy of its value. This means that changes made to the parameter within the function will directly affect the original variable outside the function.\n",
    "Languages like C++, C#, and Python support pass by reference, allowing functions to modify the actual value of the variable passed in. This can be useful when a function needs to modify multiple variables or when dealing with large data structures to avoid unnecessary copying."
   ]
  },
  {
   "cell_type": "markdown",
   "id": "03661510",
   "metadata": {},
   "source": [
    "---"
   ]
  },
  {
   "cell_type": "markdown",
   "id": "d792809f",
   "metadata": {},
   "source": [
    "##### Object of user defined classes are mutable or immutable and why?"
   ]
  },
  {
   "cell_type": "markdown",
   "id": "584389a4",
   "metadata": {},
   "source": [
    "User-defined classes are mutable by default because the attributes and properties of an object of a user-defined class can be changed after the object is created. This mutability allows for flexibility in programming and data manipulation. This is also because the object points to a reference address and which can be changed"
   ]
  },
  {
   "cell_type": "markdown",
   "id": "b2bda4d2",
   "metadata": {},
   "source": [
    "---"
   ]
  },
  {
   "cell_type": "markdown",
   "id": "726c49fb",
   "metadata": {},
   "source": [
    "##### What is instance variable?"
   ]
  },
  {
   "cell_type": "markdown",
   "id": "a63a7d28",
   "metadata": {},
   "source": [
    "An instance variable in object-oriented programming is a variable that is associated with a particular instance of a class. Each object or instance of the class has its own copy of the instance variables. These variables represent the state of the object and are defined within the class but outside of any methods.\n",
    "Instance variables hold data that is unique to each object and can have different values for each instance of the class. They are accessed using the instance of the class and can be manipulated through the object's methods.\n",
    "\n",
    "Instance variable is a special variable whose value is different depending on the varaible."
   ]
  },
  {
   "cell_type": "markdown",
   "id": "8d2fe614",
   "metadata": {},
   "source": [
    "---"
   ]
  },
  {
   "cell_type": "markdown",
   "id": "3cabdd01",
   "metadata": {},
   "source": [
    "##### What is encapsulation?"
   ]
  },
  {
   "cell_type": "markdown",
   "id": "ec5f8d31",
   "metadata": {},
   "source": [
    "Encapsulation is one of the fundamental concepts in object-oriented programming (OOP). It describes the idea of wrapping data and the methods that work on data within one unit. This puts restrictions on accessing variables and methods directly and can prevent the accidental modification of data. To prevent accidental change, an object’s variable can only be changed by an object’s method. Those types of variables are known as private variables."
   ]
  },
  {
   "cell_type": "markdown",
   "id": "e6934471",
   "metadata": {},
   "source": [
    "---"
   ]
  },
  {
   "cell_type": "markdown",
   "id": "8b01b325",
   "metadata": {},
   "source": [
    "##### Why is encapsulation required?"
   ]
  },
  {
   "cell_type": "markdown",
   "id": "b7dcfc23",
   "metadata": {},
   "source": [
    "<b>1. Data Hiding:</b> Encapsulation allows the internal representation of an object to be hidden from the outside. This means that the internal state of an object can't be directly accessed or modified from outside the class. Access to the data is only possible through the methods provided by the class, which helps in protecting the integrity of the data.\n",
    "\n",
    "<b>2. Control over Accessibility:</b> With encapsulation, you can control the access level of the attributes and methods of a class. This allows you to specify which parts of the class are intended for public use, which are for internal use, and which should not be accessible outside the class.\n",
    "\n",
    "<b>3. Preventing Unintended Modifications:</b> By encapsulating the internal state of an object and providing controlled access to it, encapsulation helps in preventing unintended modifications and misuse of the data.\n",
    "\n",
    "Overall, encapsulation promotes good design practices, enhances the security and maintainability of the code, and allows for better control over the behavior of the class."
   ]
  },
  {
   "cell_type": "markdown",
   "id": "f91cc6e2",
   "metadata": {},
   "source": [
    "---"
   ]
  },
  {
   "cell_type": "markdown",
   "id": "d83f3226",
   "metadata": {},
   "source": [
    "##### How is Encapsulation Achieved in Python?"
   ]
  },
  {
   "cell_type": "markdown",
   "id": "27f58103",
   "metadata": {},
   "source": [
    "Python supports encapsulation through conventions and programming practices rather than enforced access modifiers. You see, the fundamental principle behind much of Python code design is “We are all adults here.” We can only implement encapsulation as a mere convention and expect other Python developers to trust and respect our code.\n",
    "\n",
    "In other OOP languages such as Java and C++, encapsulation is strictly enforced with access modifiers such as public, private or protected, but Python doesn't have those.\n",
    "\n",
    "So, most, if not all, encapsulation techniques I am about to show you are Python conventions. They can easily be broken if you decide. But I trust that you respect and follow them in your own development projects."
   ]
  },
  {
   "cell_type": "markdown",
   "id": "02d6f268",
   "metadata": {},
   "source": [
    "---"
   ]
  },
  {
   "cell_type": "markdown",
   "id": "c7213936",
   "metadata": {},
   "source": [
    "##### What are gettter and setter?"
   ]
  },
  {
   "cell_type": "markdown",
   "id": "2b92bbde",
   "metadata": {},
   "source": [
    "<b>- Getters:</b> These are the methods used in Object-Oriented Programming (OOPS) which helps to access the private attributes from a class.\n",
    "\n",
    "<b>- Setters:</b> These are the methods used in OOPS feature which helps to set the value to private attributes in a class."
   ]
  },
  {
   "cell_type": "markdown",
   "id": "7aafc292",
   "metadata": {},
   "source": [
    "---"
   ]
  },
  {
   "cell_type": "markdown",
   "id": "5e8eaa8b",
   "metadata": {},
   "source": [
    "##### How can we make an attribute private?"
   ]
  },
  {
   "cell_type": "markdown",
   "id": "724fdc5d",
   "metadata": {},
   "source": [
    "We can do so by applying double underscore at the beginning of the attribute"
   ]
  },
  {
   "cell_type": "markdown",
   "id": "3b4b3492",
   "metadata": {},
   "source": [
    "---"
   ]
  },
  {
   "cell_type": "markdown",
   "id": "5452dd30",
   "metadata": {},
   "source": [
    "##### What is collection of objects?"
   ]
  },
  {
   "cell_type": "markdown",
   "id": "21de99fd",
   "metadata": {},
   "source": [
    "A collection of objects in programming refers to a grouping of individual instances of a class or data structure. This grouping allows you to work with multiple objects in a unified way, enabling operations such as iteration, searching, sorting, and manipulation of the objects within the collection. Common examples of collections in programming languages include arrays, lists, sets, maps, and queues. These collections provide a means to efficiently manage and work with multiple objects, offering flexibility and powerful functionality in software development."
   ]
  },
  {
   "cell_type": "markdown",
   "id": "c5b6ff9c",
   "metadata": {},
   "source": [
    "---"
   ]
  },
  {
   "cell_type": "markdown",
   "id": "5fa10315",
   "metadata": {},
   "source": [
    "##### What is static variable?"
   ]
  },
  {
   "cell_type": "markdown",
   "id": "f0895136",
   "metadata": {},
   "source": [
    "In Python programming, a static variable is said to be a class variable that is common to all class members. A static variable is declared within that class but outside the methods within the given class."
   ]
  },
  {
   "cell_type": "markdown",
   "id": "18934a92",
   "metadata": {},
   "source": [
    "---"
   ]
  },
  {
   "cell_type": "markdown",
   "id": "dc99ea4b",
   "metadata": {},
   "source": [
    "##### What is the difference between static and instance variable?"
   ]
  },
  {
   "cell_type": "markdown",
   "id": "7b06f5ab",
   "metadata": {},
   "source": [
    "The main difference between static and instance variables lies in their scope and association with class and objects:\n",
    "\n",
    "<b>1. Scope:</b>\n",
    "\n",
    "- Static variables are associated with the class itself and are shared by all instances (objects) of the class. <br>\n",
    "- Instance variables are unique to each instance of the class (object). Each object has its own copy of instance variables.\n",
    "\n",
    "<b>2. Initialization:</b>\n",
    "- Static variables are initialized only once, at the start of the program or when the class is loaded, and retain their values throughout the program's execution.<br>\n",
    "- Instance variables are initialized separately for each object of the class and can have different values in different instances.\n",
    "\n",
    "<b>3. Access:</b>\n",
    "- Static variables are accessed using the class name, e.g., ClassName.variableName.<br>\n",
    "- Instance variables are accessed using object references, e.g., objectName.variableName.\n",
    "\n",
    "<b>4. Memory allocation:</b>\n",
    "- Static variables are allocated memory in a fixed location at compile time and exist throughout the program's execution.<br>\n",
    "- Instance variables are allocated memory when an object is created and exist as long as the object exists.\n",
    "\n",
    "In summary, static variables are associated with the class and are shared among all instances, while instance variables are unique to each object of the class. If you have more questions or need further clarification, feel free to ask!\n",
    " "
   ]
  },
  {
   "cell_type": "markdown",
   "id": "cdd84eb5",
   "metadata": {},
   "source": [
    "---"
   ]
  },
  {
   "cell_type": "markdown",
   "id": "66783d40",
   "metadata": {},
   "source": [
    "##### What is static method?"
   ]
  },
  {
   "cell_type": "markdown",
   "id": "5acaee3c",
   "metadata": {},
   "source": [
    "In Python, a static method is a method that is bound to the class and not the object of the class. It is defined using the @staticmethod decorator. Here are some key points about static methods in Python:\n",
    "\n",
    "- They do not have access to the instance or class itself (no self or cls parameter by convention).<br>\n",
    "- They can be called on the class itself or on an instance of the class.<br>\n",
    "- They are often used to group functions related to the class but do not require access to instance or class variables.<br>\n",
    "\n",
    "Static methods are commonly used when a method does not need to access instance or class variables but is related to the class conceptually."
   ]
  },
  {
   "cell_type": "markdown",
   "id": "d75172ae",
   "metadata": {},
   "source": [
    "---"
   ]
  },
  {
   "cell_type": "markdown",
   "id": "4d2350ab",
   "metadata": {},
   "source": [
    "##### What is class relationship?\n"
   ]
  },
  {
   "cell_type": "markdown",
   "id": "771b0642",
   "metadata": {},
   "source": [
    "In object-oriented programming (OOP), class relationships refer to how classes are connected or related to each other. There are several types of class relationships:\n",
    "\n",
    "\n",
    "<b>1. Association:</b> It represents a relationship between two or more classes where each class is entirely independent of the other. For example, a \"teacher\" class and a \"student\" class can be associated with each other.<br>\n",
    "<b>2. Aggregation:</b> It represents a \"whole-part\" relationship. A part can exist without the whole. For example, a \"car\" class can have a \"wheel\" class as a part.<br>\n",
    "<b>3. Composition:</b> It's a stronger form of aggregation where the parts are dependent on the whole. If the whole is destroyed, all the parts are destroyed. For example, a \"house\" class can have \"rooms\" as parts.<br>\n",
    "<b>4. Inheritance:</b> It represents an \"is-a\" relationship. A class (subclass) inherits attributes and behaviors from another class (superclass). For example, a \"cat\" class can inherit from an \"animal\" class.<br>\n",
    "<b>5. Dependency:</b> It represents a relationship where one class depends on another because it uses it as a parameter or local variable. For example, a \"driver\" class may depend on a \"car\" class.\n",
    "\n",
    "Understanding these relationships is fundamental to designing well-structured and maintainable object-oriented systems"
   ]
  },
  {
   "cell_type": "markdown",
   "id": "6252a290",
   "metadata": {},
   "source": [
    "---"
   ]
  },
  {
   "cell_type": "markdown",
   "id": "d679dc3e",
   "metadata": {},
   "source": [
    "##### What is Agrregation?"
   ]
  },
  {
   "cell_type": "markdown",
   "id": "1b9c7a7a",
   "metadata": {},
   "source": [
    "In object-oriented programming (OOP), aggregation is a type of association that represents a \"whole-part\" relationship between classes. In aggregation, one class is composed of one or more other classes as parts, but the parts can exist independently of the whole.\n",
    "\n",
    "Key points about aggregation:<br>\n",
    "<b>- Independence:</b> The \"part\" class can exist independently of the \"whole\" class.<br>\n",
    "<b>- Relationship:</b> It represents a has-a relationship, where the whole has parts.<br>\n",
    "<b>- Weak relationship:</b> It's a weaker form of association compared to composition, as the parts can be shared among different wholes.<br>"
   ]
  },
  {
   "cell_type": "markdown",
   "id": "01200d97",
   "metadata": {},
   "source": [
    "---"
   ]
  },
  {
   "cell_type": "markdown",
   "id": "0d492760",
   "metadata": {},
   "source": [
    "##### What is Inheritence?"
   ]
  },
  {
   "cell_type": "markdown",
   "id": "3f9f22b0",
   "metadata": {},
   "source": [
    "Inheritance is a fundamental concept in object-oriented programming (OOP) that allows a new class to inherit properties and behaviors from an existing class. The existing class is referred to as the \"parent class\" or \"base class,\" and the new class is referred to as the \"child class\" or \"derived class.\"\n",
    "\n",
    "Key points about inheritance:\n",
    "\n",
    "<b>- Code Reusability:</b> It promotes code reusability by allowing the child class to inherit attributes and methods from the parent class.<br>\n",
    "<b>- Relationship:</b> It represents an \"is-a\" relationship, where the child class is a more specialized version of the parent class.<br>\n",
    "<b>- Extensibility:</b> It allows the child class to add new methods or modify existing methods while inheriting the common attributes and behaviors from the parent class."
   ]
  }
 ],
 "metadata": {
  "kernelspec": {
   "display_name": "Python 3 (ipykernel)",
   "language": "python",
   "name": "python3"
  },
  "language_info": {
   "codemirror_mode": {
    "name": "ipython",
    "version": 3
   },
   "file_extension": ".py",
   "mimetype": "text/x-python",
   "name": "python",
   "nbconvert_exporter": "python",
   "pygments_lexer": "ipython3",
   "version": "3.9.17"
  }
 },
 "nbformat": 4,
 "nbformat_minor": 5
}
