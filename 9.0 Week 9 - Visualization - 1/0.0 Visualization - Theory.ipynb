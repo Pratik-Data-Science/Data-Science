{
 "cells": [
  {
   "cell_type": "markdown",
   "id": "3a1ca2e1",
   "metadata": {},
   "source": [
    "### Visualization - Theory"
   ]
  },
  {
   "cell_type": "markdown",
   "id": "d5a8fff8",
   "metadata": {},
   "source": [
    "---"
   ]
  },
  {
   "cell_type": "markdown",
   "id": "92fb5898",
   "metadata": {},
   "source": [
    "##### What is matplotlib?"
   ]
  },
  {
   "cell_type": "markdown",
   "id": "911e941a",
   "metadata": {},
   "source": [
    "Matplotlib is a popular Python library used for creating static, animated, and interactive visualizations in data analysis and presentation. It provides a wide variety of plots, charts, and figures, making it a powerful tool for visualizing data in a clear and concise manner. Matplotlib is widely used in fields such as data science, machine learning, and scientific research for data visualization."
   ]
  },
  {
   "cell_type": "markdown",
   "id": "4d09d267",
   "metadata": {},
   "source": [
    "---"
   ]
  },
  {
   "cell_type": "markdown",
   "id": "115a89c6",
   "metadata": {},
   "source": [
    "##### What is 2D line plot?"
   ]
  },
  {
   "cell_type": "markdown",
   "id": "a20d6491",
   "metadata": {},
   "source": [
    "A 2D line plot, also known as a line chart, is a type of data visualization that displays data points connected by straight line segments. It's commonly used to represent trends or changes in data over a period of time or across different categories. In the context of Matplotlib, a 2D line plot can be created using the\n",
    "plot()\n",
    "function to visualize relationships between two numerical variables. The x-axis typically represents the independent variable, while the y-axis represents the dependent variable. This type of plot is useful for showing patterns, correlations, and fluctuations in the data."
   ]
  },
  {
   "cell_type": "markdown",
   "id": "04686385",
   "metadata": {},
   "source": [
    "---"
   ]
  },
  {
   "cell_type": "markdown",
   "id": "dc883487",
   "metadata": {},
   "source": [
    "##### When do we use 2D line plot?"
   ]
  },
  {
   "cell_type": "markdown",
   "id": "1e843ead",
   "metadata": {},
   "source": [
    "A 2D line plot is used to visualize and analyze the relationship between two numerical variables over a continuous interval or category. It's particularly useful for showcasing trends, patterns, and fluctuations in the data over time or across different categories:\n",
    "- Bivariate Analysis\n",
    "- combination of categorical-numerical, numerical-numerical data\n",
    "- It is mainly used for Time Series data\n",
    "\n",
    "Here are some common scenarios for using 2D line plots:\n",
    "- Displaying stock price changes over time\n",
    "- Illustrating temperature variations throughout the year\n",
    "- Showing sales trends across different quarters\n",
    "- Analyzing population growth over decades\n",
    "- Representing the progress of a process over time"
   ]
  },
  {
   "cell_type": "markdown",
   "id": "3e69af0a",
   "metadata": {},
   "source": [
    "---"
   ]
  },
  {
   "cell_type": "markdown",
   "id": "28a49efc",
   "metadata": {},
   "source": [
    "##### What is plt.show()?"
   ]
  },
  {
   "cell_type": "markdown",
   "id": "ab45454b",
   "metadata": {},
   "source": [
    "The plt.show() function is a command used in Matplotlib, a popular plotting library for Python. When you create a plot using Matplotlib, the plt.show() function is used to display the plot on the screen. It essentially renders the plot that you have created and brings it up in a separate window or inline, depending on the environment in which you are working.\n",
    "After you have prepared your plot using Matplotlib functions such as plot(), xlabel(), ylabel(), etc., calling plt.show() is what actually triggers the display of the plot. Without this command, the plot won't be shown unless you are using an interactive environment like Jupyter Notebook, where plots are displayed automatically.\n",
    "So, in summary, plt.show() is the command that makes your Matplotlib plot visible to you"
   ]
  },
  {
   "cell_type": "markdown",
   "id": "21798e93",
   "metadata": {},
   "source": [
    "---"
   ]
  },
  {
   "cell_type": "markdown",
   "id": "906978a7",
   "metadata": {},
   "source": [
    "##### What is scatter plot?"
   ]
  },
  {
   "cell_type": "markdown",
   "id": "ce532c81",
   "metadata": {},
   "source": [
    "A scatter plot is a type of data visualization that displays individual data points as a collection of dots. Each dot represents the values of two different variables, one plotted along the x-axis and the other along the y-axis.\n",
    "Scatter plots are particularly useful for visually identifying relationships or patterns between the two variables. They are valuable for identifying correlations, clusters, trends, and outliers within the data. Additionally, scatter plots can also be used to display the distribution of the data points."
   ]
  },
  {
   "cell_type": "markdown",
   "id": "1732d28c",
   "metadata": {},
   "source": [
    "---"
   ]
  },
  {
   "cell_type": "markdown",
   "id": "9fae67fd",
   "metadata": {},
   "source": [
    "##### When do we use scatter plot?"
   ]
  },
  {
   "cell_type": "markdown",
   "id": "2ea5f52c",
   "metadata": {},
   "source": [
    "We use scatter plot for:\n",
    "- Bivariate Analysis\n",
    "- numerical vs numerical data\n",
    "- It is used to find correlation\n",
    "\n",
    "Common applications of scatter plots include:\n",
    "- Analyzing the relationship between a company's advertising expenditure and its sales revenue\n",
    "- Visualizing the correlation between the height and weight of individuals in a population\n",
    "- Identifying any patterns in the distribution of students' scores in two different subjects"
   ]
  },
  {
   "cell_type": "markdown",
   "id": "e70ebbe0",
   "metadata": {},
   "source": [
    "---"
   ]
  },
  {
   "cell_type": "markdown",
   "id": "cde73518",
   "metadata": {},
   "source": [
    "##### What is the main difference between plt.plot and plt.scatter?"
   ]
  },
  {
   "cell_type": "markdown",
   "id": "f0923390",
   "metadata": {},
   "source": [
    "The main difference between them is speed of execution. plt.plot is faster than plt.scatter"
   ]
  },
  {
   "cell_type": "markdown",
   "id": "62cf2d9e",
   "metadata": {},
   "source": [
    "---"
   ]
  },
  {
   "cell_type": "markdown",
   "id": "51b8b871",
   "metadata": {},
   "source": [
    "##### What is bar chart?"
   ]
  },
  {
   "cell_type": "markdown",
   "id": "4478c225",
   "metadata": {},
   "source": [
    "A bar chart is a type of data visualization that presents categorical data with rectangular bars, where the length or height of each bar represents the value of the corresponding category. The bars can be oriented horizontally or vertically.\n"
   ]
  },
  {
   "cell_type": "markdown",
   "id": "ca2fb7a2",
   "metadata": {},
   "source": [
    "---"
   ]
  },
  {
   "cell_type": "markdown",
   "id": "6b480908",
   "metadata": {},
   "source": [
    "##### When do we use bar chart?"
   ]
  },
  {
   "cell_type": "markdown",
   "id": "f92ab6aa",
   "metadata": {},
   "source": [
    "Bar chart is used for:\n",
    "- Univariate as well as Bivariate analysis\n",
    "- Numerical vs Categorical\n",
    "\n",
    "Bar charts are commonly used to:\n",
    "- Aggregate analysis of groups\n",
    "- Compare the sizes of different categories\n",
    "- Display the distribution of categorical data\n",
    "- Show changes in data over time, if multiple bar charts are used"
   ]
  },
  {
   "cell_type": "markdown",
   "id": "e9fe8870",
   "metadata": {},
   "source": [
    "---"
   ]
  },
  {
   "cell_type": "markdown",
   "id": "7950160d",
   "metadata": {},
   "source": [
    "##### What is histogram?"
   ]
  },
  {
   "cell_type": "markdown",
   "id": "c3d50ec8",
   "metadata": {},
   "source": [
    "A histogram is a graphical representation of the distribution of numerical data. It consists of a series of contiguous, non-overlapping bars, where the area of each bar represents the frequency (or relative frequency) of values within a specific interval or \"bin\" of the data.\n",
    "\n",
    "Histograms are particularly useful for visualizing the shape, center, and spread of the data, as well as identifying any outliers or patterns within the dataset. They are commonly used in statistical analysis and data exploration.\n",
    "Histograms are different from bar charts in that they are used specifically for displaying the distribution of continuous data, while bar charts are used for categorical data.\n",
    "\n",
    "In summary, histograms are powerful tools for understanding the distribution of numerical data and are widely used in fields such as data analysis, statistics, and research."
   ]
  },
  {
   "cell_type": "markdown",
   "id": "7dd895dc",
   "metadata": {},
   "source": [
    "---"
   ]
  },
  {
   "cell_type": "markdown",
   "id": "d859f7e3",
   "metadata": {},
   "source": [
    "##### When do we use histogram?"
   ]
  },
  {
   "cell_type": "markdown",
   "id": "b205feb2",
   "metadata": {},
   "source": [
    "Histogram is used for:\n",
    "- Univariate Analysis\n",
    "- Numerical col\n",
    "- Frequency count"
   ]
  },
  {
   "cell_type": "markdown",
   "id": "48851de1",
   "metadata": {},
   "source": [
    "---"
   ]
  },
  {
   "cell_type": "markdown",
   "id": "b9bd7c9f",
   "metadata": {},
   "source": [
    "##### What is pie chart?"
   ]
  },
  {
   "cell_type": "markdown",
   "id": "1d062412",
   "metadata": {},
   "source": [
    "A pie chart is a circular statistical graphic divided into slices to illustrate numerical proportions. Each slice of the pie represents a proportion of the whole, with the size of the slice corresponding to the quantity it represents."
   ]
  },
  {
   "cell_type": "markdown",
   "id": "804d93e0",
   "metadata": {},
   "source": [
    "---\n"
   ]
  },
  {
   "cell_type": "markdown",
   "id": "b726b8a4",
   "metadata": {},
   "source": [
    "##### when do we use pie chart?"
   ]
  },
  {
   "cell_type": "markdown",
   "id": "d4f96d91",
   "metadata": {},
   "source": [
    "Pie chart is used for:\n",
    "- Univariate and Bivariate Analysis\n",
    "- Categorical vs Numerical data\n",
    "- To find contribution on standard scale"
   ]
  },
  {
   "cell_type": "markdown",
   "id": "a8932981",
   "metadata": {},
   "source": [
    "---"
   ]
  },
  {
   "cell_type": "markdown",
   "id": "db56f486",
   "metadata": {},
   "source": [
    "##### What is plotly?"
   ]
  },
  {
   "cell_type": "markdown",
   "id": "0b6c2497",
   "metadata": {},
   "source": [
    "Plotly is a data visualization company that offers a Python graphing library known as Plotly.py. It allows users to create interactive, publication-quality graphs, charts, and dashboards. Plotly.py can be used to generate a wide variety of visualizations, including line plots, scatter plots, bar charts, heatmaps, 3D plots, and more.\n",
    "\n",
    "Plotly's interactive capabilities enable users to create dynamic and responsive visualizations, which can be embedded into web applications or shared online. It's widely used in data analysis, scientific research, and business intelligence for creating compelling and interactive data visualizations."
   ]
  },
  {
   "cell_type": "markdown",
   "id": "3838fef7",
   "metadata": {},
   "source": [
    "---"
   ]
  },
  {
   "cell_type": "markdown",
   "id": "b6d13577",
   "metadata": {},
   "source": [
    "##### What are the advantages of plotly?"
   ]
  },
  {
   "cell_type": "markdown",
   "id": "86ed0a1c",
   "metadata": {},
   "source": [
    "Plotly offers several advantages for data visualization:\n",
    "\n",
    "<b>1 Interactivity:</b> Plotly visualizations are interactive, allowing users to zoom, pan, hover to see data points, and toggle data series on and off. This makes it easier for users to explore and understand the data.<br>\n",
    "<b>2 Publication-Quality Visuals:</b> Plotly produces high-quality, professional-looking visualizations suitable for presentations, reports, and publications.<br>\n",
    "<b>3 Wide Range of Chart Types:</b> Plotly supports a wide variety of chart types, including basic charts like line plots and scatter plots, as well as more advanced visualizations like 3D plots, heatmaps, and contour plots.<br>\n",
    "<b>4 Customization:</b> Users can extensively customize the appearance of their visualizations, including colors, fonts, annotations, and more.<br>\n",
    "<b>5 Ease of Sharing:</b> Plotly visualizations can be easily shared online, embedded in web applications, or exported for use in presentations and documents.<br>\n",
    "<b>6 Compatibility:</b> Plotly works well with Jupyter Notebooks, web applications, and other Python environments, making it versatile for different use cases."
   ]
  },
  {
   "cell_type": "markdown",
   "id": "e3790a00",
   "metadata": {},
   "source": [
    "---"
   ]
  },
  {
   "cell_type": "markdown",
   "id": "1aa1a307",
   "metadata": {},
   "source": [
    "##### What are the disadvantages of plotly?"
   ]
  },
  {
   "cell_type": "markdown",
   "id": "7e3d7485",
   "metadata": {},
   "source": [
    "While Plotly offers numerous advantages, it's important to consider some potential drawbacks:\n",
    "\n",
    "<b>1 Learning Curve:</b> For users new to Plotly, there may be a learning curve to master its features and capabilities, especially when creating more complex visualizations.<br>\n",
    "<b>2 Performance:</b> In some cases, rendering complex interactive visualizations in Plotly may require significant computational resources, potentially impacting performance.<br>\n",
    "<b>3 Cost:</b> While Plotly offers open-source libraries, certain advanced features and hosting options may come with associated costs, which could be a consideration for some users or organizations.<br>\n",
    "<b>4 Customization Complexity:</b> While Plotly offers extensive customization options, implementing highly customized visualizations may require a deeper understanding of the library's features and capabilities.<br>\n",
    "<b>5 Offline Use:</b> Plotly's offline capabilities may be limited compared to its online features, which could be a consideration for users who need to work in offline environments."
   ]
  },
  {
   "cell_type": "markdown",
   "id": "51f36718",
   "metadata": {},
   "source": [
    "---"
   ]
  },
  {
   "cell_type": "markdown",
   "id": "5802640f",
   "metadata": {},
   "source": [
    "##### What is the difference interfaces of plotly?\n",
    " "
   ]
  },
  {
   "cell_type": "markdown",
   "id": "7dcbeb47",
   "metadata": {},
   "source": [
    "Plotly is a versatile Python graphing library that offers different interfaces for creating visualizations:\n",
    "\n",
    "<b>1. Plotly Graph Objects (plotly.go):</b> This is a lower-level interface that provides more control and customization over the visualizations. It allows for creating complex and customized visualizations with fine-grained control.<br>\n",
    "<b>2. Plotly Express:</b> It's a high-level interface for creating easy and quick plots. It's great for creating a variety of charts with minimal code and is suitable for exploratory data analysis.<br>\n",
    "<b>3. Dash:</b> It's a framework for building interactive web applications with Python. It's built on top of Plotly.js, React, and Flask, and allows you to create interactive, web-based dashboards and data visualizations."
   ]
  },
  {
   "cell_type": "markdown",
   "id": "ed8831e8",
   "metadata": {},
   "source": [
    "---"
   ]
  },
  {
   "cell_type": "markdown",
   "id": "aa5c786d",
   "metadata": {},
   "source": [
    "##### What is dash by plotly?"
   ]
  },
  {
   "cell_type": "markdown",
   "id": "9f769a28",
   "metadata": {},
   "source": [
    "Dash by Plotly is an open-source Python framework for building analytical web applications. It's particularly well-suited for creating interactive, web-based data visualizations and dashboards. With Dash, you can create interactive, web-based data visualizations with just a few lines of Python code. It's designed to be simple and intuitive, allowing you to focus on your data and visualizations rather than dealing with the complexities of web development. Dash is built on top of Plotly.js, React, and Flask, and it enables you to build interactive web applications purely in Python. It's a powerful tool for anyone looking to create interactive and customizable web-based data visualizations and dashboards."
   ]
  },
  {
   "cell_type": "code",
   "execution_count": null,
   "id": "7cbcde3c",
   "metadata": {},
   "outputs": [],
   "source": []
  }
 ],
 "metadata": {
  "kernelspec": {
   "display_name": "Python 3 (ipykernel)",
   "language": "python",
   "name": "python3"
  },
  "language_info": {
   "codemirror_mode": {
    "name": "ipython",
    "version": 3
   },
   "file_extension": ".py",
   "mimetype": "text/x-python",
   "name": "python",
   "nbconvert_exporter": "python",
   "pygments_lexer": "ipython3",
   "version": "3.9.17"
  }
 },
 "nbformat": 4,
 "nbformat_minor": 5
}
