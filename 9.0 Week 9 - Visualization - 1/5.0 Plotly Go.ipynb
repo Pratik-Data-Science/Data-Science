{
 "cells": [
  {
   "cell_type": "markdown",
   "id": "bb88effe",
   "metadata": {},
   "source": [
    "## Plotly - Go"
   ]
  },
  {
   "cell_type": "markdown",
   "id": "68ca8ab9",
   "metadata": {},
   "source": [
    "---"
   ]
  },
  {
   "cell_type": "markdown",
   "id": "812b45b1",
   "metadata": {},
   "source": [
    "#### 1. Import libraries"
   ]
  },
  {
   "cell_type": "code",
   "execution_count": 10,
   "id": "f0f336e8",
   "metadata": {},
   "outputs": [],
   "source": [
    "import pandas as pd\n",
    "import numpy as np\n",
    "import plotly.offline as pyo\n",
    "import plotly.graph_objs as go\n",
    "pd.set_option('display.max_columns', None)"
   ]
  },
  {
   "cell_type": "markdown",
   "id": "30e33fb1",
   "metadata": {},
   "source": [
    "---"
   ]
  },
  {
   "cell_type": "markdown",
   "id": "fdd14619",
   "metadata": {},
   "source": [
    "#### 2. Import data"
   ]
  },
  {
   "cell_type": "code",
   "execution_count": 7,
   "id": "fcdd8e0e",
   "metadata": {},
   "outputs": [],
   "source": [
    "dir = r\"C:\\Users\\SESA702302\\OneDrive - Schneider Electric\\Personal\\0.0 Data Science Personal\\9.0 Week 9 - Visualization\\5.0 Plotly Go\"\n",
    "\n",
    "match = pd.read_csv(dir+\"\\\\matches.csv\")\n",
    "delivery = pd.read_csv(dir+\"\\\\deliveries.csv\")\n",
    "\n",
    "ipl = pd.merge(match, delivery, left_on = 'id', right_on = 'match_id')"
   ]
  },
  {
   "cell_type": "code",
   "execution_count": 8,
   "id": "d7dbd8c9",
   "metadata": {},
   "outputs": [
    {
     "data": {
      "text/html": [
       "<div>\n",
       "<style scoped>\n",
       "    .dataframe tbody tr th:only-of-type {\n",
       "        vertical-align: middle;\n",
       "    }\n",
       "\n",
       "    .dataframe tbody tr th {\n",
       "        vertical-align: top;\n",
       "    }\n",
       "\n",
       "    .dataframe thead th {\n",
       "        text-align: right;\n",
       "    }\n",
       "</style>\n",
       "<table border=\"1\" class=\"dataframe\">\n",
       "  <thead>\n",
       "    <tr style=\"text-align: right;\">\n",
       "      <th></th>\n",
       "      <th>id</th>\n",
       "      <th>season</th>\n",
       "      <th>city</th>\n",
       "      <th>date</th>\n",
       "      <th>team1</th>\n",
       "      <th>team2</th>\n",
       "      <th>toss_winner</th>\n",
       "      <th>toss_decision</th>\n",
       "      <th>result</th>\n",
       "      <th>dl_applied</th>\n",
       "      <th>...</th>\n",
       "      <th>bye_runs</th>\n",
       "      <th>legbye_runs</th>\n",
       "      <th>noball_runs</th>\n",
       "      <th>penalty_runs</th>\n",
       "      <th>batsman_runs</th>\n",
       "      <th>extra_runs</th>\n",
       "      <th>total_runs</th>\n",
       "      <th>player_dismissed</th>\n",
       "      <th>dismissal_kind</th>\n",
       "      <th>fielder</th>\n",
       "    </tr>\n",
       "  </thead>\n",
       "  <tbody>\n",
       "    <tr>\n",
       "      <th>0</th>\n",
       "      <td>1</td>\n",
       "      <td>2017</td>\n",
       "      <td>Hyderabad</td>\n",
       "      <td>2017-04-05</td>\n",
       "      <td>Sunrisers Hyderabad</td>\n",
       "      <td>Royal Challengers Bangalore</td>\n",
       "      <td>Royal Challengers Bangalore</td>\n",
       "      <td>field</td>\n",
       "      <td>normal</td>\n",
       "      <td>0</td>\n",
       "      <td>...</td>\n",
       "      <td>0</td>\n",
       "      <td>0</td>\n",
       "      <td>0</td>\n",
       "      <td>0</td>\n",
       "      <td>0</td>\n",
       "      <td>0</td>\n",
       "      <td>0</td>\n",
       "      <td>NaN</td>\n",
       "      <td>NaN</td>\n",
       "      <td>NaN</td>\n",
       "    </tr>\n",
       "    <tr>\n",
       "      <th>1</th>\n",
       "      <td>1</td>\n",
       "      <td>2017</td>\n",
       "      <td>Hyderabad</td>\n",
       "      <td>2017-04-05</td>\n",
       "      <td>Sunrisers Hyderabad</td>\n",
       "      <td>Royal Challengers Bangalore</td>\n",
       "      <td>Royal Challengers Bangalore</td>\n",
       "      <td>field</td>\n",
       "      <td>normal</td>\n",
       "      <td>0</td>\n",
       "      <td>...</td>\n",
       "      <td>0</td>\n",
       "      <td>0</td>\n",
       "      <td>0</td>\n",
       "      <td>0</td>\n",
       "      <td>0</td>\n",
       "      <td>0</td>\n",
       "      <td>0</td>\n",
       "      <td>NaN</td>\n",
       "      <td>NaN</td>\n",
       "      <td>NaN</td>\n",
       "    </tr>\n",
       "  </tbody>\n",
       "</table>\n",
       "<p>2 rows × 39 columns</p>\n",
       "</div>"
      ],
      "text/plain": [
       "   id  season       city        date                team1  \\\n",
       "0   1    2017  Hyderabad  2017-04-05  Sunrisers Hyderabad   \n",
       "1   1    2017  Hyderabad  2017-04-05  Sunrisers Hyderabad   \n",
       "\n",
       "                         team2                  toss_winner toss_decision  \\\n",
       "0  Royal Challengers Bangalore  Royal Challengers Bangalore         field   \n",
       "1  Royal Challengers Bangalore  Royal Challengers Bangalore         field   \n",
       "\n",
       "   result  dl_applied  ... bye_runs  legbye_runs  noball_runs penalty_runs  \\\n",
       "0  normal           0  ...        0            0            0            0   \n",
       "1  normal           0  ...        0            0            0            0   \n",
       "\n",
       "  batsman_runs extra_runs total_runs  player_dismissed  dismissal_kind  \\\n",
       "0            0          0          0               NaN             NaN   \n",
       "1            0          0          0               NaN             NaN   \n",
       "\n",
       "   fielder  \n",
       "0      NaN  \n",
       "1      NaN  \n",
       "\n",
       "[2 rows x 39 columns]"
      ]
     },
     "execution_count": 8,
     "metadata": {},
     "output_type": "execute_result"
    }
   ],
   "source": [
    "ipl.head(2)"
   ]
  },
  {
   "cell_type": "markdown",
   "id": "42a14fe2",
   "metadata": {},
   "source": [
    "---"
   ]
  },
  {
   "cell_type": "markdown",
   "id": "41eaff0f",
   "metadata": {},
   "source": [
    "#### 3. Scatter plot"
   ]
  },
  {
   "cell_type": "markdown",
   "id": "d6344bc0",
   "metadata": {},
   "source": [
    "Scatter plots are drawn between continuous variables\n",
    "Problem: We are going to draw a scatter plot between Batsman avg and Batsman strike rate of top 50 batsman of all time"
   ]
  },
  {
   "cell_type": "code",
   "execution_count": 24,
   "id": "fc446de0",
   "metadata": {
    "scrolled": true
   },
   "outputs": [
    {
     "data": {
      "text/html": [
       "<div>\n",
       "<style scoped>\n",
       "    .dataframe tbody tr th:only-of-type {\n",
       "        vertical-align: middle;\n",
       "    }\n",
       "\n",
       "    .dataframe tbody tr th {\n",
       "        vertical-align: top;\n",
       "    }\n",
       "\n",
       "    .dataframe thead th {\n",
       "        text-align: right;\n",
       "    }\n",
       "</style>\n",
       "<table border=\"1\" class=\"dataframe\">\n",
       "  <thead>\n",
       "    <tr style=\"text-align: right;\">\n",
       "      <th></th>\n",
       "      <th>batsman</th>\n",
       "      <th>avg</th>\n",
       "      <th>batsman_runs</th>\n",
       "    </tr>\n",
       "  </thead>\n",
       "  <tbody>\n",
       "    <tr>\n",
       "      <th>0</th>\n",
       "      <td>AB de Villiers</td>\n",
       "      <td>38.307692</td>\n",
       "      <td>145.129059</td>\n",
       "    </tr>\n",
       "    <tr>\n",
       "      <th>1</th>\n",
       "      <td>AC Gilchrist</td>\n",
       "      <td>27.223684</td>\n",
       "      <td>133.054662</td>\n",
       "    </tr>\n",
       "    <tr>\n",
       "      <th>2</th>\n",
       "      <td>AJ Finch</td>\n",
       "      <td>27.186441</td>\n",
       "      <td>126.299213</td>\n",
       "    </tr>\n",
       "    <tr>\n",
       "      <th>3</th>\n",
       "      <td>AM Rahane</td>\n",
       "      <td>33.593407</td>\n",
       "      <td>117.486549</td>\n",
       "    </tr>\n",
       "    <tr>\n",
       "      <th>4</th>\n",
       "      <td>AT Rayudu</td>\n",
       "      <td>27.146067</td>\n",
       "      <td>123.014257</td>\n",
       "    </tr>\n",
       "    <tr>\n",
       "      <th>5</th>\n",
       "      <td>BB McCullum</td>\n",
       "      <td>28.112245</td>\n",
       "      <td>126.318203</td>\n",
       "    </tr>\n",
       "    <tr>\n",
       "      <th>6</th>\n",
       "      <td>BJ Hodge</td>\n",
       "      <td>33.333333</td>\n",
       "      <td>121.422376</td>\n",
       "    </tr>\n",
       "    <tr>\n",
       "      <th>7</th>\n",
       "      <td>CH Gayle</td>\n",
       "      <td>41.022472</td>\n",
       "      <td>144.194313</td>\n",
       "    </tr>\n",
       "    <tr>\n",
       "      <th>8</th>\n",
       "      <td>DA Miller</td>\n",
       "      <td>34.733333</td>\n",
       "      <td>137.709251</td>\n",
       "    </tr>\n",
       "    <tr>\n",
       "      <th>9</th>\n",
       "      <td>DA Warner</td>\n",
       "      <td>40.140000</td>\n",
       "      <td>138.318401</td>\n",
       "    </tr>\n",
       "    <tr>\n",
       "      <th>10</th>\n",
       "      <td>DJ Bravo</td>\n",
       "      <td>22.945455</td>\n",
       "      <td>122.286822</td>\n",
       "    </tr>\n",
       "    <tr>\n",
       "      <th>11</th>\n",
       "      <td>DJ Hussey</td>\n",
       "      <td>26.979592</td>\n",
       "      <td>120.072661</td>\n",
       "    </tr>\n",
       "    <tr>\n",
       "      <th>12</th>\n",
       "      <td>DPMD Jayawardene</td>\n",
       "      <td>28.250000</td>\n",
       "      <td>118.791064</td>\n",
       "    </tr>\n",
       "    <tr>\n",
       "      <th>13</th>\n",
       "      <td>DR Smith</td>\n",
       "      <td>28.392857</td>\n",
       "      <td>132.279534</td>\n",
       "    </tr>\n",
       "    <tr>\n",
       "      <th>14</th>\n",
       "      <td>F du Plessis</td>\n",
       "      <td>30.116279</td>\n",
       "      <td>124.161074</td>\n",
       "    </tr>\n",
       "    <tr>\n",
       "      <th>15</th>\n",
       "      <td>G Gambhir</td>\n",
       "      <td>31.541985</td>\n",
       "      <td>120.361200</td>\n",
       "    </tr>\n",
       "    <tr>\n",
       "      <th>16</th>\n",
       "      <td>GJ Maxwell</td>\n",
       "      <td>25.081633</td>\n",
       "      <td>157.564103</td>\n",
       "    </tr>\n",
       "    <tr>\n",
       "      <th>17</th>\n",
       "      <td>JH Kallis</td>\n",
       "      <td>28.552941</td>\n",
       "      <td>105.936272</td>\n",
       "    </tr>\n",
       "    <tr>\n",
       "      <th>18</th>\n",
       "      <td>JP Duminy</td>\n",
       "      <td>39.860000</td>\n",
       "      <td>121.970624</td>\n",
       "    </tr>\n",
       "    <tr>\n",
       "      <th>19</th>\n",
       "      <td>KA Pollard</td>\n",
       "      <td>28.707317</td>\n",
       "      <td>140.621266</td>\n",
       "    </tr>\n",
       "    <tr>\n",
       "      <th>20</th>\n",
       "      <td>KC Sangakkara</td>\n",
       "      <td>25.953846</td>\n",
       "      <td>118.469101</td>\n",
       "    </tr>\n",
       "    <tr>\n",
       "      <th>21</th>\n",
       "      <td>KD Karthik</td>\n",
       "      <td>24.811966</td>\n",
       "      <td>123.008475</td>\n",
       "    </tr>\n",
       "    <tr>\n",
       "      <th>22</th>\n",
       "      <td>KK Nair</td>\n",
       "      <td>25.173913</td>\n",
       "      <td>124.650161</td>\n",
       "    </tr>\n",
       "    <tr>\n",
       "      <th>23</th>\n",
       "      <td>M Vijay</td>\n",
       "      <td>26.431579</td>\n",
       "      <td>120.028681</td>\n",
       "    </tr>\n",
       "    <tr>\n",
       "      <th>24</th>\n",
       "      <td>MEK Hussey</td>\n",
       "      <td>38.764706</td>\n",
       "      <td>119.963592</td>\n",
       "    </tr>\n",
       "    <tr>\n",
       "      <th>25</th>\n",
       "      <td>MK Pandey</td>\n",
       "      <td>28.500000</td>\n",
       "      <td>116.938453</td>\n",
       "    </tr>\n",
       "    <tr>\n",
       "      <th>26</th>\n",
       "      <td>MK Tiwary</td>\n",
       "      <td>29.428571</td>\n",
       "      <td>114.127424</td>\n",
       "    </tr>\n",
       "    <tr>\n",
       "      <th>27</th>\n",
       "      <td>MS Dhoni</td>\n",
       "      <td>37.872340</td>\n",
       "      <td>132.835821</td>\n",
       "    </tr>\n",
       "    <tr>\n",
       "      <th>28</th>\n",
       "      <td>NV Ojha</td>\n",
       "      <td>20.986486</td>\n",
       "      <td>114.528024</td>\n",
       "    </tr>\n",
       "    <tr>\n",
       "      <th>29</th>\n",
       "      <td>PA Patel</td>\n",
       "      <td>21.700935</td>\n",
       "      <td>112.718447</td>\n",
       "    </tr>\n",
       "    <tr>\n",
       "      <th>30</th>\n",
       "      <td>R Dravid</td>\n",
       "      <td>28.233766</td>\n",
       "      <td>113.347237</td>\n",
       "    </tr>\n",
       "    <tr>\n",
       "      <th>31</th>\n",
       "      <td>RA Jadeja</td>\n",
       "      <td>24.055556</td>\n",
       "      <td>118.792867</td>\n",
       "    </tr>\n",
       "    <tr>\n",
       "      <th>32</th>\n",
       "      <td>RG Sharma</td>\n",
       "      <td>32.612403</td>\n",
       "      <td>128.497251</td>\n",
       "    </tr>\n",
       "    <tr>\n",
       "      <th>33</th>\n",
       "      <td>RV Uthappa</td>\n",
       "      <td>29.515625</td>\n",
       "      <td>127.635135</td>\n",
       "    </tr>\n",
       "    <tr>\n",
       "      <th>34</th>\n",
       "      <td>S Badrinath</td>\n",
       "      <td>30.659574</td>\n",
       "      <td>115.742972</td>\n",
       "    </tr>\n",
       "    <tr>\n",
       "      <th>35</th>\n",
       "      <td>S Dhawan</td>\n",
       "      <td>32.669725</td>\n",
       "      <td>118.502496</td>\n",
       "    </tr>\n",
       "    <tr>\n",
       "      <th>36</th>\n",
       "      <td>SC Ganguly</td>\n",
       "      <td>25.452830</td>\n",
       "      <td>101.734540</td>\n",
       "    </tr>\n",
       "    <tr>\n",
       "      <th>37</th>\n",
       "      <td>SE Marsh</td>\n",
       "      <td>39.507937</td>\n",
       "      <td>130.109775</td>\n",
       "    </tr>\n",
       "    <tr>\n",
       "      <th>38</th>\n",
       "      <td>SK Raina</td>\n",
       "      <td>33.940299</td>\n",
       "      <td>134.995548</td>\n",
       "    </tr>\n",
       "    <tr>\n",
       "      <th>39</th>\n",
       "      <td>SPD Smith</td>\n",
       "      <td>37.239130</td>\n",
       "      <td>128.507127</td>\n",
       "    </tr>\n",
       "    <tr>\n",
       "      <th>40</th>\n",
       "      <td>SR Tendulkar</td>\n",
       "      <td>33.826087</td>\n",
       "      <td>114.187867</td>\n",
       "    </tr>\n",
       "    <tr>\n",
       "      <th>41</th>\n",
       "      <td>SR Watson</td>\n",
       "      <td>30.917647</td>\n",
       "      <td>134.838379</td>\n",
       "    </tr>\n",
       "    <tr>\n",
       "      <th>42</th>\n",
       "      <td>SS Tiwary</td>\n",
       "      <td>28.355556</td>\n",
       "      <td>114.851485</td>\n",
       "    </tr>\n",
       "    <tr>\n",
       "      <th>43</th>\n",
       "      <td>SV Samson</td>\n",
       "      <td>25.464286</td>\n",
       "      <td>122.403433</td>\n",
       "    </tr>\n",
       "    <tr>\n",
       "      <th>44</th>\n",
       "      <td>TM Dilshan</td>\n",
       "      <td>26.813953</td>\n",
       "      <td>110.124164</td>\n",
       "    </tr>\n",
       "    <tr>\n",
       "      <th>45</th>\n",
       "      <td>V Kohli</td>\n",
       "      <td>37.483051</td>\n",
       "      <td>126.588437</td>\n",
       "    </tr>\n",
       "    <tr>\n",
       "      <th>46</th>\n",
       "      <td>V Sehwag</td>\n",
       "      <td>27.555556</td>\n",
       "      <td>148.827059</td>\n",
       "    </tr>\n",
       "    <tr>\n",
       "      <th>47</th>\n",
       "      <td>WP Saha</td>\n",
       "      <td>25.524590</td>\n",
       "      <td>127.727646</td>\n",
       "    </tr>\n",
       "    <tr>\n",
       "      <th>48</th>\n",
       "      <td>YK Pathan</td>\n",
       "      <td>29.816327</td>\n",
       "      <td>140.751445</td>\n",
       "    </tr>\n",
       "    <tr>\n",
       "      <th>49</th>\n",
       "      <td>Yuvraj Singh</td>\n",
       "      <td>25.653465</td>\n",
       "      <td>126.390244</td>\n",
       "    </tr>\n",
       "  </tbody>\n",
       "</table>\n",
       "</div>"
      ],
      "text/plain": [
       "             batsman        avg  batsman_runs\n",
       "0     AB de Villiers  38.307692    145.129059\n",
       "1       AC Gilchrist  27.223684    133.054662\n",
       "2           AJ Finch  27.186441    126.299213\n",
       "3          AM Rahane  33.593407    117.486549\n",
       "4          AT Rayudu  27.146067    123.014257\n",
       "5        BB McCullum  28.112245    126.318203\n",
       "6           BJ Hodge  33.333333    121.422376\n",
       "7           CH Gayle  41.022472    144.194313\n",
       "8          DA Miller  34.733333    137.709251\n",
       "9          DA Warner  40.140000    138.318401\n",
       "10          DJ Bravo  22.945455    122.286822\n",
       "11         DJ Hussey  26.979592    120.072661\n",
       "12  DPMD Jayawardene  28.250000    118.791064\n",
       "13          DR Smith  28.392857    132.279534\n",
       "14      F du Plessis  30.116279    124.161074\n",
       "15         G Gambhir  31.541985    120.361200\n",
       "16        GJ Maxwell  25.081633    157.564103\n",
       "17         JH Kallis  28.552941    105.936272\n",
       "18         JP Duminy  39.860000    121.970624\n",
       "19        KA Pollard  28.707317    140.621266\n",
       "20     KC Sangakkara  25.953846    118.469101\n",
       "21        KD Karthik  24.811966    123.008475\n",
       "22           KK Nair  25.173913    124.650161\n",
       "23           M Vijay  26.431579    120.028681\n",
       "24        MEK Hussey  38.764706    119.963592\n",
       "25         MK Pandey  28.500000    116.938453\n",
       "26         MK Tiwary  29.428571    114.127424\n",
       "27          MS Dhoni  37.872340    132.835821\n",
       "28           NV Ojha  20.986486    114.528024\n",
       "29          PA Patel  21.700935    112.718447\n",
       "30          R Dravid  28.233766    113.347237\n",
       "31         RA Jadeja  24.055556    118.792867\n",
       "32         RG Sharma  32.612403    128.497251\n",
       "33        RV Uthappa  29.515625    127.635135\n",
       "34       S Badrinath  30.659574    115.742972\n",
       "35          S Dhawan  32.669725    118.502496\n",
       "36        SC Ganguly  25.452830    101.734540\n",
       "37          SE Marsh  39.507937    130.109775\n",
       "38          SK Raina  33.940299    134.995548\n",
       "39         SPD Smith  37.239130    128.507127\n",
       "40      SR Tendulkar  33.826087    114.187867\n",
       "41         SR Watson  30.917647    134.838379\n",
       "42         SS Tiwary  28.355556    114.851485\n",
       "43         SV Samson  25.464286    122.403433\n",
       "44        TM Dilshan  26.813953    110.124164\n",
       "45           V Kohli  37.483051    126.588437\n",
       "46          V Sehwag  27.555556    148.827059\n",
       "47           WP Saha  25.524590    127.727646\n",
       "48         YK Pathan  29.816327    140.751445\n",
       "49      Yuvraj Singh  25.653465    126.390244"
      ]
     },
     "execution_count": 24,
     "metadata": {},
     "output_type": "execute_result"
    }
   ],
   "source": [
    "# Fetching a new dataframe with top 50 batsman in terms of runs scored\n",
    "top50 = ipl.groupby(['batsman'])['batsman_runs'].sum().sort_values(ascending = False).head(50).index.tolist()\n",
    "new_ipl = ipl[ipl['batsman'].isin(top50)]\n",
    "\n",
    "# Calculating strike rate\n",
    "runs = new_ipl.groupby(['batsman'])['batsman_runs'].sum()\n",
    "balls = new_ipl.groupby(['batsman'])['batsman_runs'].count()\n",
    "\n",
    "sr = (runs/balls)*100\n",
    "sr = sr.reset_index()\n",
    "\n",
    "# Calculating average \n",
    "out = ipl[ipl['player_dismissed'].isin(top50)]\n",
    "nouts = out['player_dismissed'].value_counts()\n",
    "avg = runs/nouts\n",
    "avg = avg.reset_index()\n",
    "avg.columns = ['batsman', 'avg']\n",
    "\n",
    "avg = pd.merge(avg, sr, on = 'batsman')\n",
    "avg"
   ]
  },
  {
   "cell_type": "code",
   "execution_count": 183,
   "id": "98d7ccc6",
   "metadata": {
    "scrolled": true
   },
   "outputs": [
    {
     "data": {
      "application/vnd.plotly.v1+json": {
       "config": {
        "plotlyServerURL": "https://plot.ly"
       },
       "data": [
        {
         "marker": {
          "color": "green",
          "size": 16
         },
         "mode": "markers",
         "text": [
          "AB de Villiers",
          "AC Gilchrist",
          "AJ Finch",
          "AM Rahane",
          "AT Rayudu",
          "BB McCullum",
          "BJ Hodge",
          "CH Gayle",
          "DA Miller",
          "DA Warner",
          "DJ Bravo",
          "DJ Hussey",
          "DPMD Jayawardene",
          "DR Smith",
          "F du Plessis",
          "G Gambhir",
          "GJ Maxwell",
          "JH Kallis",
          "JP Duminy",
          "KA Pollard",
          "KC Sangakkara",
          "KD Karthik",
          "KK Nair",
          "M Vijay",
          "MEK Hussey",
          "MK Pandey",
          "MK Tiwary",
          "MS Dhoni",
          "NV Ojha",
          "PA Patel",
          "R Dravid",
          "RA Jadeja",
          "RG Sharma",
          "RV Uthappa",
          "S Badrinath",
          "S Dhawan",
          "SC Ganguly",
          "SE Marsh",
          "SK Raina",
          "SPD Smith",
          "SR Tendulkar",
          "SR Watson",
          "SS Tiwary",
          "SV Samson",
          "TM Dilshan",
          "V Kohli",
          "V Sehwag",
          "WP Saha",
          "YK Pathan",
          "Yuvraj Singh"
         ],
         "type": "scatter",
         "x": [
          38.30769230769231,
          27.223684210526315,
          27.1864406779661,
          33.59340659340659,
          27.146067415730336,
          28.112244897959183,
          33.333333333333336,
          41.02247191011236,
          34.733333333333334,
          40.14,
          22.945454545454545,
          26.979591836734695,
          28.25,
          28.392857142857142,
          30.11627906976744,
          31.541984732824428,
          25.081632653061224,
          28.55294117647059,
          39.86,
          28.70731707317073,
          25.953846153846154,
          24.811965811965813,
          25.17391304347826,
          26.431578947368422,
          38.76470588235294,
          28.5,
          29.428571428571427,
          37.87234042553192,
          20.986486486486488,
          21.700934579439252,
          28.233766233766232,
          24.055555555555557,
          32.6124031007752,
          29.515625,
          30.659574468085108,
          32.669724770642205,
          25.452830188679247,
          39.507936507936506,
          33.940298507462686,
          37.23913043478261,
          33.82608695652174,
          30.91764705882353,
          28.355555555555554,
          25.464285714285715,
          26.813953488372093,
          37.483050847457626,
          27.555555555555557,
          25.524590163934427,
          29.816326530612244,
          25.653465346534652
         ],
         "y": [
          145.12905911740216,
          133.05466237942122,
          126.2992125984252,
          117.48654880860876,
          123.0142566191446,
          126.31820265933058,
          121.42237640936686,
          144.19431279620852,
          137.7092511013216,
          138.3184011026878,
          122.28682170542635,
          120.07266121707538,
          118.7910643889619,
          132.27953410981698,
          124.16107382550337,
          120.36120011651616,
          157.56410256410257,
          105.93627237014405,
          121.97062423500613,
          140.62126642771804,
          118.4691011235955,
          123.00847457627117,
          124.65016146393972,
          120.02868068833652,
          119.96359223300972,
          116.93845344555498,
          114.12742382271468,
          132.8358208955224,
          114.52802359882006,
          112.71844660194175,
          113.34723670490095,
          118.79286694101509,
          128.49725106902872,
          127.63513513513513,
          115.74297188755021,
          118.50249584026622,
          101.73453996983409,
          130.10977522216413,
          134.99554764024933,
          128.50712678169543,
          114.18786692759295,
          134.83837865572087,
          114.85148514851484,
          122.40343347639484,
          110.12416427889207,
          126.58843732112193,
          148.82705946535734,
          127.72764561115667,
          140.75144508670522,
          126.39024390243902
         ]
        }
       ],
       "layout": {
        "template": {
         "data": {
          "bar": [
           {
            "error_x": {
             "color": "#2a3f5f"
            },
            "error_y": {
             "color": "#2a3f5f"
            },
            "marker": {
             "line": {
              "color": "#E5ECF6",
              "width": 0.5
             },
             "pattern": {
              "fillmode": "overlay",
              "size": 10,
              "solidity": 0.2
             }
            },
            "type": "bar"
           }
          ],
          "barpolar": [
           {
            "marker": {
             "line": {
              "color": "#E5ECF6",
              "width": 0.5
             },
             "pattern": {
              "fillmode": "overlay",
              "size": 10,
              "solidity": 0.2
             }
            },
            "type": "barpolar"
           }
          ],
          "carpet": [
           {
            "aaxis": {
             "endlinecolor": "#2a3f5f",
             "gridcolor": "white",
             "linecolor": "white",
             "minorgridcolor": "white",
             "startlinecolor": "#2a3f5f"
            },
            "baxis": {
             "endlinecolor": "#2a3f5f",
             "gridcolor": "white",
             "linecolor": "white",
             "minorgridcolor": "white",
             "startlinecolor": "#2a3f5f"
            },
            "type": "carpet"
           }
          ],
          "choropleth": [
           {
            "colorbar": {
             "outlinewidth": 0,
             "ticks": ""
            },
            "type": "choropleth"
           }
          ],
          "contour": [
           {
            "colorbar": {
             "outlinewidth": 0,
             "ticks": ""
            },
            "colorscale": [
             [
              0,
              "#0d0887"
             ],
             [
              0.1111111111111111,
              "#46039f"
             ],
             [
              0.2222222222222222,
              "#7201a8"
             ],
             [
              0.3333333333333333,
              "#9c179e"
             ],
             [
              0.4444444444444444,
              "#bd3786"
             ],
             [
              0.5555555555555556,
              "#d8576b"
             ],
             [
              0.6666666666666666,
              "#ed7953"
             ],
             [
              0.7777777777777778,
              "#fb9f3a"
             ],
             [
              0.8888888888888888,
              "#fdca26"
             ],
             [
              1,
              "#f0f921"
             ]
            ],
            "type": "contour"
           }
          ],
          "contourcarpet": [
           {
            "colorbar": {
             "outlinewidth": 0,
             "ticks": ""
            },
            "type": "contourcarpet"
           }
          ],
          "heatmap": [
           {
            "colorbar": {
             "outlinewidth": 0,
             "ticks": ""
            },
            "colorscale": [
             [
              0,
              "#0d0887"
             ],
             [
              0.1111111111111111,
              "#46039f"
             ],
             [
              0.2222222222222222,
              "#7201a8"
             ],
             [
              0.3333333333333333,
              "#9c179e"
             ],
             [
              0.4444444444444444,
              "#bd3786"
             ],
             [
              0.5555555555555556,
              "#d8576b"
             ],
             [
              0.6666666666666666,
              "#ed7953"
             ],
             [
              0.7777777777777778,
              "#fb9f3a"
             ],
             [
              0.8888888888888888,
              "#fdca26"
             ],
             [
              1,
              "#f0f921"
             ]
            ],
            "type": "heatmap"
           }
          ],
          "heatmapgl": [
           {
            "colorbar": {
             "outlinewidth": 0,
             "ticks": ""
            },
            "colorscale": [
             [
              0,
              "#0d0887"
             ],
             [
              0.1111111111111111,
              "#46039f"
             ],
             [
              0.2222222222222222,
              "#7201a8"
             ],
             [
              0.3333333333333333,
              "#9c179e"
             ],
             [
              0.4444444444444444,
              "#bd3786"
             ],
             [
              0.5555555555555556,
              "#d8576b"
             ],
             [
              0.6666666666666666,
              "#ed7953"
             ],
             [
              0.7777777777777778,
              "#fb9f3a"
             ],
             [
              0.8888888888888888,
              "#fdca26"
             ],
             [
              1,
              "#f0f921"
             ]
            ],
            "type": "heatmapgl"
           }
          ],
          "histogram": [
           {
            "marker": {
             "pattern": {
              "fillmode": "overlay",
              "size": 10,
              "solidity": 0.2
             }
            },
            "type": "histogram"
           }
          ],
          "histogram2d": [
           {
            "colorbar": {
             "outlinewidth": 0,
             "ticks": ""
            },
            "colorscale": [
             [
              0,
              "#0d0887"
             ],
             [
              0.1111111111111111,
              "#46039f"
             ],
             [
              0.2222222222222222,
              "#7201a8"
             ],
             [
              0.3333333333333333,
              "#9c179e"
             ],
             [
              0.4444444444444444,
              "#bd3786"
             ],
             [
              0.5555555555555556,
              "#d8576b"
             ],
             [
              0.6666666666666666,
              "#ed7953"
             ],
             [
              0.7777777777777778,
              "#fb9f3a"
             ],
             [
              0.8888888888888888,
              "#fdca26"
             ],
             [
              1,
              "#f0f921"
             ]
            ],
            "type": "histogram2d"
           }
          ],
          "histogram2dcontour": [
           {
            "colorbar": {
             "outlinewidth": 0,
             "ticks": ""
            },
            "colorscale": [
             [
              0,
              "#0d0887"
             ],
             [
              0.1111111111111111,
              "#46039f"
             ],
             [
              0.2222222222222222,
              "#7201a8"
             ],
             [
              0.3333333333333333,
              "#9c179e"
             ],
             [
              0.4444444444444444,
              "#bd3786"
             ],
             [
              0.5555555555555556,
              "#d8576b"
             ],
             [
              0.6666666666666666,
              "#ed7953"
             ],
             [
              0.7777777777777778,
              "#fb9f3a"
             ],
             [
              0.8888888888888888,
              "#fdca26"
             ],
             [
              1,
              "#f0f921"
             ]
            ],
            "type": "histogram2dcontour"
           }
          ],
          "mesh3d": [
           {
            "colorbar": {
             "outlinewidth": 0,
             "ticks": ""
            },
            "type": "mesh3d"
           }
          ],
          "parcoords": [
           {
            "line": {
             "colorbar": {
              "outlinewidth": 0,
              "ticks": ""
             }
            },
            "type": "parcoords"
           }
          ],
          "pie": [
           {
            "automargin": true,
            "type": "pie"
           }
          ],
          "scatter": [
           {
            "fillpattern": {
             "fillmode": "overlay",
             "size": 10,
             "solidity": 0.2
            },
            "type": "scatter"
           }
          ],
          "scatter3d": [
           {
            "line": {
             "colorbar": {
              "outlinewidth": 0,
              "ticks": ""
             }
            },
            "marker": {
             "colorbar": {
              "outlinewidth": 0,
              "ticks": ""
             }
            },
            "type": "scatter3d"
           }
          ],
          "scattercarpet": [
           {
            "marker": {
             "colorbar": {
              "outlinewidth": 0,
              "ticks": ""
             }
            },
            "type": "scattercarpet"
           }
          ],
          "scattergeo": [
           {
            "marker": {
             "colorbar": {
              "outlinewidth": 0,
              "ticks": ""
             }
            },
            "type": "scattergeo"
           }
          ],
          "scattergl": [
           {
            "marker": {
             "colorbar": {
              "outlinewidth": 0,
              "ticks": ""
             }
            },
            "type": "scattergl"
           }
          ],
          "scattermapbox": [
           {
            "marker": {
             "colorbar": {
              "outlinewidth": 0,
              "ticks": ""
             }
            },
            "type": "scattermapbox"
           }
          ],
          "scatterpolar": [
           {
            "marker": {
             "colorbar": {
              "outlinewidth": 0,
              "ticks": ""
             }
            },
            "type": "scatterpolar"
           }
          ],
          "scatterpolargl": [
           {
            "marker": {
             "colorbar": {
              "outlinewidth": 0,
              "ticks": ""
             }
            },
            "type": "scatterpolargl"
           }
          ],
          "scatterternary": [
           {
            "marker": {
             "colorbar": {
              "outlinewidth": 0,
              "ticks": ""
             }
            },
            "type": "scatterternary"
           }
          ],
          "surface": [
           {
            "colorbar": {
             "outlinewidth": 0,
             "ticks": ""
            },
            "colorscale": [
             [
              0,
              "#0d0887"
             ],
             [
              0.1111111111111111,
              "#46039f"
             ],
             [
              0.2222222222222222,
              "#7201a8"
             ],
             [
              0.3333333333333333,
              "#9c179e"
             ],
             [
              0.4444444444444444,
              "#bd3786"
             ],
             [
              0.5555555555555556,
              "#d8576b"
             ],
             [
              0.6666666666666666,
              "#ed7953"
             ],
             [
              0.7777777777777778,
              "#fb9f3a"
             ],
             [
              0.8888888888888888,
              "#fdca26"
             ],
             [
              1,
              "#f0f921"
             ]
            ],
            "type": "surface"
           }
          ],
          "table": [
           {
            "cells": {
             "fill": {
              "color": "#EBF0F8"
             },
             "line": {
              "color": "white"
             }
            },
            "header": {
             "fill": {
              "color": "#C8D4E3"
             },
             "line": {
              "color": "white"
             }
            },
            "type": "table"
           }
          ]
         },
         "layout": {
          "annotationdefaults": {
           "arrowcolor": "#2a3f5f",
           "arrowhead": 0,
           "arrowwidth": 1
          },
          "autotypenumbers": "strict",
          "coloraxis": {
           "colorbar": {
            "outlinewidth": 0,
            "ticks": ""
           }
          },
          "colorscale": {
           "diverging": [
            [
             0,
             "#8e0152"
            ],
            [
             0.1,
             "#c51b7d"
            ],
            [
             0.2,
             "#de77ae"
            ],
            [
             0.3,
             "#f1b6da"
            ],
            [
             0.4,
             "#fde0ef"
            ],
            [
             0.5,
             "#f7f7f7"
            ],
            [
             0.6,
             "#e6f5d0"
            ],
            [
             0.7,
             "#b8e186"
            ],
            [
             0.8,
             "#7fbc41"
            ],
            [
             0.9,
             "#4d9221"
            ],
            [
             1,
             "#276419"
            ]
           ],
           "sequential": [
            [
             0,
             "#0d0887"
            ],
            [
             0.1111111111111111,
             "#46039f"
            ],
            [
             0.2222222222222222,
             "#7201a8"
            ],
            [
             0.3333333333333333,
             "#9c179e"
            ],
            [
             0.4444444444444444,
             "#bd3786"
            ],
            [
             0.5555555555555556,
             "#d8576b"
            ],
            [
             0.6666666666666666,
             "#ed7953"
            ],
            [
             0.7777777777777778,
             "#fb9f3a"
            ],
            [
             0.8888888888888888,
             "#fdca26"
            ],
            [
             1,
             "#f0f921"
            ]
           ],
           "sequentialminus": [
            [
             0,
             "#0d0887"
            ],
            [
             0.1111111111111111,
             "#46039f"
            ],
            [
             0.2222222222222222,
             "#7201a8"
            ],
            [
             0.3333333333333333,
             "#9c179e"
            ],
            [
             0.4444444444444444,
             "#bd3786"
            ],
            [
             0.5555555555555556,
             "#d8576b"
            ],
            [
             0.6666666666666666,
             "#ed7953"
            ],
            [
             0.7777777777777778,
             "#fb9f3a"
            ],
            [
             0.8888888888888888,
             "#fdca26"
            ],
            [
             1,
             "#f0f921"
            ]
           ]
          },
          "colorway": [
           "#636efa",
           "#EF553B",
           "#00cc96",
           "#ab63fa",
           "#FFA15A",
           "#19d3f3",
           "#FF6692",
           "#B6E880",
           "#FF97FF",
           "#FECB52"
          ],
          "font": {
           "color": "#2a3f5f"
          },
          "geo": {
           "bgcolor": "white",
           "lakecolor": "white",
           "landcolor": "#E5ECF6",
           "showlakes": true,
           "showland": true,
           "subunitcolor": "white"
          },
          "hoverlabel": {
           "align": "left"
          },
          "hovermode": "closest",
          "mapbox": {
           "style": "light"
          },
          "paper_bgcolor": "white",
          "plot_bgcolor": "#E5ECF6",
          "polar": {
           "angularaxis": {
            "gridcolor": "white",
            "linecolor": "white",
            "ticks": ""
           },
           "bgcolor": "#E5ECF6",
           "radialaxis": {
            "gridcolor": "white",
            "linecolor": "white",
            "ticks": ""
           }
          },
          "scene": {
           "xaxis": {
            "backgroundcolor": "#E5ECF6",
            "gridcolor": "white",
            "gridwidth": 2,
            "linecolor": "white",
            "showbackground": true,
            "ticks": "",
            "zerolinecolor": "white"
           },
           "yaxis": {
            "backgroundcolor": "#E5ECF6",
            "gridcolor": "white",
            "gridwidth": 2,
            "linecolor": "white",
            "showbackground": true,
            "ticks": "",
            "zerolinecolor": "white"
           },
           "zaxis": {
            "backgroundcolor": "#E5ECF6",
            "gridcolor": "white",
            "gridwidth": 2,
            "linecolor": "white",
            "showbackground": true,
            "ticks": "",
            "zerolinecolor": "white"
           }
          },
          "shapedefaults": {
           "line": {
            "color": "#2a3f5f"
           }
          },
          "ternary": {
           "aaxis": {
            "gridcolor": "white",
            "linecolor": "white",
            "ticks": ""
           },
           "baxis": {
            "gridcolor": "white",
            "linecolor": "white",
            "ticks": ""
           },
           "bgcolor": "#E5ECF6",
           "caxis": {
            "gridcolor": "white",
            "linecolor": "white",
            "ticks": ""
           }
          },
          "title": {
           "x": 0.05
          },
          "xaxis": {
           "automargin": true,
           "gridcolor": "white",
           "linecolor": "white",
           "ticks": "",
           "title": {
            "standoff": 15
           },
           "zerolinecolor": "white",
           "zerolinewidth": 2
          },
          "yaxis": {
           "automargin": true,
           "gridcolor": "white",
           "linecolor": "white",
           "ticks": "",
           "title": {
            "standoff": 15
           },
           "zerolinecolor": "white",
           "zerolinewidth": 2
          }
         }
        },
        "title": {
         "text": "Batsman Avg vs SR"
        },
        "xaxis": {
         "title": {
          "text": "Batsamn Average"
         }
        },
        "yaxis": {
         "title": {
          "text": "Batsamn Strike Rate"
         }
        }
       }
      },
      "text/html": [
       "<div>                            <div id=\"4014a18a-604c-49cf-a48a-29135416cf2e\" class=\"plotly-graph-div\" style=\"height:525px; width:100%;\"></div>            <script type=\"text/javascript\">                require([\"plotly\"], function(Plotly) {                    window.PLOTLYENV=window.PLOTLYENV || {};                                    if (document.getElementById(\"4014a18a-604c-49cf-a48a-29135416cf2e\")) {                    Plotly.newPlot(                        \"4014a18a-604c-49cf-a48a-29135416cf2e\",                        [{\"marker\":{\"color\":\"green\",\"size\":16},\"mode\":\"markers\",\"text\":[\"AB de Villiers\",\"AC Gilchrist\",\"AJ Finch\",\"AM Rahane\",\"AT Rayudu\",\"BB McCullum\",\"BJ Hodge\",\"CH Gayle\",\"DA Miller\",\"DA Warner\",\"DJ Bravo\",\"DJ Hussey\",\"DPMD Jayawardene\",\"DR Smith\",\"F du Plessis\",\"G Gambhir\",\"GJ Maxwell\",\"JH Kallis\",\"JP Duminy\",\"KA Pollard\",\"KC Sangakkara\",\"KD Karthik\",\"KK Nair\",\"M Vijay\",\"MEK Hussey\",\"MK Pandey\",\"MK Tiwary\",\"MS Dhoni\",\"NV Ojha\",\"PA Patel\",\"R Dravid\",\"RA Jadeja\",\"RG Sharma\",\"RV Uthappa\",\"S Badrinath\",\"S Dhawan\",\"SC Ganguly\",\"SE Marsh\",\"SK Raina\",\"SPD Smith\",\"SR Tendulkar\",\"SR Watson\",\"SS Tiwary\",\"SV Samson\",\"TM Dilshan\",\"V Kohli\",\"V Sehwag\",\"WP Saha\",\"YK Pathan\",\"Yuvraj Singh\"],\"x\":[38.30769230769231,27.223684210526315,27.1864406779661,33.59340659340659,27.146067415730336,28.112244897959183,33.333333333333336,41.02247191011236,34.733333333333334,40.14,22.945454545454545,26.979591836734695,28.25,28.392857142857142,30.11627906976744,31.541984732824428,25.081632653061224,28.55294117647059,39.86,28.70731707317073,25.953846153846154,24.811965811965813,25.17391304347826,26.431578947368422,38.76470588235294,28.5,29.428571428571427,37.87234042553192,20.986486486486488,21.700934579439252,28.233766233766232,24.055555555555557,32.6124031007752,29.515625,30.659574468085108,32.669724770642205,25.452830188679247,39.507936507936506,33.940298507462686,37.23913043478261,33.82608695652174,30.91764705882353,28.355555555555554,25.464285714285715,26.813953488372093,37.483050847457626,27.555555555555557,25.524590163934427,29.816326530612244,25.653465346534652],\"y\":[145.12905911740216,133.05466237942122,126.2992125984252,117.48654880860876,123.0142566191446,126.31820265933058,121.42237640936686,144.19431279620852,137.7092511013216,138.3184011026878,122.28682170542635,120.07266121707538,118.7910643889619,132.27953410981698,124.16107382550337,120.36120011651616,157.56410256410257,105.93627237014405,121.97062423500613,140.62126642771804,118.4691011235955,123.00847457627117,124.65016146393972,120.02868068833652,119.96359223300972,116.93845344555498,114.12742382271468,132.8358208955224,114.52802359882006,112.71844660194175,113.34723670490095,118.79286694101509,128.49725106902872,127.63513513513513,115.74297188755021,118.50249584026622,101.73453996983409,130.10977522216413,134.99554764024933,128.50712678169543,114.18786692759295,134.83837865572087,114.85148514851484,122.40343347639484,110.12416427889207,126.58843732112193,148.82705946535734,127.72764561115667,140.75144508670522,126.39024390243902],\"type\":\"scatter\"}],                        {\"title\":{\"text\":\"Batsman Avg vs SR\"},\"xaxis\":{\"title\":{\"text\":\"Batsamn Average\"}},\"yaxis\":{\"title\":{\"text\":\"Batsamn Strike Rate\"}},\"template\":{\"data\":{\"histogram2dcontour\":[{\"type\":\"histogram2dcontour\",\"colorbar\":{\"outlinewidth\":0,\"ticks\":\"\"},\"colorscale\":[[0.0,\"#0d0887\"],[0.1111111111111111,\"#46039f\"],[0.2222222222222222,\"#7201a8\"],[0.3333333333333333,\"#9c179e\"],[0.4444444444444444,\"#bd3786\"],[0.5555555555555556,\"#d8576b\"],[0.6666666666666666,\"#ed7953\"],[0.7777777777777778,\"#fb9f3a\"],[0.8888888888888888,\"#fdca26\"],[1.0,\"#f0f921\"]]}],\"choropleth\":[{\"type\":\"choropleth\",\"colorbar\":{\"outlinewidth\":0,\"ticks\":\"\"}}],\"histogram2d\":[{\"type\":\"histogram2d\",\"colorbar\":{\"outlinewidth\":0,\"ticks\":\"\"},\"colorscale\":[[0.0,\"#0d0887\"],[0.1111111111111111,\"#46039f\"],[0.2222222222222222,\"#7201a8\"],[0.3333333333333333,\"#9c179e\"],[0.4444444444444444,\"#bd3786\"],[0.5555555555555556,\"#d8576b\"],[0.6666666666666666,\"#ed7953\"],[0.7777777777777778,\"#fb9f3a\"],[0.8888888888888888,\"#fdca26\"],[1.0,\"#f0f921\"]]}],\"heatmap\":[{\"type\":\"heatmap\",\"colorbar\":{\"outlinewidth\":0,\"ticks\":\"\"},\"colorscale\":[[0.0,\"#0d0887\"],[0.1111111111111111,\"#46039f\"],[0.2222222222222222,\"#7201a8\"],[0.3333333333333333,\"#9c179e\"],[0.4444444444444444,\"#bd3786\"],[0.5555555555555556,\"#d8576b\"],[0.6666666666666666,\"#ed7953\"],[0.7777777777777778,\"#fb9f3a\"],[0.8888888888888888,\"#fdca26\"],[1.0,\"#f0f921\"]]}],\"heatmapgl\":[{\"type\":\"heatmapgl\",\"colorbar\":{\"outlinewidth\":0,\"ticks\":\"\"},\"colorscale\":[[0.0,\"#0d0887\"],[0.1111111111111111,\"#46039f\"],[0.2222222222222222,\"#7201a8\"],[0.3333333333333333,\"#9c179e\"],[0.4444444444444444,\"#bd3786\"],[0.5555555555555556,\"#d8576b\"],[0.6666666666666666,\"#ed7953\"],[0.7777777777777778,\"#fb9f3a\"],[0.8888888888888888,\"#fdca26\"],[1.0,\"#f0f921\"]]}],\"contourcarpet\":[{\"type\":\"contourcarpet\",\"colorbar\":{\"outlinewidth\":0,\"ticks\":\"\"}}],\"contour\":[{\"type\":\"contour\",\"colorbar\":{\"outlinewidth\":0,\"ticks\":\"\"},\"colorscale\":[[0.0,\"#0d0887\"],[0.1111111111111111,\"#46039f\"],[0.2222222222222222,\"#7201a8\"],[0.3333333333333333,\"#9c179e\"],[0.4444444444444444,\"#bd3786\"],[0.5555555555555556,\"#d8576b\"],[0.6666666666666666,\"#ed7953\"],[0.7777777777777778,\"#fb9f3a\"],[0.8888888888888888,\"#fdca26\"],[1.0,\"#f0f921\"]]}],\"surface\":[{\"type\":\"surface\",\"colorbar\":{\"outlinewidth\":0,\"ticks\":\"\"},\"colorscale\":[[0.0,\"#0d0887\"],[0.1111111111111111,\"#46039f\"],[0.2222222222222222,\"#7201a8\"],[0.3333333333333333,\"#9c179e\"],[0.4444444444444444,\"#bd3786\"],[0.5555555555555556,\"#d8576b\"],[0.6666666666666666,\"#ed7953\"],[0.7777777777777778,\"#fb9f3a\"],[0.8888888888888888,\"#fdca26\"],[1.0,\"#f0f921\"]]}],\"mesh3d\":[{\"type\":\"mesh3d\",\"colorbar\":{\"outlinewidth\":0,\"ticks\":\"\"}}],\"scatter\":[{\"fillpattern\":{\"fillmode\":\"overlay\",\"size\":10,\"solidity\":0.2},\"type\":\"scatter\"}],\"parcoords\":[{\"type\":\"parcoords\",\"line\":{\"colorbar\":{\"outlinewidth\":0,\"ticks\":\"\"}}}],\"scatterpolargl\":[{\"type\":\"scatterpolargl\",\"marker\":{\"colorbar\":{\"outlinewidth\":0,\"ticks\":\"\"}}}],\"bar\":[{\"error_x\":{\"color\":\"#2a3f5f\"},\"error_y\":{\"color\":\"#2a3f5f\"},\"marker\":{\"line\":{\"color\":\"#E5ECF6\",\"width\":0.5},\"pattern\":{\"fillmode\":\"overlay\",\"size\":10,\"solidity\":0.2}},\"type\":\"bar\"}],\"scattergeo\":[{\"type\":\"scattergeo\",\"marker\":{\"colorbar\":{\"outlinewidth\":0,\"ticks\":\"\"}}}],\"scatterpolar\":[{\"type\":\"scatterpolar\",\"marker\":{\"colorbar\":{\"outlinewidth\":0,\"ticks\":\"\"}}}],\"histogram\":[{\"marker\":{\"pattern\":{\"fillmode\":\"overlay\",\"size\":10,\"solidity\":0.2}},\"type\":\"histogram\"}],\"scattergl\":[{\"type\":\"scattergl\",\"marker\":{\"colorbar\":{\"outlinewidth\":0,\"ticks\":\"\"}}}],\"scatter3d\":[{\"type\":\"scatter3d\",\"line\":{\"colorbar\":{\"outlinewidth\":0,\"ticks\":\"\"}},\"marker\":{\"colorbar\":{\"outlinewidth\":0,\"ticks\":\"\"}}}],\"scattermapbox\":[{\"type\":\"scattermapbox\",\"marker\":{\"colorbar\":{\"outlinewidth\":0,\"ticks\":\"\"}}}],\"scatterternary\":[{\"type\":\"scatterternary\",\"marker\":{\"colorbar\":{\"outlinewidth\":0,\"ticks\":\"\"}}}],\"scattercarpet\":[{\"type\":\"scattercarpet\",\"marker\":{\"colorbar\":{\"outlinewidth\":0,\"ticks\":\"\"}}}],\"carpet\":[{\"aaxis\":{\"endlinecolor\":\"#2a3f5f\",\"gridcolor\":\"white\",\"linecolor\":\"white\",\"minorgridcolor\":\"white\",\"startlinecolor\":\"#2a3f5f\"},\"baxis\":{\"endlinecolor\":\"#2a3f5f\",\"gridcolor\":\"white\",\"linecolor\":\"white\",\"minorgridcolor\":\"white\",\"startlinecolor\":\"#2a3f5f\"},\"type\":\"carpet\"}],\"table\":[{\"cells\":{\"fill\":{\"color\":\"#EBF0F8\"},\"line\":{\"color\":\"white\"}},\"header\":{\"fill\":{\"color\":\"#C8D4E3\"},\"line\":{\"color\":\"white\"}},\"type\":\"table\"}],\"barpolar\":[{\"marker\":{\"line\":{\"color\":\"#E5ECF6\",\"width\":0.5},\"pattern\":{\"fillmode\":\"overlay\",\"size\":10,\"solidity\":0.2}},\"type\":\"barpolar\"}],\"pie\":[{\"automargin\":true,\"type\":\"pie\"}]},\"layout\":{\"autotypenumbers\":\"strict\",\"colorway\":[\"#636efa\",\"#EF553B\",\"#00cc96\",\"#ab63fa\",\"#FFA15A\",\"#19d3f3\",\"#FF6692\",\"#B6E880\",\"#FF97FF\",\"#FECB52\"],\"font\":{\"color\":\"#2a3f5f\"},\"hovermode\":\"closest\",\"hoverlabel\":{\"align\":\"left\"},\"paper_bgcolor\":\"white\",\"plot_bgcolor\":\"#E5ECF6\",\"polar\":{\"bgcolor\":\"#E5ECF6\",\"angularaxis\":{\"gridcolor\":\"white\",\"linecolor\":\"white\",\"ticks\":\"\"},\"radialaxis\":{\"gridcolor\":\"white\",\"linecolor\":\"white\",\"ticks\":\"\"}},\"ternary\":{\"bgcolor\":\"#E5ECF6\",\"aaxis\":{\"gridcolor\":\"white\",\"linecolor\":\"white\",\"ticks\":\"\"},\"baxis\":{\"gridcolor\":\"white\",\"linecolor\":\"white\",\"ticks\":\"\"},\"caxis\":{\"gridcolor\":\"white\",\"linecolor\":\"white\",\"ticks\":\"\"}},\"coloraxis\":{\"colorbar\":{\"outlinewidth\":0,\"ticks\":\"\"}},\"colorscale\":{\"sequential\":[[0.0,\"#0d0887\"],[0.1111111111111111,\"#46039f\"],[0.2222222222222222,\"#7201a8\"],[0.3333333333333333,\"#9c179e\"],[0.4444444444444444,\"#bd3786\"],[0.5555555555555556,\"#d8576b\"],[0.6666666666666666,\"#ed7953\"],[0.7777777777777778,\"#fb9f3a\"],[0.8888888888888888,\"#fdca26\"],[1.0,\"#f0f921\"]],\"sequentialminus\":[[0.0,\"#0d0887\"],[0.1111111111111111,\"#46039f\"],[0.2222222222222222,\"#7201a8\"],[0.3333333333333333,\"#9c179e\"],[0.4444444444444444,\"#bd3786\"],[0.5555555555555556,\"#d8576b\"],[0.6666666666666666,\"#ed7953\"],[0.7777777777777778,\"#fb9f3a\"],[0.8888888888888888,\"#fdca26\"],[1.0,\"#f0f921\"]],\"diverging\":[[0,\"#8e0152\"],[0.1,\"#c51b7d\"],[0.2,\"#de77ae\"],[0.3,\"#f1b6da\"],[0.4,\"#fde0ef\"],[0.5,\"#f7f7f7\"],[0.6,\"#e6f5d0\"],[0.7,\"#b8e186\"],[0.8,\"#7fbc41\"],[0.9,\"#4d9221\"],[1,\"#276419\"]]},\"xaxis\":{\"gridcolor\":\"white\",\"linecolor\":\"white\",\"ticks\":\"\",\"title\":{\"standoff\":15},\"zerolinecolor\":\"white\",\"automargin\":true,\"zerolinewidth\":2},\"yaxis\":{\"gridcolor\":\"white\",\"linecolor\":\"white\",\"ticks\":\"\",\"title\":{\"standoff\":15},\"zerolinecolor\":\"white\",\"automargin\":true,\"zerolinewidth\":2},\"scene\":{\"xaxis\":{\"backgroundcolor\":\"#E5ECF6\",\"gridcolor\":\"white\",\"linecolor\":\"white\",\"showbackground\":true,\"ticks\":\"\",\"zerolinecolor\":\"white\",\"gridwidth\":2},\"yaxis\":{\"backgroundcolor\":\"#E5ECF6\",\"gridcolor\":\"white\",\"linecolor\":\"white\",\"showbackground\":true,\"ticks\":\"\",\"zerolinecolor\":\"white\",\"gridwidth\":2},\"zaxis\":{\"backgroundcolor\":\"#E5ECF6\",\"gridcolor\":\"white\",\"linecolor\":\"white\",\"showbackground\":true,\"ticks\":\"\",\"zerolinecolor\":\"white\",\"gridwidth\":2}},\"shapedefaults\":{\"line\":{\"color\":\"#2a3f5f\"}},\"annotationdefaults\":{\"arrowcolor\":\"#2a3f5f\",\"arrowhead\":0,\"arrowwidth\":1},\"geo\":{\"bgcolor\":\"white\",\"landcolor\":\"#E5ECF6\",\"subunitcolor\":\"white\",\"showland\":true,\"showlakes\":true,\"lakecolor\":\"white\"},\"title\":{\"x\":0.05},\"mapbox\":{\"style\":\"light\"}}}},                        {\"responsive\": true}                    ).then(function(){\n",
       "                            \n",
       "var gd = document.getElementById('4014a18a-604c-49cf-a48a-29135416cf2e');\n",
       "var x = new MutationObserver(function (mutations, observer) {{\n",
       "        var display = window.getComputedStyle(gd).display;\n",
       "        if (!display || display === 'none') {{\n",
       "            console.log([gd, 'removed!']);\n",
       "            Plotly.purge(gd);\n",
       "            observer.disconnect();\n",
       "        }}\n",
       "}});\n",
       "\n",
       "// Listen for the removal of the full notebook cells\n",
       "var notebookContainer = gd.closest('#notebook-container');\n",
       "if (notebookContainer) {{\n",
       "    x.observe(notebookContainer, {childList: true});\n",
       "}}\n",
       "\n",
       "// Listen for the clearing of the current output cell\n",
       "var outputEl = gd.closest('.output');\n",
       "if (outputEl) {{\n",
       "    x.observe(outputEl, {childList: true});\n",
       "}}\n",
       "\n",
       "                        })                };                });            </script>        </div>"
      ]
     },
     "metadata": {},
     "output_type": "display_data"
    },
    {
     "data": {
      "text/plain": [
       "'IPL.html'"
      ]
     },
     "execution_count": 183,
     "metadata": {},
     "output_type": "execute_result"
    }
   ],
   "source": [
    "trace = go.Scatter(x = avg['avg'], y = avg['batsman_runs'], mode = 'markers', text=avg['batsman'],\n",
    "                  marker = {\"color\":\"green\", \"size\":16})\n",
    "data = [trace]\n",
    "layout = go.Layout(title = \"Batsman Avg vs SR\",\n",
    "                  xaxis = {\"title\":\"Batsamn Average\"},\n",
    "                  yaxis = {\"title\":\"Batsamn Strike Rate\"})\n",
    "\n",
    "fig = go.Figure(data = data, layout=layout)\n",
    "fig.show()\n",
    "pyo.plot(fig, filename = \"IPL.html\")"
   ]
  },
  {
   "cell_type": "markdown",
   "id": "bea11a91",
   "metadata": {},
   "source": [
    "---"
   ]
  },
  {
   "cell_type": "markdown",
   "id": "df191a95",
   "metadata": {},
   "source": [
    "#### 4. Line Chart"
   ]
  },
  {
   "cell_type": "markdown",
   "id": "972bacd8",
   "metadata": {},
   "source": [
    "Problem: Year on year performance of batsman"
   ]
  },
  {
   "cell_type": "code",
   "execution_count": 35,
   "id": "87d1fe4b",
   "metadata": {},
   "outputs": [
    {
     "data": {
      "text/html": [
       "<div>\n",
       "<style scoped>\n",
       "    .dataframe tbody tr th:only-of-type {\n",
       "        vertical-align: middle;\n",
       "    }\n",
       "\n",
       "    .dataframe tbody tr th {\n",
       "        vertical-align: top;\n",
       "    }\n",
       "\n",
       "    .dataframe thead th {\n",
       "        text-align: right;\n",
       "    }\n",
       "</style>\n",
       "<table border=\"1\" class=\"dataframe\">\n",
       "  <thead>\n",
       "    <tr style=\"text-align: right;\">\n",
       "      <th></th>\n",
       "      <th>season</th>\n",
       "      <th>batsman_runs</th>\n",
       "    </tr>\n",
       "  </thead>\n",
       "  <tbody>\n",
       "    <tr>\n",
       "      <th>0</th>\n",
       "      <td>2008</td>\n",
       "      <td>414</td>\n",
       "    </tr>\n",
       "    <tr>\n",
       "      <th>1</th>\n",
       "      <td>2009</td>\n",
       "      <td>332</td>\n",
       "    </tr>\n",
       "    <tr>\n",
       "      <th>2</th>\n",
       "      <td>2010</td>\n",
       "      <td>287</td>\n",
       "    </tr>\n",
       "    <tr>\n",
       "      <th>3</th>\n",
       "      <td>2011</td>\n",
       "      <td>392</td>\n",
       "    </tr>\n",
       "    <tr>\n",
       "      <th>4</th>\n",
       "      <td>2012</td>\n",
       "      <td>357</td>\n",
       "    </tr>\n",
       "    <tr>\n",
       "      <th>5</th>\n",
       "      <td>2013</td>\n",
       "      <td>461</td>\n",
       "    </tr>\n",
       "    <tr>\n",
       "      <th>6</th>\n",
       "      <td>2014</td>\n",
       "      <td>371</td>\n",
       "    </tr>\n",
       "    <tr>\n",
       "      <th>7</th>\n",
       "      <td>2015</td>\n",
       "      <td>372</td>\n",
       "    </tr>\n",
       "    <tr>\n",
       "      <th>8</th>\n",
       "      <td>2016</td>\n",
       "      <td>284</td>\n",
       "    </tr>\n",
       "    <tr>\n",
       "      <th>9</th>\n",
       "      <td>2017</td>\n",
       "      <td>290</td>\n",
       "    </tr>\n",
       "  </tbody>\n",
       "</table>\n",
       "</div>"
      ],
      "text/plain": [
       "   season  batsman_runs\n",
       "0    2008           414\n",
       "1    2009           332\n",
       "2    2010           287\n",
       "3    2011           392\n",
       "4    2012           357\n",
       "5    2013           461\n",
       "6    2014           371\n",
       "7    2015           372\n",
       "8    2016           284\n",
       "9    2017           290"
      ]
     },
     "execution_count": 35,
     "metadata": {},
     "output_type": "execute_result"
    }
   ],
   "source": [
    "single = ipl[ipl['batsman'] == \"V Kohli\"]\n",
    "performance = single.groupby(['season'])['batsman_runs'].sum().reset_index()\n",
    "\n",
    "single = ipl[ipl['batsman'] == \"MS Dhoni\"]\n",
    "performance1 = single.groupby(['season'])['batsman_runs'].sum().reset_index()\n",
    "performance1"
   ]
  },
  {
   "cell_type": "code",
   "execution_count": 39,
   "id": "9c66349d",
   "metadata": {},
   "outputs": [
    {
     "data": {
      "text/plain": [
       "'IPL.html'"
      ]
     },
     "execution_count": 39,
     "metadata": {},
     "output_type": "execute_result"
    }
   ],
   "source": [
    "trace1 = go.Scatter(x = performance['season'], y = performance['batsman_runs'], mode = 'lines+markers' ,\n",
    "                  marker = {\"color\":\"red\", \"size\":16}, name='V Kohli')\n",
    "trace2 = go.Scatter(x = performance1['season'], y = performance1['batsman_runs'], mode = 'lines+markers' ,\n",
    "                  marker = {\"color\":\"yellow\", \"size\":16}, name='MS Dhoni')\n",
    "data = [trace1, trace2]\n",
    "layout = go.Layout(title = \"Year by Year performance\",\n",
    "                  xaxis = {\"title\":\"Season\"},\n",
    "                  yaxis = {\"title\":\"Total Runs\"})\n",
    "\n",
    "fig = go.Figure(data = data, layout=layout)\n",
    "pyo.plot(fig, filename = \"IPL.html\")"
   ]
  },
  {
   "cell_type": "markdown",
   "id": "e40d91ea",
   "metadata": {},
   "source": [
    "---"
   ]
  },
  {
   "cell_type": "markdown",
   "id": "936dac13",
   "metadata": {},
   "source": [
    "#### 5. Multiple Line Charts"
   ]
  },
  {
   "cell_type": "code",
   "execution_count": 40,
   "id": "aa190415",
   "metadata": {},
   "outputs": [],
   "source": [
    "def batsman_comp(*name):\n",
    "    data = []\n",
    "    for i in name:\n",
    "        single = ipl[ipl['batsman'] == i]\n",
    "        performance = single.groupby(['season'])['batsman_runs'].sum().reset_index()\n",
    "        \n",
    "        trace = go.Scatter(x = performance['season'], y = performance['batsman_runs'], mode = 'lines+markers' ,\n",
    "                 name=i)\n",
    "        data.append(trace)\n",
    "        \n",
    "    layout = go.Layout(title = \"Year by Year performance\",\n",
    "                  xaxis = {\"title\":\"Season\"},\n",
    "                  yaxis = {\"title\":\"Total Runs\"})\n",
    "    fig = go.Figure(data = data, layout=layout)\n",
    "    pyo.plot(fig, filename = \"year_on_year.html\")"
   ]
  },
  {
   "cell_type": "code",
   "execution_count": 41,
   "id": "18313a38",
   "metadata": {},
   "outputs": [],
   "source": [
    "batsman_comp(\"V Kohli\", \"RG Sharma\", \"DA Warner\", \"CH Gayle\")"
   ]
  },
  {
   "cell_type": "markdown",
   "id": "b6ab12b6",
   "metadata": {},
   "source": [
    "---"
   ]
  },
  {
   "cell_type": "markdown",
   "id": "e63b37ba",
   "metadata": {},
   "source": [
    "#### 6. Bar plot"
   ]
  },
  {
   "cell_type": "code",
   "execution_count": 54,
   "id": "ffad9698",
   "metadata": {},
   "outputs": [
    {
     "data": {
      "text/html": [
       "<div>\n",
       "<style scoped>\n",
       "    .dataframe tbody tr th:only-of-type {\n",
       "        vertical-align: middle;\n",
       "    }\n",
       "\n",
       "    .dataframe tbody tr th {\n",
       "        vertical-align: top;\n",
       "    }\n",
       "\n",
       "    .dataframe thead th {\n",
       "        text-align: right;\n",
       "    }\n",
       "</style>\n",
       "<table border=\"1\" class=\"dataframe\">\n",
       "  <thead>\n",
       "    <tr style=\"text-align: right;\">\n",
       "      <th></th>\n",
       "      <th>batsman</th>\n",
       "      <th>batsman_runs</th>\n",
       "    </tr>\n",
       "  </thead>\n",
       "  <tbody>\n",
       "    <tr>\n",
       "      <th>0</th>\n",
       "      <td>AB de Villiers</td>\n",
       "      <td>3486</td>\n",
       "    </tr>\n",
       "    <tr>\n",
       "      <th>1</th>\n",
       "      <td>CH Gayle</td>\n",
       "      <td>3651</td>\n",
       "    </tr>\n",
       "    <tr>\n",
       "      <th>2</th>\n",
       "      <td>DA Warner</td>\n",
       "      <td>4014</td>\n",
       "    </tr>\n",
       "    <tr>\n",
       "      <th>3</th>\n",
       "      <td>G Gambhir</td>\n",
       "      <td>4132</td>\n",
       "    </tr>\n",
       "    <tr>\n",
       "      <th>4</th>\n",
       "      <td>MS Dhoni</td>\n",
       "      <td>3560</td>\n",
       "    </tr>\n",
       "    <tr>\n",
       "      <th>5</th>\n",
       "      <td>RG Sharma</td>\n",
       "      <td>4207</td>\n",
       "    </tr>\n",
       "    <tr>\n",
       "      <th>6</th>\n",
       "      <td>RV Uthappa</td>\n",
       "      <td>3778</td>\n",
       "    </tr>\n",
       "    <tr>\n",
       "      <th>7</th>\n",
       "      <td>S Dhawan</td>\n",
       "      <td>3561</td>\n",
       "    </tr>\n",
       "    <tr>\n",
       "      <th>8</th>\n",
       "      <td>SK Raina</td>\n",
       "      <td>4548</td>\n",
       "    </tr>\n",
       "    <tr>\n",
       "      <th>9</th>\n",
       "      <td>V Kohli</td>\n",
       "      <td>4423</td>\n",
       "    </tr>\n",
       "  </tbody>\n",
       "</table>\n",
       "</div>"
      ],
      "text/plain": [
       "          batsman  batsman_runs\n",
       "0  AB de Villiers          3486\n",
       "1        CH Gayle          3651\n",
       "2       DA Warner          4014\n",
       "3       G Gambhir          4132\n",
       "4        MS Dhoni          3560\n",
       "5       RG Sharma          4207\n",
       "6      RV Uthappa          3778\n",
       "7        S Dhawan          3561\n",
       "8        SK Raina          4548\n",
       "9         V Kohli          4423"
      ]
     },
     "execution_count": 54,
     "metadata": {},
     "output_type": "execute_result"
    }
   ],
   "source": [
    "top10 = ipl.groupby(['batsman'])['batsman_runs'].sum().sort_values(ascending = False).head(10).index.tolist()\n",
    "top10_df = ipl[ipl['batsman'].isin(top10)]\n",
    "\n",
    "top10score = top10_df.groupby([\"batsman\"])['batsman_runs'].sum().reset_index()\n",
    "top10score"
   ]
  },
  {
   "cell_type": "code",
   "execution_count": 59,
   "id": "76d79f0f",
   "metadata": {},
   "outputs": [
    {
     "data": {
      "text/plain": [
       "'IPL.html'"
      ]
     },
     "execution_count": 59,
     "metadata": {},
     "output_type": "execute_result"
    }
   ],
   "source": [
    "trace = go.Bar(x = top10score['batsman'], y = top10score['batsman_runs'])\n",
    "data = [trace]\n",
    "layout = go.Layout(title = \"Top 10 IPL Batsman\",\n",
    "                  xaxis = {\"title\":\"Batsamn\"},\n",
    "                  yaxis = {\"title\":\"Batsamn Total Runs\"})\n",
    "\n",
    "fig = go.Figure(data = data, layout=layout)\n",
    "pyo.plot(fig, filename = \"IPL.html\")"
   ]
  },
  {
   "cell_type": "markdown",
   "id": "61331dcb",
   "metadata": {},
   "source": [
    "---"
   ]
  },
  {
   "cell_type": "markdown",
   "id": "157cc1da",
   "metadata": {},
   "source": [
    "#### 6.1 Bar Graph - Overlay"
   ]
  },
  {
   "cell_type": "code",
   "execution_count": 81,
   "id": "60a38c0c",
   "metadata": {},
   "outputs": [
    {
     "data": {
      "text/html": [
       "<div>\n",
       "<style scoped>\n",
       "    .dataframe tbody tr th:only-of-type {\n",
       "        vertical-align: middle;\n",
       "    }\n",
       "\n",
       "    .dataframe tbody tr th {\n",
       "        vertical-align: top;\n",
       "    }\n",
       "\n",
       "    .dataframe thead th {\n",
       "        text-align: right;\n",
       "    }\n",
       "</style>\n",
       "<table border=\"1\" class=\"dataframe\">\n",
       "  <thead>\n",
       "    <tr style=\"text-align: right;\">\n",
       "      <th></th>\n",
       "      <th>batsman</th>\n",
       "      <th>1st Inning</th>\n",
       "      <th>2nd Inning</th>\n",
       "    </tr>\n",
       "  </thead>\n",
       "  <tbody>\n",
       "    <tr>\n",
       "      <th>0</th>\n",
       "      <td>AB de Villiers</td>\n",
       "      <td>2128</td>\n",
       "      <td>1345</td>\n",
       "    </tr>\n",
       "    <tr>\n",
       "      <th>1</th>\n",
       "      <td>CH Gayle</td>\n",
       "      <td>2003</td>\n",
       "      <td>1623</td>\n",
       "    </tr>\n",
       "    <tr>\n",
       "      <th>2</th>\n",
       "      <td>DA Warner</td>\n",
       "      <td>2118</td>\n",
       "      <td>1896</td>\n",
       "    </tr>\n",
       "    <tr>\n",
       "      <th>3</th>\n",
       "      <td>G Gambhir</td>\n",
       "      <td>1699</td>\n",
       "      <td>2433</td>\n",
       "    </tr>\n",
       "    <tr>\n",
       "      <th>4</th>\n",
       "      <td>MS Dhoni</td>\n",
       "      <td>2232</td>\n",
       "      <td>1328</td>\n",
       "    </tr>\n",
       "    <tr>\n",
       "      <th>5</th>\n",
       "      <td>RG Sharma</td>\n",
       "      <td>2344</td>\n",
       "      <td>1863</td>\n",
       "    </tr>\n",
       "    <tr>\n",
       "      <th>6</th>\n",
       "      <td>RV Uthappa</td>\n",
       "      <td>1516</td>\n",
       "      <td>2262</td>\n",
       "    </tr>\n",
       "    <tr>\n",
       "      <th>7</th>\n",
       "      <td>S Dhawan</td>\n",
       "      <td>2262</td>\n",
       "      <td>1299</td>\n",
       "    </tr>\n",
       "    <tr>\n",
       "      <th>8</th>\n",
       "      <td>SK Raina</td>\n",
       "      <td>2647</td>\n",
       "      <td>1893</td>\n",
       "    </tr>\n",
       "    <tr>\n",
       "      <th>9</th>\n",
       "      <td>V Kohli</td>\n",
       "      <td>2391</td>\n",
       "      <td>2027</td>\n",
       "    </tr>\n",
       "  </tbody>\n",
       "</table>\n",
       "</div>"
      ],
      "text/plain": [
       "          batsman  1st Inning  2nd Inning\n",
       "0  AB de Villiers        2128        1345\n",
       "1        CH Gayle        2003        1623\n",
       "2       DA Warner        2118        1896\n",
       "3       G Gambhir        1699        2433\n",
       "4        MS Dhoni        2232        1328\n",
       "5       RG Sharma        2344        1863\n",
       "6      RV Uthappa        1516        2262\n",
       "7        S Dhawan        2262        1299\n",
       "8        SK Raina        2647        1893\n",
       "9         V Kohli        2391        2027"
      ]
     },
     "execution_count": 81,
     "metadata": {},
     "output_type": "execute_result"
    }
   ],
   "source": [
    "iw = top10_df.groupby(['batsman', 'inning'])['batsman_runs'].sum().reset_index()\n",
    "one = iw[iw['inning'] == 1]\n",
    "one = one.rename(columns={\"batsman_runs\":\"1st Inning\"})\n",
    "two = iw[iw['inning'] == 2]\n",
    "two = two.rename(columns={\"batsman_runs\":\"2nd Inning\"})\n",
    "\n",
    "final = pd.merge(one, two, on = 'batsman')[['batsman', '1st Inning', '2nd Inning']]\n",
    "final"
   ]
  },
  {
   "cell_type": "code",
   "execution_count": 84,
   "id": "bc5113a6",
   "metadata": {},
   "outputs": [
    {
     "data": {
      "text/plain": [
       "'IPL.html'"
      ]
     },
     "execution_count": 84,
     "metadata": {},
     "output_type": "execute_result"
    }
   ],
   "source": [
    "trace1 = go.Bar(x = final['batsman'], y = final['1st Inning'],\n",
    "                  marker = {\"color\":\"#00a65a\"}, name='1st Inning')\n",
    "trace2 = go.Bar(x = final['batsman'], y = final['2nd Inning'],\n",
    "                  marker = {\"color\":\"#a6a65a\"}, name='2nd Inning')\n",
    "data = [trace1, trace2]\n",
    "layout = go.Layout(title = \"Inning wise score\",\n",
    "                  xaxis = {\"title\":\"Season\"},\n",
    "                  yaxis = {\"title\":\"Total Runs\"},\n",
    "                  barmode = \"overlay\")\n",
    "\n",
    "fig = go.Figure(data = data, layout=layout)\n",
    "pyo.plot(fig, filename = \"IPL.html\")"
   ]
  },
  {
   "cell_type": "markdown",
   "id": "3c572e0f",
   "metadata": {},
   "source": [
    "#### 6.2 Bar Graph - Stacked"
   ]
  },
  {
   "cell_type": "code",
   "execution_count": 83,
   "id": "8da00bfb",
   "metadata": {},
   "outputs": [
    {
     "data": {
      "text/plain": [
       "'IPL.html'"
      ]
     },
     "execution_count": 83,
     "metadata": {},
     "output_type": "execute_result"
    }
   ],
   "source": [
    "trace1 = go.Bar(x = final['batsman'], y = final['1st Inning'],\n",
    "                  marker = {\"color\":\"#00a65a\"}, name='1st Inning')\n",
    "trace2 = go.Bar(x = final['batsman'], y = final['2nd Inning'],\n",
    "                  marker = {\"color\":\"#a6a65a\"}, name='2nd Inning')\n",
    "data = [trace1, trace2]\n",
    "layout = go.Layout(title = \"Inning wise score\",\n",
    "                  xaxis = {\"title\":\"Season\"},\n",
    "                  yaxis = {\"title\":\"Total Runs\"},\n",
    "                  barmode = \"stack\")\n",
    "\n",
    "fig = go.Figure(data = data, layout=layout)\n",
    "pyo.plot(fig, filename = \"IPL.html\")"
   ]
  },
  {
   "cell_type": "markdown",
   "id": "19982b0e",
   "metadata": {},
   "source": [
    "#### 6.3 Bar Graph - Nested"
   ]
  },
  {
   "cell_type": "code",
   "execution_count": null,
   "id": "1c4a541a",
   "metadata": {},
   "outputs": [],
   "source": [
    "trace1 = go.Bar(x = final['batsman'], y = final['1st Inning'],\n",
    "                  marker = {\"color\":\"#00a65a\"}, name='1st Inning')\n",
    "trace2 = go.Bar(x = final['batsman'], y = final['2nd Inning'],\n",
    "                  marker = {\"color\":\"#a6a65a\"}, name='2nd Inning')\n",
    "data = [trace1, trace2]\n",
    "layout = go.Layout(title = \"Inning wise score\",\n",
    "                  xaxis = {\"title\":\"Season\"},\n",
    "                  yaxis = {\"title\":\"Total Runs\"})\n",
    "\n",
    "fig = go.Figure(data = data, layout=layout)\n",
    "pyo.plot(fig, filename = \"IPL.html\")"
   ]
  },
  {
   "cell_type": "markdown",
   "id": "63638b78",
   "metadata": {},
   "source": [
    "---"
   ]
  },
  {
   "cell_type": "markdown",
   "id": "41abb312",
   "metadata": {},
   "source": [
    "#### 7. Bubble Plot"
   ]
  },
  {
   "cell_type": "code",
   "execution_count": 114,
   "id": "270b33f6",
   "metadata": {
    "scrolled": true
   },
   "outputs": [
    {
     "data": {
      "text/html": [
       "<div>\n",
       "<style scoped>\n",
       "    .dataframe tbody tr th:only-of-type {\n",
       "        vertical-align: middle;\n",
       "    }\n",
       "\n",
       "    .dataframe tbody tr th {\n",
       "        vertical-align: top;\n",
       "    }\n",
       "\n",
       "    .dataframe thead th {\n",
       "        text-align: right;\n",
       "    }\n",
       "</style>\n",
       "<table border=\"1\" class=\"dataframe\">\n",
       "  <thead>\n",
       "    <tr style=\"text-align: right;\">\n",
       "      <th></th>\n",
       "      <th>batsman</th>\n",
       "      <th>avg</th>\n",
       "      <th>strike_rate</th>\n",
       "      <th>no_of_six</th>\n",
       "    </tr>\n",
       "  </thead>\n",
       "  <tbody>\n",
       "    <tr>\n",
       "      <th>0</th>\n",
       "      <td>AB de Villiers</td>\n",
       "      <td>38.307692</td>\n",
       "      <td>145.129059</td>\n",
       "      <td>158</td>\n",
       "    </tr>\n",
       "    <tr>\n",
       "      <th>1</th>\n",
       "      <td>AC Gilchrist</td>\n",
       "      <td>27.223684</td>\n",
       "      <td>133.054662</td>\n",
       "      <td>92</td>\n",
       "    </tr>\n",
       "    <tr>\n",
       "      <th>2</th>\n",
       "      <td>AJ Finch</td>\n",
       "      <td>27.186441</td>\n",
       "      <td>126.299213</td>\n",
       "      <td>59</td>\n",
       "    </tr>\n",
       "    <tr>\n",
       "      <th>3</th>\n",
       "      <td>AM Rahane</td>\n",
       "      <td>33.593407</td>\n",
       "      <td>117.486549</td>\n",
       "      <td>60</td>\n",
       "    </tr>\n",
       "    <tr>\n",
       "      <th>4</th>\n",
       "      <td>AT Rayudu</td>\n",
       "      <td>27.146067</td>\n",
       "      <td>123.014257</td>\n",
       "      <td>79</td>\n",
       "    </tr>\n",
       "    <tr>\n",
       "      <th>5</th>\n",
       "      <td>BB McCullum</td>\n",
       "      <td>28.112245</td>\n",
       "      <td>126.318203</td>\n",
       "      <td>124</td>\n",
       "    </tr>\n",
       "    <tr>\n",
       "      <th>6</th>\n",
       "      <td>BJ Hodge</td>\n",
       "      <td>33.333333</td>\n",
       "      <td>121.422376</td>\n",
       "      <td>43</td>\n",
       "    </tr>\n",
       "    <tr>\n",
       "      <th>7</th>\n",
       "      <td>CH Gayle</td>\n",
       "      <td>41.022472</td>\n",
       "      <td>144.194313</td>\n",
       "      <td>266</td>\n",
       "    </tr>\n",
       "    <tr>\n",
       "      <th>8</th>\n",
       "      <td>DA Miller</td>\n",
       "      <td>34.733333</td>\n",
       "      <td>137.709251</td>\n",
       "      <td>78</td>\n",
       "    </tr>\n",
       "    <tr>\n",
       "      <th>9</th>\n",
       "      <td>DA Warner</td>\n",
       "      <td>40.140000</td>\n",
       "      <td>138.318401</td>\n",
       "      <td>160</td>\n",
       "    </tr>\n",
       "    <tr>\n",
       "      <th>10</th>\n",
       "      <td>DJ Bravo</td>\n",
       "      <td>22.945455</td>\n",
       "      <td>122.286822</td>\n",
       "      <td>48</td>\n",
       "    </tr>\n",
       "    <tr>\n",
       "      <th>11</th>\n",
       "      <td>DJ Hussey</td>\n",
       "      <td>26.979592</td>\n",
       "      <td>120.072661</td>\n",
       "      <td>60</td>\n",
       "    </tr>\n",
       "    <tr>\n",
       "      <th>12</th>\n",
       "      <td>DPMD Jayawardene</td>\n",
       "      <td>28.250000</td>\n",
       "      <td>118.791064</td>\n",
       "      <td>40</td>\n",
       "    </tr>\n",
       "    <tr>\n",
       "      <th>13</th>\n",
       "      <td>DR Smith</td>\n",
       "      <td>28.392857</td>\n",
       "      <td>132.279534</td>\n",
       "      <td>117</td>\n",
       "    </tr>\n",
       "    <tr>\n",
       "      <th>14</th>\n",
       "      <td>F du Plessis</td>\n",
       "      <td>30.116279</td>\n",
       "      <td>124.161074</td>\n",
       "      <td>38</td>\n",
       "    </tr>\n",
       "    <tr>\n",
       "      <th>15</th>\n",
       "      <td>G Gambhir</td>\n",
       "      <td>31.541985</td>\n",
       "      <td>120.361200</td>\n",
       "      <td>58</td>\n",
       "    </tr>\n",
       "    <tr>\n",
       "      <th>16</th>\n",
       "      <td>GJ Maxwell</td>\n",
       "      <td>25.081633</td>\n",
       "      <td>157.564103</td>\n",
       "      <td>82</td>\n",
       "    </tr>\n",
       "    <tr>\n",
       "      <th>17</th>\n",
       "      <td>JH Kallis</td>\n",
       "      <td>28.552941</td>\n",
       "      <td>105.936272</td>\n",
       "      <td>44</td>\n",
       "    </tr>\n",
       "    <tr>\n",
       "      <th>18</th>\n",
       "      <td>JP Duminy</td>\n",
       "      <td>39.860000</td>\n",
       "      <td>121.970624</td>\n",
       "      <td>78</td>\n",
       "    </tr>\n",
       "    <tr>\n",
       "      <th>19</th>\n",
       "      <td>KA Pollard</td>\n",
       "      <td>28.707317</td>\n",
       "      <td>140.621266</td>\n",
       "      <td>148</td>\n",
       "    </tr>\n",
       "    <tr>\n",
       "      <th>20</th>\n",
       "      <td>KC Sangakkara</td>\n",
       "      <td>25.953846</td>\n",
       "      <td>118.469101</td>\n",
       "      <td>27</td>\n",
       "    </tr>\n",
       "    <tr>\n",
       "      <th>21</th>\n",
       "      <td>KD Karthik</td>\n",
       "      <td>24.811966</td>\n",
       "      <td>123.008475</td>\n",
       "      <td>71</td>\n",
       "    </tr>\n",
       "    <tr>\n",
       "      <th>22</th>\n",
       "      <td>KK Nair</td>\n",
       "      <td>25.173913</td>\n",
       "      <td>124.650161</td>\n",
       "      <td>26</td>\n",
       "    </tr>\n",
       "    <tr>\n",
       "      <th>23</th>\n",
       "      <td>M Vijay</td>\n",
       "      <td>26.431579</td>\n",
       "      <td>120.028681</td>\n",
       "      <td>89</td>\n",
       "    </tr>\n",
       "    <tr>\n",
       "      <th>24</th>\n",
       "      <td>MEK Hussey</td>\n",
       "      <td>38.764706</td>\n",
       "      <td>119.963592</td>\n",
       "      <td>52</td>\n",
       "    </tr>\n",
       "    <tr>\n",
       "      <th>25</th>\n",
       "      <td>MK Pandey</td>\n",
       "      <td>28.500000</td>\n",
       "      <td>116.938453</td>\n",
       "      <td>65</td>\n",
       "    </tr>\n",
       "    <tr>\n",
       "      <th>26</th>\n",
       "      <td>MK Tiwary</td>\n",
       "      <td>29.428571</td>\n",
       "      <td>114.127424</td>\n",
       "      <td>39</td>\n",
       "    </tr>\n",
       "    <tr>\n",
       "      <th>27</th>\n",
       "      <td>MS Dhoni</td>\n",
       "      <td>37.872340</td>\n",
       "      <td>132.835821</td>\n",
       "      <td>156</td>\n",
       "    </tr>\n",
       "    <tr>\n",
       "      <th>28</th>\n",
       "      <td>NV Ojha</td>\n",
       "      <td>20.986486</td>\n",
       "      <td>114.528024</td>\n",
       "      <td>79</td>\n",
       "    </tr>\n",
       "    <tr>\n",
       "      <th>29</th>\n",
       "      <td>PA Patel</td>\n",
       "      <td>21.700935</td>\n",
       "      <td>112.718447</td>\n",
       "      <td>35</td>\n",
       "    </tr>\n",
       "    <tr>\n",
       "      <th>30</th>\n",
       "      <td>R Dravid</td>\n",
       "      <td>28.233766</td>\n",
       "      <td>113.347237</td>\n",
       "      <td>28</td>\n",
       "    </tr>\n",
       "    <tr>\n",
       "      <th>31</th>\n",
       "      <td>RA Jadeja</td>\n",
       "      <td>24.055556</td>\n",
       "      <td>118.792867</td>\n",
       "      <td>57</td>\n",
       "    </tr>\n",
       "    <tr>\n",
       "      <th>32</th>\n",
       "      <td>RG Sharma</td>\n",
       "      <td>32.612403</td>\n",
       "      <td>128.497251</td>\n",
       "      <td>173</td>\n",
       "    </tr>\n",
       "    <tr>\n",
       "      <th>33</th>\n",
       "      <td>RV Uthappa</td>\n",
       "      <td>29.515625</td>\n",
       "      <td>127.635135</td>\n",
       "      <td>125</td>\n",
       "    </tr>\n",
       "    <tr>\n",
       "      <th>34</th>\n",
       "      <td>S Badrinath</td>\n",
       "      <td>30.659574</td>\n",
       "      <td>115.742972</td>\n",
       "      <td>28</td>\n",
       "    </tr>\n",
       "    <tr>\n",
       "      <th>35</th>\n",
       "      <td>S Dhawan</td>\n",
       "      <td>32.669725</td>\n",
       "      <td>118.502496</td>\n",
       "      <td>71</td>\n",
       "    </tr>\n",
       "    <tr>\n",
       "      <th>36</th>\n",
       "      <td>SC Ganguly</td>\n",
       "      <td>25.452830</td>\n",
       "      <td>101.734540</td>\n",
       "      <td>42</td>\n",
       "    </tr>\n",
       "    <tr>\n",
       "      <th>37</th>\n",
       "      <td>SE Marsh</td>\n",
       "      <td>39.507937</td>\n",
       "      <td>130.109775</td>\n",
       "      <td>78</td>\n",
       "    </tr>\n",
       "    <tr>\n",
       "      <th>38</th>\n",
       "      <td>SK Raina</td>\n",
       "      <td>33.940299</td>\n",
       "      <td>134.995548</td>\n",
       "      <td>174</td>\n",
       "    </tr>\n",
       "    <tr>\n",
       "      <th>39</th>\n",
       "      <td>SPD Smith</td>\n",
       "      <td>37.239130</td>\n",
       "      <td>128.507127</td>\n",
       "      <td>45</td>\n",
       "    </tr>\n",
       "    <tr>\n",
       "      <th>40</th>\n",
       "      <td>SR Tendulkar</td>\n",
       "      <td>33.826087</td>\n",
       "      <td>114.187867</td>\n",
       "      <td>29</td>\n",
       "    </tr>\n",
       "    <tr>\n",
       "      <th>41</th>\n",
       "      <td>SR Watson</td>\n",
       "      <td>30.917647</td>\n",
       "      <td>134.838379</td>\n",
       "      <td>122</td>\n",
       "    </tr>\n",
       "    <tr>\n",
       "      <th>42</th>\n",
       "      <td>SS Tiwary</td>\n",
       "      <td>28.355556</td>\n",
       "      <td>114.851485</td>\n",
       "      <td>45</td>\n",
       "    </tr>\n",
       "    <tr>\n",
       "      <th>43</th>\n",
       "      <td>SV Samson</td>\n",
       "      <td>25.464286</td>\n",
       "      <td>122.403433</td>\n",
       "      <td>57</td>\n",
       "    </tr>\n",
       "    <tr>\n",
       "      <th>44</th>\n",
       "      <td>TM Dilshan</td>\n",
       "      <td>26.813953</td>\n",
       "      <td>110.124164</td>\n",
       "      <td>24</td>\n",
       "    </tr>\n",
       "    <tr>\n",
       "      <th>45</th>\n",
       "      <td>V Kohli</td>\n",
       "      <td>37.483051</td>\n",
       "      <td>126.588437</td>\n",
       "      <td>160</td>\n",
       "    </tr>\n",
       "    <tr>\n",
       "      <th>46</th>\n",
       "      <td>V Sehwag</td>\n",
       "      <td>27.555556</td>\n",
       "      <td>148.827059</td>\n",
       "      <td>106</td>\n",
       "    </tr>\n",
       "    <tr>\n",
       "      <th>47</th>\n",
       "      <td>WP Saha</td>\n",
       "      <td>25.524590</td>\n",
       "      <td>127.727646</td>\n",
       "      <td>57</td>\n",
       "    </tr>\n",
       "    <tr>\n",
       "      <th>48</th>\n",
       "      <td>YK Pathan</td>\n",
       "      <td>29.816327</td>\n",
       "      <td>140.751445</td>\n",
       "      <td>149</td>\n",
       "    </tr>\n",
       "    <tr>\n",
       "      <th>49</th>\n",
       "      <td>Yuvraj Singh</td>\n",
       "      <td>25.653465</td>\n",
       "      <td>126.390244</td>\n",
       "      <td>141</td>\n",
       "    </tr>\n",
       "  </tbody>\n",
       "</table>\n",
       "</div>"
      ],
      "text/plain": [
       "             batsman        avg  strike_rate  no_of_six\n",
       "0     AB de Villiers  38.307692   145.129059        158\n",
       "1       AC Gilchrist  27.223684   133.054662         92\n",
       "2           AJ Finch  27.186441   126.299213         59\n",
       "3          AM Rahane  33.593407   117.486549         60\n",
       "4          AT Rayudu  27.146067   123.014257         79\n",
       "5        BB McCullum  28.112245   126.318203        124\n",
       "6           BJ Hodge  33.333333   121.422376         43\n",
       "7           CH Gayle  41.022472   144.194313        266\n",
       "8          DA Miller  34.733333   137.709251         78\n",
       "9          DA Warner  40.140000   138.318401        160\n",
       "10          DJ Bravo  22.945455   122.286822         48\n",
       "11         DJ Hussey  26.979592   120.072661         60\n",
       "12  DPMD Jayawardene  28.250000   118.791064         40\n",
       "13          DR Smith  28.392857   132.279534        117\n",
       "14      F du Plessis  30.116279   124.161074         38\n",
       "15         G Gambhir  31.541985   120.361200         58\n",
       "16        GJ Maxwell  25.081633   157.564103         82\n",
       "17         JH Kallis  28.552941   105.936272         44\n",
       "18         JP Duminy  39.860000   121.970624         78\n",
       "19        KA Pollard  28.707317   140.621266        148\n",
       "20     KC Sangakkara  25.953846   118.469101         27\n",
       "21        KD Karthik  24.811966   123.008475         71\n",
       "22           KK Nair  25.173913   124.650161         26\n",
       "23           M Vijay  26.431579   120.028681         89\n",
       "24        MEK Hussey  38.764706   119.963592         52\n",
       "25         MK Pandey  28.500000   116.938453         65\n",
       "26         MK Tiwary  29.428571   114.127424         39\n",
       "27          MS Dhoni  37.872340   132.835821        156\n",
       "28           NV Ojha  20.986486   114.528024         79\n",
       "29          PA Patel  21.700935   112.718447         35\n",
       "30          R Dravid  28.233766   113.347237         28\n",
       "31         RA Jadeja  24.055556   118.792867         57\n",
       "32         RG Sharma  32.612403   128.497251        173\n",
       "33        RV Uthappa  29.515625   127.635135        125\n",
       "34       S Badrinath  30.659574   115.742972         28\n",
       "35          S Dhawan  32.669725   118.502496         71\n",
       "36        SC Ganguly  25.452830   101.734540         42\n",
       "37          SE Marsh  39.507937   130.109775         78\n",
       "38          SK Raina  33.940299   134.995548        174\n",
       "39         SPD Smith  37.239130   128.507127         45\n",
       "40      SR Tendulkar  33.826087   114.187867         29\n",
       "41         SR Watson  30.917647   134.838379        122\n",
       "42         SS Tiwary  28.355556   114.851485         45\n",
       "43         SV Samson  25.464286   122.403433         57\n",
       "44        TM Dilshan  26.813953   110.124164         24\n",
       "45           V Kohli  37.483051   126.588437        160\n",
       "46          V Sehwag  27.555556   148.827059        106\n",
       "47           WP Saha  25.524590   127.727646         57\n",
       "48         YK Pathan  29.816327   140.751445        149\n",
       "49      Yuvraj Singh  25.653465   126.390244        141"
      ]
     },
     "execution_count": 114,
     "metadata": {},
     "output_type": "execute_result"
    }
   ],
   "source": [
    "new_ipl = new_ipl[new_ipl['batsman_runs'] == 6]\n",
    "six = new_ipl.groupby(['batsman'])['batsman_runs'].count().reset_index().rename(columns={'batsman_runs': \"no_of_six\"})\n",
    "\n",
    "x = pd.merge(avg, six, on = 'batsman').rename(columns={'batsman_runs':\"strike_rate\"})\n",
    "x"
   ]
  },
  {
   "cell_type": "code",
   "execution_count": 113,
   "id": "8af579d3",
   "metadata": {},
   "outputs": [
    {
     "data": {
      "text/plain": [
       "'IPL.html'"
      ]
     },
     "execution_count": 113,
     "metadata": {},
     "output_type": "execute_result"
    }
   ],
   "source": [
    "trace = go.Scatter(x = x['avg'], y = x['strike_rate'], mode = 'markers', marker = {\"size\":x['no_of_six']},\n",
    "                  text = x['batsman'])\n",
    "data = [trace]\n",
    "layout = go.Layout(title=\"Bubble Chart\",\n",
    "                  xaxis = {\"title\":\"Average\"},\n",
    "                  yaxis = {\"title\":\"Strike Rate\"})\n",
    "\n",
    "fig = go.Figure(data = data, layout=layout)\n",
    "pyo.plot(fig, filename = \"IPL.html\")"
   ]
  },
  {
   "cell_type": "markdown",
   "id": "2e6eefd6",
   "metadata": {},
   "source": [
    "---"
   ]
  },
  {
   "cell_type": "markdown",
   "id": "135d8cb4",
   "metadata": {},
   "source": [
    "#### 8. Box plot"
   ]
  },
  {
   "cell_type": "code",
   "execution_count": 115,
   "id": "ca0ee693",
   "metadata": {},
   "outputs": [],
   "source": [
    "match_agg = delivery.groupby(['match_id'])['total_runs'].sum().reset_index()\n",
    "season_wise = pd.merge(match_agg, match, left_on = 'match_id', right_on = 'id')[['match_id', 'total_runs', 'season']]"
   ]
  },
  {
   "cell_type": "code",
   "execution_count": 123,
   "id": "76db011b",
   "metadata": {},
   "outputs": [
    {
     "data": {
      "text/plain": [
       "'IPL.html'"
      ]
     },
     "execution_count": 123,
     "metadata": {},
     "output_type": "execute_result"
    }
   ],
   "source": [
    "trace = go.Box(x = season_wise['total_runs'], name = 'All Seasons', marker = {'color':'#00a65a'})\n",
    "data = [trace]\n",
    "layout = go.Layout(title = 'Total Score Analysis',\n",
    "                  xaxis = {\"title\":\"Total Score\"})\n",
    "\n",
    "fig = go.Figure(data = data, layout=layout)\n",
    "pyo.plot(fig, filename = \"IPL.html\")"
   ]
  },
  {
   "cell_type": "code",
   "execution_count": 131,
   "id": "5c6068ee",
   "metadata": {},
   "outputs": [
    {
     "data": {
      "text/plain": [
       "'IPL.html'"
      ]
     },
     "execution_count": 131,
     "metadata": {},
     "output_type": "execute_result"
    }
   ],
   "source": [
    "trace1 = go.Box(x = season_wise[season_wise['season'] == 2008]['total_runs'], name = '2008', marker = {'color':'#00a65a'})\n",
    "trace2 = go.Box(x = season_wise[season_wise['season'] == 2017]['total_runs'], name = '2017', marker = {'color':'red'})\n",
    "data = [trace1, trace2]\n",
    "layout = go.Layout(title = 'Total Score Analysis',\n",
    "                  xaxis = {\"title\":\"Total Score\"})\n",
    "\n",
    "fig = go.Figure(data = data, layout=layout)\n",
    "pyo.plot(fig, filename = \"IPL.html\")"
   ]
  },
  {
   "cell_type": "markdown",
   "id": "222a2b7e",
   "metadata": {},
   "source": [
    "---"
   ]
  },
  {
   "cell_type": "markdown",
   "id": "4cea5142",
   "metadata": {},
   "source": [
    "#### 9. Distplots"
   ]
  },
  {
   "cell_type": "code",
   "execution_count": 132,
   "id": "2b1410b3",
   "metadata": {},
   "outputs": [],
   "source": [
    "import plotly.figure_factory as ff"
   ]
  },
  {
   "cell_type": "code",
   "execution_count": 136,
   "id": "7117ebdf",
   "metadata": {},
   "outputs": [
    {
     "data": {
      "text/plain": [
       "'temp-plot.html'"
      ]
     },
     "execution_count": 136,
     "metadata": {},
     "output_type": "execute_result"
    }
   ],
   "source": [
    "hist_data = [avg['avg'], avg['batsman_runs']]\n",
    "group_labels = ['Average', 'Strike Rate']\n",
    "fig = ff.create_distplot(hist_data, group_labels, bin_size=[5,10])\n",
    "pyo.plot(fig)"
   ]
  },
  {
   "cell_type": "markdown",
   "id": "90c53043",
   "metadata": {},
   "source": [
    "---"
   ]
  },
  {
   "cell_type": "markdown",
   "id": "0ac39f24",
   "metadata": {},
   "source": [
    "#### 10.Histogram"
   ]
  },
  {
   "cell_type": "code",
   "execution_count": 152,
   "id": "9c5af690",
   "metadata": {
    "scrolled": true
   },
   "outputs": [
    {
     "data": {
      "text/html": [
       "<div>\n",
       "<style scoped>\n",
       "    .dataframe tbody tr th:only-of-type {\n",
       "        vertical-align: middle;\n",
       "    }\n",
       "\n",
       "    .dataframe tbody tr th {\n",
       "        vertical-align: top;\n",
       "    }\n",
       "\n",
       "    .dataframe thead th {\n",
       "        text-align: right;\n",
       "    }\n",
       "</style>\n",
       "<table border=\"1\" class=\"dataframe\">\n",
       "  <thead>\n",
       "    <tr style=\"text-align: right;\">\n",
       "      <th></th>\n",
       "      <th>batsman</th>\n",
       "      <th>strike_rate</th>\n",
       "    </tr>\n",
       "  </thead>\n",
       "  <tbody>\n",
       "    <tr>\n",
       "      <th>0</th>\n",
       "      <td>A Ashish Reddy</td>\n",
       "      <td>142.857143</td>\n",
       "    </tr>\n",
       "    <tr>\n",
       "      <th>1</th>\n",
       "      <td>A Mishra</td>\n",
       "      <td>89.005236</td>\n",
       "    </tr>\n",
       "    <tr>\n",
       "      <th>2</th>\n",
       "      <td>A Symonds</td>\n",
       "      <td>124.711908</td>\n",
       "    </tr>\n",
       "    <tr>\n",
       "      <th>3</th>\n",
       "      <td>AA Jhunjhunwala</td>\n",
       "      <td>99.541284</td>\n",
       "    </tr>\n",
       "    <tr>\n",
       "      <th>4</th>\n",
       "      <td>AB Agarkar</td>\n",
       "      <td>111.875000</td>\n",
       "    </tr>\n",
       "    <tr>\n",
       "      <th>...</th>\n",
       "      <td>...</td>\n",
       "      <td>...</td>\n",
       "    </tr>\n",
       "    <tr>\n",
       "      <th>157</th>\n",
       "      <td>Y Nagar</td>\n",
       "      <td>105.166052</td>\n",
       "    </tr>\n",
       "    <tr>\n",
       "      <th>158</th>\n",
       "      <td>Y Venugopal Rao</td>\n",
       "      <td>113.872832</td>\n",
       "    </tr>\n",
       "    <tr>\n",
       "      <th>159</th>\n",
       "      <td>YK Pathan</td>\n",
       "      <td>140.751445</td>\n",
       "    </tr>\n",
       "    <tr>\n",
       "      <th>160</th>\n",
       "      <td>YV Takawale</td>\n",
       "      <td>104.918033</td>\n",
       "    </tr>\n",
       "    <tr>\n",
       "      <th>161</th>\n",
       "      <td>Yuvraj Singh</td>\n",
       "      <td>126.390244</td>\n",
       "    </tr>\n",
       "  </tbody>\n",
       "</table>\n",
       "<p>162 rows × 2 columns</p>\n",
       "</div>"
      ],
      "text/plain": [
       "             batsman  strike_rate\n",
       "0     A Ashish Reddy   142.857143\n",
       "1           A Mishra    89.005236\n",
       "2          A Symonds   124.711908\n",
       "3    AA Jhunjhunwala    99.541284\n",
       "4         AB Agarkar   111.875000\n",
       "..               ...          ...\n",
       "157          Y Nagar   105.166052\n",
       "158  Y Venugopal Rao   113.872832\n",
       "159        YK Pathan   140.751445\n",
       "160      YV Takawale   104.918033\n",
       "161     Yuvraj Singh   126.390244\n",
       "\n",
       "[162 rows x 2 columns]"
      ]
     },
     "execution_count": 152,
     "metadata": {},
     "output_type": "execute_result"
    }
   ],
   "source": [
    "x = delivery.groupby(['batsman'])['batsman_runs'].count() >150\n",
    "x = x[x].index.tolist()\n",
    "\n",
    "new = delivery[delivery['batsman'].isin(x)]\n",
    "\n",
    "runs = new.groupby(['batsman'])['batsman_runs'].sum()\n",
    "balls = new.groupby(['batsman'])['batsman_runs'].count()\n",
    "\n",
    "sr = (runs/balls)*100\n",
    "sr = sr.reset_index().rename(columns={'batsman_runs':'strike_rate'})\n",
    "sr"
   ]
  },
  {
   "cell_type": "code",
   "execution_count": 157,
   "id": "da19a3b6",
   "metadata": {},
   "outputs": [
    {
     "data": {
      "text/plain": [
       "'temp-plot.html'"
      ]
     },
     "execution_count": 157,
     "metadata": {},
     "output_type": "execute_result"
    }
   ],
   "source": [
    "trace = go.Histogram(x = sr['strike_rate'], xbins={'size':2, 'start':50, 'end':120})\n",
    "data = [trace]\n",
    "layout = go.Layout(title = \"Strike Rate Analysis\",\n",
    "                  xaxis = {\"title\":\"Strike Rates\"})\n",
    "\n",
    "fig = go.Figure(data=data, layout=layout)\n",
    "pyo.plot(fig)"
   ]
  },
  {
   "cell_type": "markdown",
   "id": "67b54533",
   "metadata": {},
   "source": [
    "---"
   ]
  },
  {
   "cell_type": "markdown",
   "id": "84d3b3b9",
   "metadata": {},
   "source": [
    "#### 11. Heatmap"
   ]
  },
  {
   "cell_type": "code",
   "execution_count": 180,
   "id": "88f0cbe5",
   "metadata": {},
   "outputs": [],
   "source": [
    "six = delivery[delivery['batsman_runs'] == 6]\n",
    "six = six.groupby(['batting_team', 'over'])['batsman_runs'].count().reset_index()\n",
    "\n",
    "dot = delivery[delivery['batsman_runs'] == 0]\n",
    "dot = dot.groupby(['batting_team', 'over'])['batsman_runs'].count().reset_index()"
   ]
  },
  {
   "cell_type": "code",
   "execution_count": 165,
   "id": "51654c4a",
   "metadata": {},
   "outputs": [
    {
     "data": {
      "text/plain": [
       "'temp-plot.html'"
      ]
     },
     "execution_count": 165,
     "metadata": {},
     "output_type": "execute_result"
    }
   ],
   "source": [
    "trace = go.Heatmap(x=six['batting_team'], y=six['over'], z=six['batsman_runs'])\n",
    "data = [trace]\n",
    "layout = go.Layout(title = 'Six Heatmap')\n",
    "fig = go.Figure(data = data, layout=layout)\n",
    "pyo.plot(fig)"
   ]
  },
  {
   "cell_type": "code",
   "execution_count": 181,
   "id": "ae3d01c1",
   "metadata": {},
   "outputs": [
    {
     "data": {
      "text/plain": [
       "'temp-plot.html'"
      ]
     },
     "execution_count": 181,
     "metadata": {},
     "output_type": "execute_result"
    }
   ],
   "source": [
    "from plotly import tools\n",
    "\n",
    "trace1 = go.Heatmap(x=six['batting_team'], y=six['over'], z=six['batsman_runs'].values.tolist())\n",
    "trace2 = go.Heatmap(x=dot['batting_team'], y=dot['over'], z=dot['batsman_runs'].values.tolist())\n",
    "\n",
    "fig = tools.make_subplots(rows = 1, cols = 2, subplot_titles=[\"6's\", \"0's\"], shared_yaxes=True)\n",
    "fig.append_trace(trace1, 1, 1)\n",
    "fig.append_trace(trace2, 1, 2)\n",
    "\n",
    "pyo.plot(fig)"
   ]
  }
 ],
 "metadata": {
  "kernelspec": {
   "display_name": "Python 3 (ipykernel)",
   "language": "python",
   "name": "python3"
  },
  "language_info": {
   "codemirror_mode": {
    "name": "ipython",
    "version": 3
   },
   "file_extension": ".py",
   "mimetype": "text/x-python",
   "name": "python",
   "nbconvert_exporter": "python",
   "pygments_lexer": "ipython3",
   "version": "3.9.17"
  }
 },
 "nbformat": 4,
 "nbformat_minor": 5
}
