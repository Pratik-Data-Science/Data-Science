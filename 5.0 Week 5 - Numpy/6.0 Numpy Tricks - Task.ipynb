{
 "cells": [
  {
   "cell_type": "markdown",
   "metadata": {},
   "source": [
    "### Numpy Tricks - TASK"
   ]
  },
  {
   "cell_type": "markdown",
   "metadata": {},
   "source": [
    "---"
   ]
  },
  {
   "cell_type": "code",
   "execution_count": 1,
   "metadata": {},
   "outputs": [],
   "source": [
    "import numpy as np"
   ]
  },
  {
   "cell_type": "markdown",
   "metadata": {
    "id": "J88qfqQEk_sT"
   },
   "source": [
    "##### `Q-1:` Create a random 3x4 matrix with value between 0-100. And perform below tasks\n",
    "\n",
    "    i. Sort this matrix. np.sort()\n",
    "    ii. Sort this matrix based on values in 2nd column.\n",
    "    iii. Sort this matrix based on max value in each row.\n",
    "    iv. Sort based on elements value.\n"
   ]
  },
  {
   "cell_type": "markdown",
   "metadata": {
    "id": "xpOwOdhqlE9R"
   },
   "source": [
    "See examples:\n",
    "```\n",
    "arr =\n",
    "    [[92 90 74]\n",
    "    [ 6 63 93]\n",
    "    [15 93 96]\n",
    "    [70 60 48]]\n",
    "```\n",
    "```\n",
    "i. np.sort\n",
    "[[74 90 92]\n",
    " [ 6 63 93]\n",
    " [15 93 96]\n",
    " [48 60 70]]\n",
    "\n",
    "ii. based on 2nd column\n",
    "[[70 60 48]\n",
    " [ 6 63 93]\n",
    " [92 90 74]\n",
    " [15 93 96]]\n",
    "\n",
    "iii. based on row max- ascending\n",
    "[[15 93 96]\n",
    " [ 6 63 93]\n",
    " [92 90 74]\n",
    " [70 60 48]]\n",
    "\n",
    "iv. based on elements value\n",
    "[[ 6 15 48]\n",
    " [60 63 70]\n",
    " [74 90 92]\n",
    " [93 93 96]]\n",
    "\n",
    "```"
   ]
  },
  {
   "cell_type": "code",
   "execution_count": 26,
   "metadata": {
    "id": "Auy-guUwlALv"
   },
   "outputs": [
    {
     "name": "stdout",
     "output_type": "stream",
     "text": [
      "[[74 90 92]\n",
      " [ 6 63 93]\n",
      " [15 93 96]\n",
      " [48 60 70]]\n",
      "\n",
      "[[92 90 74]\n",
      " [ 6 63 93]\n",
      " [15 93 96]\n",
      " [70 60 48]]\n",
      "\n",
      "[[ 6 60 48]\n",
      " [15 63 74]\n",
      " [70 90 93]\n",
      " [92 93 96]]\n",
      "\n",
      "[[ 6 15 48]\n",
      " [60 63 70]\n",
      " [74 90 92]\n",
      " [93 93 96]]\n"
     ]
    }
   ],
   "source": [
    "# code here\n",
    "arr = np.array(\n",
    "    [[92, 90, 74],\n",
    "    [ 6, 63, 93],\n",
    "    [15, 93, 96],\n",
    "    [70, 60, 48]])\n",
    "\n",
    "# Ques 1\n",
    "print(np.sort(arr))\n",
    "print()\n",
    "\n",
    "# Ques 2\n",
    "arr[:,1:2] = np.sort(arr[:,1:2])\n",
    "print(arr)\n",
    "print()\n",
    "\n",
    "# Ques 3\n",
    "print(np.sort(arr, axis=0))\n",
    "print()\n",
    "\n",
    "# Ques 4\n",
    "print(np.sort(arr.flatten()).reshape(arr.shape))"
   ]
  },
  {
   "cell_type": "markdown",
   "metadata": {},
   "source": [
    "---"
   ]
  },
  {
   "cell_type": "markdown",
   "metadata": {
    "id": "Jx_I3gx9lBay"
   },
   "source": [
    "##### `Q-2:` There is an array of marks of 5 students in 4 subjects. Further you are asked to perform below task.\n",
    "    i. Add marks every student of an extra subject in the same array.\n",
    "    ii. Add two new students marks in respective 5 subjects.(one subject added in above task)\n",
    "    iii. Add extra column with sum of all subjects(5-subjects) marks\n",
    "    iv. Sort the array(non-ascending order) on total marks column--one added in above task. Show top 2 rows.\n",
    "\n",
    "Note: Change dimension of arrays during concatenation or appending if required."
   ]
  },
  {
   "cell_type": "markdown",
   "metadata": {
    "id": "lXF-CE6ylNIw"
   },
   "source": [
    "Given Array-\n",
    "```\n",
    "marks = [[13, 10,  9, 33],\n",
    "       [63, 46, 90, 42],\n",
    "       [39, 76, 13, 29],\n",
    "       [82,  9, 29, 78],\n",
    "       [67, 61, 59, 36]]\n",
    "\n",
    "extra_subject = [41, 87, 72, 36, 92]\n",
    "#Two extra students record-\n",
    "rec1 = [77, 83, 98, 95, 89]\n",
    "rec2 = [92, 71, 52, 61, 53]\n",
    "```"
   ]
  },
  {
   "cell_type": "code",
   "execution_count": 86,
   "metadata": {
    "id": "7YKsWO2olMkq"
   },
   "outputs": [
    {
     "name": "stdout",
     "output_type": "stream",
     "text": [
      "[[13 10  9 33 41]\n",
      " [63 46 90 42 87]\n",
      " [39 76 13 29 72]\n",
      " [82  9 29 78 36]\n",
      " [67 61 59 36 92]]\n",
      "\n",
      "[[13 10  9 33 41 77 92]\n",
      " [63 46 90 42 87 83 71]\n",
      " [39 76 13 29 72 98 52]\n",
      " [82  9 29 78 36 95 61]\n",
      " [67 61 59 36 92 89 53]]\n",
      "\n",
      "[[ 13  10   9  33  41  77  92 275]\n",
      " [ 63  46  90  42  87  83  71 482]\n",
      " [ 39  76  13  29  72  98  52 379]\n",
      " [ 82   9  29  78  36  95  61 390]\n",
      " [ 67  61  59  36  92  89  53 457]]\n",
      "\n",
      "[[13 10  9 33 41]\n",
      " [63 46 90 42 87]\n",
      " [39 76 13 29 72]\n",
      " [82  9 29 78 36]\n",
      " [67 61 59 36 92]]\n",
      "[[13 10  9 33 41]\n",
      " [63 46 90 42 87]\n",
      " [39 76 13 29 72]\n",
      " [82  9 29 78 36]\n",
      " [67 61 59 36 92]\n",
      " [77 83 98 95 89]\n",
      " [92 71 52 61 53]]\n",
      "[[ 13  10   9  33  41 106]\n",
      " [ 63  46  90  42  87 328]\n",
      " [ 39  76  13  29  72 229]\n",
      " [ 82   9  29  78  36 234]\n",
      " [ 67  61  59  36  92 315]\n",
      " [ 77  83  98  95  89 442]\n",
      " [ 92  71  52  61  53 329]]\n",
      "[[ 77  83  98  95  89 442]\n",
      " [ 92  71  52  61  53 329]\n",
      " [ 63  46  90  42  87 328]\n",
      " [ 67  61  59  36  92 315]\n",
      " [ 82   9  29  78  36 234]\n",
      " [ 39  76  13  29  72 229]\n",
      " [ 13  10   9  33  41 106]]\n"
     ]
    }
   ],
   "source": [
    "# code here\n",
    "marks = np.array([[13, 10,  9, 33],\n",
    "       [63, 46, 90, 42],\n",
    "       [39, 76, 13, 29],\n",
    "       [82,  9, 29, 78],\n",
    "       [67, 61, 59, 36]])\n",
    "\n",
    "extra_subject = np.array([41, 87, 72, 36, 92])\n",
    "\n",
    "#Two extra students record-\n",
    "rec1 = np.array([77, 83, 98, 95, 89])\n",
    "rec2 = np.array([92, 71, 52, 61, 53])\n",
    "\n",
    "# Ques 1\n",
    "marks = np.append(marks, extra_subject.reshape(-1,1), axis=1)\n",
    "print(marks)\n",
    "print()\n",
    "\n",
    "# Ques 2\n",
    "marks = np.append(marks, rec1.reshape(-1,1), axis=1)\n",
    "marks = np.append(marks, rec2.reshape(-1,1), axis=1)\n",
    "print(marks)\n",
    "print()\n",
    "\n",
    "# Ques 3\n",
    "marks = np.append(marks, np.sum(marks, axis=1).reshape(-1,1), axis=1)\n",
    "print(marks)\n",
    "print()\n",
    "\n",
    "# OR\n",
    "\n",
    "# code here\n",
    "marks = np.array([[13, 10,  9, 33],\n",
    "       [63, 46, 90, 42],\n",
    "       [39, 76, 13, 29],\n",
    "       [82,  9, 29, 78],\n",
    "       [67, 61, 59, 36]])\n",
    "extra_subject = np.array([41, 87, 72, 36, 92]).reshape(-1, 1)\n",
    "marks = np.concatenate([marks, extra_subject], axis = 1)\n",
    "print(marks)\n",
    "\n",
    "#2\n",
    "rec1 = np.array([77, 83, 98, 95, 89]).reshape(1, -1)\n",
    "rec2 = np.array( [92, 71, 52, 61, 53]).reshape(1, -1)\n",
    "marks = np.concatenate([marks, rec1, rec2], axis = 0)\n",
    "print(marks)\n",
    "\n",
    "#3\n",
    "sum_of_stud = marks.sum(axis = 1, keepdims=True)\n",
    "marks = np.concatenate([marks, sum_of_stud], axis = 1)\n",
    "print(marks)\n",
    "\n",
    "#4\n",
    "print(np.array(sorted(marks, key = lambda x: x[-1], reverse=True)))"
   ]
  },
  {
   "cell_type": "markdown",
   "metadata": {},
   "source": [
    "---"
   ]
  },
  {
   "cell_type": "markdown",
   "metadata": {
    "id": "VmOyK_8klRqR"
   },
   "source": [
    "##### `Q-3:` Find unique arrays from a 2D array column wise and row wise.\n",
    "```\n",
    "arr = np.array([[1,2,3,3,1,1],\n",
    "                [0,9,1,2,8,8],\n",
    "                [1,2,3,8,8,8],\n",
    "                [1,2,3,3,1,1]])\n",
    "```\n",
    "Expected Result-\n",
    "```\n",
    "Row Wise\n",
    "[[0 9 1 2 8 8]\n",
    " [1 2 3 3 1 1]\n",
    " [1 2 3 8 8 8]]\n",
    "\n",
    "Col Wise\n",
    "[[1 1 2 3 3]\n",
    " [0 8 9 1 2]\n",
    " [1 8 2 3 8]\n",
    " [1 1 2 3 3]]\n",
    "```"
   ]
  },
  {
   "cell_type": "code",
   "execution_count": 69,
   "metadata": {
    "id": "LJl10VQrlU5q"
   },
   "outputs": [
    {
     "name": "stdout",
     "output_type": "stream",
     "text": [
      "[[0 9 1 2 8 8]\n",
      " [1 2 3 3 1 1]\n",
      " [1 2 3 8 8 8]]\n",
      "\n",
      "[[1 1 2 3 3]\n",
      " [0 8 9 1 2]\n",
      " [1 8 2 3 8]\n",
      " [1 1 2 3 3]]\n"
     ]
    }
   ],
   "source": [
    "# code here\n",
    "arr = np.array([[1,2,3,3,1,1],\n",
    "                [0,9,1,2,8,8],\n",
    "                [1,2,3,8,8,8],\n",
    "                [1,2,3,3,1,1]])\n",
    "\n",
    "# Row wise\n",
    "print(np.unique(arr, axis=0))\n",
    "print()\n",
    "\n",
    "# Column wise\n",
    "print(np.unique(arr, axis=1))"
   ]
  },
  {
   "cell_type": "markdown",
   "metadata": {},
   "source": [
    "---"
   ]
  },
  {
   "cell_type": "markdown",
   "metadata": {
    "id": "RaXwVkywlWY2"
   },
   "source": [
    "##### `Q-4:` Flip given 2-D array along both axes at the same time."
   ]
  },
  {
   "cell_type": "code",
   "execution_count": 87,
   "metadata": {
    "id": "mN7-4G8Kleeq"
   },
   "outputs": [
    {
     "name": "stdout",
     "output_type": "stream",
     "text": [
      "[[9 8 7]\n",
      " [6 5 4]\n",
      " [3 2 1]]\n"
     ]
    },
    {
     "data": {
      "text/plain": [
       "array([[9, 8, 7],\n",
       "       [6, 5, 4],\n",
       "       [3, 2, 1]])"
      ]
     },
     "execution_count": 87,
     "metadata": {},
     "output_type": "execute_result"
    }
   ],
   "source": [
    "# code here\n",
    "arr = np.array([[1, 2, 3],\n",
    "                [4, 5, 6],\n",
    "                [7, 8, 9]])\n",
    "\n",
    "flipped_array = np.rot90(arr, 2)\n",
    "\n",
    "print(flipped_array)\n",
    "\n",
    "# OR\n",
    "\n",
    "np.flip(arr, axis = [0, 1])"
   ]
  },
  {
   "cell_type": "markdown",
   "metadata": {},
   "source": [
    "---"
   ]
  },
  {
   "cell_type": "markdown",
   "metadata": {
    "id": "X0S7BUNTlfoq"
   },
   "source": [
    "##### `Q-5:` Get row numbers of NumPy array having element larger than X.\n",
    "```\n",
    "arr = [[1,2,3,4,5],\n",
    "      [10,-3,30,4,5],\n",
    "      [3,2,5,-4,5],\n",
    "      [9,7,3,6,5]]\n",
    "\n",
    "X = 6\n",
    "```"
   ]
  },
  {
   "cell_type": "markdown",
   "metadata": {},
   "source": [
    "---"
   ]
  },
  {
   "cell_type": "code",
   "execution_count": 88,
   "metadata": {
    "id": "bi8jRmWhlkBU"
   },
   "outputs": [
    {
     "data": {
      "text/plain": [
       "(array([1, 3], dtype=int64),)"
      ]
     },
     "execution_count": 88,
     "metadata": {},
     "output_type": "execute_result"
    }
   ],
   "source": [
    "# code here\n",
    "arr = np.array([[1,2,3,4,5],\n",
    "      [10,-3,30,4,5],\n",
    "      [3,2,5,-4,5],\n",
    "      [9,7,3,6,5]] )\n",
    "X = 6\n",
    "\n",
    "np.where(np.any(arr > X, axis = 1))"
   ]
  },
  {
   "cell_type": "markdown",
   "metadata": {},
   "source": [
    "---"
   ]
  },
  {
   "cell_type": "markdown",
   "metadata": {
    "id": "DSCQMo4mlnDG"
   },
   "source": [
    "##### `Q-6:` How to convert an array of arrays into a flat 1d array?\n"
   ]
  },
  {
   "cell_type": "code",
   "execution_count": 71,
   "metadata": {
    "id": "QZhSkUT2lsJW"
   },
   "outputs": [],
   "source": [
    "# These arrays are given.\n",
    "arr1 = np.arange(3)\n",
    "arr2 = np.arange(3,7)\n",
    "arr3 = np.arange(7,10)"
   ]
  },
  {
   "cell_type": "code",
   "execution_count": 89,
   "metadata": {
    "id": "f42OXNrFls0I"
   },
   "outputs": [
    {
     "data": {
      "text/plain": [
       "array([0, 1, 2, 3, 4, 5, 6, 7, 8, 9])"
      ]
     },
     "execution_count": 89,
     "metadata": {},
     "output_type": "execute_result"
    }
   ],
   "source": [
    "# code here\n",
    "np.concatenate([arr1, arr2, arr3])"
   ]
  },
  {
   "cell_type": "markdown",
   "metadata": {},
   "source": [
    "---"
   ]
  },
  {
   "cell_type": "markdown",
   "metadata": {
    "id": "A1J4oOVCluqO"
   },
   "source": [
    "##### `Q-7:` You are given a array. You have to find the minimum and maximum array element and remove that from the array.\n",
    "\n",
    "```python\n",
    "import numpy as np\n",
    "\n",
    "np.random.seed(400)\n",
    "arr = np.random.randint(100, 1000, 200).reshape((1, 200))\n",
    "```"
   ]
  },
  {
   "cell_type": "code",
   "execution_count": 93,
   "metadata": {
    "id": "c6kmgtUJlybZ"
   },
   "outputs": [
    {
     "name": "stdout",
     "output_type": "stream",
     "text": [
      "985 100\n",
      "981 102\n"
     ]
    }
   ],
   "source": [
    "# code here\n",
    "np.random.seed(400)\n",
    "arr = np.random.randint(100, 1000, 200).reshape((1, 200))\n",
    "arr = arr[(arr != arr.min()) & (arr != arr.max())]\n",
    "\n",
    "# OR\n",
    "arr = np.random.randint(100, 1000, 200).reshape((1, 200))\n",
    "max_element = arr.argmax()\n",
    "min_element = arr.argmin()\n",
    "print(arr.max(), arr.min())\n",
    "arr = np.delete(arr, max_element, axis = 1)\n",
    "arr = np.delete(arr, min_element, axis = 1)\n",
    "print(arr.max(), arr.min())"
   ]
  },
  {
   "cell_type": "markdown",
   "metadata": {},
   "source": [
    "---"
   ]
  },
  {
   "cell_type": "markdown",
   "metadata": {
    "id": "0dHN1sdnl0Jy"
   },
   "source": [
    "##### `Q-8:` You are given an arrays. You have to limit this array's elements between 100 to 200. $arr ∈ [100, 700]$. So replace those values accordingly with the minimum and maximum value. Then sort the array and perform the cumulative sum of that array."
   ]
  },
  {
   "cell_type": "code",
   "execution_count": 94,
   "metadata": {
    "id": "a3YF_E-Hlza7"
   },
   "outputs": [
    {
     "data": {
      "text/plain": [
       "array([  100,   200,   300,   400,   500,   600,   700,   800,   900,\n",
       "        1000,  1100,  1200,  1300,  1400,  1500,  1600,  1700,  1800,\n",
       "        1900,  2000,  2112,  2229,  2353,  2479,  2607,  2735,  2864,\n",
       "        3000,  3143,  3288,  3434,  3584,  3742,  3901,  4064,  4240,\n",
       "        4419,  4603,  4788,  4973,  5159,  5359,  5559,  5759,  5959,\n",
       "        6159,  6359,  6559,  6759,  6959,  7159,  7359,  7559,  7759,\n",
       "        7959,  8159,  8359,  8559,  8759,  8959,  9159,  9359,  9559,\n",
       "        9759,  9959, 10159, 10359, 10559, 10759, 10959, 11159, 11359,\n",
       "       11559, 11759, 11959, 12159, 12359, 12559, 12759, 12959, 13159,\n",
       "       13359, 13559, 13759, 13959, 14159, 14359, 14559, 14759, 14959,\n",
       "       15159, 15359, 15559, 15759, 15959, 16159, 16359, 16559, 16759,\n",
       "       16959, 17159, 17359, 17559, 17759, 17959, 18159, 18359, 18559,\n",
       "       18759, 18959, 19159, 19359, 19559, 19759, 19959, 20159, 20359,\n",
       "       20559, 20759, 20959, 21159, 21359, 21559, 21759, 21959, 22159,\n",
       "       22359, 22559, 22759, 22959, 23159, 23359, 23559, 23759, 23959,\n",
       "       24159, 24359, 24559, 24759, 24959, 25159, 25359, 25559, 25759,\n",
       "       25959, 26159, 26359, 26559, 26759, 26959, 27159, 27359, 27559,\n",
       "       27759, 27959, 28159, 28359, 28559, 28759, 28959, 29159, 29359,\n",
       "       29559, 29759, 29959, 30159, 30359, 30559, 30759, 30959, 31159,\n",
       "       31359, 31559, 31759, 31959, 32159, 32359, 32559, 32759, 32959,\n",
       "       33159, 33359, 33559, 33759, 33959, 34159, 34359, 34559, 34759,\n",
       "       34959, 35159, 35359, 35559, 35759, 35959, 36159, 36359, 36559,\n",
       "       36759, 36959, 37159, 37359, 37559, 37759, 37959, 38159, 38359,\n",
       "       38559, 38759, 38959, 39159, 39359, 39559, 39759, 39959, 40159,\n",
       "       40359, 40559, 40759, 40959, 41159, 41359, 41559, 41759, 41959,\n",
       "       42159, 42359, 42559, 42759, 42959, 43159, 43359, 43559, 43759,\n",
       "       43959, 44159, 44359, 44559, 44759, 44959, 45159, 45359, 45559,\n",
       "       45759, 45959, 46159, 46359, 46559, 46759, 46959, 47159, 47359,\n",
       "       47559, 47759, 47959, 48159, 48359, 48559, 48759, 48959, 49159,\n",
       "       49359, 49559, 49759, 49959, 50159, 50359, 50559, 50759, 50959,\n",
       "       51159, 51359, 51559, 51759, 51959, 52159, 52359, 52559, 52759,\n",
       "       52959, 53159, 53359, 53559, 53759, 53959, 54159, 54359, 54559,\n",
       "       54759, 54959, 55159, 55359, 55559, 55759, 55959, 56159, 56359,\n",
       "       56559, 56759, 56959, 57159, 57359, 57559, 57759, 57959, 58159,\n",
       "       58359, 58559, 58759, 58959, 59159, 59359, 59559, 59759, 59959,\n",
       "       60159, 60359, 60559, 60759, 60959, 61159, 61359, 61559, 61759,\n",
       "       61959, 62159, 62359, 62559, 62759, 62959, 63159, 63359, 63559,\n",
       "       63759, 63959, 64159, 64359, 64559, 64759, 64959, 65159, 65359,\n",
       "       65559, 65759, 65959, 66159, 66359, 66559, 66759, 66959, 67159,\n",
       "       67359, 67559, 67759, 67959, 68159, 68359, 68559, 68759, 68959,\n",
       "       69159, 69359, 69559, 69759, 69959, 70159, 70359, 70559, 70759,\n",
       "       70959, 71159, 71359, 71559, 71759, 71959, 72159, 72359, 72559,\n",
       "       72759, 72959, 73159, 73359, 73559, 73759, 73959, 74159, 74359,\n",
       "       74559, 74759, 74959, 75159, 75359, 75559, 75759, 75959, 76159,\n",
       "       76359, 76559, 76759, 76959, 77159, 77359, 77559, 77759, 77959,\n",
       "       78159, 78359, 78559, 78759, 78959, 79159, 79359, 79559, 79759,\n",
       "       79959, 80159, 80359, 80559, 80759, 80959, 81159, 81359, 81559,\n",
       "       81759, 81959, 82159, 82359, 82559, 82759, 82959, 83159, 83359,\n",
       "       83559, 83759, 83959, 84159, 84359, 84559, 84759, 84959, 85159,\n",
       "       85359, 85559, 85759, 85959, 86159, 86359, 86559, 86759, 86959,\n",
       "       87159, 87359, 87559, 87759, 87959, 88159, 88359, 88559, 88759,\n",
       "       88959, 89159, 89359, 89559, 89759, 89959, 90159, 90359, 90559,\n",
       "       90759, 90959, 91159, 91359, 91559, 91759, 91959, 92159, 92359,\n",
       "       92559, 92759, 92959, 93159, 93359, 93559, 93759, 93959, 94159,\n",
       "       94359, 94559, 94759, 94959, 95159, 95359, 95559, 95759, 95959,\n",
       "       96159, 96359, 96559, 96759, 96959])"
      ]
     },
     "execution_count": 94,
     "metadata": {},
     "output_type": "execute_result"
    }
   ],
   "source": [
    "# code here\n",
    "arr = np.random.randint(0, 2000, 500)\n",
    "np.cumsum(np.sort(np.clip(arr, 100, 200)))"
   ]
  },
  {
   "cell_type": "markdown",
   "metadata": {},
   "source": [
    "---"
   ]
  },
  {
   "cell_type": "markdown",
   "metadata": {
    "id": "cXj90Susl4-I"
   },
   "source": [
    "##### `Q-9:` You are given a array ($arr ∈ [0, 1]$). First you have round off the elements upto 3 decimal places and compare that\n",
    "- 0th percentile == minimum value of the array\n",
    "- 100th percentile == maximum value of the array\n",
    "- also find the difference betwen 51th percenile and 50th percentile values"
   ]
  },
  {
   "cell_type": "code",
   "execution_count": 95,
   "metadata": {
    "id": "SgBEHodgl7Lo"
   },
   "outputs": [
    {
     "name": "stdout",
     "output_type": "stream",
     "text": [
      "0th percentile == minimum value of the array:  True\n",
      "100th percentile == maximum value of the array:  True\n",
      "difference betwen 51th percenile and 50th percentile values:  0.004489999999999994\n"
     ]
    }
   ],
   "source": [
    "# code here\n",
    "arr = np.random.random(100)\n",
    "arr = np.around(arr, decimals = 3)\n",
    "\n",
    "print(\"0th percentile == minimum value of the array: \", (np.percentile(arr, 0) == arr.min()))\n",
    "print(\"100th percentile == maximum value of the array: \", (np.percentile(arr, 100) == arr.max()))\n",
    "print(\"difference betwen 51th percenile and 50th percentile values: \", (np.percentile(arr, 51) - np.percentile(arr, 50)))"
   ]
  }
 ],
 "metadata": {
  "colab": {
   "provenance": []
  },
  "kernelspec": {
   "display_name": "Python 3 (ipykernel)",
   "language": "python",
   "name": "python3"
  },
  "language_info": {
   "codemirror_mode": {
    "name": "ipython",
    "version": 3
   },
   "file_extension": ".py",
   "mimetype": "text/x-python",
   "name": "python",
   "nbconvert_exporter": "python",
   "pygments_lexer": "ipython3",
   "version": "3.9.17"
  }
 },
 "nbformat": 4,
 "nbformat_minor": 1
}
