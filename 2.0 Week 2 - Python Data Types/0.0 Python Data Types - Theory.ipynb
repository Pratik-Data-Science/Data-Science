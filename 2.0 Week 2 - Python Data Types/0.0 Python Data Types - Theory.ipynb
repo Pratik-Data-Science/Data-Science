{
 "cells": [
  {
   "cell_type": "markdown",
   "id": "54c7cea1",
   "metadata": {},
   "source": [
    "# Python Data Types - Theory"
   ]
  },
  {
   "cell_type": "markdown",
   "id": "d7a4808f",
   "metadata": {},
   "source": [
    "---"
   ]
  },
  {
   "cell_type": "markdown",
   "id": "62e66782",
   "metadata": {},
   "source": [
    "### 1. List in Python"
   ]
  },
  {
   "cell_type": "markdown",
   "id": "5b7e651b",
   "metadata": {},
   "source": [
    "---"
   ]
  },
  {
   "cell_type": "markdown",
   "id": "761f09a5",
   "metadata": {},
   "source": [
    "#### What is a list in Python?"
   ]
  },
  {
   "cell_type": "markdown",
   "id": "93c5873d",
   "metadata": {},
   "source": [
    "A list is a versatile data structure used to store a collection of items, which can be of different data types. In other words, it is a data type where you can store multiple items under one name. More technically, lists act like dynamic arrays which means you can add more items on the fly. <br>Lists are defined by enclosing the items in square brackets [] and separating them with commas. They are mutable, meaning their elements can be changed after the list is created.<br>Lists in Python can be indexed and sliced, and they support various methods for manipulation, such as adding or removing elements, sorting, and more."
   ]
  },
  {
   "cell_type": "markdown",
   "id": "6ccab614",
   "metadata": {},
   "source": [
    "---"
   ]
  },
  {
   "cell_type": "markdown",
   "id": "cab3c357",
   "metadata": {},
   "source": [
    "#### What are the benefits of using lists?"
   ]
  },
  {
   "cell_type": "markdown",
   "id": "2ae4b1b4",
   "metadata": {},
   "source": [
    "Lists are essential in programming for several reasons:<br>\n",
    "<b>Collection of Data:</b> Lists allow programmers to store and manipulate collections of data, such as a list of numbers, names, or any other type of object.<br>\n",
    "<b>Flexibility:</b> They are flexible and can contain elements of different data types, making them versatile for various programming tasks.<br>\n",
    "<b>Manipulation:</b> Lists provide methods for adding, removing, and modifying elements, enabling dynamic data manipulation.<br>\n",
    "<b>Iteration:</b> They facilitate easy iteration over a collection of items, making it convenient to perform operations on each element in the list.<br>\n",
    "<b>Data Structures:</b> Lists are a fundamental data structure used in many algorithms and programs, serving as the basis for more complex data structures.<br>\n",
    "Overall, lists are a fundamental and powerful tool in programming, providing a way to work with collections of data in a flexible and efficient manner."
   ]
  },
  {
   "cell_type": "markdown",
   "id": "5f0a6372",
   "metadata": {},
   "source": [
    "---"
   ]
  },
  {
   "cell_type": "markdown",
   "id": "62423551",
   "metadata": {},
   "source": [
    "#### What is the difference between lists and array?"
   ]
  },
  {
   "cell_type": "markdown",
   "id": "0d5c6233",
   "metadata": {},
   "source": [
    "<b>1. Data Types:</b> In Python, a list can contain elements of different data types, such as integers, strings, and booleans. On the other hand, arrays in Python (from the array module) are more restricted and can only store elements of the same data type (e.g., only integers or floating-point numbers).<br>\n",
    "<b>2. Functionality:</b> Lists in Python offer a wide range of built-in methods for manipulation, such as appending, removing, and sorting elements. Arrays, while they support some basic operations, are more limited in terms of functionality compared to lists.<br>\n",
    "<b>3. Flexibility:</b> Lists are dynamic and can grow or shrink in size as needed, while arrays have a fixed size, requiring a specific length to be defined at the time of creation.<br>\n",
    "<b>4. Underlying Implementation:</b> Internally, arrays are implemented as contiguous blocks of memory, which makes them suitable for numerical computations and more memory efficient for large datasets. Lists, on the other hand, are implemented as dynamic arrays with additional overhead for flexibility.<br>\n",
    "<b>5. Speed of execution:</b> Speed of execution of lists is slower when compared with array<br><br>\n",
    "In summary, lists are more versatile and commonly used for general-purpose programming, while arrays are often used for numerical computing and situations where performance and memory efficiency are critical."
   ]
  },
  {
   "cell_type": "markdown",
   "id": "7599607a",
   "metadata": {},
   "source": [
    "---"
   ]
  },
  {
   "cell_type": "markdown",
   "id": "f11e91e2",
   "metadata": {},
   "source": [
    "#### How are lists stored in memory?"
   ]
  },
  {
   "cell_type": "markdown",
   "id": "5b152477",
   "metadata": {},
   "source": [
    "In Python, lists are stored in memory as arrays of pointers to the list elements. Each element within the list is stored as a separate object in memory, and the list itself holds references to these objects.<br><br>\n",
    "When a list is created, memory is allocated to store the references to the list elements. As elements are added or removed from the list, the underlying array of references may need to be resized to accommodate the changes. This dynamic resizing allows lists to grow or shrink as needed.<br><br>\n",
    "It's important to note that due to the dynamic nature of lists, they may consume more memory compared to other data structures like arrays, especially when dealing with a large number of elements or when elements are of varying data types."
   ]
  },
  {
   "cell_type": "markdown",
   "id": "7867cb8f",
   "metadata": {},
   "source": [
    "---"
   ]
  },
  {
   "cell_type": "markdown",
   "id": "28fa31b8",
   "metadata": {},
   "source": [
    "#### What are the characteristics of a list?"
   ]
  },
  {
   "cell_type": "markdown",
   "id": "6309f547",
   "metadata": {},
   "source": [
    "<b>1. Ordered:</b> Lists maintain the order of elements as they are inserted.<br>\n",
    "<b>2. Mutable:</b> Elements of a list can be altered after the list is created.<br>\n",
    "<b>3. Heterogeneous:</b> Lists can contain elements of different data types.<br>\n",
    "<b>4. Dynamic:</b> Lists can grow or shrink in size as needed.<br>\n",
    "<b>5. Implemented as Array:</b> Internally, lists are implemented as dynamic arrays, allowing for efficient insertion, deletion, and access to elements.<br>\n",
    "<b>6. Supports Slicing:</b> Lists can be sliced to create new lists containing specific elements.<br>\n",
    "<b>7. Supports Nesting:</b> Lists can contain other lists as elements, allowing for nested data structures.<br>\n",
    "<b>8. Can have duplicates:</b> Lists can have duplicate values<br>\n",
    "<b>9. Can be nested:</b> Lists under a list is possible<br>\n",
    "<b>10. Can contain any kind of objects in python</b> <br><br>\n",
    "These characteristics make lists a versatile and widely used data structure in Python for storing and manipulating collections of items."
   ]
  },
  {
   "cell_type": "markdown",
   "id": "eb48bd79",
   "metadata": {},
   "source": [
    "---"
   ]
  },
  {
   "cell_type": "markdown",
   "id": "17d3f0f7",
   "metadata": {},
   "source": [
    "#### What is indexing and slicing?"
   ]
  },
  {
   "cell_type": "markdown",
   "id": "db51b468",
   "metadata": {},
   "source": [
    "<b>Indexing:</b><br>\n",
    "- Indexing refers to accessing individual elements within a list using their position.<br>\n",
    "- In Python, indexing starts at 0. So, the first element in a list has an index of 0, the second element has an index of 1, and so on.\n",
    "- To access an element at a specific index, you can use the syntax list_name[index].<br><br>\n",
    "\n",
    "<b>Slicing:</b><br>\n",
    "- Slicing allows you to create a new list that contains a subset of the elements from the original list.\n",
    "- It is done by specifying a range of indices using the syntax list_name[start_index:end_index].\n",
    "- The start_index is inclusive, and the end_index is exclusive, meaning the element at the end_index is not included in the slice.\n",
    "- You can also specify a step value using the syntax list_name[start_index:end_index:step] to include elements at regular intervals."
   ]
  },
  {
   "cell_type": "markdown",
   "id": "fdff73eb",
   "metadata": {},
   "source": [
    "---"
   ]
  },
  {
   "cell_type": "markdown",
   "id": "3502c225",
   "metadata": {},
   "source": [
    "#### What is the difference between append, extend and insert function in Lists?"
   ]
  },
  {
   "cell_type": "markdown",
   "id": "b8120d97",
   "metadata": {},
   "source": [
    "<b>append:</b><br>\n",
    "- The append method is used to add a single element to the end of a list.\n",
    "- Syntax: list_name.append(element)\n",
    "\n",
    "<b>extend:</b><br>\n",
    "- The extend method is used to add multiple elements (from an iterable, such as a list) to the end of a list.\n",
    "- Syntax: list_name.extend(iterable)\n",
    "\n",
    "<b>insert:</b><br>\n",
    "- The insert method is used to add an element at a specific index within the list.\n",
    "- Syntax: list_name.insert(index, element)\n",
    "\n",
    "In summary,\n",
    "append\n",
    "adds a single element to the end of the list,\n",
    "extend\n",
    "adds multiple elements to the end, and\n",
    "insert\n",
    "adds an element at a specified index."
   ]
  },
  {
   "cell_type": "markdown",
   "id": "01f48c9c",
   "metadata": {},
   "source": [
    "---"
   ]
  },
  {
   "cell_type": "markdown",
   "id": "902d35be",
   "metadata": {},
   "source": [
    "#### What are different ways in which an item from a list can be deleted?"
   ]
  },
  {
   "cell_type": "markdown",
   "id": "30cd2857",
   "metadata": {},
   "source": [
    "<b>1. Using the del statement:</b> You can use the del statement followed by the index of the item to delete it from the list.<br>\n",
    "<b>2. Using the remove() method:</b> If you dont know the index of the item but you know the value of the item you want to delete, you can use the remove() method to remove the first occurrence of the specified value from the list.<br>\n",
    "<b>3. Using pop():</b> The pop() method removes the item at the specified index and returns the removed item.<br>\n",
    "<b>4. Using clear():</b> The clear() method deletes all the elements of a list."
   ]
  },
  {
   "cell_type": "markdown",
   "id": "6a3bf2be",
   "metadata": {},
   "source": [
    "---"
   ]
  },
  {
   "cell_type": "markdown",
   "id": "ea2447fe",
   "metadata": {},
   "source": [
    "#### What is the difference between sort and sorted function?"
   ]
  },
  {
   "cell_type": "markdown",
   "id": "bbcb1d5c",
   "metadata": {},
   "source": [
    "<b>sort:</b> This is a method that can be applied directly to a list. It modifies the list in place, resulting in the elements being arranged in ascending order by default. The original list is changed.<br><br>\n",
    "<b>sorted:</b> This is a built-in function that returns a new sorted list from the elements of any iterable (e.g., a list, tuple, etc.) without modifying the original iterable. It does not change the original list but instead returns a new sorted list."
   ]
  },
  {
   "cell_type": "markdown",
   "id": "bd7977ef",
   "metadata": {},
   "source": [
    "---"
   ]
  },
  {
   "cell_type": "markdown",
   "id": "8b3ea5f1",
   "metadata": {},
   "source": [
    "#### What is list comprehension?"
   ]
  },
  {
   "cell_type": "markdown",
   "id": "e43d3071",
   "metadata": {},
   "source": [
    "List comprehension is a concise way to create lists in Python. It provides a compact way to generate lists by iterating over an existing sequence or iterable. The basic syntax for list comprehension is:<br>\n",
    "\\[ expression for item in iterable if condition \\]<br><br>\n",
    "This means that for each item in the iterable, the expression is evaluated, and the resulting values form the elements of the new list. The optional if condition allows filtering of items based on a certain condition.<br><br>\n",
    "List comprehensions are a powerful and efficient way to create lists and are widely used in Python for their simplicity and readability."
   ]
  },
  {
   "cell_type": "markdown",
   "id": "2cdf870a",
   "metadata": {},
   "source": [
    "---"
   ]
  },
  {
   "cell_type": "markdown",
   "id": "56e5c6d3",
   "metadata": {},
   "source": [
    "#### What are the advantages of list comprehension?"
   ]
  },
  {
   "cell_type": "markdown",
   "id": "c9dcd623",
   "metadata": {},
   "source": [
    "<b>1. Conciseness:</b> They provide a more compact and readable way to create lists compared to traditional loops, reducing the amount of code needed.<br>\n",
    "<b>2. Readability:</b> List comprehensions make the code more expressive and easier to understand, especially for simple operations on iterables.<br>\n",
    "<b>3. Performance:</b> In many cases, list comprehensions can be more efficient in terms of execution speed compared to traditional for loops.<br>\n",
    "<b>4. Single-line approach:</b> They allow the creation of lists in a single line of code, which can be beneficial for maintaining clean and organized code.<br>\n",
    "<b>5. Functional programming:</b> List comprehensions align with the principles of functional programming and allow for a more functional style of coding.<br><br>\n",
    "Overall, list comprehensions are a powerful tool in Python for creating lists with minimal code, improving readability, and potentially enhancing performance."
   ]
  },
  {
   "cell_type": "markdown",
   "id": "52f57e7f",
   "metadata": {},
   "source": [
    "---"
   ]
  },
  {
   "cell_type": "markdown",
   "id": "49cc3c4f",
   "metadata": {},
   "source": [
    "#### What is zip function in python?"
   ]
  },
  {
   "cell_type": "markdown",
   "id": "22bdf22e",
   "metadata": {},
   "source": [
    "The\n",
    "zip\n",
    "function in Python is used to combine multiple iterables (such as lists, tuples, etc.) element-wise into a single iterable. It takes iterables as input, aggregates corresponding elements, and returns an iterator of tuples where the i-th tuple contains the i-th element from each of the input iterables.<br>\n",
    "\n",
    "zip\n",
    "is commonly used in situations where data from multiple lists needs to be paired together or when iterating over multiple iterables simultaneously."
   ]
  },
  {
   "cell_type": "markdown",
   "id": "4c3ef668",
   "metadata": {},
   "source": [
    "---"
   ]
  },
  {
   "cell_type": "markdown",
   "id": "bf34e4c8",
   "metadata": {},
   "source": [
    "#### What are the disadvantages of Lists?"
   ]
  },
  {
   "cell_type": "markdown",
   "id": "f0282330",
   "metadata": {},
   "source": [
    "<b>1. Linear Time Complexity:</b> Accessing elements by index, inserting or deleting elements at the beginning or middle of a list has linear time complexity, making these operations less efficient for large lists.<br>\n",
    "<b>2. Fixed Size Overhead:</b> Lists have a fixed size overhead for each element, which can be inefficient when dealing with a large number of small elements.<br>\n",
    "<b>3. Mutability:</b> Lists are mutable, meaning their elements can be changed, which can lead to unintended side effects in complex programs if not managed carefully.<br>\n",
    "<b>4. Memory Overhead:</b> Lists may consume more memory compared to other data structures in certain scenarios due to their dynamic and flexible nature.<br>\n",
    "<b>5. Limited Performance for Specific Operations:</b> Certain operations such as membership testing (using the in operator) can be slower for lists compared to other data structures like sets and dictionaries.<br><br>\n",
    "Despite these limitations, lists remain a fundamental and powerful data structure in Python. Depending on the specific use case, other data structures such as tuples, sets, or dictionaries may be more suitable alternatives."
   ]
  },
  {
   "cell_type": "markdown",
   "id": "807b38f8",
   "metadata": {},
   "source": [
    "---"
   ]
  },
  {
   "cell_type": "markdown",
   "id": "e2127fb7",
   "metadata": {},
   "source": [
    "### 2. Tuples in Python"
   ]
  },
  {
   "cell_type": "markdown",
   "id": "13f16b55",
   "metadata": {},
   "source": [
    "---"
   ]
  },
  {
   "cell_type": "markdown",
   "id": "9b4457d5",
   "metadata": {},
   "source": [
    "#### What is tuples?"
   ]
  },
  {
   "cell_type": "markdown",
   "id": "fcd7fef3",
   "metadata": {},
   "source": [
    "Tuples in Python are similar to lists, but with one key difference: they are immutable, meaning once they are created, their elements cannot be changed. Tuples are defined using parentheses\n",
    "()\n",
    "and can contain a mix of data types, including numbers, strings, and other tuples.\n",
    "\n",
    "Tuples are commonly used to represent fixed collections of items. They are often used when the position or order of elements is significant, such as coordinates, RGB color values, or as keys in dictionaries.\n",
    "Some advantages of tuples include their immutability, which makes them suitable for representing fixed collections of data, and their slightly more efficient memory usage compared to lists."
   ]
  },
  {
   "cell_type": "markdown",
   "id": "9b15bdcc",
   "metadata": {},
   "source": [
    "---"
   ]
  },
  {
   "cell_type": "markdown",
   "id": "85f4a2b6",
   "metadata": {},
   "source": [
    "#### What are the characteristics of a tuple?"
   ]
  },
  {
   "cell_type": "markdown",
   "id": "62b32a2a",
   "metadata": {},
   "source": [
    "<b>1. Ordered:</b> Like lists, tuples are ordered collections, which means the items have a defined order, and that order will not change unless the tuple itself is modified.<br>\n",
    "<b>2. Immutable:</b> Tuples are immutable, meaning once they are created, their elements cannot be changed, added, or removed. This provides data integrity and makes tuples suitable for representing fixed collections of items.<br>\n",
    "<b>3. Heterogeneous Data Types:</b> Tuples can contain elements of different data types, including numbers, strings, lists, other tuples, and more.<br>\n",
    "<b>4. Accessed by Index:</b> Elements within a tuple can be accessed using zero-based indexing, similar to lists.<br>\n",
    "<b>5. Iterable:</b> Tuples can be iterated over using loops, making it easy to work with the elements they contain.<br>\n",
    "<b>6. Allows Duplicates:</b> Duplicate elements can be used<br><br>\n",
    "These characteristics make tuples a useful data structure for situations where you want to ensure that a collection of items remains constant throughout the program's execution."
   ]
  },
  {
   "cell_type": "markdown",
   "id": "62a6239c",
   "metadata": {},
   "source": [
    "---"
   ]
  },
  {
   "cell_type": "markdown",
   "id": "6712f4d1",
   "metadata": {},
   "source": [
    "#### what are the differences between lists and tuples?"
   ]
  },
  {
   "cell_type": "markdown",
   "id": "083ee54c",
   "metadata": {},
   "source": [
    "<b>1. Mutability:</b><br>\n",
    "- Lists are mutable, meaning the elements can be changed, added, or removed after the list is created.<br>\n",
    "- Tuples are immutable, meaning once they are created, their elements cannot be changed, added, or removed.<br>\n",
    "\n",
    "<b>2. Syntax:</b><br>\n",
    "- Lists are defined using square brackets [], while tuples are defined using parentheses ().<br>\n",
    "\n",
    "<b>3. Use Cases:</b><br>\n",
    "- Lists are typically used for collections of items where the order and the elements might change.<br>\n",
    "- Tuples are often used for fixed collections of items, such as coordinates, database records, or for returning multiple values from a function.<br>\n",
    "\n",
    "<b>4. Performance:</b><br>\n",
    "- Tuples are slightly more memory efficient than lists, which can be advantageous when working with large collections of data.<br>\n",
    "\n",
    "<b>5. Iterating:</b><br>\n",
    "- Both lists and tuples are iterable, meaning you can loop through their elements using a for loop or other iteration methods.<br>\n",
    "\n",
    "<b>6. Speed:</b><br>\n",
    "- Tuples are faster than lists.<br>\n",
    "\n",
    "<b>7. Built in functionality:</b><br>\n",
    "- Lists has more bult in function than tuples.<br>\n",
    "\n",
    "<b>8. Memory:</b><br>\n",
    "- Tuples consume lesser memory than lists.<br>\n",
    "\n",
    "<b>9. Error prone:</b><br>\n",
    "- Tuples are less prone to error than lists.<br>"
   ]
  },
  {
   "cell_type": "markdown",
   "id": "b35265be",
   "metadata": {},
   "source": [
    "---"
   ]
  },
  {
   "cell_type": "markdown",
   "id": "a0db7ad5",
   "metadata": {},
   "source": [
    "#### Why do we use tuples if we already have lists?"
   ]
  },
  {
   "cell_type": "markdown",
   "id": "4995995e",
   "metadata": {},
   "source": [
    "Tuples are used for grouping data together. Unlike lists, tuples are immutable, meaning their values cannot be changed after creation, making them useful for representing fixed collections of items like coordinates, database records, or function return values. Their immutability provides data integrity and security."
   ]
  },
  {
   "cell_type": "markdown",
   "id": "61e1f4a9",
   "metadata": {},
   "source": [
    "---"
   ]
  },
  {
   "cell_type": "markdown",
   "id": "50786be5",
   "metadata": {},
   "source": [
    "#### What is tuple unpacking?"
   ]
  },
  {
   "cell_type": "markdown",
   "id": "890f8218",
   "metadata": {},
   "source": [
    "Tuple unpacking is a convenient feature in Python that allows you to assign the elements of a tuple to individual variables in a single line of code. For example, if you have a tuple (x, y) = (5, 10), you can unpack it like this: x = 5 and y = 10. This makes working with tuples more flexible and readable."
   ]
  },
  {
   "cell_type": "markdown",
   "id": "31932af0",
   "metadata": {},
   "source": [
    "---"
   ]
  },
  {
   "cell_type": "markdown",
   "id": "62ce2d38",
   "metadata": {},
   "source": [
    "### 3. Sets in Python"
   ]
  },
  {
   "cell_type": "markdown",
   "id": "5bf1fd5b",
   "metadata": {},
   "source": [
    "---"
   ]
  },
  {
   "cell_type": "markdown",
   "id": "13000e04",
   "metadata": {},
   "source": [
    "#### What is sets?"
   ]
  },
  {
   "cell_type": "markdown",
   "id": "a33776b9",
   "metadata": {},
   "source": [
    "A set is an unordered collection of items. Every set element is unique (no duplicates) and must be immutable (cannot be changed).<br>\n",
    "However set itself is mutuable. We can add or remove items from it.<br>\n",
    "Sets can also be used to perform mathematical set operation like, union, itersection, etc"
   ]
  },
  {
   "cell_type": "markdown",
   "id": "eb5a2164",
   "metadata": {},
   "source": [
    "---"
   ]
  },
  {
   "cell_type": "markdown",
   "id": "7840f079",
   "metadata": {},
   "source": [
    "#### What are the charcteristics of sets?"
   ]
  },
  {
   "cell_type": "markdown",
   "id": "0acb98a5",
   "metadata": {},
   "source": [
    "<b>1. Unordered:</b> The elements in a set are not ordered, and they can't be indexed or sliced like lists or tuples.<br>\n",
    "<b>2. Unique elements:</b> A set cannot contain duplicate elements. When you try to add a duplicate element, it won't be added to the set.<br>\n",
    "<b>3. Mutable:</b> Sets are mutable, so you can add or remove elements after creating the set.<br>\n",
    "<b>4. Use of immutable elements:</b> The elements of a set must be immutable (e.g., numbers, strings, tuples), but the set itself is mutable.<br>\n",
    "<b>5. Set operations:</b> Sets support operations like union, intersection, difference, and more, making them useful for various data manipulation tasks."
   ]
  },
  {
   "cell_type": "markdown",
   "id": "1e9757aa",
   "metadata": {},
   "source": [
    "---"
   ]
  },
  {
   "cell_type": "markdown",
   "id": "b1c5883d",
   "metadata": {},
   "source": [
    "#### What are Frozen sets?"
   ]
  },
  {
   "cell_type": "markdown",
   "id": "d6c0d13c",
   "metadata": {},
   "source": [
    "A frozen set in Python is an immutable version of a set. Once it's created, you cannot add, remove, or modify elements. Frozen sets are created using the frozenset() function and are useful when you need a hashable set, for example, as a key in a dictionary. They support operations like union, intersection, difference, and more, just like regular sets."
   ]
  },
  {
   "cell_type": "markdown",
   "id": "8684bb1d",
   "metadata": {},
   "source": [
    "---"
   ]
  },
  {
   "cell_type": "markdown",
   "id": "bec7295b",
   "metadata": {},
   "source": [
    "### 4. Dictionary in Python"
   ]
  },
  {
   "cell_type": "markdown",
   "id": "7cfa0fc9",
   "metadata": {},
   "source": [
    "---"
   ]
  },
  {
   "cell_type": "markdown",
   "id": "0eeec88e",
   "metadata": {},
   "source": [
    "#### What is dictionary?"
   ]
  },
  {
   "cell_type": "markdown",
   "id": "dc562499",
   "metadata": {},
   "source": [
    "A dictionary is a data structure that stores key-value pairs. Each key is unique and is used to access its corresponding value. Dictionaries are enclosed in curly braces\n",
    "{}\n",
    ", and each key-value pair is separated by a colon\n",
    ":\n",
    "."
   ]
  },
  {
   "cell_type": "markdown",
   "id": "8c1a2d02",
   "metadata": {},
   "source": [
    "---"
   ]
  },
  {
   "cell_type": "markdown",
   "id": "4ad49bdc",
   "metadata": {},
   "source": [
    "#### What are the characteristics of dictionary?"
   ]
  },
  {
   "cell_type": "markdown",
   "id": "10d3a174",
   "metadata": {},
   "source": [
    "<b>1. Unordered:</b> Items are stored in the dictionary without any specific order.<br>\n",
    "<b>2. Mutable:</b> Dictionaries can be changed after creation. You can add, remove, or modify key-value pairs.<br>\n",
    "<b>3. Indexed:</b> Items are accessed via their keys rather than through numerical indexes.<br>\n",
    "<b>4. Unique keys:</b> Each key in a dictionary must be unique. If you try to add a duplicate key, the new value will overwrite the existing one.<br>\n",
    "<b>5. Flexible data types:</b> Keys and values can be of any data type, and a dictionary can contain a mix of data types.<br>\n",
    "<b>6. Enclosed in curly braces:</b> Dictionaries are created and enclosed using curly braces {}."
   ]
  },
  {
   "cell_type": "markdown",
   "id": "9cc8122a",
   "metadata": {},
   "source": [
    "---"
   ]
  },
  {
   "cell_type": "markdown",
   "id": "b6d99065",
   "metadata": {},
   "source": [
    "### 5. Functions in Python"
   ]
  },
  {
   "cell_type": "markdown",
   "id": "11cf346f",
   "metadata": {},
   "source": [
    "---"
   ]
  },
  {
   "cell_type": "markdown",
   "id": "2f2ffd9f",
   "metadata": {},
   "source": [
    "#### What are Functions?"
   ]
  },
  {
   "cell_type": "markdown",
   "id": "4351b132",
   "metadata": {},
   "source": [
    "Function is a block of organized, reusable code designed to perform a specific task. In simple words, function is a block of code when provided an input, it gives us an output. Here are some key points about functions in Python:<br>\n",
    "\n",
    "<b> - Defining a Function:</b> Functions are defined using the def keyword followed by the function name and parentheses ( ).<br>\n",
    "<b> - Parameters:</b> Functions can take parameters (inputs) which are specified within the parentheses. These parameters are optional.<br>\n",
    "<b> - Function Body:</b> The code block within every function starts with a colon (:) and is indented.<br>\n",
    "<b> - Return Statement:</b> Functions can return a value using the return statement. If no return statement is specified, the function returns None by default.<br>\n",
    "<b> - Reusability:</b> Functions can be called multiple times from different parts of the program, promoting code reusability.<br>\n",
    "<b> - Modularity:</b> Functions promote modularity, allowing complex tasks to be broken down into smaller, more manageable pieces."
   ]
  },
  {
   "cell_type": "markdown",
   "id": "d7660e99",
   "metadata": {},
   "source": [
    "---"
   ]
  },
  {
   "cell_type": "markdown",
   "id": "d6bdeb12",
   "metadata": {},
   "source": [
    "#### What are different types of functions?"
   ]
  },
  {
   "cell_type": "markdown",
   "id": "35597196",
   "metadata": {},
   "source": [
    "<b>1. Built-in Functions:</b> These are functions that are built into Python, such as print(), len(), type(), and range().<br>\n",
    "<b>2. User-Defined Functions:</b> These are functions defined by the user to carry out a specific task. They provide modularity and help in code reusability.<br>\n",
    "<b>3. Anonymous Functions (Lambda Functions):</b> These are small, unnamed functions defined using the lambda keyword. They are often used for short, simple operations.<br>\n",
    "<b>4. Recursive Functions:</b> These functions call themselves either directly or indirectly in order to solve a problem. Recursion is a common technique in solving problems in which a function calls itself as a subroutine.<br>\n",
    "<b>5. Higher-Order Functions:</b> These functions take other functions as parameters or return them as results. They are often used in functional programming paradigms.<br>\n",
    "<b>6. Pure Functions:</b> These functions produce the same output for the same input and have no side effects. They are a key concept in functional programming.<br>\n",
    "<b>7. Impure Functions:</b> These functions might produce different outputs for the same input and can have side effects, such as modifying a global variable or printing to the console."
   ]
  },
  {
   "cell_type": "markdown",
   "id": "05759212",
   "metadata": {},
   "source": [
    "---"
   ]
  },
  {
   "cell_type": "markdown",
   "id": "7a493c7c",
   "metadata": {},
   "source": [
    "#### What are the philosophy of a function?"
   ]
  },
  {
   "cell_type": "markdown",
   "id": "15075540",
   "metadata": {},
   "source": [
    "<b>- Abstraction:</b> Abstraction involves simplifying complex systems by focusing on the important details while ignoring irrelevant information. It helps in managing complexity and allows for easier understanding and problem-solving.\n",
    "\n",
    "<b>- Decomposition:</b> Decomposition, on the other hand, involves breaking down a complex problem or system into smaller, more manageable parts, making it easier to understand, analyze, and solve.\n",
    "Both concepts are crucial in various fields, including computer science, engineering, and problem-solving in general."
   ]
  },
  {
   "cell_type": "markdown",
   "id": "b1c175fa",
   "metadata": {},
   "source": [
    "---"
   ]
  },
  {
   "cell_type": "markdown",
   "id": "3215421c",
   "metadata": {},
   "source": [
    "#### What is the difference between parameter and argument?"
   ]
  },
  {
   "cell_type": "markdown",
   "id": "bf73ca70",
   "metadata": {},
   "source": [
    "A parameter is a variable in a method or function definition, representing data that the function expects to receive. It's a placeholder for the actual value that will be passed into the function when it's called.\n",
    "\n",
    "An argument, on the other hand, is the actual value that is passed to the function when it is called. It corresponds to the parameters of the function and provides the data that the function will work with.\n",
    "\n",
    "In simpler terms, a parameter is like a slot where you define what type of data the function will receive, and an argument is the actual data that you put into that slot when you call the function."
   ]
  },
  {
   "cell_type": "markdown",
   "id": "a23f31ca",
   "metadata": {},
   "source": [
    "---"
   ]
  },
  {
   "cell_type": "markdown",
   "id": "c613cc6c",
   "metadata": {},
   "source": [
    "#### What are different types of arguments?"
   ]
  },
  {
   "cell_type": "markdown",
   "id": "ccabf0f5",
   "metadata": {},
   "source": [
    "<b>1. Positional arguments:</b> These are the most common type of arguments, where the order of the arguments passed is crucial. They are matched to parameters based on their positions.\n",
    "\n",
    "<b>2. Keyword arguments:</b> These are identified by the parameter name, allowing the arguments to be passed in any order. They provide clarity and flexibility when calling functions.\n",
    "\n",
    "<b>3. Default arguments:</b> These are parameters that have a default value assigned to them. If the caller doesn't provide a specific value, the default value is used.\n",
    "\n",
    "<b>4. Variable-length arguments:</b> These allow a function to accept any number of arguments. In Python, this is often achieved using *args for positional arguments and **kwargs for keyword arguments.<br>\n",
    "- order of the arguments matter (normal -> *args -> **kwargs)\n",
    "- The words args and kwargs are only a convention, you can use any name of your choice"
   ]
  },
  {
   "cell_type": "markdown",
   "id": "dc43405b",
   "metadata": {},
   "source": [
    "---"
   ]
  },
  {
   "cell_type": "markdown",
   "id": "91aad140",
   "metadata": {},
   "source": [
    "#### What is the concept of first class citizen?"
   ]
  },
  {
   "cell_type": "markdown",
   "id": "8f146fb5",
   "metadata": {},
   "source": [
    "In Python, the concept of \"first-class citizen\" refers to the fact that everything in Python is treated as an object, including functions and methods. Specifically, in a programming language, if a construct has the following properties, it is considered a first-class citizen:\n",
    "\n",
    "- It can be passed as an argument to a function.\n",
    "- It can be returned as a value from a function.\n",
    "- It can be assigned to a variable.\n",
    "- It can be stored in a data structure, such as a list or dictionary.\n",
    "\n",
    "In Python, functions are first-class citizens, meaning you can use them as arguments, return them from other functions, assign them to variables, and store them in data structures just like any other object.\n",
    "\n",
    "This flexibility is one of the reasons why Python is a popular and powerful language for various applications. If you have more questions about Python or anything else, feel free to ask!"
   ]
  },
  {
   "cell_type": "markdown",
   "id": "7ecfd355",
   "metadata": {},
   "source": [
    "---"
   ]
  },
  {
   "cell_type": "markdown",
   "id": "73594216",
   "metadata": {},
   "source": [
    "#### What are the benefits of using functions?"
   ]
  },
  {
   "cell_type": "markdown",
   "id": "840e9d05",
   "metadata": {},
   "source": [
    "<b>1. Reusability:</b> Functions allow you to define a block of code that can be reused multiple times within a program, promoting code reusability and reducing redundancy.<br>\n",
    "<b>2. Modularity:</b> Functions enable you to break down a complex problem into smaller, more manageable tasks, making the code easier to understand, maintain, and debug.<br>\n",
    "<b>3. Abstraction:</b> Functions allow you to hide the implementation details of a specific task, providing a high-level interface for interacting with that functionality.<br>\n",
    "<b>4. Readability:</b> By using descriptive function names, you can make your code more readable and understandable, especially for other developers who may work with your code.<br>\n",
    "<b>5. Testing:</b> Functions make it easier to test individual components of your code in isolation, facilitating unit testing and overall code quality.<br>\n",
    "<b>6. Scalability:</b> Functions help in building scalable and maintainable codebases, allowing for easier expansion and modification of programs as requirements change."
   ]
  },
  {
   "cell_type": "markdown",
   "id": "ffadcc59",
   "metadata": {},
   "source": [
    "---"
   ]
  },
  {
   "cell_type": "markdown",
   "id": "49c7c4ad",
   "metadata": {},
   "source": [
    "#### What is lambda function?"
   ]
  },
  {
   "cell_type": "markdown",
   "id": "aabff1c1",
   "metadata": {},
   "source": [
    "A lambda function in Python is a small anonymous function defined using the lambda keyword. It is a way to create small, one-time use functions without needing to formally define a function using the def keyword. Lambda functions are often used when you need a simple function for a short period of time, for example, as an argument to higher-order functions like map(), filter(), or sorted()."
   ]
  },
  {
   "cell_type": "markdown",
   "id": "b1e9dc7c",
   "metadata": {},
   "source": [
    "---"
   ]
  },
  {
   "cell_type": "markdown",
   "id": "f5f092b5",
   "metadata": {},
   "source": [
    "#### What is difference between normal function and lambda function?"
   ]
  },
  {
   "cell_type": "markdown",
   "id": "48e53e76",
   "metadata": {},
   "source": [
    "<b>1. Syntax:</b><br>\n",
    "- Normal functions are defined using the def keyword and have a formal structure with a name, parameters, and a body of code.<br>\n",
    "- Lambda functions are defined using the lambda keyword and are more concise, containing only a single expression.<br>\n",
    "\n",
    "<b>2. Name:</b><br>\n",
    "- Normal functions have a name and can be called from anywhere in the code.<br>\n",
    "- Lambda functions are anonymous and don't have a name. They are typically used for short, simple operations.<br>\n",
    "\n",
    "<b>3. Complexity:</b><br>\n",
    "- Normal functions can contain multiple statements and have more complex logic.<br>\n",
    "- Lambda functions are limited to a single expression and are best suited for simple operations.<br>\n",
    "\n",
    "<b>4. Reusability:</b><br>\n",
    "- Normal functions can be reused throughout the code and are useful for larger, more complex tasks.<br>\n",
    "- Lambda functions are often used for short, one-time operations and are not meant for reuse across different parts of the code."
   ]
  },
  {
   "cell_type": "markdown",
   "id": "f419e775",
   "metadata": {},
   "source": [
    "---"
   ]
  },
  {
   "cell_type": "markdown",
   "id": "e60104b6",
   "metadata": {},
   "source": [
    "#### What is higher order function?"
   ]
  },
  {
   "cell_type": "markdown",
   "id": "3cb2c43a",
   "metadata": {},
   "source": [
    "A higher-order function is a function that does at least one of the following:<br>\n",
    "- Takes one or more functions as arguments (i.e., it takes functions as parameters).\n",
    "- Returns a function as its result.\n",
    "\n",
    "In other words, a higher-order function either accepts functions as arguments, returns a function, or both. This concept is fundamental in functional programming and allows for powerful abstractions and composability.\n",
    "For example, in Python, functions like map(), filter(), and reduce() are higher-order functions because they take other functions as arguments. Similarly, functions that return other functions, like decorators, are also considered higher-order functions."
   ]
  },
  {
   "cell_type": "markdown",
   "id": "6108c424",
   "metadata": {},
   "source": [
    "---"
   ]
  },
  {
   "cell_type": "markdown",
   "id": "97f958ca",
   "metadata": {},
   "source": [
    "#### What is map function?"
   ]
  },
  {
   "cell_type": "markdown",
   "id": "8469d605",
   "metadata": {},
   "source": [
    "The map() function in Python is a higher-order built-in function used to apply a specified function to each item in an iterable (such as a list, tuple, etc.) and return a new iterator that yields the results. It takes two arguments: the function to apply and the iterable to operate on."
   ]
  },
  {
   "cell_type": "markdown",
   "id": "104fbe23",
   "metadata": {},
   "source": [
    "---"
   ]
  },
  {
   "cell_type": "markdown",
   "id": "9bcc606e",
   "metadata": {},
   "source": [
    "#### What is filter function?"
   ]
  },
  {
   "cell_type": "markdown",
   "id": "7807da7b",
   "metadata": {},
   "source": [
    "The filter() function in Python is used to filter elements of a sequence based on a function. It takes a function and a sequence as input and returns an iterator with the elements that satisfy the condition specified in the function. This can be handy for selectively extracting elements from a sequence based on a specific criterion. If you need more information or examples, feel free to ask!"
   ]
  },
  {
   "cell_type": "markdown",
   "id": "db94f6a6",
   "metadata": {},
   "source": [
    "---"
   ]
  },
  {
   "cell_type": "markdown",
   "id": "92495fcc",
   "metadata": {},
   "source": [
    "#### What is reduce function?"
   ]
  },
  {
   "cell_type": "markdown",
   "id": "9c45613c",
   "metadata": {},
   "source": [
    "The reduce() function in Python is part of the functools module and is used to apply a function to an iterable and reduce it to a single cumulative value. It continually applies the function to the elements, accumulating the result. For instance, you can use it to calculate the sum of all elements in a list or find the maximum value. However, it's important to note that in Python 3, reduce() is not a built-in function, so you need to import it from the functools module."
   ]
  },
  {
   "cell_type": "markdown",
   "id": "b953d1b0",
   "metadata": {},
   "source": [
    "---"
   ]
  }
 ],
 "metadata": {
  "kernelspec": {
   "display_name": "Python 3 (ipykernel)",
   "language": "python",
   "name": "python3"
  },
  "language_info": {
   "codemirror_mode": {
    "name": "ipython",
    "version": 3
   },
   "file_extension": ".py",
   "mimetype": "text/x-python",
   "name": "python",
   "nbconvert_exporter": "python",
   "pygments_lexer": "ipython3",
   "version": "3.9.17"
  }
 },
 "nbformat": 4,
 "nbformat_minor": 5
}
