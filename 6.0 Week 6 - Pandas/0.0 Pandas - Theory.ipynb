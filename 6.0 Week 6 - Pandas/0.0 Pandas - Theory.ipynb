{
 "cells": [
  {
   "cell_type": "markdown",
   "id": "e19717a1",
   "metadata": {},
   "source": [
    "### Pandas - Theory"
   ]
  },
  {
   "cell_type": "markdown",
   "id": "5bfdf344",
   "metadata": {},
   "source": [
    "---"
   ]
  },
  {
   "cell_type": "markdown",
   "id": "9abf1bfc",
   "metadata": {},
   "source": [
    "##### What is Pandas?"
   ]
  },
  {
   "cell_type": "markdown",
   "id": "985c5843",
   "metadata": {},
   "source": [
    "Pandas is a popular open-source data manipulation and analysis library for Python. It provides easy-to-use data structures and data analysis tools for handling structured data. Pandas is widely used for tasks such as data cleaning, preparation, and analysis. Its primary data structures are Series (one-dimensional labeled array) and DataFrame (two-dimensional labeled data structure with columns of potentially different types). These structures make it easy to work with tabular data, time series, and more. Pandas is a powerful tool for data wrangling and manipulation, and it's often used in conjunction with other libraries like NumPy and Matplotlib for data analysis and visualization.\n",
    "\n",
    "Pandas is a fast, powerful, flexible and easy to use open source data analysis and manipulation tool,\n",
    "built on top of the Python programming language.\n",
    "\n",
    "https://pandas.pydata.org/about/index.html"
   ]
  },
  {
   "cell_type": "markdown",
   "id": "55719050",
   "metadata": {},
   "source": [
    "---"
   ]
  },
  {
   "cell_type": "markdown",
   "id": "0ac379b1",
   "metadata": {},
   "source": [
    "##### What are the data types of pandas?"
   ]
  },
  {
   "cell_type": "markdown",
   "id": "af4ebaa5",
   "metadata": {},
   "source": [
    "In Pandas, two important data types are Series and DataFrame. \n",
    "- A Series is a one-dimensional labeled array capable of holding data of any type\n",
    "- A DataFrame is a two-dimensional, size-mutable, and potentially heterogeneous tabular data structure with labeled axes (rows and columns). <br>\n",
    "\n",
    "These data types are fundamental for working with data in Pandas."
   ]
  },
  {
   "cell_type": "markdown",
   "id": "e48e5a45",
   "metadata": {},
   "source": [
    "---"
   ]
  },
  {
   "cell_type": "markdown",
   "id": "c0831708",
   "metadata": {},
   "source": [
    "##### What is pandas series?"
   ]
  },
  {
   "cell_type": "markdown",
   "id": "b331d976",
   "metadata": {},
   "source": [
    "A Pandas Series is a one-dimensional labeled array capable of holding data of any type (integer, string, float, Python objects, etc.). It's like a column in a table or a single dimension in an array. Each element in the Series has a label, which is its index. This makes it easy to access and manipulate the data. You can create a Series from a list, array, or dictionary. Series are a fundamental data structure in Pandas and are often used as the building blocks for more complex data manipulations and analyses using Pandas.\n",
    "\n",
    "A Pandas Series is like a column in a table. It is a 1-D array holding data of any type."
   ]
  },
  {
   "cell_type": "markdown",
   "id": "d64d0591",
   "metadata": {},
   "source": [
    "---"
   ]
  },
  {
   "cell_type": "markdown",
   "id": "04ce8e24",
   "metadata": {},
   "source": [
    "##### What are the different ways to create a series?"
   ]
  },
  {
   "cell_type": "code",
   "execution_count": 1,
   "id": "285f0e17",
   "metadata": {
    "scrolled": true
   },
   "outputs": [
    {
     "name": "stdout",
     "output_type": "stream",
     "text": [
      "0    10\n",
      "1    20\n",
      "2    30\n",
      "3    40\n",
      "dtype: int64\n",
      "0    10\n",
      "1    20\n",
      "2    30\n",
      "3    40\n",
      "dtype: int32\n",
      "a    100\n",
      "b    200\n",
      "c    300\n",
      "dtype: int64\n",
      "a    5\n",
      "b    5\n",
      "c    5\n",
      "d    5\n",
      "dtype: int64\n"
     ]
    }
   ],
   "source": [
    "import pandas as pd\n",
    "import numpy as np\n",
    "\n",
    "# From a List:\n",
    "my_list = [10, 20, 30, 40]\n",
    "series_from_list = pd.Series(my_list)\n",
    "print(series_from_list)\n",
    "\n",
    "# From a Numpy Array:\n",
    "\n",
    "my_array = np.array([10, 20, 30, 40])\n",
    "series_from_array = pd.Series(my_array)\n",
    "print(series_from_array)\n",
    "\n",
    "# From a Dictionary:\n",
    "my_dict = {'a': 100, 'b': 200, 'c': 300}\n",
    "series_from_dict = pd.Series(my_dict)\n",
    "print(series_from_dict)\n",
    "\n",
    "# From a Scalar Value:\n",
    "scalar_value = 5\n",
    "series_from_scalar = pd.Series(scalar_value, index=['a', 'b', 'c', 'd'])\n",
    "print(series_from_scalar)"
   ]
  },
  {
   "cell_type": "markdown",
   "id": "2e162145",
   "metadata": {},
   "source": [
    "---"
   ]
  },
  {
   "cell_type": "markdown",
   "id": "c187a4da",
   "metadata": {},
   "source": [
    "##### What are the attributes of series?"
   ]
  },
  {
   "cell_type": "markdown",
   "id": "728f76ba",
   "metadata": {},
   "source": [
    "Pandas Series have various attributes that provide useful information about the data. Some common attributes include:\n",
    "\n",
    "<b>1. values:</b> Returns the data as a NumPy array.<br>\n",
    "<b>2. index:</b> Returns the index labels of the Series.<br>\n",
    "<b>3. dtype:</b> Returns the data type of the Series.<br>\n",
    "<b>4. name:</b> Returns the name of the Series.<br>\n",
    "<b>5. size:</b> Returns the number of elements in the Series.<br>\n",
    "<b>6. shape:</b> Returns a tuple representing the dimensionality of the Series data.<br>\n",
    "<b>7. ndim:</b> Returns the number of dimensions of the data.<br>\n",
    "<b>8. is_unique:</b> Returns if the items os a series is unique or not.<br>\n",
    "\n",
    "These attributes allow you to access and understand different aspects of the Series data."
   ]
  },
  {
   "cell_type": "markdown",
   "id": "67dbc79d",
   "metadata": {},
   "source": [
    "---"
   ]
  },
  {
   "cell_type": "markdown",
   "id": "bd76e9b2",
   "metadata": {},
   "source": [
    "##### Does negative indexing work on series?"
   ]
  },
  {
   "cell_type": "markdown",
   "id": "853b8258",
   "metadata": {},
   "source": [
    "In Python, the Pandas library's Series does not support negative indexing, unlike lists. Negative indexing allows you to access elements from the end of the series. However, in Pandas, you can use iloc and loc to achieve similar results. For example, you can use my_series.iloc[-1] to access the last element of the series."
   ]
  },
  {
   "cell_type": "markdown",
   "id": "97b4916f",
   "metadata": {},
   "source": [
    "---"
   ]
  },
  {
   "cell_type": "markdown",
   "id": "196af90e",
   "metadata": {},
   "source": [
    "##### What is a dataframe?"
   ]
  },
  {
   "cell_type": "markdown",
   "id": "27510574",
   "metadata": {},
   "source": [
    "A DataFrame is a two-dimensional, size-mutable, and potentially heterogeneous tabular data structure with labeled axes (rows and columns). It is a primary data structure in the Pandas library and is designed for handling structured data, similar to a spreadsheet or SQL table. DataFrames allow for easy manipulation, analysis, and cleaning of data, making them extremely useful for data processing tasks in Python.\n",
    "\n",
    "One column or one row of a dataframe is known as series"
   ]
  },
  {
   "cell_type": "markdown",
   "id": "076ac788",
   "metadata": {},
   "source": [
    "---"
   ]
  },
  {
   "cell_type": "markdown",
   "id": "977ad549",
   "metadata": {},
   "source": [
    "##### What are the attributes of a dataframe?"
   ]
  },
  {
   "cell_type": "markdown",
   "id": "94999252",
   "metadata": {},
   "source": [
    "In Pandas, a DataFrame has several attributes that provide important information about the data it contains. Some common attributes of a DataFrame include:\n",
    "\n",
    "<b>1. shape:</b> Returns a tuple representing the dimensionality of the DataFrame (rows, columns).<br>\n",
    "<b>2. columns:</b> Returns the column labels of the DataFrame.<br>\n",
    "<b>3. index:</b> Returns the row labels of the DataFrame.<br>\n",
    "<b>4. dtypes:</b> Returns the data types of each column in the DataFrame.<br>\n",
    "<b>5. values:</b> Returns the actual data in the DataFrame as a 2D ndarray.<br>\n",
    "<b>6. T:</b> Returns the transpose of the DataFrame.<br>\n",
    "These attributes are useful for accessing and understanding the structure of the data within a DataFrame."
   ]
  },
  {
   "cell_type": "markdown",
   "id": "dfa25762",
   "metadata": {},
   "source": [
    "---"
   ]
  },
  {
   "cell_type": "markdown",
   "id": "a8948e85",
   "metadata": {},
   "source": [
    "##### What are the different ways of creating a dataframe?"
   ]
  },
  {
   "cell_type": "markdown",
   "id": "8ef78e77",
   "metadata": {},
   "source": [
    "There are several ways to create a DataFrame in Python using the Pandas library:\n",
    "\n",
    "<b>1. From a dictionary:</b> You can create a DataFrame from a dictionary where keys are column names and values are lists or arrays representing the data.<br>\n",
    "<b>2. From a list of dictionaries:</b> You can create a DataFrame from a list of dictionaries where each dictionary represents a row of data.<br>\n",
    "<b>3. From a 2D array or list:</b> You can create a DataFrame from a 2D array or a list of lists.<br>\n",
    "<b>4. From a CSV file:</b> You can read data from a CSV file directly into a DataFrame using Pandas' read_csv function.<br>\n",
    "<b>5. From a SQL database:</b> You can create a DataFrame by querying a SQL database using Pandas' read_sql function.<br>\n",
    "\n",
    "These are some common ways to create a DataFrame in Pandas. Each method provides flexibility in how data can be imported and structured within a DataFrame."
   ]
  },
  {
   "cell_type": "markdown",
   "id": "5fef78ac",
   "metadata": {},
   "source": [
    "---"
   ]
  },
  {
   "cell_type": "markdown",
   "id": "9392b07e",
   "metadata": {},
   "source": [
    "##### What is iloc and loc?"
   ]
  },
  {
   "cell_type": "markdown",
   "id": "4430ca5d",
   "metadata": {},
   "source": [
    "iloc and loc are two important methods in Pandas for selecting row data from a DataFrame:\n",
    "\n",
    "- <b>iloc:</b> It is used for integer-location based indexing, meaning you can select data based on the integer location of the rows and columns. You can use iloc to select rows and columns by their integer position. If we provide range(start, end), it will include start but ignore end. It is used on default index\n",
    "- <b>loc:</b> It is label-based, meaning you can select data based on the labels of the rows and columns. With loc, you can select rows and columns using their labels. If we provide range(start, end), it will include both start and end. It is used on custom index\n",
    "\n",
    "These methods are fundamental for data selection and manipulation in Pandas DataFrames. They provide a powerful way to access specific data points based on their position or label within the DataFrame. If you have more questions about these methods or anything else related to Pandas, feel free to ask!\n",
    " "
   ]
  },
  {
   "cell_type": "markdown",
   "id": "88f67be2",
   "metadata": {},
   "source": [
    "---"
   ]
  },
  {
   "cell_type": "markdown",
   "id": "184011bf",
   "metadata": {},
   "source": [
    "##### What is the difference between count and size?"
   ]
  },
  {
   "cell_type": "markdown",
   "id": "0f5ffe14",
   "metadata": {},
   "source": [
    "In the context of data analysis and pandas DataFrame:\n",
    "- count() is used to count the non-null values in each column. It does not count NaN (null) values.\n",
    "- size gives the total number of elements in the DataFrame, including both non-null and null (NaN) values.\n",
    "\n",
    "So, count() provides the count of non-null values per column, while size gives the total count of elements in the DataFrame, including both null and non-null values."
   ]
  }
 ],
 "metadata": {
  "kernelspec": {
   "display_name": "Python 3 (ipykernel)",
   "language": "python",
   "name": "python3"
  },
  "language_info": {
   "codemirror_mode": {
    "name": "ipython",
    "version": 3
   },
   "file_extension": ".py",
   "mimetype": "text/x-python",
   "name": "python",
   "nbconvert_exporter": "python",
   "pygments_lexer": "ipython3",
   "version": "3.9.17"
  }
 },
 "nbformat": 4,
 "nbformat_minor": 5
}
