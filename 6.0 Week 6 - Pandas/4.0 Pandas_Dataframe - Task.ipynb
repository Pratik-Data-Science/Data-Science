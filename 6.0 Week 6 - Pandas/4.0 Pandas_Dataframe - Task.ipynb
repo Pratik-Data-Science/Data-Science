{
 "cells": [
  {
   "cell_type": "markdown",
   "metadata": {},
   "source": [
    "### Pandas_Dataframe - Task"
   ]
  },
  {
   "cell_type": "code",
   "execution_count": null,
   "metadata": {
    "id": "u7ShJC6QbJOo"
   },
   "outputs": [],
   "source": [
    "\"https://raw.githubusercontent.com/justmarkham/DAT8/master/data/chipotle.tsv\""
   ]
  },
  {
   "cell_type": "markdown",
   "metadata": {},
   "source": [
    "---"
   ]
  },
  {
   "cell_type": "code",
   "execution_count": 2,
   "metadata": {},
   "outputs": [],
   "source": [
    "import pandas as pd\n",
    "import numpy as np"
   ]
  },
  {
   "cell_type": "markdown",
   "metadata": {
    "id": "sM-WXcZmbTCW"
   },
   "source": [
    "##### Basic DataFrame\n",
    "\n",
    "Consider the following Python dictionary data and Python list labels:\n",
    "\n",
    "```\n",
    "data = {'birds': ['Cranes', 'Cranes', 'plovers', 'spoonbills', 'spoonbills', 'Cranes', 'plovers', 'Cranes', 'spoonbills', 'spoonbills', 'Cranes'],\n",
    "        'age': [3.5, 4, 1.5, np.nan, 6, 3, 5.5, np.nan, 8, 4, 3.5], 'visits': [2, 4, 3, 4, 3, 4, 2, 2, 3, 2, 2],\n",
    "        'priority': ['yes', 'yes', 'no', np.nan, 'no', 'no', 'no', 'yes', 'no', 'no','yes']}\n",
    "```\n",
    "```\n",
    "labels = ['a', 'b', 'c', 'd', 'e', 'f', 'g', 'h', 'i', 'j', 'k']\n",
    "```"
   ]
  },
  {
   "cell_type": "markdown",
   "metadata": {
    "id": "fbl_dILPbZ9e"
   },
   "source": [
    "##### `Q-1:`\n",
    "i. Create a DataFrame birds from the above dictionary data which has the index labels.\n",
    "\n",
    "ii. Display basic information about the dataFrame.\n",
    "\n",
    "iii. Show Alternate rows of the dataframe."
   ]
  },
  {
   "cell_type": "code",
   "execution_count": 3,
   "metadata": {
    "id": "FsGlueHWbZCr"
   },
   "outputs": [],
   "source": [
    "# code here\n",
    "data = {'birds': ['Cranes', 'Cranes', 'plovers', 'spoonbills', 'spoonbills', 'Cranes', 'plovers', 'Cranes', 'spoonbills', 'spoonbills', 'Cranes'],\n",
    "        'age': [3.5, 4, 1.5, np.nan, 6, 3, 5.5, np.nan, 8, 4, 3.5], 'visits': [2, 4, 3, 4, 3, 4, 2, 2, 3, 2, 2],\n",
    "        'priority': ['yes', 'yes', 'no', np.nan, 'no', 'no', 'no', 'yes', 'no', 'no','yes']}\n",
    "labels = ['a', 'b', 'c', 'd', 'e', 'f', 'g', 'h', 'i', 'j', 'k']"
   ]
  },
  {
   "cell_type": "code",
   "execution_count": 7,
   "metadata": {},
   "outputs": [
    {
     "data": {
      "text/html": [
       "<div>\n",
       "<style scoped>\n",
       "    .dataframe tbody tr th:only-of-type {\n",
       "        vertical-align: middle;\n",
       "    }\n",
       "\n",
       "    .dataframe tbody tr th {\n",
       "        vertical-align: top;\n",
       "    }\n",
       "\n",
       "    .dataframe thead th {\n",
       "        text-align: right;\n",
       "    }\n",
       "</style>\n",
       "<table border=\"1\" class=\"dataframe\">\n",
       "  <thead>\n",
       "    <tr style=\"text-align: right;\">\n",
       "      <th></th>\n",
       "      <th>birds</th>\n",
       "      <th>age</th>\n",
       "      <th>visits</th>\n",
       "      <th>priority</th>\n",
       "    </tr>\n",
       "  </thead>\n",
       "  <tbody>\n",
       "    <tr>\n",
       "      <th>a</th>\n",
       "      <td>Cranes</td>\n",
       "      <td>3.5</td>\n",
       "      <td>2</td>\n",
       "      <td>yes</td>\n",
       "    </tr>\n",
       "    <tr>\n",
       "      <th>b</th>\n",
       "      <td>Cranes</td>\n",
       "      <td>4.0</td>\n",
       "      <td>4</td>\n",
       "      <td>yes</td>\n",
       "    </tr>\n",
       "    <tr>\n",
       "      <th>c</th>\n",
       "      <td>plovers</td>\n",
       "      <td>1.5</td>\n",
       "      <td>3</td>\n",
       "      <td>no</td>\n",
       "    </tr>\n",
       "    <tr>\n",
       "      <th>d</th>\n",
       "      <td>spoonbills</td>\n",
       "      <td>NaN</td>\n",
       "      <td>4</td>\n",
       "      <td>NaN</td>\n",
       "    </tr>\n",
       "    <tr>\n",
       "      <th>e</th>\n",
       "      <td>spoonbills</td>\n",
       "      <td>6.0</td>\n",
       "      <td>3</td>\n",
       "      <td>no</td>\n",
       "    </tr>\n",
       "  </tbody>\n",
       "</table>\n",
       "</div>"
      ],
      "text/plain": [
       "        birds  age  visits priority\n",
       "a      Cranes  3.5       2      yes\n",
       "b      Cranes  4.0       4      yes\n",
       "c     plovers  1.5       3       no\n",
       "d  spoonbills  NaN       4      NaN\n",
       "e  spoonbills  6.0       3       no"
      ]
     },
     "execution_count": 7,
     "metadata": {},
     "output_type": "execute_result"
    }
   ],
   "source": [
    "# i\n",
    "df = pd.DataFrame(data, index=labels)\n",
    "df.head()"
   ]
  },
  {
   "cell_type": "code",
   "execution_count": 11,
   "metadata": {},
   "outputs": [
    {
     "name": "stdout",
     "output_type": "stream",
     "text": [
      "(11, 4)\n",
      "<class 'pandas.core.frame.DataFrame'>\n",
      "Index: 11 entries, a to k\n",
      "Data columns (total 4 columns):\n",
      " #   Column    Non-Null Count  Dtype  \n",
      "---  ------    --------------  -----  \n",
      " 0   birds     11 non-null     object \n",
      " 1   age       9 non-null      float64\n",
      " 2   visits    11 non-null     int64  \n",
      " 3   priority  10 non-null     object \n",
      "dtypes: float64(1), int64(1), object(2)\n",
      "memory usage: 440.0+ bytes\n",
      "None\n",
      "            age     visits\n",
      "count  9.000000  11.000000\n",
      "mean   4.333333   2.818182\n",
      "std    1.903943   0.873863\n",
      "min    1.500000   2.000000\n",
      "25%    3.500000   2.000000\n",
      "50%    4.000000   3.000000\n",
      "75%    5.500000   3.500000\n",
      "max    8.000000   4.000000\n"
     ]
    }
   ],
   "source": [
    "# ii\n",
    "print(df.shape)\n",
    "print(df.info())\n",
    "print(df.describe())"
   ]
  },
  {
   "cell_type": "code",
   "execution_count": 16,
   "metadata": {},
   "outputs": [
    {
     "name": "stdout",
     "output_type": "stream",
     "text": [
      "        birds  age  visits priority\n",
      "a      Cranes  3.5       2      yes\n",
      "c     plovers  1.5       3       no\n",
      "e  spoonbills  6.0       3       no\n",
      "g     plovers  5.5       2       no\n",
      "i  spoonbills  8.0       3       no\n",
      "k      Cranes  3.5       2      yes\n",
      "**************************************************\n",
      "        birds  age  visits priority\n",
      "a      Cranes  3.5       2      yes\n",
      "c     plovers  1.5       3       no\n",
      "e  spoonbills  6.0       3       no\n",
      "g     plovers  5.5       2       no\n",
      "i  spoonbills  8.0       3       no\n",
      "k      Cranes  3.5       2      yes\n"
     ]
    }
   ],
   "source": [
    "# iii\n",
    "print(df.iloc[::2])\n",
    "print(\"*\"*50)\n",
    "print(df.loc[::2])"
   ]
  },
  {
   "cell_type": "markdown",
   "metadata": {},
   "source": [
    "---"
   ]
  },
  {
   "cell_type": "markdown",
   "metadata": {
    "id": "06X1G_sbbe2K"
   },
   "source": [
    "##### `Q-2:`\n",
    "i. Show only rows [1st, 3rd, 7th] from columns ['bird', 'age']\n",
    "\n",
    "ii. Select rows where the number of visits is less than 4."
   ]
  },
  {
   "cell_type": "code",
   "execution_count": 33,
   "metadata": {
    "id": "5ceryOqrbhB6"
   },
   "outputs": [
    {
     "name": "stdout",
     "output_type": "stream",
     "text": [
      "        birds  age\n",
      "b      Cranes  4.0\n",
      "d  spoonbills  NaN\n",
      "h      Cranes  NaN\n"
     ]
    }
   ],
   "source": [
    "# code here\n",
    "# i\n",
    "print(df.iloc[[1,3,7]][['birds', 'age']])"
   ]
  },
  {
   "cell_type": "code",
   "execution_count": 35,
   "metadata": {},
   "outputs": [
    {
     "data": {
      "text/html": [
       "<div>\n",
       "<style scoped>\n",
       "    .dataframe tbody tr th:only-of-type {\n",
       "        vertical-align: middle;\n",
       "    }\n",
       "\n",
       "    .dataframe tbody tr th {\n",
       "        vertical-align: top;\n",
       "    }\n",
       "\n",
       "    .dataframe thead th {\n",
       "        text-align: right;\n",
       "    }\n",
       "</style>\n",
       "<table border=\"1\" class=\"dataframe\">\n",
       "  <thead>\n",
       "    <tr style=\"text-align: right;\">\n",
       "      <th></th>\n",
       "      <th>birds</th>\n",
       "      <th>age</th>\n",
       "      <th>visits</th>\n",
       "      <th>priority</th>\n",
       "    </tr>\n",
       "  </thead>\n",
       "  <tbody>\n",
       "    <tr>\n",
       "      <th>a</th>\n",
       "      <td>Cranes</td>\n",
       "      <td>3.5</td>\n",
       "      <td>2</td>\n",
       "      <td>yes</td>\n",
       "    </tr>\n",
       "    <tr>\n",
       "      <th>c</th>\n",
       "      <td>plovers</td>\n",
       "      <td>1.5</td>\n",
       "      <td>3</td>\n",
       "      <td>no</td>\n",
       "    </tr>\n",
       "    <tr>\n",
       "      <th>e</th>\n",
       "      <td>spoonbills</td>\n",
       "      <td>6.0</td>\n",
       "      <td>3</td>\n",
       "      <td>no</td>\n",
       "    </tr>\n",
       "    <tr>\n",
       "      <th>g</th>\n",
       "      <td>plovers</td>\n",
       "      <td>5.5</td>\n",
       "      <td>2</td>\n",
       "      <td>no</td>\n",
       "    </tr>\n",
       "    <tr>\n",
       "      <th>h</th>\n",
       "      <td>Cranes</td>\n",
       "      <td>NaN</td>\n",
       "      <td>2</td>\n",
       "      <td>yes</td>\n",
       "    </tr>\n",
       "    <tr>\n",
       "      <th>i</th>\n",
       "      <td>spoonbills</td>\n",
       "      <td>8.0</td>\n",
       "      <td>3</td>\n",
       "      <td>no</td>\n",
       "    </tr>\n",
       "    <tr>\n",
       "      <th>j</th>\n",
       "      <td>spoonbills</td>\n",
       "      <td>4.0</td>\n",
       "      <td>2</td>\n",
       "      <td>no</td>\n",
       "    </tr>\n",
       "    <tr>\n",
       "      <th>k</th>\n",
       "      <td>Cranes</td>\n",
       "      <td>3.5</td>\n",
       "      <td>2</td>\n",
       "      <td>yes</td>\n",
       "    </tr>\n",
       "  </tbody>\n",
       "</table>\n",
       "</div>"
      ],
      "text/plain": [
       "        birds  age  visits priority\n",
       "a      Cranes  3.5       2      yes\n",
       "c     plovers  1.5       3       no\n",
       "e  spoonbills  6.0       3       no\n",
       "g     plovers  5.5       2       no\n",
       "h      Cranes  NaN       2      yes\n",
       "i  spoonbills  8.0       3       no\n",
       "j  spoonbills  4.0       2       no\n",
       "k      Cranes  3.5       2      yes"
      ]
     },
     "execution_count": 35,
     "metadata": {},
     "output_type": "execute_result"
    }
   ],
   "source": [
    "# ii\n",
    "df[df['visits']<4]"
   ]
  },
  {
   "cell_type": "markdown",
   "metadata": {},
   "source": [
    "---"
   ]
  },
  {
   "cell_type": "markdown",
   "metadata": {
    "id": "biVrhUo2biZm"
   },
   "source": [
    "##### `Q-3:`\n",
    "i. Select all rows with nan values in age and visits column.\n",
    "\n",
    "ii. Fill nan with respective series mode value."
   ]
  },
  {
   "cell_type": "code",
   "execution_count": 38,
   "metadata": {
    "id": "Qe8KrN_UbkPW"
   },
   "outputs": [
    {
     "data": {
      "text/html": [
       "<div>\n",
       "<style scoped>\n",
       "    .dataframe tbody tr th:only-of-type {\n",
       "        vertical-align: middle;\n",
       "    }\n",
       "\n",
       "    .dataframe tbody tr th {\n",
       "        vertical-align: top;\n",
       "    }\n",
       "\n",
       "    .dataframe thead th {\n",
       "        text-align: right;\n",
       "    }\n",
       "</style>\n",
       "<table border=\"1\" class=\"dataframe\">\n",
       "  <thead>\n",
       "    <tr style=\"text-align: right;\">\n",
       "      <th></th>\n",
       "      <th>birds</th>\n",
       "      <th>age</th>\n",
       "      <th>visits</th>\n",
       "      <th>priority</th>\n",
       "    </tr>\n",
       "  </thead>\n",
       "  <tbody>\n",
       "    <tr>\n",
       "      <th>d</th>\n",
       "      <td>spoonbills</td>\n",
       "      <td>NaN</td>\n",
       "      <td>4</td>\n",
       "      <td>NaN</td>\n",
       "    </tr>\n",
       "    <tr>\n",
       "      <th>h</th>\n",
       "      <td>Cranes</td>\n",
       "      <td>NaN</td>\n",
       "      <td>2</td>\n",
       "      <td>yes</td>\n",
       "    </tr>\n",
       "  </tbody>\n",
       "</table>\n",
       "</div>"
      ],
      "text/plain": [
       "        birds  age  visits priority\n",
       "d  spoonbills  NaN       4      NaN\n",
       "h      Cranes  NaN       2      yes"
      ]
     },
     "execution_count": 38,
     "metadata": {},
     "output_type": "execute_result"
    }
   ],
   "source": [
    "# code here\n",
    "#i\n",
    "df[(df['age'].isna() == True) | (df['visits'].isna() == True)]"
   ]
  },
  {
   "cell_type": "code",
   "execution_count": 49,
   "metadata": {},
   "outputs": [
    {
     "data": {
      "text/html": [
       "<div>\n",
       "<style scoped>\n",
       "    .dataframe tbody tr th:only-of-type {\n",
       "        vertical-align: middle;\n",
       "    }\n",
       "\n",
       "    .dataframe tbody tr th {\n",
       "        vertical-align: top;\n",
       "    }\n",
       "\n",
       "    .dataframe thead th {\n",
       "        text-align: right;\n",
       "    }\n",
       "</style>\n",
       "<table border=\"1\" class=\"dataframe\">\n",
       "  <thead>\n",
       "    <tr style=\"text-align: right;\">\n",
       "      <th></th>\n",
       "      <th>birds</th>\n",
       "      <th>age</th>\n",
       "      <th>visits</th>\n",
       "      <th>priority</th>\n",
       "    </tr>\n",
       "  </thead>\n",
       "  <tbody>\n",
       "    <tr>\n",
       "      <th>a</th>\n",
       "      <td>Cranes</td>\n",
       "      <td>3.5</td>\n",
       "      <td>2</td>\n",
       "      <td>yes</td>\n",
       "    </tr>\n",
       "    <tr>\n",
       "      <th>b</th>\n",
       "      <td>Cranes</td>\n",
       "      <td>4.0</td>\n",
       "      <td>4</td>\n",
       "      <td>yes</td>\n",
       "    </tr>\n",
       "    <tr>\n",
       "      <th>c</th>\n",
       "      <td>plovers</td>\n",
       "      <td>1.5</td>\n",
       "      <td>3</td>\n",
       "      <td>no</td>\n",
       "    </tr>\n",
       "    <tr>\n",
       "      <th>d</th>\n",
       "      <td>spoonbills</td>\n",
       "      <td>3.5</td>\n",
       "      <td>4</td>\n",
       "      <td>no</td>\n",
       "    </tr>\n",
       "    <tr>\n",
       "      <th>e</th>\n",
       "      <td>spoonbills</td>\n",
       "      <td>6.0</td>\n",
       "      <td>3</td>\n",
       "      <td>no</td>\n",
       "    </tr>\n",
       "    <tr>\n",
       "      <th>f</th>\n",
       "      <td>Cranes</td>\n",
       "      <td>3.0</td>\n",
       "      <td>4</td>\n",
       "      <td>no</td>\n",
       "    </tr>\n",
       "    <tr>\n",
       "      <th>g</th>\n",
       "      <td>plovers</td>\n",
       "      <td>5.5</td>\n",
       "      <td>2</td>\n",
       "      <td>no</td>\n",
       "    </tr>\n",
       "    <tr>\n",
       "      <th>h</th>\n",
       "      <td>Cranes</td>\n",
       "      <td>3.5</td>\n",
       "      <td>2</td>\n",
       "      <td>yes</td>\n",
       "    </tr>\n",
       "    <tr>\n",
       "      <th>i</th>\n",
       "      <td>spoonbills</td>\n",
       "      <td>8.0</td>\n",
       "      <td>3</td>\n",
       "      <td>no</td>\n",
       "    </tr>\n",
       "    <tr>\n",
       "      <th>j</th>\n",
       "      <td>spoonbills</td>\n",
       "      <td>4.0</td>\n",
       "      <td>2</td>\n",
       "      <td>no</td>\n",
       "    </tr>\n",
       "    <tr>\n",
       "      <th>k</th>\n",
       "      <td>Cranes</td>\n",
       "      <td>3.5</td>\n",
       "      <td>2</td>\n",
       "      <td>yes</td>\n",
       "    </tr>\n",
       "  </tbody>\n",
       "</table>\n",
       "</div>"
      ],
      "text/plain": [
       "        birds  age  visits priority\n",
       "a      Cranes  3.5       2      yes\n",
       "b      Cranes  4.0       4      yes\n",
       "c     plovers  1.5       3       no\n",
       "d  spoonbills  3.5       4       no\n",
       "e  spoonbills  6.0       3       no\n",
       "f      Cranes  3.0       4       no\n",
       "g     plovers  5.5       2       no\n",
       "h      Cranes  3.5       2      yes\n",
       "i  spoonbills  8.0       3       no\n",
       "j  spoonbills  4.0       2       no\n",
       "k      Cranes  3.5       2      yes"
      ]
     },
     "execution_count": 49,
     "metadata": {},
     "output_type": "execute_result"
    }
   ],
   "source": [
    "# ii\n",
    "df['age'].fillna(df['age'].mode()[0], inplace = True)\n",
    "df['priority'].fillna(df['priority'].mode()[0], inplace=True)\n",
    "df"
   ]
  },
  {
   "cell_type": "markdown",
   "metadata": {},
   "source": [
    "---"
   ]
  },
  {
   "cell_type": "markdown",
   "metadata": {
    "id": "PcYTOjqUblrF"
   },
   "source": [
    "##### `Q-4`\n",
    "i. Find the total number of visits of the bird Cranes\n",
    "\n",
    "ii. Find the number of each type of birds in dataframe.\n",
    "\n",
    "iii. Print no of duplicate rows\n",
    "\n",
    "iv. Drop Duplicates rows and make this changes permanent. Show dataframe after changes."
   ]
  },
  {
   "cell_type": "code",
   "execution_count": 54,
   "metadata": {
    "id": "O92x1vp0bngT"
   },
   "outputs": [
    {
     "data": {
      "text/plain": [
       "14"
      ]
     },
     "execution_count": 54,
     "metadata": {},
     "output_type": "execute_result"
    }
   ],
   "source": [
    "# code here\n",
    "# i\n",
    "df[df['birds'] == 'Cranes']['visits'].sum()"
   ]
  },
  {
   "cell_type": "code",
   "execution_count": 56,
   "metadata": {},
   "outputs": [
    {
     "data": {
      "text/plain": [
       "Cranes        5\n",
       "spoonbills    4\n",
       "plovers       2\n",
       "Name: birds, dtype: int64"
      ]
     },
     "execution_count": 56,
     "metadata": {},
     "output_type": "execute_result"
    }
   ],
   "source": [
    "# ii\n",
    "df['birds'].value_counts()"
   ]
  },
  {
   "cell_type": "code",
   "execution_count": 59,
   "metadata": {},
   "outputs": [
    {
     "data": {
      "text/plain": [
       "2"
      ]
     },
     "execution_count": 59,
     "metadata": {},
     "output_type": "execute_result"
    }
   ],
   "source": [
    "# iii\n",
    "df.duplicated().sum()"
   ]
  },
  {
   "cell_type": "code",
   "execution_count": 61,
   "metadata": {},
   "outputs": [
    {
     "data": {
      "text/html": [
       "<div>\n",
       "<style scoped>\n",
       "    .dataframe tbody tr th:only-of-type {\n",
       "        vertical-align: middle;\n",
       "    }\n",
       "\n",
       "    .dataframe tbody tr th {\n",
       "        vertical-align: top;\n",
       "    }\n",
       "\n",
       "    .dataframe thead th {\n",
       "        text-align: right;\n",
       "    }\n",
       "</style>\n",
       "<table border=\"1\" class=\"dataframe\">\n",
       "  <thead>\n",
       "    <tr style=\"text-align: right;\">\n",
       "      <th></th>\n",
       "      <th>birds</th>\n",
       "      <th>age</th>\n",
       "      <th>visits</th>\n",
       "      <th>priority</th>\n",
       "    </tr>\n",
       "  </thead>\n",
       "  <tbody>\n",
       "    <tr>\n",
       "      <th>a</th>\n",
       "      <td>Cranes</td>\n",
       "      <td>3.5</td>\n",
       "      <td>2</td>\n",
       "      <td>yes</td>\n",
       "    </tr>\n",
       "    <tr>\n",
       "      <th>b</th>\n",
       "      <td>Cranes</td>\n",
       "      <td>4.0</td>\n",
       "      <td>4</td>\n",
       "      <td>yes</td>\n",
       "    </tr>\n",
       "    <tr>\n",
       "      <th>c</th>\n",
       "      <td>plovers</td>\n",
       "      <td>1.5</td>\n",
       "      <td>3</td>\n",
       "      <td>no</td>\n",
       "    </tr>\n",
       "    <tr>\n",
       "      <th>d</th>\n",
       "      <td>spoonbills</td>\n",
       "      <td>3.5</td>\n",
       "      <td>4</td>\n",
       "      <td>no</td>\n",
       "    </tr>\n",
       "    <tr>\n",
       "      <th>e</th>\n",
       "      <td>spoonbills</td>\n",
       "      <td>6.0</td>\n",
       "      <td>3</td>\n",
       "      <td>no</td>\n",
       "    </tr>\n",
       "    <tr>\n",
       "      <th>f</th>\n",
       "      <td>Cranes</td>\n",
       "      <td>3.0</td>\n",
       "      <td>4</td>\n",
       "      <td>no</td>\n",
       "    </tr>\n",
       "    <tr>\n",
       "      <th>g</th>\n",
       "      <td>plovers</td>\n",
       "      <td>5.5</td>\n",
       "      <td>2</td>\n",
       "      <td>no</td>\n",
       "    </tr>\n",
       "    <tr>\n",
       "      <th>i</th>\n",
       "      <td>spoonbills</td>\n",
       "      <td>8.0</td>\n",
       "      <td>3</td>\n",
       "      <td>no</td>\n",
       "    </tr>\n",
       "    <tr>\n",
       "      <th>j</th>\n",
       "      <td>spoonbills</td>\n",
       "      <td>4.0</td>\n",
       "      <td>2</td>\n",
       "      <td>no</td>\n",
       "    </tr>\n",
       "  </tbody>\n",
       "</table>\n",
       "</div>"
      ],
      "text/plain": [
       "        birds  age  visits priority\n",
       "a      Cranes  3.5       2      yes\n",
       "b      Cranes  4.0       4      yes\n",
       "c     plovers  1.5       3       no\n",
       "d  spoonbills  3.5       4       no\n",
       "e  spoonbills  6.0       3       no\n",
       "f      Cranes  3.0       4       no\n",
       "g     plovers  5.5       2       no\n",
       "i  spoonbills  8.0       3       no\n",
       "j  spoonbills  4.0       2       no"
      ]
     },
     "execution_count": 61,
     "metadata": {},
     "output_type": "execute_result"
    }
   ],
   "source": [
    "# iv\n",
    "df.drop_duplicates(inplace=True)\n",
    "df"
   ]
  },
  {
   "cell_type": "markdown",
   "metadata": {},
   "source": [
    "---"
   ]
  },
  {
   "cell_type": "markdown",
   "metadata": {
    "id": "sqOZLR5YbpD3"
   },
   "source": [
    "#### Question on IPL Data\n",
    "\n",
    "IPL Data Link :  https://drive.google.com/file/d/1yKVUuexl6lIKuFQy7uIPgDgXhJ0L4SIg/view?usp=share_link\n",
    "\n",
    "https://www.kaggle.com/datasets/vora1011/ipl-2008-to-2021-all-match-dataset?select=IPL_Matches_2008_2022.csv\n",
    "\n",
    "Download ipl matches 2008-2022 file."
   ]
  },
  {
   "cell_type": "markdown",
   "metadata": {
    "id": "MCNrLdLxbvuq"
   },
   "source": [
    "##### `Q-5:` In IPL matches dataset some teams name has changed.\n",
    "You will have to consider them as same.\n",
    "```\n",
    "'Delhi Capitals' formerly as 'Delhi Daredevils'\n",
    "'Punjab Kings' formerly as 'Kings XI Punjab'\n",
    "'Rising Pune Supergiant' formerly as 'Rising Pune Supergiants'\n",
    "```\n",
    "You need to make changes accordingly. Consider current name for each teams.\n",
    "\n",
    "Be careful Gujrat Titans and Gujrat Lions are different teams."
   ]
  },
  {
   "cell_type": "code",
   "execution_count": 63,
   "metadata": {
    "id": "gf1uEhRlbunm"
   },
   "outputs": [],
   "source": [
    "# code here\n",
    "ipl = pd.read_csv(r\"C:\\Users\\SESA702302\\OneDrive - Schneider Electric\\Personal\\0.0 Data Science Personal\\6.0 Week 6 - Pandas\\4.0 Pandas_Dataframe - Task\\IPL_Matches_2008_2022.csv\")"
   ]
  },
  {
   "cell_type": "code",
   "execution_count": 68,
   "metadata": {},
   "outputs": [],
   "source": [
    "ipl['Team1'] = np.where(ipl['Team1'] == 'Delhi Daredevils', 'Delhi Capitals',\n",
    "                       np.where(ipl['Team1'] == 'Kings XI Punjab', 'Punjab Kings',\n",
    "                               np.where(ipl['Team1'] == 'Rising Pune Supergiants', 'Rising Pune Supergiant',\n",
    "                                       np.where(ipl['Team1'] == 'Deccan Chargers', 'Sunrisers Hyderabad',ipl['Team1']))))\n",
    "\n",
    "ipl['Team2'] = np.where(ipl['Team2'] == 'Delhi Daredevils', 'Delhi Capitals',\n",
    "                       np.where(ipl['Team2'] == 'Kings XI Punjab', 'Punjab Kings',\n",
    "                               np.where(ipl['Team2'] == 'Rising Pune Supergiants', 'Rising Pune Supergiant',\n",
    "                                       np.where(ipl['Team2'] == 'Deccan Chargers', 'Sunrisers Hyderabad',ipl['Team2']))))\n",
    "\n",
    "ipl['TossWinner'] = np.where(ipl['TossWinner'] == 'Delhi Daredevils', 'Delhi Capitals',\n",
    "                       np.where(ipl['TossWinner'] == 'Kings XI Punjab', 'Punjab Kings',\n",
    "                               np.where(ipl['TossWinner'] == 'Rising Pune Supergiants', 'Rising Pune Supergiant',\n",
    "                                       np.where(ipl['TossWinner'] == 'Deccan Chargers', 'Sunrisers Hyderabad',ipl['TossWinner']))))\n",
    "\n",
    "ipl['WinningTeam'] = np.where(ipl['WinningTeam'] == 'Delhi Daredevils', 'Delhi Capitals',\n",
    "                       np.where(ipl['WinningTeam'] == 'Kings XI Punjab', 'Punjab Kings',\n",
    "                               np.where(ipl['WinningTeam'] == 'Rising Pune Supergiants', 'Rising Pune Supergiant',\n",
    "                                       np.where(ipl['WinningTeam'] == 'Deccan Chargers', 'Sunrisers Hyderabad',ipl['WinningTeam']))))"
   ]
  },
  {
   "cell_type": "markdown",
   "metadata": {},
   "source": [
    "---"
   ]
  },
  {
   "cell_type": "markdown",
   "metadata": {
    "id": "vL5TaqJxbzUd"
   },
   "source": [
    "##### `Q-6` Write a code which can display the bar chart of top 5 teams who have played maximum number of matches in the IPL.\n",
    ">  Hint: Be careful the data is divided in 2 different cols(Team 1 and Team 2)\n"
   ]
  },
  {
   "cell_type": "code",
   "execution_count": 79,
   "metadata": {
    "id": "wqUs7AFbb1x_"
   },
   "outputs": [
    {
     "data": {
      "text/plain": [
       "<Axes: >"
      ]
     },
     "execution_count": 79,
     "metadata": {},
     "output_type": "execute_result"
    },
    {
     "data": {
      "image/png": "[encoded data removed]",
      "text/plain": [
       "<Figure size 640x480 with 1 Axes>"
      ]
     },
     "metadata": {},
     "output_type": "display_data"
    }
   ],
   "source": [
    "# code here\n",
    "(ipl['Team1'].value_counts() + ipl['Team2'].value_counts()).sort_values(ascending=False).head(5).plot.bar()\n"
   ]
  },
  {
   "cell_type": "markdown",
   "metadata": {},
   "source": [
    "---"
   ]
  },
  {
   "cell_type": "markdown",
   "metadata": {
    "id": "VORfLMaVb3E2"
   },
   "source": [
    "##### `Q-7:` Player who got Most no. of player of the match award playing against Mumbai Indians.\n",
    "> Just for this question assume player of the match award is given to players from winning team. Although this is true in most of the cases.\n"
   ]
  },
  {
   "cell_type": "code",
   "execution_count": 101,
   "metadata": {
    "id": "9e5ZROJgb5ie"
   },
   "outputs": [
    {
     "data": {
      "text/plain": [
       "SPD Smith     4\n",
       "KL Rahul      4\n",
       "SK Raina      4\n",
       "JH Kallis     3\n",
       "CH Gayle      3\n",
       "             ..\n",
       "JJ Bumrah     1\n",
       "AJ Finch      1\n",
       "SS Iyer       1\n",
       "GJ Bailey     1\n",
       "MV Boucher    1\n",
       "Name: Player_of_Match, Length: 68, dtype: int64"
      ]
     },
     "execution_count": 101,
     "metadata": {},
     "output_type": "execute_result"
    }
   ],
   "source": [
    "# code here\n",
    "df1 = ipl[((ipl['Team1'] == 'Mumbai Indians') | (ipl['Team2'] == 'Mumbai Indians')) & (ipl['WinningTeam'] != 'Mumbai Indians')]\n",
    "df1['Player_of_Match'].value_counts()"
   ]
  },
  {
   "cell_type": "markdown",
   "metadata": {},
   "source": [
    "---"
   ]
  },
  {
   "cell_type": "markdown",
   "metadata": {
    "id": "cFLzm0egb7AT"
   },
   "source": [
    "##### `Q-8:` Team1 vs Team2 Dashbord\n",
    "Create a function which will take two string(name of two teams) as input. Show win Loss record between them and player getting most player of the match award in matches between these two teams.\n",
    "```\n",
    "team1_vs_team2('Kolkata Knight Riders','Chennai Super Kings')\n",
    "```"
   ]
  },
  {
   "cell_type": "code",
   "execution_count": 130,
   "metadata": {
    "id": "2szkRN5Ab9Py"
   },
   "outputs": [
    {
     "name": "stdout",
     "output_type": "stream",
     "text": [
      "Record between:  Chennai Super Kings and Mumbai Indians\n",
      "----------------------------------------------------------------------\n",
      "Total matches played:  34\n",
      "----------------------------------------------------------------------\n",
      "No of matched each team won: \n",
      "                  Team  No of matches won\n",
      "0       Mumbai Indians                 20\n",
      "1  Chennai Super Kings                 14\n",
      "----------------------------------------------------------------------\n",
      "Player with most MoM award:  KA Pollard\n"
     ]
    }
   ],
   "source": [
    "# code here\n",
    "\n",
    "def winlossrecord(team1, team2):\n",
    "    \n",
    "    ipl_sub = ipl[((ipl['Team1'] == team1) | (ipl['Team2'] == team1)) & ((ipl['Team1'] == team2) | (ipl['Team2'] == team2))]\n",
    "    total_match = ipl_sub.shape[0]\n",
    "    win = ipl_sub['WinningTeam'].value_counts()\n",
    "    win = pd.DataFrame(win).reset_index().rename(columns={'index':'Team', 'WinningTeam':'No of matches won'})\n",
    "    mom = ipl_sub['Player_of_Match'].value_counts().head(1).index[0]\n",
    "    \n",
    "    print(\"Record between: \", team1, \"and\", team2)\n",
    "    print(\"-\"*70)\n",
    "    print(\"Total matches played: \", total_match)\n",
    "    print(\"-\"*70)\n",
    "    print(\"No of matched each team won: \")\n",
    "    print(win)\n",
    "    print(\"-\"*70)\n",
    "    print(\"Player with most MoM award: \", mom)\n",
    "    \n",
    "winlossrecord(\"Chennai Super Kings\", 'Mumbai Indians')"
   ]
  },
  {
   "cell_type": "markdown",
   "metadata": {},
   "source": [
    "---"
   ]
  },
  {
   "cell_type": "markdown",
   "metadata": {
    "id": "sb0c3Gc1b-bd"
   },
   "source": [
    "#####  `Q-9:` Find out the top 7 cities where the matches of Kolkata Knight Riders are played frequently and plot the result as bar chart.\n",
    "\n",
    "*`.plot(kind = \"bar\")` can help you to plot the bar chart. Also you can learn more about this method from [here](https://pandas.pydata.org/docs/reference/api/pandas.DataFrame.plot.html)*\n",
    "\n"
   ]
  },
  {
   "cell_type": "code",
   "execution_count": 136,
   "metadata": {
    "id": "FH-Pq14ncAZy"
   },
   "outputs": [
    {
     "data": {
      "text/plain": [
       "<Axes: >"
      ]
     },
     "execution_count": 136,
     "metadata": {},
     "output_type": "execute_result"
    },
    {
     "data": {
      "image/png": "[encoded data removed]",
      "text/plain": [
       "<Figure size 640x480 with 1 Axes>"
      ]
     },
     "metadata": {},
     "output_type": "display_data"
    }
   ],
   "source": [
    "# code here\n",
    "ipl[(ipl['Team1'] == 'Kolkata Knight Riders') | (ipl['Team2'] == 'Kolkata Knight Riders')]['Venue'].value_counts().head(7).plot(kind = 'bar')"
   ]
  },
  {
   "cell_type": "markdown",
   "metadata": {},
   "source": [
    "---"
   ]
  },
  {
   "cell_type": "markdown",
   "metadata": {
    "id": "NPiPNoJUcBmk"
   },
   "source": [
    "#####  `Q-10:` Find out the average margin for the team Mumbai Indians for only the session 2011."
   ]
  },
  {
   "cell_type": "code",
   "execution_count": 141,
   "metadata": {
    "id": "WPbS12ThcEAj"
   },
   "outputs": [
    {
     "data": {
      "text/plain": [
       "19.25"
      ]
     },
     "execution_count": 141,
     "metadata": {},
     "output_type": "execute_result"
    }
   ],
   "source": [
    "# code here\n",
    "ipl[((ipl['Team1'] == 'Mumbai Indians') | (ipl['Team2'] == 'Mumbai Indians')) & (ipl['Season'] == '2011')]['Margin'].mean()"
   ]
  }
 ],
 "metadata": {
  "colab": {
   "provenance": []
  },
  "kernelspec": {
   "display_name": "Python 3 (ipykernel)",
   "language": "python",
   "name": "python3"
  },
  "language_info": {
   "codemirror_mode": {
    "name": "ipython",
    "version": 3
   },
   "file_extension": ".py",
   "mimetype": "text/x-python",
   "name": "python",
   "nbconvert_exporter": "python",
   "pygments_lexer": "ipython3",
   "version": "3.9.17"
  }
 },
 "nbformat": 4,
 "nbformat_minor": 1
}
