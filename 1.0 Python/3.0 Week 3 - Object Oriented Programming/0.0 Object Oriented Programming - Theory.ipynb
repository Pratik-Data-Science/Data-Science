{
 "cells": [
  {
   "cell_type": "markdown",
   "id": "57748473",
   "metadata": {},
   "source": [
    "### Object Oriented Programming"
   ]
  },
  {
   "cell_type": "markdown",
   "id": "2437c7fd",
   "metadata": {},
   "source": [
    "---"
   ]
  },
  {
   "cell_type": "markdown",
   "id": "77cb15af",
   "metadata": {},
   "source": [
    "##### What is Object Oriented Programming?"
   ]
  },
  {
   "cell_type": "markdown",
   "id": "47c2038f",
   "metadata": {},
   "source": [
    "Object-Oriented Programming (OOP) is a way of writing computer programs by creating \"objects\" that can hold data and code to work with that data.\n",
    "\n",
    "Imagine an object as a container that holds information and the tools to work with that information. These objects can be based on blueprints called \"classes,\" which define what the objects can do and what kind of information they can hold.\n",
    "OOP helps organize code in a more logical and reusable way, making it easier to build and maintain complex programs. It's like building with Lego blocks, where you can create different things using the same set of standard pieces"
   ]
  },
  {
   "cell_type": "markdown",
   "id": "321ced6d",
   "metadata": {},
   "source": [
    "---"
   ]
  },
  {
   "cell_type": "markdown",
   "id": "5f524946",
   "metadata": {},
   "source": [
    "##### What is object in OOP?"
   ]
  },
  {
   "cell_type": "markdown",
   "id": "aef4b75f",
   "metadata": {},
   "source": [
    "Think of a class as a blueprint or template for creating something, and an object as the actual thing created from that blueprint. For example, a class \"Car\" can have attributes like color and model, and methods like \"drive\" and \"stop\". An object of the class \"Car\" could be a specific car like \"Toyota Camry\" with a color \"red\". So, the class defines what the object will be like, and the object is the actual instance based on that definition."
   ]
  },
  {
   "cell_type": "markdown",
   "id": "1fa0446e",
   "metadata": {},
   "source": [
    "---"
   ]
  },
  {
   "cell_type": "markdown",
   "id": "5b731492",
   "metadata": {},
   "source": [
    "##### What exactly OOP does?"
   ]
  },
  {
   "cell_type": "markdown",
   "id": "08ddae97",
   "metadata": {},
   "source": [
    "The primary strength of OOP is that it empowers programmers to craft/create their own data types.\n",
    "\n",
    "Python considers all the data types as object"
   ]
  },
  {
   "cell_type": "markdown",
   "id": "8123f7b4",
   "metadata": {},
   "source": [
    "---"
   ]
  },
  {
   "cell_type": "markdown",
   "id": "4e9ad1db",
   "metadata": {},
   "source": [
    "##### What are the principles of OOP?"
   ]
  },
  {
   "cell_type": "markdown",
   "id": "b1bb4188",
   "metadata": {},
   "source": [
    "<b>1. Class:</b> In object-oriented programming (OOP), a class is a blueprint for creating objects (instances). It defines the properties (attributes) and behaviors (methods) that objects of the class will have. Essentially, a class serves as a template for creating objects with similar attributes and behaviors. It encapsulates the data and methods that operate on the data.<br>\n",
    "<b>2. Object:</b>Object is an instance of class<br>\n",
    "<b>3. Encapsulation:</b> Bundling data and methods that work on the data into a single unit, preventing direct access to the data from outside the unit.<br>\n",
    "<b>4. Abstraction:</b> Hiding the complex implementation details and showing only the necessary features of an object.<br>\n",
    "<b>5. Inheritance:</b> Creating new classes from existing ones, allowing the new classes to inherit the properties and behaviors of the existing classes.<br>\n",
    "<b>6. Polymorphism:</b> The ability of different classes to be treated as objects of a common superclass, allowing for more flexibility and dynamic behavior."
   ]
  },
  {
   "cell_type": "markdown",
   "id": "a0a97706",
   "metadata": {},
   "source": [
    "---"
   ]
  },
  {
   "cell_type": "markdown",
   "id": "98e7ddae",
   "metadata": {},
   "source": [
    "##### What exactly does a class contain?"
   ]
  },
  {
   "cell_type": "markdown",
   "id": "e03c2449",
   "metadata": {},
   "source": [
    "<b>1. Attributes/Fields/Properties:</b> These are the data members that represent the state of the object. They define the characteristics or features of the object.<br>\n",
    "<b>2. Methods/Functions:</b> These are the behaviors or actions that the object can perform. They operate on the object's data and provide functionality to the object.<br>\n",
    "<b>3. Constructor:</b> This is a special method used for initializing new objects of the class. It sets initial values for the object's attributes.<br>\n",
    "<b>4. Other special methods:</b> These include methods for operator overloading, representing the object as a string, comparing objects, and more.<br>\n",
    "The combination of these elements defines the structure and behavior of objects created from the class."
   ]
  },
  {
   "cell_type": "markdown",
   "id": "d23b5899",
   "metadata": {},
   "source": [
    "---"
   ]
  },
  {
   "cell_type": "markdown",
   "id": "f17f2c11",
   "metadata": {},
   "source": [
    "##### What is object literal?"
   ]
  },
  {
   "cell_type": "markdown",
   "id": "22e4e704",
   "metadata": {},
   "source": [
    "In the context of Object-Oriented Programming (OOP), an object literal typically refers to a notation used to represent an instance of a class directly in the source code, without the need for a formal class definition.\n",
    "\n",
    "We can create a list in 2 ways:\n",
    "- L = list() This is inheriting class\n",
    "- L = [1,2,3,4,5] This is creating an object without inherting class, therefore its called literal"
   ]
  },
  {
   "cell_type": "markdown",
   "id": "5e80cd06",
   "metadata": {},
   "source": [
    "---"
   ]
  },
  {
   "cell_type": "markdown",
   "id": "ddee40ae",
   "metadata": {},
   "source": [
    "##### What is Pascal case?"
   ]
  },
  {
   "cell_type": "markdown",
   "id": "cadbaf7b",
   "metadata": {},
   "source": [
    "Pascal case is a convention for naming identifiers in which the first letter of each word in a compound word is capitalized, and there are no spaces between the words. For example, \"PascalCaseExample\"."
   ]
  },
  {
   "cell_type": "markdown",
   "id": "3bdda57a",
   "metadata": {},
   "source": [
    "---"
   ]
  },
  {
   "cell_type": "markdown",
   "id": "597b6967",
   "metadata": {},
   "source": [
    "##### What are different classes in Python?"
   ]
  },
  {
   "cell_type": "markdown",
   "id": "8be8f81a",
   "metadata": {},
   "source": [
    "There are mainly 2 classes in Python. They are:\n",
    "- Built-in classes: These are classes that are built into the Python language, such as int, str, list, dict, and many others.\n",
    "- Custom classes: These are user-defined classes created by the programmer to model real-world entities or abstract concepts.\n"
   ]
  },
  {
   "cell_type": "markdown",
   "id": "bb1fa18a",
   "metadata": {},
   "source": [
    "---"
   ]
  },
  {
   "cell_type": "markdown",
   "id": "0f11a8b3",
   "metadata": {},
   "source": [
    "---"
   ]
  },
  {
   "cell_type": "markdown",
   "id": "11b8c489",
   "metadata": {},
   "source": [
    "##### What is the difference between methods and functions?"
   ]
  },
  {
   "cell_type": "markdown",
   "id": "4e362a56",
   "metadata": {},
   "source": [
    "In object-oriented programming (OOP), a method is a function that is associated with a specific class. It is defined within the class and operates on instances of the class. Methods have access to the data stored in the instance and can modify that data. In Python, methods are defined using the def keyword within a class.\n",
    "\n",
    "On the other hand, a function is a block of code that is organized and named, and can be called to perform a specific task. Functions in Python are defined using the def keyword outside of a class.\n",
    "\n",
    "In this example, bark is a method of the Dog class, and add_numbers is a function. The bark method operates on an instance of the Dog class and has access to the name attribute of that instance. The add_numbers function is not associated with any class and can be called independently.\n",
    "\n",
    "In summary, methods are functions that are associated with a class and operate on instances of the class, while functions are independent blocks of code that can be called to perform specific tasks."
   ]
  },
  {
   "cell_type": "code",
   "execution_count": 7,
   "id": "cc862512",
   "metadata": {},
   "outputs": [],
   "source": [
    "# Here's a simple example to illustrate the difference:\n",
    "class Dog:\n",
    "    def __init__(self, name):\n",
    "        self.name = name\n",
    "    def bark(self):\n",
    "        print(f\"{self.name} says woof!\")\n",
    "def add_numbers(x, y):\n",
    "    return x + y\n"
   ]
  },
  {
   "cell_type": "markdown",
   "id": "735c9903",
   "metadata": {},
   "source": [
    "---"
   ]
  },
  {
   "cell_type": "markdown",
   "id": "96d9af2a",
   "metadata": {},
   "source": [
    "##### What is a class diagram?"
   ]
  },
  {
   "cell_type": "markdown",
   "id": "bc059c39",
   "metadata": {},
   "source": [
    "A class diagram is a type of static structure diagram in the Unified Modeling Language (UML) that describes the structure of a system by showing the system's classes, their attributes, methods, and the relationships among the classes. It's commonly used in object-oriented modeling to visualize the structure of a system."
   ]
  },
  {
   "cell_type": "markdown",
   "id": "dba92597",
   "metadata": {},
   "source": [
    "---"
   ]
  },
  {
   "cell_type": "markdown",
   "id": "3bb2f219",
   "metadata": {},
   "source": [
    "##### What is magic method/Dunder method?"
   ]
  },
  {
   "cell_type": "markdown",
   "id": "c7e86388",
   "metadata": {},
   "source": [
    "In Python, a \"magic method\" refers to special methods that start and end with double underscores, like __init__, __str__, __add__, etc. These methods allow you to define specific behaviors for your custom objects. For example, __init__ is used to initialize a newly created object, __str__ is used to define the string representation of an object, and __add__ is used to define the behavior of the + operator when used with your custom objects. Magic methods are a powerful feature of Python's object-oriented programming. If you have more questions about Python or anything else, feel free to ask!\n",
    " "
   ]
  },
  {
   "cell_type": "markdown",
   "id": "3b8c167c",
   "metadata": {},
   "source": [
    "---"
   ]
  },
  {
   "cell_type": "markdown",
   "id": "e74c7623",
   "metadata": {},
   "source": [
    "##### What is constructor?"
   ]
  },
  {
   "cell_type": "markdown",
   "id": "2815fdd4",
   "metadata": {},
   "source": [
    "In object-oriented programming (OOP), a constructor is a special type of method (magic method) that is automatically called when an instance (object) of a class is created. Its primary purpose is to initialize the newly created object.\n",
    "In Python, the constructor method is called \"__init__\" (double underscore init double underscore)."
   ]
  },
  {
   "cell_type": "markdown",
   "id": "3218b436",
   "metadata": {},
   "source": [
    "---"
   ]
  },
  {
   "cell_type": "markdown",
   "id": "235739ec",
   "metadata": {},
   "source": [
    "##### What is the benefit of using constructor?"
   ]
  },
  {
   "cell_type": "markdown",
   "id": "d67b7f3c",
   "metadata": {},
   "source": [
    "In the context of a constructor, you'd typically write code to handle tasks that are essential for the object's functionality (consideration related task) but should not be directly controlled by the user. For instance, establishing a connection to a database is a prime example of this.\n",
    "\n",
    "Here's an example of how you might frame it:"
   ]
  },
  {
   "cell_type": "code",
   "execution_count": 8,
   "id": "fc5654d7",
   "metadata": {},
   "outputs": [],
   "source": [
    "class DatabaseConnection:\n",
    "    def __init__(self, username, password, database_name):\n",
    "        # Perform tasks to establish a database connection\n",
    "        self.connection = self._connect_to_database(username, password, database_name)\n",
    "    \n",
    "    def _connect_to_database(self, username, password, database_name):\n",
    "        # Actual implementation to establish a database connection\n",
    "        # ...\n",
    "        # Return the database connection object\n",
    "        return database_connection_object"
   ]
  },
  {
   "cell_type": "markdown",
   "id": "ad6f84bf",
   "metadata": {},
   "source": [
    "In this example, the _connect_to_database method is a private method that handles the intricacies of establishing the connection. By encapsulating this logic within the constructor and a private method, you ensure that the user doesn't directly control the connection process, thereby maintaining better control over the object's behavior.\n",
    "This approach aligns with the principle of encapsulation in object-oriented programming, enhancing the security and robustness of the code.\n",
    "\n",
    "Name of constructor can not be changed"
   ]
  },
  {
   "cell_type": "markdown",
   "id": "66938896",
   "metadata": {},
   "source": [
    "---"
   ]
  },
  {
   "cell_type": "markdown",
   "id": "b803f267",
   "metadata": {},
   "source": [
    "##### What is the golden rule of OOP?"
   ]
  },
  {
   "cell_type": "markdown",
   "id": "387ee6a0",
   "metadata": {},
   "source": [
    "Anything present inside a class can only be accessed by object\n",
    "\n",
    "Two methods under a class cannot call eachother"
   ]
  },
  {
   "cell_type": "markdown",
   "id": "eef36043",
   "metadata": {},
   "source": [
    "---"
   ]
  },
  {
   "cell_type": "markdown",
   "id": "4f7dd4ea",
   "metadata": {},
   "source": [
    "##### What is self?"
   ]
  },
  {
   "cell_type": "markdown",
   "id": "331b8a34",
   "metadata": {},
   "source": [
    "self is nothing but the current object of the class with which we are working currently.\n",
    "\n",
    "As per the golden ruleof OOP, no method under the class can talk to each other. Its only the object who has this power. Therefore, you use self to access the attributes and methods of that same class. It's a bit like saying \"this is me\" inside the class, so you can do things and access your own stuff. It helps keep everything organized and separate for each instance of the class."
   ]
  },
  {
   "cell_type": "markdown",
   "id": "d1573a2c",
   "metadata": {},
   "source": [
    "---"
   ]
  },
  {
   "cell_type": "markdown",
   "id": "4c32cae0",
   "metadata": {},
   "source": [
    "##### What are different types of constructor?"
   ]
  },
  {
   "cell_type": "markdown",
   "id": "cda0df0a",
   "metadata": {},
   "source": [
    "In object-oriented programming, constructors are special methods used for initializing objects. In Python, there are two main types of constructors:\n",
    "\n",
    "<b>1. Default/Non-parameterized Constructor:</b> Also known as the no-argument constructor, it is automatically invoked when an object is created. It doesn't take any parameters.<br>\n",
    "<b>2. Parameterized Constructor:</b> This type of constructor takes parameters to initialize the object with specific values. It allows you to pass values to the object at the time of its creation.\n",
    "These constructors help set up the initial state of objects and are a fundamental part of object-oriented programming.\n",
    " "
   ]
  },
  {
   "cell_type": "markdown",
   "id": "8ee83d60",
   "metadata": {},
   "source": [
    "---"
   ]
  },
  {
   "cell_type": "markdown",
   "id": "1d4e113e",
   "metadata": {},
   "source": [
    "##### What is __str__ (double underscore) method?"
   ]
  },
  {
   "cell_type": "markdown",
   "id": "80f90ae9",
   "metadata": {},
   "source": [
    "In Python, __str__ is a special method used to define a custom string representation of an object. When you use the print function or str() to convert an object to a string, Python calls the __str__ method of that object if it's defined.\n",
    "\n",
    "By implementing the __str__ method in a class, you can specify how instances of that class should be represented as strings. This is useful for providing a more meaningful or descriptive output when the object is printed or used as a string."
   ]
  },
  {
   "cell_type": "code",
   "execution_count": 10,
   "id": "0b252885",
   "metadata": {},
   "outputs": [
    {
     "name": "stdout",
     "output_type": "stream",
     "text": [
      "A Toyota Camry\n"
     ]
    }
   ],
   "source": [
    "class Car:\n",
    "    def __init__(self, brand, model):\n",
    "        self.brand = brand\n",
    "        self.model = model\n",
    "\n",
    "    def __str__(self):\n",
    "        return f\"A {self.brand} {self.model}\"\n",
    "\n",
    "my_car = Car(\"Toyota\", \"Camry\")\n",
    "print(my_car)  # Output: A Toyota Camry"
   ]
  },
  {
   "cell_type": "markdown",
   "id": "4f801b46",
   "metadata": {},
   "source": [
    "---"
   ]
  },
  {
   "cell_type": "markdown",
   "id": "84b07425",
   "metadata": {},
   "source": [
    "##### How can we see all the magic methods in Python?"
   ]
  },
  {
   "cell_type": "markdown",
   "id": "164b0c2d",
   "metadata": {},
   "source": [
    "<b>dir(int)</b> will display all the magic methods present in Python"
   ]
  },
  {
   "cell_type": "markdown",
   "id": "96869c99",
   "metadata": {},
   "source": [
    "---"
   ]
  },
  {
   "cell_type": "code",
   "execution_count": null,
   "id": "f4a9866a",
   "metadata": {},
   "outputs": [],
   "source": []
  }
 ],
 "metadata": {
  "kernelspec": {
   "display_name": "Python 3 (ipykernel)",
   "language": "python",
   "name": "python3"
  },
  "language_info": {
   "codemirror_mode": {
    "name": "ipython",
    "version": 3
   },
   "file_extension": ".py",
   "mimetype": "text/x-python",
   "name": "python",
   "nbconvert_exporter": "python",
   "pygments_lexer": "ipython3",
   "version": "3.9.17"
  }
 },
 "nbformat": 4,
 "nbformat_minor": 5
}
