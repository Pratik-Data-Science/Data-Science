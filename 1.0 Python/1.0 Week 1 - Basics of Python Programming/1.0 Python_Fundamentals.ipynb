{
 "cells": [
  {
   "cell_type": "markdown",
   "metadata": {},
   "source": [
    "### Python Fundamentals\n",
    "This notebook will cover topics related to Python basics/fundamentals. Below are the topics that will be covered:\n",
    "1. Python Output Function\n",
    "2. Introduction to Data types\n",
    "3. Introduction to Variables\n",
    "4. How to use comments in Python\n",
    "5. Keywords and Identifiers\n",
    "6. How to take user input\n",
    "7. Type Conversion\n",
    "8. Literals"
   ]
  },
  {
   "cell_type": "markdown",
   "metadata": {},
   "source": [
    "---"
   ]
  },
  {
   "cell_type": "markdown",
   "metadata": {
    "id": "YsLB36tWHEwz"
   },
   "source": [
    "#### 1. Python Output Function\n",
    "This section of the notebook will talk about the way in which we can display our output. The function that helps us to do so is <b>print()</b> function"
   ]
  },
  {
   "cell_type": "code",
   "execution_count": 1,
   "metadata": {
    "colab": {
     "base_uri": "https://localhost:8080/"
    },
    "id": "5l246_zLHIEV",
    "outputId": "0db6b10e-d5ee-41b1-e71c-e96f1cb15221"
   },
   "outputs": [
    {
     "name": "stdout",
     "output_type": "stream",
     "text": [
      "This is my forst python program\n"
     ]
    }
   ],
   "source": [
    "print('This is my forst python program')"
   ]
  },
  {
   "cell_type": "code",
   "execution_count": 2,
   "metadata": {
    "colab": {
     "base_uri": "https://localhost:8080/"
    },
    "id": "OErEI7l8mCiC",
    "outputId": "8364f484-f3a8-4888-a28d-c877d8428329"
   },
   "outputs": [
    {
     "name": "stdout",
     "output_type": "stream",
     "text": [
      "Pratik Kumar\n"
     ]
    }
   ],
   "source": [
    "# Printing string\n",
    "print('Pratik Kumar')"
   ]
  },
  {
   "cell_type": "code",
   "execution_count": 3,
   "metadata": {
    "colab": {
     "base_uri": "https://localhost:8080/",
     "height": 133
    },
    "id": "bGdSXNW0mHci",
    "outputId": "16a1a5c9-9dd6-4902-f0bc-61e141188397"
   },
   "outputs": [
    {
     "ename": "SyntaxError",
     "evalue": "invalid syntax (1404312844.py, line 1)",
     "output_type": "error",
     "traceback": [
      "\u001b[1;36m  Cell \u001b[1;32mIn[3], line 1\u001b[1;36m\u001b[0m\n\u001b[1;33m    print(Pratik Kumar)\u001b[0m\n\u001b[1;37m                 ^\u001b[0m\n\u001b[1;31mSyntaxError\u001b[0m\u001b[1;31m:\u001b[0m invalid syntax\n"
     ]
    }
   ],
   "source": [
    "print(Pratik Kumar)"
   ]
  },
  {
   "cell_type": "markdown",
   "metadata": {},
   "source": [
    "It is throwing an error because we need to provide string within inverted commas else Python will confuse what to print. Same is not th case with other data types"
   ]
  },
  {
   "cell_type": "code",
   "execution_count": 4,
   "metadata": {
    "colab": {
     "base_uri": "https://localhost:8080/"
    },
    "id": "aFr6XX8bmTRe",
    "outputId": "ab2ce95a-a159-43a8-b81b-2742bcf329e0"
   },
   "outputs": [
    {
     "name": "stdout",
     "output_type": "stream",
     "text": [
      "9674\n"
     ]
    }
   ],
   "source": [
    "# Printing integer\n",
    "print(9674)"
   ]
  },
  {
   "cell_type": "code",
   "execution_count": 5,
   "metadata": {
    "colab": {
     "base_uri": "https://localhost:8080/"
    },
    "id": "fqM5TR1kmW9y",
    "outputId": "170586bf-fec1-4a37-cc12-6c46f8a3e79b"
   },
   "outputs": [
    {
     "name": "stdout",
     "output_type": "stream",
     "text": [
      "7.74567\n"
     ]
    }
   ],
   "source": [
    "# Printing float\n",
    "print(7.74567)"
   ]
  },
  {
   "cell_type": "code",
   "execution_count": null,
   "metadata": {
    "colab": {
     "base_uri": "https://localhost:8080/"
    },
    "id": "w6S9LAPnmZLN",
    "outputId": "2803b89e-a74e-483a-98e9-a09037d3957d"
   },
   "outputs": [
    {
     "name": "stdout",
     "output_type": "stream",
     "text": [
      "True\n"
     ]
    }
   ],
   "source": [
    "# Printing Boolean\n",
    "print(True)"
   ]
  },
  {
   "cell_type": "code",
   "execution_count": 6,
   "metadata": {
    "colab": {
     "base_uri": "https://localhost:8080/"
    },
    "id": "y-NL43EFmi-n",
    "outputId": "f7224a28-5110-4ff8-9922-cb2d4880b4a6"
   },
   "outputs": [
    {
     "name": "stdout",
     "output_type": "stream",
     "text": [
      "Hello 1 4.5 True\n"
     ]
    }
   ],
   "source": [
    "# Print function is so powerful that it can print different data types in a single function, which is not the case with\n",
    "# other programming languages\n",
    "print('Hello',1,4.5,True)"
   ]
  },
  {
   "cell_type": "code",
   "execution_count": 7,
   "metadata": {
    "colab": {
     "base_uri": "https://localhost:8080/"
    },
    "id": "APl7m_hom225",
    "outputId": "1586b432-c584-46d0-9a17-0e708f6e008c"
   },
   "outputs": [
    {
     "name": "stdout",
     "output_type": "stream",
     "text": [
      "Hello/1/4.5/True\n"
     ]
    }
   ],
   "source": [
    "# print function has a parameter seperated by which we can set to any value\n",
    "print('Hello',1,4.5,True,sep='/')"
   ]
  },
  {
   "cell_type": "code",
   "execution_count": 8,
   "metadata": {
    "colab": {
     "base_uri": "https://localhost:8080/"
    },
    "id": "7mGPkXASnXxx",
    "outputId": "95fe8b81-be2d-4d49-a64c-fb9758b45972"
   },
   "outputs": [
    {
     "name": "stdout",
     "output_type": "stream",
     "text": [
      "hello\n",
      "world\n"
     ]
    }
   ],
   "source": [
    "# Here the print function displays the values in different lines as the end parameter is set to new line by default\n",
    "print('hello')\n",
    "print('world')"
   ]
  },
  {
   "cell_type": "code",
   "execution_count": 9,
   "metadata": {
    "colab": {
     "base_uri": "https://localhost:8080/"
    },
    "id": "0m4dTp6gngVj",
    "outputId": "f89346b9-b976-4f2a-a32f-ffe0fc206677"
   },
   "outputs": [
    {
     "name": "stdout",
     "output_type": "stream",
     "text": [
      "hello-world\n"
     ]
    }
   ],
   "source": [
    "# If we change the end parameter we can get result in different format\n",
    "print('hello',end='-')\n",
    "print('world')"
   ]
  },
  {
   "cell_type": "markdown",
   "metadata": {},
   "source": [
    "---"
   ]
  },
  {
   "cell_type": "markdown",
   "metadata": {
    "id": "BzuI6KObHLBH"
   },
   "source": [
    "#### 2. Introduction to Data types\n",
    "Below are the data types which are comonly used in Python<br>\n",
    "a. Integer<br>\n",
    "b. Decimal/Float<br>\n",
    "c. Boolean<br>\n",
    "d. String/Text<br>\n",
    "e. Complex Numbers<br>\n",
    "f. List<br>\n",
    "g. Tuple<br>\n",
    "h. Sets<br>\n",
    "i. Dictionary"
   ]
  },
  {
   "cell_type": "code",
   "execution_count": 10,
   "metadata": {
    "colab": {
     "base_uri": "https://localhost:8080/"
    },
    "id": "0AD2yELLHOD5",
    "outputId": "2665257f-1f5c-449c-e8fc-0dc3f5b2905c"
   },
   "outputs": [
    {
     "name": "stdout",
     "output_type": "stream",
     "text": [
      "5678\n",
      "1e+308\n",
      "inf\n"
     ]
    }
   ],
   "source": [
    "# Integer\n",
    "print(5678)\n",
    "\n",
    "# The highest number that python can handle is 10^308\n",
    "print(1e308)\n",
    "print(1e309)"
   ]
  },
  {
   "cell_type": "code",
   "execution_count": 11,
   "metadata": {
    "colab": {
     "base_uri": "https://localhost:8080/"
    },
    "id": "6zf6tCPNoZqc",
    "outputId": "c358cb7b-c447-4f56-9eae-149c52d88a70"
   },
   "outputs": [
    {
     "name": "stdout",
     "output_type": "stream",
     "text": [
      "456.7627\n",
      "1.7e+308\n",
      "inf\n"
     ]
    }
   ],
   "source": [
    "# Decimal/Float\n",
    "print(456.7627)\n",
    "\n",
    "# The highest decimal that python can handle is 1.7*10^308\n",
    "print(1.7e308)\n",
    "print(1.7e309)"
   ]
  },
  {
   "cell_type": "code",
   "execution_count": 12,
   "metadata": {
    "colab": {
     "base_uri": "https://localhost:8080/"
    },
    "id": "VN8v8HEQoZ3X",
    "outputId": "cec48661-7877-4bda-d53c-db172af05046"
   },
   "outputs": [
    {
     "name": "stdout",
     "output_type": "stream",
     "text": [
      "True\n",
      "False\n"
     ]
    }
   ],
   "source": [
    "# Boolean\n",
    "print(True)\n",
    "print(False)"
   ]
  },
  {
   "cell_type": "code",
   "execution_count": 13,
   "metadata": {
    "colab": {
     "base_uri": "https://localhost:8080/"
    },
    "id": "NEwaubEvpJen",
    "outputId": "4a350868-2948-400c-aeb5-5b3dc6929f86"
   },
   "outputs": [
    {
     "name": "stdout",
     "output_type": "stream",
     "text": [
      "I love Data Science\n"
     ]
    }
   ],
   "source": [
    "# Text/String\n",
    "print('I love Data Science')"
   ]
  },
  {
   "cell_type": "code",
   "execution_count": 14,
   "metadata": {
    "colab": {
     "base_uri": "https://localhost:8080/"
    },
    "id": "L60DWHUVpQzj",
    "outputId": "3e19c8fc-a950-4b86-ee30-ae442cb783f0"
   },
   "outputs": [
    {
     "name": "stdout",
     "output_type": "stream",
     "text": [
      "(7+2j)\n"
     ]
    }
   ],
   "source": [
    "# complex\n",
    "print(7+2j)"
   ]
  },
  {
   "cell_type": "code",
   "execution_count": 15,
   "metadata": {
    "colab": {
     "base_uri": "https://localhost:8080/"
    },
    "id": "u0qI-mUZpWRh",
    "outputId": "18739a04-bc7e-4ea2-f6f8-8f240013ffd6"
   },
   "outputs": [
    {
     "name": "stdout",
     "output_type": "stream",
     "text": [
      "[1, 2, 3, 4, 5, 6, 7, 8, 9]\n"
     ]
    }
   ],
   "source": [
    "# List\n",
    "# Lists are mutable\n",
    "print([1,2,3,4,5,6,7,8,9])"
   ]
  },
  {
   "cell_type": "code",
   "execution_count": 16,
   "metadata": {
    "colab": {
     "base_uri": "https://localhost:8080/"
    },
    "id": "Futbt8RJpefw",
    "outputId": "17b6d674-d6b7-4f20-93a5-065764833d0d"
   },
   "outputs": [
    {
     "name": "stdout",
     "output_type": "stream",
     "text": [
      "(1, 2, 3, 4, 5, 6, 7, 8, 9)\n"
     ]
    }
   ],
   "source": [
    "# Tuple\n",
    "# Tuple are immutable\n",
    "print((1,2,3,4,5,6,7,8,9))"
   ]
  },
  {
   "cell_type": "code",
   "execution_count": 17,
   "metadata": {
    "colab": {
     "base_uri": "https://localhost:8080/"
    },
    "id": "WW-etE4BplMR",
    "outputId": "fd796fce-76a2-4d0e-c611-5592277f657a"
   },
   "outputs": [
    {
     "name": "stdout",
     "output_type": "stream",
     "text": [
      "{1, 2, 3, 4, 5, 6, 7, 8, 9}\n"
     ]
    }
   ],
   "source": [
    "# Sets\n",
    "print({1,2,3,4,5,6,7,8,9})"
   ]
  },
  {
   "cell_type": "code",
   "execution_count": 18,
   "metadata": {
    "colab": {
     "base_uri": "https://localhost:8080/"
    },
    "id": "ssWbznaaprT6",
    "outputId": "f441104a-be19-44e6-df20-02e65b61ad4e"
   },
   "outputs": [
    {
     "name": "stdout",
     "output_type": "stream",
     "text": [
      "{'name': 'Pratik', 'age': '30', 'gender': 'Male', 'weight': 70}\n"
     ]
    }
   ],
   "source": [
    "# Dictionary\n",
    "print({'name':'Pratik','age':'30','gender':'Male','weight':70})"
   ]
  },
  {
   "cell_type": "code",
   "execution_count": 19,
   "metadata": {
    "colab": {
     "base_uri": "https://localhost:8080/"
    },
    "id": "NAJzbOAsq3bG",
    "outputId": "c6dafb00-02e4-46db-fdae-41f567d420bc"
   },
   "outputs": [
    {
     "data": {
      "text/plain": [
       "tuple"
      ]
     },
     "execution_count": 19,
     "metadata": {},
     "output_type": "execute_result"
    }
   ],
   "source": [
    "# type function\n",
    "# By using type function, we can get to know the data type \n",
    "type((1,2,3,4,5))"
   ]
  },
  {
   "cell_type": "markdown",
   "metadata": {},
   "source": [
    "---"
   ]
  },
  {
   "cell_type": "markdown",
   "metadata": {
    "id": "kYD63MF7HOyJ"
   },
   "source": [
    "#### 3. Introduction to Variables\n",
    "Variables are something that we use to store any values. Below are the 3 things important w.r.t. variables:<br>\n",
    "a. Static Vs Dynamic Typing<br>\n",
    "b. Static Vs Dynamic Binding<br>\n",
    "c. stylish declaration techniques<br>"
   ]
  },
  {
   "cell_type": "code",
   "execution_count": 20,
   "metadata": {
    "colab": {
     "base_uri": "https://localhost:8080/"
    },
    "id": "CGybFhzvrjB6",
    "outputId": "bcabc2e5-64e6-4b38-e0d2-b747f5a6bb21"
   },
   "outputs": [
    {
     "name": "stdout",
     "output_type": "stream",
     "text": [
      "Pratik\n",
      "13332\n"
     ]
    }
   ],
   "source": [
    "name = 'Pratik'\n",
    "print(name)\n",
    "\n",
    "a = 4567\n",
    "b = 8765\n",
    "\n",
    "print(a + b)"
   ]
  },
  {
   "cell_type": "code",
   "execution_count": 21,
   "metadata": {
    "id": "K6LN3JhfsKIp"
   },
   "outputs": [
    {
     "ename": "SyntaxError",
     "evalue": "invalid syntax (2876302089.py, line 5)",
     "output_type": "error",
     "traceback": [
      "\u001b[1;36m  Cell \u001b[1;32mIn[21], line 5\u001b[1;36m\u001b[0m\n\u001b[1;33m    int a = 5\u001b[0m\n\u001b[1;37m        ^\u001b[0m\n\u001b[1;31mSyntaxError\u001b[0m\u001b[1;31m:\u001b[0m invalid syntax\n"
     ]
    }
   ],
   "source": [
    "# Dynamic Typing - used in Python\n",
    "a = 5\n",
    "\n",
    "# Static Typing - used in Java, C, C++\n",
    "int a = 5"
   ]
  },
  {
   "cell_type": "code",
   "execution_count": 24,
   "metadata": {
    "colab": {
     "base_uri": "https://localhost:8080/"
    },
    "id": "5UpzC2tlskka",
    "outputId": "6856e01c-23f7-4329-ba43-356935e2b75b"
   },
   "outputs": [
    {
     "name": "stdout",
     "output_type": "stream",
     "text": [
      "4567\n",
      "Pratik\n"
     ]
    }
   ],
   "source": [
    "# Dynamic Binding\n",
    "a = 4567\n",
    "print(a)\n",
    "a = 'Pratik'\n",
    "print(a)\n",
    "\n",
    "# Static Binding\n",
    "int a = 4567"
   ]
  },
  {
   "cell_type": "markdown",
   "metadata": {},
   "source": [
    "We can define variable in below 3 ways"
   ]
  },
  {
   "cell_type": "code",
   "execution_count": 25,
   "metadata": {
    "colab": {
     "base_uri": "https://localhost:8080/"
    },
    "id": "-PObryFetHAE",
    "outputId": "54bf13ae-7aa6-4f26-91e4-bc37e1d6cd69",
    "scrolled": true
   },
   "outputs": [
    {
     "name": "stdout",
     "output_type": "stream",
     "text": [
      "1 2 3\n"
     ]
    }
   ],
   "source": [
    "# 1. Assigning all variable seperately in seperate lines\n",
    "a = 1\n",
    "b = 2\n",
    "c = 3\n",
    "print(a,b,c)"
   ]
  },
  {
   "cell_type": "code",
   "execution_count": 26,
   "metadata": {
    "colab": {
     "base_uri": "https://localhost:8080/"
    },
    "id": "AYkxWEMItN9K",
    "outputId": "3bd1b96d-9c44-40c5-81c1-cf34acff3b87"
   },
   "outputs": [
    {
     "name": "stdout",
     "output_type": "stream",
     "text": [
      "1 2 3\n"
     ]
    }
   ],
   "source": [
    "# 2. Assigning all variable seperately in single line\n",
    "a,b,c = 1,2,3\n",
    "print(a,b,c)"
   ]
  },
  {
   "cell_type": "code",
   "execution_count": 27,
   "metadata": {
    "colab": {
     "base_uri": "https://localhost:8080/"
    },
    "id": "gcaARQh6tUtP",
    "outputId": "62f43b5b-aff2-4313-cb2c-c6285493b712"
   },
   "outputs": [
    {
     "name": "stdout",
     "output_type": "stream",
     "text": [
      "5 5 5\n"
     ]
    }
   ],
   "source": [
    "# 3. Assigning all variable a single value in single line using assignment operator\n",
    "a=b=c= 5\n",
    "print(a,b,c)"
   ]
  },
  {
   "cell_type": "markdown",
   "metadata": {},
   "source": [
    "---"
   ]
  },
  {
   "cell_type": "markdown",
   "metadata": {
    "id": "yFj92Q4FubDk"
   },
   "source": [
    "#### 4. How to use comments in Python\n",
    "Comments can be used in three ways"
   ]
  },
  {
   "cell_type": "code",
   "execution_count": 28,
   "metadata": {
    "colab": {
     "base_uri": "https://localhost:8080/"
    },
    "id": "4FJF20FiudCO",
    "outputId": "9b618c48-8ff7-4a89-9eb6-27a1fda91ee7"
   },
   "outputs": [
    {
     "name": "stdout",
     "output_type": "stream",
     "text": [
      "10\n"
     ]
    }
   ],
   "source": [
    "# this is the first line to the comment\n",
    "# this is the second line to the comment\n",
    "\n",
    "a = 4 # Assigning value to variable\n",
    "b = 6 # Assigning value to variable\n",
    "\n",
    "\"\"\"this is the first line to the comment\n",
    "this is the second line to the comment\"\"\"\n",
    "print(a+b)"
   ]
  },
  {
   "cell_type": "markdown",
   "metadata": {
    "id": "jMHr-5raHRpW"
   },
   "source": [
    "#### 5. Keywords & Identifiers"
   ]
  },
  {
   "cell_type": "code",
   "execution_count": 29,
   "metadata": {
    "id": "frABVH7pHXF8"
   },
   "outputs": [],
   "source": [
    "# Keywords are something that python has reserved for some special operations. There are close to 32 keywords in python"
   ]
  },
  {
   "cell_type": "code",
   "execution_count": 30,
   "metadata": {
    "colab": {
     "base_uri": "https://localhost:8080/"
    },
    "id": "5EFqNEfpwwS5",
    "outputId": "18b3f0d1-3442-4d73-8456-b60f51b43b81"
   },
   "outputs": [
    {
     "name": "stdout",
     "output_type": "stream",
     "text": [
      "Pratik Kumar\n",
      "Pratik kumar\n"
     ]
    }
   ],
   "source": [
    "# Identifiers are names given to different elements in the code, such as variables, functions, classes, and so on\n",
    "# identiers can not be keyword\n",
    "# You can't start with a digit\n",
    "name1 = 'Pratik Kumar'\n",
    "print(name1)\n",
    "\n",
    "# You can use underscore as one and only special chars\n",
    "_ = 'Pratik kumar'\n",
    "print(_)"
   ]
  },
  {
   "cell_type": "markdown",
   "metadata": {
    "id": "YkAqDv9Dwxcv"
   },
   "source": [
    "---"
   ]
  },
  {
   "cell_type": "markdown",
   "metadata": {
    "id": "EsWPc3AvHYTJ"
   },
   "source": [
    "#### 6. How to take user input"
   ]
  },
  {
   "cell_type": "code",
   "execution_count": 32,
   "metadata": {
    "colab": {
     "base_uri": "https://localhost:8080/",
     "height": 53
    },
    "id": "seRvw18RHhIo",
    "outputId": "1ccae179-67aa-40a0-8242-90d9d8772be8"
   },
   "outputs": [
    {
     "name": "stdout",
     "output_type": "stream",
     "text": [
      "Enter Your Name: Pratik Kumar\n"
     ]
    },
    {
     "data": {
      "text/plain": [
       "'Pratik Kumar'"
      ]
     },
     "execution_count": 32,
     "metadata": {},
     "output_type": "execute_result"
    }
   ],
   "source": [
    "input('Enter Your Name: ')"
   ]
  },
  {
   "cell_type": "code",
   "execution_count": 33,
   "metadata": {},
   "outputs": [
    {
     "name": "stdout",
     "output_type": "stream",
     "text": [
      "enter first number2\n",
      "enter second number3\n",
      "23\n",
      "<class 'str'>\n"
     ]
    }
   ],
   "source": [
    "# take input from users and store them in a variable\n",
    "fnum = input('enter first number')\n",
    "snum = input('enter second number')\n",
    "\n",
    "# add the 2 variables\n",
    "result = fnum + snum\n",
    "\n",
    "# print the result\n",
    "print(result)\n",
    "print(type(fnum))"
   ]
  },
  {
   "cell_type": "code",
   "execution_count": 34,
   "metadata": {
    "colab": {
     "base_uri": "https://localhost:8080/"
    },
    "id": "HDIZMv91zbXY",
    "outputId": "1be9a559-7407-4eb2-b45f-dd2360d113d2"
   },
   "outputs": [
    {
     "name": "stdout",
     "output_type": "stream",
     "text": [
      "enter first number5\n",
      "enter second number3\n",
      "<class 'int'> <class 'int'>\n",
      "8\n",
      "<class 'int'>\n"
     ]
    }
   ],
   "source": [
    "# Since the data type of values seeked from user is always string, therefore we need to forst convert it to \n",
    "# integer/decimal to get the correct result\n",
    "# take input from users and store them in a variable\n",
    "fnum = int(input('enter first number'))\n",
    "snum = int(input('enter second number'))\n",
    "\n",
    "print(type(fnum),type(snum))\n",
    "# add the 2 variables\n",
    "result = fnum + snum\n",
    "# print the result\n",
    "print(result)\n",
    "print(type(fnum))"
   ]
  },
  {
   "cell_type": "markdown",
   "metadata": {},
   "source": [
    "---"
   ]
  },
  {
   "cell_type": "markdown",
   "metadata": {
    "id": "TKQ78geyHhz7"
   },
   "source": [
    "#### 7. Type Conversion"
   ]
  },
  {
   "cell_type": "code",
   "execution_count": 36,
   "metadata": {
    "colab": {
     "base_uri": "https://localhost:8080/",
     "height": 240
    },
    "id": "BEuLxINMHnzk",
    "outputId": "9d599247-28de-4511-f3ff-c45aecbec048"
   },
   "outputs": [
    {
     "name": "stdout",
     "output_type": "stream",
     "text": [
      "14.2\n",
      "<class 'int'> <class 'float'>\n"
     ]
    },
    {
     "ename": "TypeError",
     "evalue": "unsupported operand type(s) for +: 'int' and 'str'",
     "output_type": "error",
     "traceback": [
      "\u001b[1;31m---------------------------------------------------------------------------\u001b[0m",
      "\u001b[1;31mTypeError\u001b[0m                                 Traceback (most recent call last)",
      "Cell \u001b[1;32mIn[36], line 5\u001b[0m\n\u001b[0;32m      2\u001b[0m \u001b[38;5;28mprint\u001b[39m(\u001b[38;5;241m7\u001b[39m\u001b[38;5;241m+\u001b[39m\u001b[38;5;241m7.2\u001b[39m)\n\u001b[0;32m      3\u001b[0m \u001b[38;5;28mprint\u001b[39m(\u001b[38;5;28mtype\u001b[39m(\u001b[38;5;241m7\u001b[39m),\u001b[38;5;28mtype\u001b[39m(\u001b[38;5;241m7.2\u001b[39m))\n\u001b[1;32m----> 5\u001b[0m \u001b[38;5;28mprint\u001b[39m(\u001b[38;5;241;43m7\u001b[39;49m\u001b[43m \u001b[49m\u001b[38;5;241;43m+\u001b[39;49m\u001b[43m \u001b[49m\u001b[38;5;124;43m'\u001b[39;49m\u001b[38;5;124;43m7\u001b[39;49m\u001b[38;5;124;43m'\u001b[39;49m)\n",
      "\u001b[1;31mTypeError\u001b[0m: unsupported operand type(s) for +: 'int' and 'str'"
     ]
    }
   ],
   "source": [
    "# Implicit type conversion\n",
    "print(7+7.2)\n",
    "print(type(7),type(7.2))\n",
    "\n",
    "print(7 + '7')"
   ]
  },
  {
   "cell_type": "code",
   "execution_count": 39,
   "metadata": {
    "colab": {
     "base_uri": "https://localhost:8080/"
    },
    "id": "-dyXjVl7115d",
    "outputId": "c8b98b45-1eb4-4691-c677-2ef9643ab605"
   },
   "outputs": [
    {
     "name": "stdout",
     "output_type": "stream",
     "text": [
      "5\n"
     ]
    },
    {
     "data": {
      "text/plain": [
       "4.0"
      ]
     },
     "execution_count": 39,
     "metadata": {},
     "output_type": "execute_result"
    }
   ],
   "source": [
    "# Explicit type conversion\n",
    "\n",
    "# int to str\n",
    "print(str(5))\n",
    "\n",
    "# float\n",
    "float(4)"
   ]
  },
  {
   "cell_type": "markdown",
   "metadata": {},
   "source": [
    "---"
   ]
  },
  {
   "cell_type": "markdown",
   "metadata": {
    "id": "7skMGSSFHoWw"
   },
   "source": [
    "#### 8. Literals\n",
    "Whatever values we store in a variable is called literal"
   ]
  },
  {
   "cell_type": "code",
   "execution_count": 41,
   "metadata": {
    "id": "4Q6wfNw1Huao"
   },
   "outputs": [
    {
     "name": "stdout",
     "output_type": "stream",
     "text": [
      "10 100 200 300\n",
      "7.5 190.0 3.3e-07\n",
      "3.14j 3.14 0.0\n"
     ]
    }
   ],
   "source": [
    "a = 0b1010 #Binary Literals\n",
    "b = 100 #Decimal Literal\n",
    "c = 0o310 #Octal Literal\n",
    "d = 0x12c #Hexadecimal Literal\n",
    "\n",
    "#Float Literal\n",
    "float_1 = 7.5\n",
    "float_2 = 1.9e2\n",
    "float_3 = 3.3e-7\n",
    "\n",
    "#Complex Literal\n",
    "x = 3.14j\n",
    "\n",
    "print(a, b, c, d)\n",
    "print(float_1, float_2,float_3)\n",
    "print(x, x.imag, x.real)"
   ]
  },
  {
   "cell_type": "code",
   "execution_count": 43,
   "metadata": {
    "colab": {
     "base_uri": "https://localhost:8080/"
    },
    "id": "8UhbuqqD4X4x",
    "outputId": "2d04193f-9a26-48d8-bc1a-58590402b3bf"
   },
   "outputs": [
    {
     "name": "stdout",
     "output_type": "stream",
     "text": [
      "0.0\n",
      "3.14\n"
     ]
    }
   ],
   "source": [
    "# binary\n",
    "# We can seperately print real and imiginary part of complex number\n",
    "\n",
    "x = 3.14j\n",
    "print(x.real)\n",
    "print(x.imag)"
   ]
  },
  {
   "cell_type": "code",
   "execution_count": 46,
   "metadata": {
    "colab": {
     "base_uri": "https://localhost:8080/"
    },
    "id": "gPIDz0f6bwc1",
    "outputId": "a06272b3-e416-483c-fbca-4ab6c72ed19e"
   },
   "outputs": [
    {
     "name": "stdout",
     "output_type": "stream",
     "text": [
      "I love Python\n",
      "I love Python\n",
      "Pratik\n",
      "This is a multiline string with more than one line code.\n",
      "😀😆🤣\n",
      "raw \\n string\n"
     ]
    }
   ],
   "source": [
    "string = 'I love Python'\n",
    "strings = \"I love Python\"\n",
    "char = \"Pratik\"\n",
    "multiline_str = \"\"\"This is a multiline string with more than one line code.\"\"\"\n",
    "unicode = u\"\\U0001f600\\U0001F606\\U0001F923\" # u represents unicode\n",
    "raw_str = r\"raw \\n string\"\n",
    "\n",
    "print(string)\n",
    "print(strings)\n",
    "print(char)\n",
    "print(multiline_str)\n",
    "print(unicode)\n",
    "print(raw_str)"
   ]
  },
  {
   "cell_type": "code",
   "execution_count": 47,
   "metadata": {
    "colab": {
     "base_uri": "https://localhost:8080/"
    },
    "id": "78PBluZub3vT",
    "outputId": "bb181fa0-3e65-4dd4-f2d2-54c9785baba1"
   },
   "outputs": [
    {
     "name": "stdout",
     "output_type": "stream",
     "text": [
      "a: 50\n",
      "b: 49\n"
     ]
    }
   ],
   "source": [
    "# True and False stores the value of 1 and 0 respectively\n",
    "a = True + 49\n",
    "b = False + 49\n",
    "\n",
    "print(\"a:\", a)\n",
    "print(\"b:\", b)"
   ]
  },
  {
   "cell_type": "code",
   "execution_count": 48,
   "metadata": {
    "colab": {
     "base_uri": "https://localhost:8080/"
    },
    "id": "g9ANbWx_b6q1",
    "outputId": "ad5546f4-62f8-4add-fdc9-b4c23625fd33"
   },
   "outputs": [
    {
     "name": "stdout",
     "output_type": "stream",
     "text": [
      "None\n"
     ]
    }
   ],
   "source": [
    "# None is a data type that we declare if we will be using it later\n",
    "z = None\n",
    "print(z)"
   ]
  }
 ],
 "metadata": {
  "colab": {
   "provenance": []
  },
  "kernelspec": {
   "display_name": "Python 3 (ipykernel)",
   "language": "python",
   "name": "python3"
  },
  "language_info": {
   "codemirror_mode": {
    "name": "ipython",
    "version": 3
   },
   "file_extension": ".py",
   "mimetype": "text/x-python",
   "name": "python",
   "nbconvert_exporter": "python",
   "pygments_lexer": "ipython3",
   "version": "3.9.17"
  }
 },
 "nbformat": 4,
 "nbformat_minor": 1
}
