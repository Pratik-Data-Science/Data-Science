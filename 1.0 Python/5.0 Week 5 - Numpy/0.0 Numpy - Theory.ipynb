{
 "cells": [
  {
   "cell_type": "markdown",
   "id": "5b689335",
   "metadata": {},
   "source": [
    "### NumPy"
   ]
  },
  {
   "cell_type": "markdown",
   "id": "4dfc54cf",
   "metadata": {},
   "source": [
    "---"
   ]
  },
  {
   "cell_type": "markdown",
   "id": "5f24fb9f",
   "metadata": {},
   "source": [
    "##### What is NumPy?"
   ]
  },
  {
   "cell_type": "markdown",
   "id": "78ab27c1",
   "metadata": {},
   "source": [
    "NumPy is a popular Python library used for numerical computing. It provides support for large, multi-dimensional arrays and matrices, along with a collection of high-level mathematical functions to operate on these arrays. NumPy is widely used for tasks such as linear algebra, random number capability, and Fourier transform. It is a fundamental package for scientific computing with Python.\n",
    "\n",
    "NumPy is the fundamental package for scientific computing in Python. It is a Python library that provides a multidimensional array object, various derived objects (such as masked arrays and matrices), and an assortment of routines for fast operations on arrays, including mathematical, logical, shape manipulation, sorting, selecting, I/O, discrete Fourier transforms, basic linear algebra, basic statistical operations, random simulation and much more.\n",
    "\n",
    "At the core of the NumPy package, is the ndarray object. This encapsulates n-dimensional arrays of homogeneous data types"
   ]
  },
  {
   "cell_type": "markdown",
   "id": "b7a5d4ff",
   "metadata": {},
   "source": [
    "---"
   ]
  },
  {
   "cell_type": "markdown",
   "id": "e9680a16",
   "metadata": {},
   "source": [
    "##### What is scientific computation?"
   ]
  },
  {
   "cell_type": "markdown",
   "id": "13b6b203",
   "metadata": {},
   "source": [
    "Scientific computing refers to the use of computer algorithms, models, and simulations to solve complex scientific and engineering problems. It involves mathematical modeling and using numerical analysis to solve, analyze, and visualize real-world problems in fields such as physics, chemistry, biology, engineering, and more. Scientific computing often requires handling large datasets, performing complex calculations, and implementing algorithms for tasks like optimization, simulation, and data analysis. NumPy, for instance, is a key tool used in scientific computing due to its ability to efficiently manipulate large arrays of data and perform complex mathematical operations."
   ]
  },
  {
   "cell_type": "markdown",
   "id": "c0f3875d",
   "metadata": {},
   "source": [
    "---"
   ]
  },
  {
   "cell_type": "markdown",
   "id": "d7ca8620",
   "metadata": {},
   "source": [
    "##### Why do we need array in python if we already have a list?"
   ]
  },
  {
   "cell_type": "markdown",
   "id": "697a8bd4",
   "metadata": {},
   "source": [
    "While lists and arrays in Python seem similar, arrays offer distinct advantages. Arrays are more efficient for numerical operations as they store homogeneous data types, making them faster for numerical computations compared to lists. Additionally, arrays can be more memory efficient than lists, especially for large datasets. However, lists are more flexible and can store different data types within the same list. So, the choice between the two depends on the specific requirements of the task at hand.\n",
    "\n",
    "In the early days of the rising demand for data analysis, R and Matlab were the preferred tools due to Python's slower performance in handling large datasets. To address this limitation, developers introduced a new data type called ndarray, written in C for efficiency. To seamlessly integrate this powerful data type with Python, a wrapper was created, laying the foundation for what we now know as NumPy. This move significantly enhanced Python's capability for handling large datasets and performing complex numerical computations."
   ]
  },
  {
   "cell_type": "markdown",
   "id": "4c916d5f",
   "metadata": {},
   "source": [
    "---"
   ]
  },
  {
   "cell_type": "markdown",
   "id": "0527debe",
   "metadata": {},
   "source": [
    "##### What is the difference between numpy array and python sequences?"
   ]
  },
  {
   "cell_type": "markdown",
   "id": "fdea6ceb",
   "metadata": {},
   "source": [
    "Python sequences - list, tuple, set, dictionary\n",
    "\n",
    "- NumPy arrays have a fixed size at creation, unlike Python lists (which can grow dynamically). Changing the size of an ndarray will create a new array and delete the original.\n",
    "\n",
    "- The elements in a NumPy array are all required to be of the same data type, and thus will be the same size in memory.\n",
    "\n",
    "- NumPy arrays facilitate advanced mathematical and other types of operations on large numbers of data. Typically, such operations are executed more efficiently and with less code than is possible using Python’s built-in sequences.\n",
    "\n",
    "- A growing plethora of scientific and mathematical Python-based packages are using NumPy arrays; though these typically support Python-sequence input, they convert such input to NumPy arrays prior to processing, and they often output NumPy arrays."
   ]
  },
  {
   "cell_type": "markdown",
   "id": "795cb2db",
   "metadata": {},
   "source": [
    "---"
   ]
  },
  {
   "cell_type": "markdown",
   "id": "4988ad07",
   "metadata": {},
   "source": [
    "##### What are 1D, 2D and 3D array called?"
   ]
  },
  {
   "cell_type": "markdown",
   "id": "5e597844",
   "metadata": {},
   "source": [
    "- 1D array is called vector\n",
    "- 2D array is called matrix\n",
    "- 3D array is called tensor\n"
   ]
  },
  {
   "cell_type": "markdown",
   "id": "9314381a",
   "metadata": {},
   "source": [
    "---"
   ]
  },
  {
   "cell_type": "markdown",
   "id": "83675430",
   "metadata": {},
   "source": [
    "##### What is dtype in numpy?"
   ]
  },
  {
   "cell_type": "markdown",
   "id": "455ae119",
   "metadata": {},
   "source": [
    "In NumPy, dtype stands for \"data type,\" and it's an object that describes how the bytes in a fixed-size block of memory can be interpreted. It specifies the type of the data, such as integer, float, or custom-defined data types. This allows NumPy to understand how to interpret the data in memory and perform appropriate operations. Specifying the dtype is essential for efficient memory usage and ensuring appropriate data manipulation."
   ]
  },
  {
   "cell_type": "markdown",
   "id": "0eccee3d",
   "metadata": {},
   "source": [
    "---"
   ]
  },
  {
   "cell_type": "markdown",
   "id": "b1100b76",
   "metadata": {},
   "source": [
    "##### What is reshape function in numpy?"
   ]
  },
  {
   "cell_type": "markdown",
   "id": "8c9de1d6",
   "metadata": {},
   "source": [
    "The reshape function in NumPy allows you to change the shape of an array without changing its data. It takes the desired new shape as input and returns a new array with the new shape. For example, you can convert a 1D array into a 2D array or vice versa. This function is particularly useful when you need to prepare your data for specific operations or when you need to match the input requirements of certain algorithms or models."
   ]
  },
  {
   "cell_type": "markdown",
   "id": "3825ad1b",
   "metadata": {},
   "source": [
    "---"
   ]
  },
  {
   "cell_type": "markdown",
   "id": "9a3d359c",
   "metadata": {},
   "source": [
    "##### What is arange function in numpy?"
   ]
  },
  {
   "cell_type": "markdown",
   "id": "fc2f1f47",
   "metadata": {},
   "source": [
    "The arange function in NumPy creates an array of sequential values within a specified range. It takes in the start, stop, and step parameters and generates values from the start (inclusive) to the stop (exclusive) with the specified step size. It's similar to Python's built-in range function but returns a NumPy array. This function is handy for creating arrays with a specific range of values for various numerical operations and computations."
   ]
  },
  {
   "cell_type": "markdown",
   "id": "d34d2507",
   "metadata": {},
   "source": [
    "---"
   ]
  },
  {
   "cell_type": "markdown",
   "id": "21f1e399",
   "metadata": {},
   "source": [
    "##### What is np.ones and why it is useful?"
   ]
  },
  {
   "cell_type": "markdown",
   "id": "98c95b55",
   "metadata": {},
   "source": [
    "The np.ones function in NumPy is used to create an array filled with ones. It takes the shape of the array as input and returns an array of the specified shape filled with ones. This function is commonly used when you need to initialize an array with ones, for example, when starting with a blank array that needs to be filled with specific values later on in a computation or when you want to perform matrix multiplication or other operations where an array of ones is needed."
   ]
  },
  {
   "cell_type": "markdown",
   "id": "63ab69b6",
   "metadata": {},
   "source": [
    "---"
   ]
  },
  {
   "cell_type": "markdown",
   "id": "2fef1956",
   "metadata": {},
   "source": [
    "##### What is linspace in numpy?"
   ]
  },
  {
   "cell_type": "markdown",
   "id": "10dff136",
   "metadata": {},
   "source": [
    "In NumPy, the linspace function is used to create an array of evenly spaced values over a specified interval. It takes in the start, stop, and num parameters, where start is the starting value of the sequence, stop is the end value of the sequence, and num is the number of samples to generate. The linspace function then returns an array with num equally spaced values between start and stop, inclusive of both endpoints. This is particularly useful for generating input values for mathematical functions, creating smooth plots, and other numerical computations."
   ]
  },
  {
   "cell_type": "markdown",
   "id": "6de04ef2",
   "metadata": {},
   "source": [
    "---"
   ]
  },
  {
   "cell_type": "markdown",
   "id": "4a8a64cc",
   "metadata": {},
   "source": [
    "##### What are the attributes of NumPy?"
   ]
  },
  {
   "cell_type": "markdown",
   "id": "e6ae3e42",
   "metadata": {},
   "source": [
    "In NumPy, arrays have several attributes that provide useful information about the array. Some common attributes include:\n",
    "\n",
    "- <b>shape:</b> This attribute returns a tuple representing the shape of the array, i.e., the size of the array in each dimension.\n",
    "- <b>dtype:</b> This attribute returns the data type of the elements in the array.\n",
    "- <b>size:</b> This attribute returns the total number of elements in the array.\n",
    "- <b>ndim:</b> This attribute returns the number of dimensions of the array.\n",
    "- <b>itemsize:</b> This attribute returns the total number of bytes consumed by the array's elements.\n",
    "These attributes are helpful for understanding the structure, size, and data type of the array."
   ]
  },
  {
   "cell_type": "markdown",
   "id": "d5e0d501",
   "metadata": {},
   "source": [
    "---"
   ]
  },
  {
   "cell_type": "markdown",
   "id": "d1e903c9",
   "metadata": {},
   "source": [
    "##### What is fancy indexing?"
   ]
  },
  {
   "cell_type": "markdown",
   "id": "56a9a0cb",
   "metadata": {},
   "source": [
    "Fancy indexing in NumPy refers to the indexing of arrays using arrays of indices or boolean arrays rather than simple scalars. This allows for more complex and flexible indexing operations. There are two types of fancy indexing:\n",
    "\n",
    "- Using integer arrays as indices: You can pass an array of indices to access or modify multiple elements at once.\n",
    "- Using boolean arrays as indices: You can use boolean arrays to select elements based on a condition.\n",
    "\n",
    "Fancy indexing can be a powerful tool for selecting, modifying, and manipulating elements within NumPy arrays."
   ]
  },
  {
   "cell_type": "markdown",
   "id": "ebaef8f7",
   "metadata": {},
   "source": [
    "---"
   ]
  },
  {
   "cell_type": "markdown",
   "id": "b3310698",
   "metadata": {},
   "source": [
    "##### What is boolean indexing?"
   ]
  },
  {
   "cell_type": "markdown",
   "id": "ddfd921e",
   "metadata": {},
   "source": [
    "Boolean indexing in NumPy is a technique that involves selecting elements from an array based on a boolean condition. This means that you use a boolean array to index another array, and only the elements corresponding to the True values in the boolean array are selected.\n",
    "\n",
    "This can be very useful for filtering, updating, or manipulating elements within NumPy arrays based on specific conditions."
   ]
  },
  {
   "cell_type": "markdown",
   "id": "96ce1287",
   "metadata": {},
   "source": [
    "---"
   ]
  },
  {
   "cell_type": "markdown",
   "id": "02e79551",
   "metadata": {},
   "source": [
    "##### What is broadcasting in numpy?"
   ]
  },
  {
   "cell_type": "markdown",
   "id": "6877ac30",
   "metadata": {},
   "source": [
    "Broadcasting in NumPy is a powerful mechanism that allows arrays of different shapes to be combined, or \"broadcasted,\" together for arithmetic and other operations. This eliminates the need to explicitly write loops to perform these operations. The smaller array is \"broadcasted\" across the larger array so that they have compatible shapes.\n",
    "\n",
    "Broadcasting greatly simplifies operations and makes the code more concise."
   ]
  },
  {
   "cell_type": "markdown",
   "id": "4615c584",
   "metadata": {},
   "source": [
    "---"
   ]
  },
  {
   "cell_type": "markdown",
   "id": "a9f038c9",
   "metadata": {},
   "source": [
    "##### What are the rules of broadcasting?"
   ]
  },
  {
   "cell_type": "markdown",
   "id": "0bc5895e",
   "metadata": {},
   "source": [
    "The broadcasting rule in NumPy follows these steps:<br>\n",
    "**1. Make the two arrays have the same number of dimensions.**<br>\n",
    "- If the numbers of dimensions of the two arrays are different, add new dimensions with size 1 to the head of the array with the smaller dimension.<br>\n",
    "\n",
    "**2. Make each dimension of the two arrays the same size.**<br>\n",
    "- If the sizes of each dimension of the two arrays do not match, dimensions with size 1 are stretched to the size of the other array.\n",
    "- If there is a dimension whose size is not 1 in either of the two arrays, it cannot be broadcasted, and an error is raised.\n",
    "\n",
    "<img src = \"https://jakevdp.github.io/PythonDataScienceHandbook/figures/02.05-broadcasting.png\">"
   ]
  },
  {
   "cell_type": "markdown",
   "id": "1b03cede",
   "metadata": {},
   "source": [
    "---"
   ]
  },
  {
   "cell_type": "markdown",
   "id": "c988896a",
   "metadata": {},
   "source": [
    "##### What is the difference between np.nan and None?"
   ]
  },
  {
   "cell_type": "markdown",
   "id": "53fd488b",
   "metadata": {},
   "source": [
    "np.nan and None are both used to represent missing or undefined values, but they have different uses and behaviors in Python and NumPy.\n",
    "\n",
    "- np.nan is a special floating-point value used in NumPy to represent \"Not a Number.\" It is typically used to represent missing or undefined numerical data in arrays. When used in numerical operations, np.nan propagates throughout the calculations, indicating that the result is also undefined.\n",
    "- None is a built-in Python object used to represent the absence of a value or a null value. It can be used for any type of data, not just numerical. It is often used in Python code to indicate that a variable does not have a value or to represent the absence of a meaningful result.\n",
    "\n",
    "In summary, np.nan is specifically for numerical data in NumPy arrays, while None is a general placeholder for the absence of a value in Python. Always be mindful of their different use cases when working with numerical data and general Python objects."
   ]
  },
  {
   "cell_type": "markdown",
   "id": "b9c8b59e",
   "metadata": {},
   "source": [
    "---"
   ]
  },
  {
   "cell_type": "markdown",
   "id": "1efc7bf0",
   "metadata": {},
   "source": [
    "##### What is the difference between np.sort and sorting?"
   ]
  },
  {
   "cell_type": "markdown",
   "id": "4f422715",
   "metadata": {},
   "source": [
    "np.sort\n",
    "is a function in the numpy library that returns a sorted copy of an array along a specified axis, without modifying the original array. On the other hand, \"sorting\" refers to the general concept of arranging elements in a specified order, which can be done using various methods and algorithms. In essence,\n",
    "np.sort\n",
    "is a specific implementation of the more general concept of sorting."
   ]
  },
  {
   "cell_type": "code",
   "execution_count": null,
   "id": "ed7ffc99",
   "metadata": {},
   "outputs": [],
   "source": []
  }
 ],
 "metadata": {
  "kernelspec": {
   "display_name": "Python 3 (ipykernel)",
   "language": "python",
   "name": "python3"
  },
  "language_info": {
   "codemirror_mode": {
    "name": "ipython",
    "version": 3
   },
   "file_extension": ".py",
   "mimetype": "text/x-python",
   "name": "python",
   "nbconvert_exporter": "python",
   "pygments_lexer": "ipython3",
   "version": "3.9.17"
  }
 },
 "nbformat": 4,
 "nbformat_minor": 5
}
