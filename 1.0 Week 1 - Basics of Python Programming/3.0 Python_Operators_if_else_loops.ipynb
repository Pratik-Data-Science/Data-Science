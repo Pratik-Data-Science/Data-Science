{
 "cells": [
  {
   "cell_type": "markdown",
   "metadata": {
    "id": "y1HMD4oI7FL7"
   },
   "source": [
    "### A) Operators in Python\n",
    "\n",
    "- Arithmetic Operators\n",
    "- Relational Operators\n",
    "- Logical Operators\n",
    "- Bitwise Operators\n",
    "- Assignment Operators\n",
    "- Membership Operators\n",
    "\n",
    "### B) If else statement\n",
    "### C) Modules in Python\n",
    "### D) Loops in Python"
   ]
  },
  {
   "cell_type": "markdown",
   "metadata": {},
   "source": [
    "---"
   ]
  },
  {
   "cell_type": "markdown",
   "metadata": {},
   "source": [
    "### A) Operators"
   ]
  },
  {
   "cell_type": "markdown",
   "metadata": {},
   "source": [
    "##### 1. Arithmetic Operators"
   ]
  },
  {
   "cell_type": "code",
   "execution_count": 36,
   "metadata": {
    "colab": {
     "base_uri": "https://localhost:8080/"
    },
    "id": "a7cegk-f7U4-",
    "outputId": "77490d0d-316e-4611-9cd7-8c99e64fca2a"
   },
   "outputs": [
    {
     "name": "stdout",
     "output_type": "stream",
     "text": [
      "11\n",
      "-1\n",
      "30\n",
      "2.5\n",
      "2\n",
      "1\n",
      "125\n"
     ]
    }
   ],
   "source": [
    "# Arithmetric Operators\n",
    "print(5+6)\n",
    "\n",
    "print(5-6)\n",
    "\n",
    "print(5*6)\n",
    "\n",
    "print(5/2)\n",
    "\n",
    "print(5//2)\n",
    "\n",
    "print(5%2)\n",
    "\n",
    "print(5**3)"
   ]
  },
  {
   "cell_type": "markdown",
   "metadata": {},
   "source": [
    "---"
   ]
  },
  {
   "cell_type": "markdown",
   "metadata": {},
   "source": [
    "##### 2. Relational operators"
   ]
  },
  {
   "cell_type": "code",
   "execution_count": 37,
   "metadata": {
    "colab": {
     "base_uri": "https://localhost:8080/"
    },
    "id": "TMIQKhFd7Y5A",
    "outputId": "573867e9-962a-45a6-a313-dcaa8b9a6406"
   },
   "outputs": [
    {
     "name": "stdout",
     "output_type": "stream",
     "text": [
      "False\n",
      "True\n",
      "True\n",
      "True\n",
      "True\n",
      "False\n"
     ]
    }
   ],
   "source": [
    "# Relational Operators\n",
    "print(4>5)\n",
    "\n",
    "print(4<5)\n",
    "\n",
    "print(4>=4)\n",
    "\n",
    "print(4<=4)\n",
    "\n",
    "print(4==4)\n",
    "\n",
    "print(4!=4)"
   ]
  },
  {
   "cell_type": "markdown",
   "metadata": {},
   "source": [
    "---"
   ]
  },
  {
   "cell_type": "markdown",
   "metadata": {},
   "source": [
    "##### 3. Logical Operators"
   ]
  },
  {
   "cell_type": "code",
   "execution_count": 38,
   "metadata": {
    "colab": {
     "base_uri": "https://localhost:8080/"
    },
    "id": "vyxdjDbc7avq",
    "outputId": "4c6a1710-fea3-466c-f6b2-f98de20a2a0b"
   },
   "outputs": [
    {
     "name": "stdout",
     "output_type": "stream",
     "text": [
      "0\n",
      "1\n",
      "False\n"
     ]
    }
   ],
   "source": [
    "# Logical Operators\n",
    "print(1 and 0)\n",
    "\n",
    "print(1 or 0)\n",
    "\n",
    "print(not 1)"
   ]
  },
  {
   "cell_type": "markdown",
   "metadata": {},
   "source": [
    "---"
   ]
  },
  {
   "cell_type": "markdown",
   "metadata": {},
   "source": [
    "##### 4. Bitwise Operator"
   ]
  },
  {
   "cell_type": "code",
   "execution_count": 39,
   "metadata": {
    "colab": {
     "base_uri": "https://localhost:8080/"
    },
    "id": "H4KzpSke7d9l",
    "outputId": "5832a648-6430-425c-8fa7-8dbad5d8d4b3"
   },
   "outputs": [
    {
     "name": "stdout",
     "output_type": "stream",
     "text": [
      "2\n",
      "3\n",
      "1\n",
      "-4\n",
      "1\n",
      "20\n"
     ]
    }
   ],
   "source": [
    "# Bitwise Operators\n",
    "\n",
    "# bitwise and\n",
    "print(2 & 3)\n",
    "\n",
    "# bitwise or\n",
    "print(2 | 3)\n",
    "\n",
    "# bitwise xor\n",
    "print(2 ^ 3)\n",
    "\n",
    "# bitwise nor\n",
    "print(~3)\n",
    "\n",
    "# bitwise left operator\n",
    "print(4 >> 2)\n",
    "\n",
    "# bitwise right operator\n",
    "print(5 << 2)"
   ]
  },
  {
   "cell_type": "markdown",
   "metadata": {},
   "source": [
    "---"
   ]
  },
  {
   "cell_type": "markdown",
   "metadata": {},
   "source": [
    "##### 5. Assignment Operator"
   ]
  },
  {
   "cell_type": "code",
   "execution_count": 44,
   "metadata": {},
   "outputs": [],
   "source": [
    "a = 2"
   ]
  },
  {
   "cell_type": "code",
   "execution_count": 48,
   "metadata": {},
   "outputs": [
    {
     "ename": "SyntaxError",
     "evalue": "invalid syntax (760862191.py, line 1)",
     "output_type": "error",
     "traceback": [
      "\u001b[1;36m  Cell \u001b[1;32mIn[48], line 1\u001b[1;36m\u001b[0m\n\u001b[1;33m    a % = 2\u001b[0m\n\u001b[1;37m        ^\u001b[0m\n\u001b[1;31mSyntaxError\u001b[0m\u001b[1;31m:\u001b[0m invalid syntax\n"
     ]
    }
   ],
   "source": [
    "a % = 2"
   ]
  },
  {
   "cell_type": "code",
   "execution_count": 47,
   "metadata": {},
   "outputs": [
    {
     "data": {
      "text/plain": [
       "0"
      ]
     },
     "execution_count": 47,
     "metadata": {},
     "output_type": "execute_result"
    }
   ],
   "source": [
    "a"
   ]
  },
  {
   "cell_type": "code",
   "execution_count": 42,
   "metadata": {},
   "outputs": [],
   "source": [
    "a %= 2"
   ]
  },
  {
   "cell_type": "code",
   "execution_count": 43,
   "metadata": {},
   "outputs": [
    {
     "data": {
      "text/plain": [
       "0"
      ]
     },
     "execution_count": 43,
     "metadata": {},
     "output_type": "execute_result"
    }
   ],
   "source": [
    "a"
   ]
  },
  {
   "cell_type": "code",
   "execution_count": 41,
   "metadata": {},
   "outputs": [
    {
     "data": {
      "text/plain": [
       "0"
      ]
     },
     "execution_count": 41,
     "metadata": {},
     "output_type": "execute_result"
    }
   ],
   "source": [
    "a%2"
   ]
  },
  {
   "cell_type": "code",
   "execution_count": 15,
   "metadata": {
    "colab": {
     "base_uri": "https://localhost:8080/"
    },
    "id": "8EEm8eHO7gD_",
    "outputId": "a421f118-2ee3-42da-91ff-3cd06de41755"
   },
   "outputs": [
    {
     "name": "stdout",
     "output_type": "stream",
     "text": [
      "2\n",
      "0\n",
      "5\n",
      "Delhi Bangalore\n"
     ]
    }
   ],
   "source": [
    "# Assignment Operators\n",
    "\n",
    "# =\n",
    "# a = 2\n",
    "\n",
    "a = 2\n",
    "print(a)\n",
    "\n",
    "# a = a % 2\n",
    "a %= 2\n",
    "print(a)\n",
    "\n",
    "# a++ ++a\n",
    "a += 5\n",
    "print(a)\n",
    "\n",
    "a = 'Delhi'\n",
    "a += ' Bangalore'\n",
    "print(a)"
   ]
  },
  {
   "cell_type": "markdown",
   "metadata": {},
   "source": [
    "---"
   ]
  },
  {
   "cell_type": "markdown",
   "metadata": {},
   "source": [
    "##### 6. Membership Operator"
   ]
  },
  {
   "cell_type": "code",
   "execution_count": 50,
   "metadata": {
    "colab": {
     "base_uri": "https://localhost:8080/"
    },
    "id": "LzrIz7I87h-W",
    "outputId": "d362a8a0-bbae-406f-bd33-fc6fe789e889"
   },
   "outputs": [
    {
     "name": "stdout",
     "output_type": "stream",
     "text": [
      "True\n",
      "True\n"
     ]
    }
   ],
   "source": [
    "# Membership Operators\n",
    "\n",
    "# in/not in\n",
    "\n",
    "print('D' in 'Delhi')\n",
    "\n",
    "print(1 not in [2,3,4,5,6])"
   ]
  },
  {
   "cell_type": "markdown",
   "metadata": {},
   "source": [
    "---"
   ]
  },
  {
   "cell_type": "markdown",
   "metadata": {},
   "source": [
    "##### Taking input from user"
   ]
  },
  {
   "cell_type": "code",
   "execution_count": 62,
   "metadata": {},
   "outputs": [
    {
     "name": "stdout",
     "output_type": "stream",
     "text": [
      "Enter a number: 3478\n"
     ]
    }
   ],
   "source": [
    "a = int(input(\"Enter a number: \"))"
   ]
  },
  {
   "cell_type": "code",
   "execution_count": 57,
   "metadata": {},
   "outputs": [
    {
     "data": {
      "text/plain": [
       "str"
      ]
     },
     "execution_count": 57,
     "metadata": {},
     "output_type": "execute_result"
    }
   ],
   "source": [
    "type(a)"
   ]
  },
  {
   "cell_type": "code",
   "execution_count": 63,
   "metadata": {},
   "outputs": [],
   "source": [
    "a = 1234567"
   ]
  },
  {
   "cell_type": "code",
   "execution_count": 64,
   "metadata": {},
   "outputs": [
    {
     "data": {
      "text/plain": [
       "int"
      ]
     },
     "execution_count": 64,
     "metadata": {},
     "output_type": "execute_result"
    }
   ],
   "source": [
    "type(a)"
   ]
  },
  {
   "cell_type": "code",
   "execution_count": 65,
   "metadata": {},
   "outputs": [
    {
     "data": {
      "text/plain": [
       "'1234567'"
      ]
     },
     "execution_count": 65,
     "metadata": {},
     "output_type": "execute_result"
    }
   ],
   "source": [
    "str(a)"
   ]
  },
  {
   "cell_type": "code",
   "execution_count": null,
   "metadata": {},
   "outputs": [],
   "source": [
    "123"
   ]
  },
  {
   "cell_type": "code",
   "execution_count": 72,
   "metadata": {
    "colab": {
     "base_uri": "https://localhost:8080/"
    },
    "id": "C-LoVrYGDEuB",
    "outputId": "5842d198-7b4f-4785-cec7-5735603ab873"
   },
   "outputs": [
    {
     "name": "stdout",
     "output_type": "stream",
     "text": [
      "Enter a 3 digit number456\n",
      "15\n"
     ]
    }
   ],
   "source": [
    "# Program - Find the sum of a 3 digit number entered by the user\n",
    "\n",
    "number = int(input('Enter a 3 digit number'))\n",
    "\n",
    "# 345%10 -> 5\n",
    "a = number%10\n",
    "\n",
    "number = number//10\n",
    "\n",
    "# 34%10 -> 4\n",
    "b = number % 10\n",
    "\n",
    "number = number//10\n",
    "# 3 % 10 -> 3\n",
    "c = number % 10\n",
    "\n",
    "print(a + b + c)"
   ]
  },
  {
   "cell_type": "markdown",
   "metadata": {},
   "source": [
    "---"
   ]
  },
  {
   "cell_type": "markdown",
   "metadata": {
    "id": "Iq7CzVFs7mWT"
   },
   "source": [
    "### B) If-else statement in Python"
   ]
  },
  {
   "cell_type": "code",
   "execution_count": 76,
   "metadata": {},
   "outputs": [
    {
     "name": "stdout",
     "output_type": "stream",
     "text": [
      "enter email\" rahul@gmail.com\n",
      "enter password: 1234\n",
      "Incorrect password\n",
      "enter password again: 45678\n",
      "You have sucessfully logged in\n"
     ]
    }
   ],
   "source": [
    "email = input('enter email\" ')\n",
    "password = input('enter password: ')\n",
    "\n",
    "if email == \"rahul@gmail.com\" and password == 45678:\n",
    "    print(\"You have sucessfully logged in\")\n",
    "    \n",
    "elif email == \"rahul@gmail.com\" and password != 45678:\n",
    "    print(\"Incorrect password\")\n",
    "    password = input('enter password again: ')\n",
    "    print(\"You have sucessfully logged in\")\n",
    "    \n",
    "else:\n",
    "    print(\"Incorrect credential\")"
   ]
  },
  {
   "cell_type": "code",
   "execution_count": null,
   "metadata": {
    "colab": {
     "base_uri": "https://localhost:8080/"
    },
    "id": "dGz-83pN7oxe",
    "outputId": "01cd71cf-6af3-464a-dcc1-8c21be5e092c"
   },
   "outputs": [],
   "source": [
    "# login program and indentation\n",
    "# email -> nitish.campusx@gmail.com\n",
    "# password -> 1234\n",
    "\n",
    "email = input('enter email')\n",
    "password = input('enter password')\n",
    "\n",
    "if email == 'nitish.campusx@gmail.com' and password == '1234':\n",
    "  print('Welcome')\n",
    "elif email == 'nitish.campusx@gmail.com' and password != '1234':\n",
    "  # tell the user\n",
    "  print('Incorrect password')\n",
    "  password = input('enter password again')\n",
    "  if password == '1234':\n",
    "    print('Welcome,finally!')\n",
    "  else:\n",
    "    print('beta tumse na ho paayega!')\n",
    "else:\n",
    "  print('Not correct')"
   ]
  },
  {
   "cell_type": "markdown",
   "metadata": {
    "id": "qo_1tY2ABlAX"
   },
   "source": [
    "---"
   ]
  },
  {
   "cell_type": "code",
   "execution_count": 77,
   "metadata": {
    "colab": {
     "base_uri": "https://localhost:8080/"
    },
    "id": "gQpTJbMH3W6_",
    "outputId": "3a2ff0d1-a8d2-4b41-eb50-49612c57b612"
   },
   "outputs": [
    {
     "name": "stdout",
     "output_type": "stream",
     "text": [
      "first num: 5\n",
      "second num: 3\n",
      "third num: 8\n",
      "smallest is  3\n"
     ]
    }
   ],
   "source": [
    "# min of 3 number\n",
    "\n",
    "a = int(input('first num: '))\n",
    "b = int(input('second num: '))\n",
    "c = int(input('third num: '))\n",
    "\n",
    "if a<b and a<c:\n",
    "  print('smallest is ',a)\n",
    "elif b<c:\n",
    "  print('smallest is ',b)\n",
    "else:\n",
    "  print('smallest is ',c)"
   ]
  },
  {
   "cell_type": "markdown",
   "metadata": {},
   "source": [
    "---"
   ]
  },
  {
   "cell_type": "code",
   "execution_count": 21,
   "metadata": {
    "colab": {
     "base_uri": "https://localhost:8080/"
    },
    "id": "hgNqlC5C4jqF",
    "outputId": "d9a4e001-985d-46fe-fdf4-2767dde7d340"
   },
   "outputs": [
    {
     "name": "stdout",
     "output_type": "stream",
     "text": [
      "\n",
      "Hi! how can I help you.\n",
      "1. Enter 1 for pin change\n",
      "2. Enter 2 for balance check\n",
      "3. Enter 3 for withdrawl\n",
      "4. Enter 4 for exit\n",
      "4\n",
      "exit\n"
     ]
    }
   ],
   "source": [
    "# menu driven calculator\n",
    "menu = input(\"\"\"\n",
    "Hi! how can I help you.\n",
    "1. Enter 1 for pin change\n",
    "2. Enter 2 for balance check\n",
    "3. Enter 3 for withdrawl\n",
    "4. Enter 4 for exit\n",
    "\"\"\")\n",
    "\n",
    "if menu == '1':\n",
    "  print('pin change')\n",
    "elif menu == '2':\n",
    "  print('balance')\n",
    "else:\n",
    "  print('exit')"
   ]
  },
  {
   "cell_type": "markdown",
   "metadata": {},
   "source": [
    "---"
   ]
  },
  {
   "cell_type": "markdown",
   "metadata": {
    "id": "532_6mva8A6C"
   },
   "source": [
    "### C) Modules in Python\n",
    "\n",
    "- math\n",
    "- keywords\n",
    "- random\n",
    "- datetime"
   ]
  },
  {
   "cell_type": "markdown",
   "metadata": {},
   "source": [
    "---"
   ]
  },
  {
   "cell_type": "code",
   "execution_count": 78,
   "metadata": {
    "colab": {
     "base_uri": "https://localhost:8080/"
    },
    "id": "x5VXt7wv8G4o",
    "outputId": "0f191ca5-e4c3-4c79-ecf2-dcbd23cbd770"
   },
   "outputs": [
    {
     "data": {
      "text/plain": [
       "14.0"
      ]
     },
     "execution_count": 78,
     "metadata": {},
     "output_type": "execute_result"
    }
   ],
   "source": [
    "# math\n",
    "import math\n",
    "\n",
    "math.sqrt(196)"
   ]
  },
  {
   "cell_type": "markdown",
   "metadata": {},
   "source": [
    "---"
   ]
  },
  {
   "cell_type": "code",
   "execution_count": 23,
   "metadata": {
    "colab": {
     "base_uri": "https://localhost:8080/"
    },
    "id": "FLgAX9pz8HBT",
    "outputId": "63de6b39-b796-475b-9b7d-fa22f2019c90"
   },
   "outputs": [
    {
     "name": "stdout",
     "output_type": "stream",
     "text": [
      "['False', 'None', 'True', '__peg_parser__', 'and', 'as', 'assert', 'async', 'await', 'break', 'class', 'continue', 'def', 'del', 'elif', 'else', 'except', 'finally', 'for', 'from', 'global', 'if', 'import', 'in', 'is', 'lambda', 'nonlocal', 'not', 'or', 'pass', 'raise', 'return', 'try', 'while', 'with', 'yield']\n"
     ]
    }
   ],
   "source": [
    "# keyword\n",
    "import keyword\n",
    "print(keyword.kwlist)"
   ]
  },
  {
   "cell_type": "markdown",
   "metadata": {},
   "source": [
    "---"
   ]
  },
  {
   "cell_type": "code",
   "execution_count": 24,
   "metadata": {
    "colab": {
     "base_uri": "https://localhost:8080/"
    },
    "id": "R0dWpe-w8HSZ",
    "outputId": "3aa87b74-0699-47d7-8316-73de80dbfeb1"
   },
   "outputs": [
    {
     "name": "stdout",
     "output_type": "stream",
     "text": [
      "66\n"
     ]
    }
   ],
   "source": [
    "# random\n",
    "import random\n",
    "print(random.randint(1,100))"
   ]
  },
  {
   "cell_type": "markdown",
   "metadata": {},
   "source": [
    "---"
   ]
  },
  {
   "cell_type": "code",
   "execution_count": 81,
   "metadata": {
    "colab": {
     "base_uri": "https://localhost:8080/"
    },
    "id": "XNHWXsM0iFn3",
    "outputId": "7d219248-ba98-4b2e-a382-57630acea35c"
   },
   "outputs": [
    {
     "name": "stdout",
     "output_type": "stream",
     "text": [
      "2024-07-04 21:45:21.331864\n"
     ]
    }
   ],
   "source": [
    "# datetime\n",
    "import datetime\n",
    "print(datetime.datetime.now())"
   ]
  },
  {
   "cell_type": "code",
   "execution_count": 88,
   "metadata": {
    "scrolled": true
   },
   "outputs": [
    {
     "ename": "TypeError",
     "evalue": "descriptor 'astimezone' for 'datetime.datetime' objects doesn't apply to a 'int' object",
     "output_type": "error",
     "traceback": [
      "\u001b[1;31m---------------------------------------------------------------------------\u001b[0m",
      "\u001b[1;31mTypeError\u001b[0m                                 Traceback (most recent call last)",
      "Cell \u001b[1;32mIn[88], line 1\u001b[0m\n\u001b[1;32m----> 1\u001b[0m \u001b[43mdatetime\u001b[49m\u001b[38;5;241;43m.\u001b[39;49m\u001b[43mdatetime\u001b[49m\u001b[38;5;241;43m.\u001b[39;49m\u001b[43mastimezone\u001b[49m\u001b[43m(\u001b[49m\u001b[38;5;241;43m2022\u001b[39;49m\u001b[43m,\u001b[49m\u001b[43m \u001b[49m\u001b[38;5;241;43m1\u001b[39;49m\u001b[43m,\u001b[49m\u001b[43m \u001b[49m\u001b[38;5;241;43m15\u001b[39;49m\u001b[43m,\u001b[49m\u001b[43m \u001b[49m\u001b[38;5;241;43m12\u001b[39;49m\u001b[43m,\u001b[49m\u001b[43m \u001b[49m\u001b[38;5;241;43m0\u001b[39;49m\u001b[43m,\u001b[49m\u001b[43m \u001b[49m\u001b[38;5;241;43m0\u001b[39;49m\u001b[43m)\u001b[49m\n",
      "\u001b[1;31mTypeError\u001b[0m: descriptor 'astimezone' for 'datetime.datetime' objects doesn't apply to a 'int' object"
     ]
    }
   ],
   "source": [
    "datetime.datetime."
   ]
  },
  {
   "cell_type": "markdown",
   "metadata": {},
   "source": [
    "---"
   ]
  },
  {
   "cell_type": "code",
   "execution_count": 26,
   "metadata": {
    "colab": {
     "base_uri": "https://localhost:8080/"
    },
    "id": "ePMxrlzX8CsQ",
    "outputId": "719443f9-8cb6-48fc-9a02-dee02625fc8f"
   },
   "outputs": [
    {
     "name": "stdout",
     "output_type": "stream",
     "text": [
      "\n",
      "Please wait a moment while I gather a list of all available modules...\n",
      "\n"
     ]
    },
    {
     "name": "stderr",
     "output_type": "stream",
     "text": [
      "WARNING: AstropyDeprecationWarning: The private astropy._erfa module has been made into its own package, pyerfa, which is a dependency of astropy and can be imported directly using \"import erfa\" [astropy._erfa]\n"
     ]
    },
    {
     "name": "stdout",
     "output_type": "stream",
     "text": [
      "WARNING:tensorflow:From C:\\Users\\SESA702302\\Anaconda3\\lib\\site-packages\\keras\\src\\losses.py:2976: The name tf.losses.sparse_softmax_cross_entropy is deprecated. Please use tf.compat.v1.losses.sparse_softmax_cross_entropy instead.\n",
      "\n"
     ]
    },
    {
     "name": "stderr",
     "output_type": "stream",
     "text": [
      "C:\\Users\\SESA702302\\Anaconda3\\lib\\site-packages\\paramiko\\transport.py:219: CryptographyDeprecationWarning: Blowfish has been deprecated\n",
      "  \"class\": algorithms.Blowfish,\n",
      "C:\\Users\\SESA702302\\Anaconda3\\lib\\site-packages\\nltk\\twitter\\__init__.py:20: UserWarning: The twython library has not been installed. Some functionality from the twitter package will not be available.\n",
      "  warnings.warn(\n",
      "C:\\Users\\SESA702302\\Anaconda3\\lib\\pkgutil.py:93: NumbaPendingDeprecationWarning: \u001b[1mThe 'pycc' module is pending deprecation. Replacement technology is being developed.\n",
      "\n",
      "Pending Deprecation in Numba 0.57.0. For more information please see: https://numba.readthedocs.io/en/stable/reference/deprecation.html#deprecation-of-the-numba-pycc-module\u001b[0m\n",
      "  __import__(info.name)\n",
      "C:\\Users\\SESA702302\\Anaconda3\\lib\\pkgutil.py:93: UserWarning: The numpy.array_api submodule is still experimental. See NEP 47.\n",
      "  __import__(info.name)\n",
      "C:\\Users\\SESA702302\\Anaconda3\\lib\\site-packages\\_distutils_hack\\__init__.py:33: UserWarning: Setuptools is replacing distutils.\n",
      "  warnings.warn(\"Setuptools is replacing distutils.\")\n",
      "C:\\Users\\SESA702302\\Anaconda3\\lib\\pkgutil.py:93: UserWarning:\n",
      "\n",
      "viewer requires Qt\n",
      "\n",
      "No QCoreApplication instance found. Application patches not applied. You have to call load_stylesheet function after instantiation of QApplication to take effect. \n",
      "C:\\Users\\SESA702302\\Anaconda3\\lib\\site-packages\\tensorboard\\_vendor\\html5lib\\filters\\sanitizer.py:29: DeprecationWarning:\n",
      "\n",
      "html5lib's sanitizer is deprecated; see https://github.com/html5lib/html5lib-python/issues/443 and please let us know if Bleach is unsuitable for your needs\n",
      "\n"
     ]
    },
    {
     "name": "stdout",
     "output_type": "stream",
     "text": [
      "WARNING:tensorflow:From C:\\Users\\SESA702302\\Anaconda3\\lib\\site-packages\\tensorflow_estimator\\python\\estimator\\util.py:74: The name tf.train.SessionRunHook is deprecated. Please use tf.estimator.SessionRunHook instead.\n",
      "\n"
     ]
    },
    {
     "name": "stderr",
     "output_type": "stream",
     "text": [
      "C:\\Users\\SESA702302\\Anaconda3\\lib\\site-packages\\torch\\distributed\\_shard\\checkpoint\\__init__.py:8: DeprecationWarning:\n",
      "\n",
      "torch.distributed._shard.checkpoint will be deprecated, use torch.distributed.checkpoint instead\n",
      "\n",
      "C:\\Users\\SESA702302\\Anaconda3\\lib\\site-packages\\torch\\distributed\\_sharded_tensor\\__init__.py:8: DeprecationWarning:\n",
      "\n",
      "torch.distributed._sharded_tensor will be deprecated, use torch.distributed._shard.sharded_tensor instead\n",
      "\n",
      "C:\\Users\\SESA702302\\Anaconda3\\lib\\site-packages\\torch\\distributed\\_sharding_spec\\__init__.py:8: DeprecationWarning:\n",
      "\n",
      "torch.distributed._sharding_spec will be deprecated, use torch.distributed._shard.sharding_spec instead\n",
      "\n",
      "NOTE: Redirects are currently not supported in Windows or MacOs.\n",
      "C:\\Users\\SESA702302\\Anaconda3\\lib\\pkgutil.py:108: VisibleDeprecationWarning:\n",
      "\n",
      "zmq.eventloop.minitornado is deprecated in pyzmq 14.0 and will be removed.\n",
      "    Install tornado itself to use zmq with the tornado IOLoop.\n",
      "    \n",
      "\n"
     ]
    },
    {
     "name": "stdout",
     "output_type": "stream",
     "text": [
      "FuzzyTM             confection          modulefinder        snowballstemmer\n",
      "IPython             configparser        more_itertools      socket\n",
      "OpenSSL             constantly          mpl_toolkits        socketserver\n",
      "PIL                 contextlib          mpmath              socks\n",
      "PyPDF2              contextvars         msgpack             sockshandler\n",
      "PyQt5               contourpy           msilib              sortedcontainers\n",
      "TBB                 cookiecutter        msoffcrypto         soupsieve\n",
      "__future__          copy                msvcrt              spacy\n",
      "_abc                copyreg             multidict           spacy_legacy\n",
      "_aix_support        cpuinfo             multipledispatch    spacy_loggers\n",
      "_argon2_cffi_bindings crypt               multiprocess        sphinx\n",
      "_ast                cryptography        multiprocessing     spyder\n",
      "_asyncio            cssselect           munkres             spyder_kernels\n",
      "_bisect             csv                 murmurhash          sqlalchemy\n",
      "_black_version      ctypes              mypy_extensions     sqlite3\n",
      "_blake2             curl                nacl                sqlparse\n",
      "_bootlocale         curses              navigator_updater   sre_compile\n",
      "_bootsubprocess     cv2                 nbclassic           sre_constants\n",
      "_bz2                cwp                 nbclient            sre_parse\n",
      "_cffi_backend       cycler              nbconvert           srsly\n",
      "_codecs             cymem               nbformat            ssl\n",
      "_codecs_cn          cytoolz             nest_asyncio        sspi\n",
      "_codecs_hk          daal4py             netbios             sspicon\n",
      "_codecs_iso2022     dask                netrc               stack_data\n",
      "_codecs_jp          dataclasses         networkx            stat\n",
      "_codecs_kr          datasets            nltk                statistics\n",
      "_codecs_tw          datashader          nntplib             statsmodels\n",
      "_collections        datashape           notebook            string\n",
      "_collections_abc    datetime            notebook_shim       stringprep\n",
      "_compat_pickle      dateutil            nt                  struct\n",
      "_compression        dbi                 ntpath              subprocess\n",
      "_contextvars        dbm                 ntsecuritycon       sunau\n",
      "_csv                dde                 nturl2path          symbol\n",
      "_ctypes             debugpy             numba               sympy\n",
      "_ctypes_test        decimal             numbergen           symtable\n",
      "_datetime           decorator           numbers             sys\n",
      "_decimal            defusedxml          numexpr             sysconfig\n",
      "_distutils_hack     diff_match_patch    numpy               tables\n",
      "_elementtree        difflib             numpydoc            tabnanny\n",
      "_functools          dill                oauthlib            tabulate\n",
      "_hashlib            dis                 odbc                tarfile\n",
      "_heapq              distributed         olefile             tbb\n",
      "_imp                distutils           onedal              tblib\n",
      "_io                 docstring_to_markdown opcode              telnetlib\n",
      "_json               doctest             openpyxl            tempfile\n",
      "_locale             docutils            operator            tempita\n",
      "_lsprof             dython              opt_einsum          tenacity\n",
      "_lzma               elixir              optparse            tensorboard\n",
      "_markupbase         email               optuna              tensorboard_data_server\n",
      "_md5                en_core_web_lg      os                  tensorflow\n",
      "_msi                en_core_web_sm      outcome             tensorflow_estimator\n",
      "_multibytecodec     encodings           packaging           tensorflow_io_gcs_filesystem\n",
      "_multiprocess       ensurepip           pandas              termcolor\n",
      "_multiprocessing    entrypoints         pandas_flavor       terminado\n",
      "_nsis               enum                pandocfilters       test\n",
      "_opcode             erfa                panel               test_pycosat\n",
      "_operator           errno               param               text_unidecode\n",
      "_osx_support        et_xmlfile          paramiko            textdistance\n",
      "_overlapped         excel2json          parsel              textwrap\n",
      "_peg_parser         exceltojson         parser              thinc\n",
      "_pickle             exceptiongroup      parso               this\n",
      "_plotly_future_     executing           partd               threading\n",
      "_plotly_utils       fastjsonschema      past                threadpoolctl\n",
      "_py_abc             faulthandler        pasta               three_merge\n",
      "_pydecimal          filecmp             pathlib             tifffile\n",
      "_pyio               fileinput           pathspec            time\n",
      "_pyrsistent_version filelock            pathy               timeit\n",
      "_pytest             flake8              patsy               timer\n",
      "_queue              flask               pbr                 tinycss2\n",
      "_random             flatbuffers         pdb                 tkinter\n",
      "_sha1               fnmatch             pdfminer            tldextract\n",
      "_sha256             fontTools           pdftopng            tlz\n",
      "_sha3               formatter           pep8                token\n",
      "_sha512             fractions           perfmon             tokenize\n",
      "_signal             frozenlist          pexpect             tokenizers\n",
      "_sitebuiltins       fsspec              pickle              toml\n",
      "_socket             fstpso              pickleshare         tomli\n",
      "_sqlite3            ftplib              pickletools         tomlkit\n",
      "_sre                functools           pingouin            tomotopy\n",
      "_ssl                functorch           pip                 toolz\n",
      "_stat               funcy               pipes               torch\n",
      "_statistics         future              pkg_resources       torchgen\n",
      "_string             gast                pkginfo             tornado\n",
      "_strptime           gc                  pkgutil             tqdm\n",
      "_struct             genericpath         platform            trace\n",
      "_symtable           gensim              platformdirs        traceback\n",
      "_system_path        getopt              plistlib            tracemalloc\n",
      "_testbuffer         getpass             plotly              traitlets\n",
      "_testcapi           gettext             pluggy              transformers\n",
      "_testconsole        ghostscript         ply                 trio\n",
      "_testimportmultiple glob                pooch               trio_websocket\n",
      "_testinternalcapi   glob2               poplib              tty\n",
      "_testmultiphase     google_auth_oauthlib posixpath           turtle\n",
      "_thread             graphlib            poyo                turtledemo\n",
      "_threading_local    greenlet            pprint              twisted\n",
      "_tkinter            grpc                preshed             typer\n",
      "_tomotopy           gzip                profile             types\n",
      "_tomotopy_avx       h11                 prometheus_client   typing\n",
      "_tomotopy_avx2      h5py                prompt_toolkit      typing_extensions\n",
      "_tomotopy_none      hashlib             protego             tzdata\n",
      "_tracemalloc        heapdict            proxytypes          uc_micro\n",
      "_uuid               heapq               pstats              ujson\n",
      "_warnings           hmac                psutil              unicodedata\n",
      "_weakref            holoviews           pty                 unidecode\n",
      "_weakrefset         html                ptyprocess          unittest\n",
      "_win32sysloader     http                pure_eval           urllib\n",
      "_winapi             huggingface_hub     pvectorc            urllib3\n",
      "_winxptheme         hvplot              py                  uu\n",
      "_xxsubinterpreters  hyperlink           pyLDAvis            uuid\n",
      "_yaml               idlelib             py_compile          venv\n",
      "_zoneinfo           idna                pyarrow             w3lib\n",
      "abc                 imagecodecs         pyasn1              warnings\n",
      "absl                imageio             pyasn1_modules      wasabi\n",
      "adodbapi            imagesize           pyclbr              watchdog\n",
      "afxres              imaplib             pycodestyle         wave\n",
      "aifc                imblearn            pycosat             wcwidth\n",
      "aiobotocore         imghdr              pycparser           weakref\n",
      "aiofiles            imp                 pyct                webbrowser\n",
      "aiohttp             importlib           pycurl              webencodings\n",
      "aioitertools        importlib_metadata  pydantic            websocket\n",
      "aiosignal           importlib_resources pydispatch          werkzeug\n",
      "aiosqlite           incremental         pydoc               whatthepatch\n",
      "alabaster           inflection          pydoc_data          wheel\n",
      "alembic             iniconfig           pydocstyle          widgetsnbextension\n",
      "anaconda_navigator  inspect             pyexpat             win2kras\n",
      "antigravity         intake              pyflakes            win32api\n",
      "anyio               intervaltree        pyfume              win32clipboard\n",
      "api                 io                  pygments            win32com\n",
      "appdirs             ipaddress           pylab               win32con\n",
      "argon2              ipykernel           pylint              win32console\n",
      "argparse            ipykernel_launcher  pylint_venv         win32cred\n",
      "array               ipython_genutils    pyls_spyder         win32crypt\n",
      "arrow               ipywidgets          pylsp               win32cryptcon\n",
      "ast                 isapi               pylsp_black         win32ctypes\n",
      "astroid             isort               pylsp_jsonrpc       win32event\n",
      "astropy             isympy              pyodbc              win32evtlog\n",
      "asttokens           itemadapter         pyparsing           win32evtlogutil\n",
      "astunparse          itemloaders         pyrsistent          win32file\n",
      "async_timeout       itertools           pytest              win32gui\n",
      "asynchat            itsdangerous        pythoncom           win32gui_struct\n",
      "asyncio             jedi                pythonjsonlogger    win32help\n",
      "asyncore            jellyfish           pytoolconfig        win32inet\n",
      "atexit              jinja2              pytz                win32inetcon\n",
      "atomicwrites        jinja2_time         pyviz_comms         win32job\n",
      "attr                jmespath            pywin               win32lz\n",
      "attrs               joblib              pywin32_bootstrap   win32net\n",
      "audioop             json                pywin32_testutil    win32netcon\n",
      "automat             json5               pywintypes          win32pdh\n",
      "autopep8            jsonref             pywt                win32pdhquery\n",
      "babel               jsonschema          pyxlsb              win32pdhutil\n",
      "backcall            jupyter             qdarkstyle          win32pipe\n",
      "backports           jupyter_client      qstylizer           win32print\n",
      "base64              jupyter_console     qtawesome           win32process\n",
      "bcrypt              jupyter_core        qtconsole           win32profile\n",
      "bdb                 jupyter_events      qtpy                win32ras\n",
      "binaryornot         jupyter_server      queue               win32rcparser\n",
      "binascii            jupyter_server_fileid queuelib            win32security\n",
      "binhex              jupyter_server_ydoc quopri              win32service\n",
      "binstar_client      jupyter_ydoc        random              win32serviceutil\n",
      "bisect              jupyterlab          rasutil             win32timezone\n",
      "black               jupyterlab_plotly   re                  win32trace\n",
      "blackd              jupyterlab_pygments regcheck            win32traceutil\n",
      "bleach              jupyterlab_server   regex               win32transaction\n",
      "blib2to3            jupyterlab_widgets  regutil             win32ts\n",
      "blis                jwt                 repo_cli            win32ui\n",
      "bokeh               keras               reprlib             win32uiole\n",
      "botocore            keyring             requests            win32verstamp\n",
      "bottleneck          keyword             requests_file       win32wnet\n",
      "brotli              kiwisolver          requests_oauthlib   win_inet_pton\n",
      "bs4                 langcodes           requests_toolbelt   winerror\n",
      "builtins            langdetect          responses           winioctlcon\n",
      "bz2                 lazy_object_proxy   rfc3339_validator   winnt\n",
      "cProfile            lib2to3             rfc3986_validator   winperf\n",
      "cachetools          libarchive          rlcompleter         winpty\n",
      "calendar            libfuturize         rope                winreg\n",
      "camelot             libpasteurize       rsa                 winsound\n",
      "catalogue           lief                rtree               winxpgui\n",
      "certifi             linecache           ruamel_yaml         winxptheme\n",
      "cffi                linkify_it          runpy               wrapt\n",
      "cgi                 llvmlite            s3fs                wsgiref\n",
      "cgitb               lmdb                sacremoses          wsproto\n",
      "chardet             locale              sched               xarray\n",
      "charset_normalizer  locket              scikitplot          xdrlib\n",
      "chunk               logging             scipy               xlrd\n",
      "clang               lxml                scrapy              xlsxwriter\n",
      "click               lz4                 seaborn             xlwings\n",
      "cloudpickle         lzma                secrets             xlwt\n",
      "clyent              mailbox             select              xml\n",
      "cmaes               mailcap             selectors           xmlrpc\n",
      "cmath               mako                selenium            xxhash\n",
      "cmd                 markdown            send2trash          xxsubtype\n",
      "code                markdown_it         service_identity    xyzservices\n",
      "codecs              markupsafe          servicemanager      y_py\n",
      "codeop              marshal             setuptools          yaml\n",
      "collections         math                shelve              yapf\n",
      "colorama            matplotlib          shlex               yapftests\n",
      "colorcet            matplotlib_inline   shutil              yarl\n",
      "colorlog            mccabe              signal              ypy_websocket\n",
      "colorsys            mdit_py_plugins     simpful             yxdb\n",
      "comm                mdurl               sipbuild            zict\n",
      "commctrl            menuinst            site                zipapp\n",
      "compileall          migrate             six                 zipfile\n",
      "concurrent          mimetypes           skimage             zipimport\n",
      "conda               miniful             sklearn             zipp\n",
      "conda_build         mistune             sklearnex           zlib\n",
      "conda_content_trust mkl                 slugify             zmq\n",
      "conda_env           mkl_fft             smart_open          zoneinfo\n",
      "conda_index         mkl_random          smtpd               zope\n",
      "conda_package_handling ml_dtypes           smtplib             zstandard\n",
      "conda_package_streaming mmap                snappy              ~andas\n",
      "conda_token         mmapfile            sndhdr              ~sutil\n",
      "conda_verify        mmsystem            sniffio             ~umpy\n",
      "\n",
      "Enter any module name to get more help.  Or, type \"modules spam\" to search\n",
      "for modules whose name or summary contain the string \"spam\".\n",
      "\n"
     ]
    }
   ],
   "source": [
    "help('modules')"
   ]
  },
  {
   "cell_type": "markdown",
   "metadata": {},
   "source": [
    "---"
   ]
  },
  {
   "cell_type": "markdown",
   "metadata": {
    "id": "2Ow6_gWG7ukc"
   },
   "source": [
    "### D) Loops in Python\n",
    "\n",
    "- Need for loops\n",
    "- While Loop\n",
    "- For Loop"
   ]
  },
  {
   "cell_type": "markdown",
   "metadata": {},
   "source": [
    "---"
   ]
  },
  {
   "cell_type": "markdown",
   "metadata": {},
   "source": [
    "##### 1. while loop"
   ]
  },
  {
   "cell_type": "markdown",
   "metadata": {},
   "source": [
    "---"
   ]
  },
  {
   "cell_type": "code",
   "execution_count": 3,
   "metadata": {
    "colab": {
     "base_uri": "https://localhost:8080/"
    },
    "id": "brWSxgiu9rrQ",
    "outputId": "eb64e76c-ee60-4584-9d00-9fd6729d39e8"
   },
   "outputs": [
    {
     "name": "stdout",
     "output_type": "stream",
     "text": [
      "enter the number10\n",
      "10 * 1 = 10\n",
      "10 * 2 = 20\n",
      "10 * 3 = 30\n",
      "10 * 4 = 40\n",
      "10 * 5 = 50\n",
      "10 * 6 = 60\n",
      "10 * 7 = 70\n",
      "10 * 8 = 80\n",
      "10 * 9 = 90\n",
      "10 * 10 = 100\n"
     ]
    }
   ],
   "source": [
    "# While loop example -> program to print the table\n",
    "number = int(input('enter the number'))\n",
    "\n",
    "i = 1\n",
    "\n",
    "while i<11:\n",
    "  print(number,'*',i,'=',number * i)\n",
    "  i += 1"
   ]
  },
  {
   "cell_type": "code",
   "execution_count": 89,
   "metadata": {},
   "outputs": [
    {
     "name": "stdout",
     "output_type": "stream",
     "text": [
      "enter the number10\n",
      "10 * 1 = 10\n",
      "10 * 2 = 20\n",
      "10 * 3 = 30\n",
      "10 * 4 = 40\n",
      "10 * 5 = 50\n",
      "10 * 6 = 60\n",
      "10 * 7 = 70\n",
      "10 * 8 = 80\n",
      "10 * 9 = 90\n",
      "10 * 10 = 100\n"
     ]
    }
   ],
   "source": [
    "number = int(input('enter the number'))\n",
    "\n",
    "for i in range(1, number+1):\n",
    "    print(number,'*',i,'=',number * i)"
   ]
  },
  {
   "cell_type": "markdown",
   "metadata": {},
   "source": [
    "---"
   ]
  },
  {
   "cell_type": "code",
   "execution_count": 4,
   "metadata": {
    "colab": {
     "base_uri": "https://localhost:8080/"
    },
    "id": "Ltsr9n3H73fp",
    "outputId": "a47f2a11-bf75-4a0a-923c-49f318514900"
   },
   "outputs": [
    {
     "name": "stdout",
     "output_type": "stream",
     "text": [
      "1\n",
      "2\n",
      "limit crossed\n"
     ]
    }
   ],
   "source": [
    "# while loop with else\n",
    "\n",
    "x = 1\n",
    "\n",
    "while x < 3:\n",
    "  print(x)\n",
    "  x += 1\n",
    "\n",
    "else:\n",
    "  print('limit crossed')"
   ]
  },
  {
   "cell_type": "markdown",
   "metadata": {},
   "source": [
    "---"
   ]
  },
  {
   "cell_type": "code",
   "execution_count": 5,
   "metadata": {
    "colab": {
     "base_uri": "https://localhost:8080/"
    },
    "id": "29y5r2cr8MRP",
    "outputId": "c4d707ce-6f6c-49cc-8997-a85ecf01e74e"
   },
   "outputs": [
    {
     "name": "stdout",
     "output_type": "stream",
     "text": [
      "guess karo3\n",
      "galat!guess higher\n",
      "guess karo30\n",
      "galat!guess higher\n",
      "guess karo50\n",
      "galat!guess lower\n",
      "guess karo45\n",
      "galat!guess lower\n",
      "guess karo40\n",
      "galat!guess lower\n",
      "guess karo38\n",
      "galat!guess lower\n",
      "guess karo35\n",
      "correct guess\n",
      "attempts 7\n"
     ]
    }
   ],
   "source": [
    "# Guessing game\n",
    "# Program -> keep accepting numbers from users till he/she enters a 0 and then find the avg\n",
    "\n",
    "# generate a random integer between 1 and 100\n",
    "import random\n",
    "jackpot = random.randint(1,100)\n",
    "\n",
    "guess = int(input('guess karo'))\n",
    "counter = 1\n",
    "while guess != jackpot:\n",
    "  if guess < jackpot:\n",
    "    print('galat!guess higher')\n",
    "  else:\n",
    "    print('galat!guess lower')\n",
    "\n",
    "  guess = int(input('guess karo'))\n",
    "  counter += 1\n",
    "\n",
    "else:\n",
    "  print('correct guess')\n",
    "  print('attempts',counter)"
   ]
  },
  {
   "cell_type": "markdown",
   "metadata": {},
   "source": [
    "---"
   ]
  },
  {
   "cell_type": "markdown",
   "metadata": {},
   "source": [
    "##### 2. for loop"
   ]
  },
  {
   "cell_type": "markdown",
   "metadata": {},
   "source": [
    "---"
   ]
  },
  {
   "cell_type": "code",
   "execution_count": 29,
   "metadata": {
    "colab": {
     "base_uri": "https://localhost:8080/"
    },
    "id": "bjjx0fMr8SWh",
    "outputId": "a3bf4676-a68c-499f-fc00-e0fe0f04285b"
   },
   "outputs": [
    {
     "name": "stdout",
     "output_type": "stream",
     "text": [
      "1\n",
      "2\n",
      "3\n",
      "4\n",
      "5\n",
      "1\n"
     ]
    }
   ],
   "source": [
    "# For loop demo\n",
    "\n",
    "for i in [1,2,3,4,5,1]:\n",
    "  print(i)"
   ]
  },
  {
   "cell_type": "markdown",
   "metadata": {},
   "source": [
    "---"
   ]
  },
  {
   "cell_type": "code",
   "execution_count": null,
   "metadata": {},
   "outputs": [],
   "source": [
    "# While loop example -> program to print the table\n",
    "number = int(input('enter the number'))\n",
    "\n",
    "for i in range(1, number+1):\n",
    "    print(number,'*',i,'=',number * i)"
   ]
  },
  {
   "cell_type": "markdown",
   "metadata": {
    "id": "5ZLWEyFn8g1R"
   },
   "source": [
    "---"
   ]
  },
  {
   "cell_type": "code",
   "execution_count": 31,
   "metadata": {
    "colab": {
     "base_uri": "https://localhost:8080/"
    },
    "id": "Nc_6lslRW03g",
    "outputId": "80e461e9-7ff9-46c1-819d-a5ee314fa91e"
   },
   "outputs": [
    {
     "name": "stdout",
     "output_type": "stream",
     "text": [
      "10 10000\n",
      "9 9090.91\n",
      "8 8264.46\n",
      "7 7513.15\n",
      "6 6830.14\n",
      "5 6209.22\n",
      "4 5644.75\n",
      "3 5131.59\n",
      "2 4665.08\n",
      "1 4240.98\n"
     ]
    }
   ],
   "source": [
    "# Code Used in the session\n",
    "# Program - The current population of a town is 10000. The population of the town is increasing at the rate of 10% \n",
    "# per year. You have to write a program to find out the population at the end of each of the last 10 years.\n",
    "curr_pop = 10000\n",
    "\n",
    "for i in range(10,0,-1):\n",
    "  print(i,curr_pop)\n",
    "  curr_pop = round(curr_pop/1.1,2)\n"
   ]
  },
  {
   "cell_type": "markdown",
   "metadata": {},
   "source": [
    "---"
   ]
  },
  {
   "cell_type": "markdown",
   "metadata": {
    "id": "4xVI9HkgcEla"
   },
   "source": [
    "###### 3. Sequence sum\n",
    "\n",
    "1/1! + 2/2! + 3/3! + ..."
   ]
  },
  {
   "cell_type": "code",
   "execution_count": 32,
   "metadata": {
    "id": "wGC1eCDecPcB"
   },
   "outputs": [
    {
     "name": "stdout",
     "output_type": "stream",
     "text": [
      "Enter a number: 3\n",
      "2.5\n"
     ]
    }
   ],
   "source": [
    "# code here\n",
    "num = int(input(\"Enter a number: \"))\n",
    "\n",
    "den = 1\n",
    "sum = 0\n",
    "for i in range(1, num+1):\n",
    "    num = i\n",
    "    den = den*i\n",
    "    sum = sum + (num/den)\n",
    "print(sum)"
   ]
  },
  {
   "cell_type": "markdown",
   "metadata": {
    "id": "PNLWd1WR8dSw"
   },
   "source": [
    "---"
   ]
  },
  {
   "cell_type": "markdown",
   "metadata": {
    "id": "1bdP8FTX87Du"
   },
   "source": [
    "###### 4. Nested Loops"
   ]
  },
  {
   "cell_type": "code",
   "execution_count": 34,
   "metadata": {},
   "outputs": [
    {
     "name": "stdout",
     "output_type": "stream",
     "text": [
      "(1, 1);(1, 2);(1, 3);(1, 4);(2, 1);(2, 2);(2, 3);(2, 4);(3, 1);(3, 2);(3, 3);(3, 4);(4, 1);(4, 2);(4, 3);(4, 4);"
     ]
    }
   ],
   "source": [
    "# Program - Unique combination of 1,2,3,4\n",
    "list = [1,2,3,4]\n",
    "\n",
    "for i in list:\n",
    "    for j in list:\n",
    "        print((i,j), end = ';')"
   ]
  },
  {
   "cell_type": "markdown",
   "metadata": {
    "id": "Ym8nRkqxGXLN"
   },
   "source": [
    "---"
   ]
  },
  {
   "cell_type": "markdown",
   "metadata": {
    "id": "_Hz8L0f3c_3P"
   },
   "source": [
    "###### 5. Pattern 1\n",
    "\n",
    "*<br>\n",
    "**<br>\n",
    "*** <br>\n",
    "**** <br>"
   ]
  },
  {
   "cell_type": "code",
   "execution_count": 22,
   "metadata": {},
   "outputs": [
    {
     "name": "stdout",
     "output_type": "stream",
     "text": [
      "Enter a number: 4\n",
      "*\n",
      "**\n",
      "***\n",
      "****\n"
     ]
    }
   ],
   "source": [
    "num = int(input(\"Enter a number: \"))\n",
    "\n",
    "for i in range(1, num+1):\n",
    "    for j in range(1, i+1):\n",
    "        print(\"*\", end = '')\n",
    "    print()"
   ]
  },
  {
   "cell_type": "code",
   "execution_count": 15,
   "metadata": {
    "id": "YsL_YmxRdNrn"
   },
   "outputs": [
    {
     "name": "stdout",
     "output_type": "stream",
     "text": [
      "Enter a number: 4\n",
      "*\n",
      "**\n",
      "***\n",
      "****\n"
     ]
    }
   ],
   "source": [
    "num = int(input(\"Enter a number: \"))\n",
    "\n",
    "for i in range(1, num+1):\n",
    "    print(\"*\"*i)"
   ]
  },
  {
   "cell_type": "markdown",
   "metadata": {},
   "source": [
    "---"
   ]
  },
  {
   "cell_type": "markdown",
   "metadata": {
    "id": "eVAO3tVmdOWV"
   },
   "source": [
    "##### 6. Pattern 2\n",
    "\n",
    "1<br>\n",
    "121<br>\n",
    "12321<br>\n",
    "1234321<br>"
   ]
  },
  {
   "cell_type": "code",
   "execution_count": 27,
   "metadata": {
    "id": "sHW4YJqcdXzw"
   },
   "outputs": [
    {
     "name": "stdout",
     "output_type": "stream",
     "text": [
      "Enter a number: 4\n",
      "1\n",
      "121\n",
      "12321\n",
      "1234321\n"
     ]
    }
   ],
   "source": [
    "num = int(input(\"Enter a number: \"))\n",
    "\n",
    "for i in range(1, num+1):\n",
    "    for j in range(1, i+1):\n",
    "        print(j, end = '')\n",
    "    for k in range(i-1, 0, -1):\n",
    "        print(k, end='')\n",
    "    print()"
   ]
  },
  {
   "cell_type": "markdown",
   "metadata": {},
   "source": [
    "---"
   ]
  },
  {
   "cell_type": "markdown",
   "metadata": {
    "id": "8GccSRIt891U"
   },
   "source": [
    "##### 7. Loop Control Statement\n",
    "\n",
    "- Break\n",
    "- Continue\n",
    "- Pass"
   ]
  },
  {
   "cell_type": "markdown",
   "metadata": {},
   "source": [
    "---"
   ]
  },
  {
   "cell_type": "code",
   "execution_count": 28,
   "metadata": {
    "id": "kN9s2dG89DlJ"
   },
   "outputs": [
    {
     "name": "stdout",
     "output_type": "stream",
     "text": [
      "1\n",
      "2\n",
      "3\n",
      "4\n"
     ]
    }
   ],
   "source": [
    "# Break demo\n",
    "for i in range(1,10):\n",
    "  if i == 5:\n",
    "    break\n",
    "\n",
    "  print(i)"
   ]
  },
  {
   "cell_type": "markdown",
   "metadata": {},
   "source": [
    "---"
   ]
  },
  {
   "cell_type": "code",
   "execution_count": 29,
   "metadata": {
    "id": "u09EdMCm9FK_"
   },
   "outputs": [
    {
     "name": "stdout",
     "output_type": "stream",
     "text": [
      "enter lower range10\n",
      "enter upper range100\n",
      "11\n",
      "13\n",
      "17\n",
      "19\n",
      "23\n",
      "29\n",
      "31\n",
      "37\n",
      "41\n",
      "43\n",
      "47\n",
      "53\n",
      "59\n",
      "61\n",
      "67\n",
      "71\n",
      "73\n",
      "79\n",
      "83\n",
      "89\n",
      "97\n"
     ]
    }
   ],
   "source": [
    "# Break example (Linear Search) -> Prime number in a given range\n",
    "lower = int(input('enter lower range'))\n",
    "upper = int(input('enter upper range'))\n",
    "\n",
    "for i in range(lower,upper+1):\n",
    "  for j in range(2,i):\n",
    "    if i%j == 0:\n",
    "      break\n",
    "  else:\n",
    "    print(i)"
   ]
  },
  {
   "cell_type": "markdown",
   "metadata": {},
   "source": [
    "---"
   ]
  },
  {
   "cell_type": "code",
   "execution_count": 30,
   "metadata": {
    "id": "3q5asa2l9GYy"
   },
   "outputs": [
    {
     "name": "stdout",
     "output_type": "stream",
     "text": [
      "1\n",
      "2\n",
      "3\n",
      "4\n",
      "6\n",
      "7\n",
      "8\n",
      "9\n"
     ]
    }
   ],
   "source": [
    "# Continue demo\n",
    "for i in range(1,10):\n",
    "  if i == 5:\n",
    "    continue\n",
    "  print(i)"
   ]
  },
  {
   "cell_type": "markdown",
   "metadata": {
    "id": "cA8CiMgn9IIT"
   },
   "source": [
    "---"
   ]
  },
  {
   "cell_type": "code",
   "execution_count": 35,
   "metadata": {
    "id": "P7GB16j59J-3"
   },
   "outputs": [],
   "source": [
    "# Pass demo\n",
    "for i in range(1,10):\n",
    "  pass"
   ]
  }
 ],
 "metadata": {
  "colab": {
   "provenance": []
  },
  "kernelspec": {
   "display_name": "Python 3 (ipykernel)",
   "language": "python",
   "name": "python3"
  },
  "language_info": {
   "codemirror_mode": {
    "name": "ipython",
    "version": 3
   },
   "file_extension": ".py",
   "mimetype": "text/x-python",
   "name": "python",
   "nbconvert_exporter": "python",
   "pygments_lexer": "ipython3",
   "version": "3.9.17"
  }
 },
 "nbformat": 4,
 "nbformat_minor": 1
}
