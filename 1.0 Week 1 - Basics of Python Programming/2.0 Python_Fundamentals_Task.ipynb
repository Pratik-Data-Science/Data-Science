{
 "cells": [
  {
   "cell_type": "markdown",
   "metadata": {
    "id": "A05OG15VqOPF"
   },
   "source": [
    "# Task : Python Fundamentals\n",
    "Solve these questions own your own and try to test yourself what you have learned in the session.\n",
    "\n",
    "Happy Learning!"
   ]
  },
  {
   "cell_type": "markdown",
   "metadata": {},
   "source": [
    "---"
   ]
  },
  {
   "cell_type": "markdown",
   "metadata": {
    "id": "2doIXf8bqe9_"
   },
   "source": [
    "### Q1 :- Print the given strings as per stated format.\n",
    "\n",
    "**Given strings**:\n",
    "```\n",
    "\"Data\" \"Science\" \"Mentorship\" \"Program\"\n",
    "\"By\" \"CampusX\"\n",
    "```\n",
    "**Output**:\n",
    "```\n",
    "Data-Science-Mentorship-Program-started-By-CampusX\n",
    "```\n",
    "\n",
    "Concept- [Seperator and End]"
   ]
  },
  {
   "cell_type": "code",
   "execution_count": 42,
   "metadata": {
    "id": "-em6d3KErDtp"
   },
   "outputs": [
    {
     "name": "stdout",
     "output_type": "stream",
     "text": [
      "Data-Science-Mentorship-Program-started-By-CampusX\n"
     ]
    }
   ],
   "source": [
    "# Write your code here\n",
    "\n",
    "print(\"Data\",\"Science\",\"Mentorship\",\"Program\",sep='-',end='-started-')\n",
    "print(\"By\",\"CampusX\",sep='-')"
   ]
  },
  {
   "cell_type": "markdown",
   "metadata": {},
   "source": [
    "---"
   ]
  },
  {
   "cell_type": "markdown",
   "metadata": {
    "id": "1KUpN7ZTrC3_"
   },
   "source": [
    "### Q2:- Write a program that will convert celsius value to fahrenheit."
   ]
  },
  {
   "cell_type": "code",
   "execution_count": 11,
   "metadata": {
    "id": "yxKYhYQiqWfj"
   },
   "outputs": [
    {
     "name": "stdout",
     "output_type": "stream",
     "text": [
      "Enter the temperature in Celcius: 32\n",
      "89.6\n"
     ]
    }
   ],
   "source": [
    "# Write your code here\n",
    "temp_in_celcius = int(input(\"Enter the temperature in Celcius: \"))\n",
    "temp_in_farenhite = (9/5)*temp_in_celcius + 32\n",
    "print(temp_in_farenhite)"
   ]
  },
  {
   "cell_type": "markdown",
   "metadata": {},
   "source": [
    "---"
   ]
  },
  {
   "cell_type": "markdown",
   "metadata": {
    "id": "RLrOBBJurLB2"
   },
   "source": [
    "### Q3:- Take 2 numbers as input from the user.Write a program to swap the numbers without using any special python syntax."
   ]
  },
  {
   "cell_type": "code",
   "execution_count": 13,
   "metadata": {
    "id": "yPn7if0TrJ4F"
   },
   "outputs": [
    {
     "name": "stdout",
     "output_type": "stream",
     "text": [
      "Enter the first number: 3\n",
      "Enter the second number: 4\n",
      "4\n",
      "3\n"
     ]
    }
   ],
   "source": [
    "# Write your code here\n",
    "num1 = int(input(\"Enter the first number: \"))\n",
    "num2 = int(input(\"Enter the second number: \"))\n",
    "\n",
    "temp = num1\n",
    "num1 = num2\n",
    "num2 = temp\n",
    "\n",
    "print(num1)\n",
    "print(num2)"
   ]
  },
  {
   "cell_type": "markdown",
   "metadata": {},
   "source": [
    "---"
   ]
  },
  {
   "cell_type": "markdown",
   "metadata": {
    "id": "waLCP1bjr7ML"
   },
   "source": [
    "### Q4:- Write a program to find the euclidean distance between two coordinates.Take both the coordinates from the user as input."
   ]
  },
  {
   "cell_type": "code",
   "execution_count": 19,
   "metadata": {
    "id": "Pl1Sv-xnrxnH"
   },
   "outputs": [
    {
     "name": "stdout",
     "output_type": "stream",
     "text": [
      "Enter first x coordinate: 1\n",
      "Enter first y coordinate: 1\n",
      "Enter second x coordinate: 2\n",
      "Enter second y coordinate: 2\n",
      "1.4142135623730951\n"
     ]
    }
   ],
   "source": [
    "# Write your code here\n",
    "x1 = int(input(\"Enter first x coordinate: \"))\n",
    "y1 = int(input(\"Enter first y coordinate: \"))\n",
    "x2 = int(input(\"Enter second x coordinate: \"))\n",
    "y2 = int(input(\"Enter second y coordinate: \"))\n",
    "\n",
    "ecld_dist = (((y1-y2)**2) + ((x1-x2)**2))**0.5\n",
    "print(ecld_dist)"
   ]
  },
  {
   "cell_type": "markdown",
   "metadata": {},
   "source": [
    "---"
   ]
  },
  {
   "cell_type": "markdown",
   "metadata": {
    "id": "VLrhg-FRsHjR"
   },
   "source": [
    "### Q5:- Write a program to find the simple interest when the value of principle,rate of interest and time period is provided by the user.\n"
   ]
  },
  {
   "cell_type": "code",
   "execution_count": 21,
   "metadata": {
    "id": "s40DlReZsTmY"
   },
   "outputs": [
    {
     "name": "stdout",
     "output_type": "stream",
     "text": [
      "Enter the principal amount: 100\n",
      "Enter the rate of interest: 10\n",
      "Enter the time period: 5\n",
      "50.0\n"
     ]
    }
   ],
   "source": [
    "# Write your code here\n",
    "p = int(input(\"Enter the principal amount: \"))\n",
    "r = int(input(\"Enter the rate of interest: \"))\n",
    "t = int(input(\"Enter the time period: \"))\n",
    "\n",
    "si = (p*r*t)/100\n",
    "print(si)"
   ]
  },
  {
   "cell_type": "markdown",
   "metadata": {},
   "source": [
    "---"
   ]
  },
  {
   "cell_type": "markdown",
   "metadata": {
    "id": "LMy0BTUktYKa"
   },
   "source": [
    "### Q6:- Write a program that will tell the number of dogs and chicken are there when the user will provide the value of total heads and legs.\n",
    "\n",
    "For example:\n",
    "Input:\n",
    "heads -> 4\n",
    "legs -> 12\n",
    "<br>\n",
    "Output:\n",
    "dogs -> 2\n",
    "chicken -> 2\n",
    "\n",
    "\n",
    "\n"
   ]
  },
  {
   "cell_type": "code",
   "execution_count": 56,
   "metadata": {
    "id": "XSBvJoA4tXaG"
   },
   "outputs": [
    {
     "name": "stdout",
     "output_type": "stream",
     "text": [
      "Enter the total number of heads: 4\n",
      "Enter the total number of legs: 12\n",
      "Number of dogs: 2\n",
      "Number of chickens: 2\n"
     ]
    }
   ],
   "source": [
    "# Write your code here\n",
    "def calculate_animals(heads, legs):\n",
    "    # Assuming each dog has 1 head and 4 legs, and each chicken has 1 head and 2 legs\n",
    "    for num_dogs in range(heads + 1):\n",
    "        num_chickens = heads - num_dogs\n",
    "        if (num_dogs * 4 + num_chickens * 2) == legs:\n",
    "            return num_dogs, num_chickens\n",
    "\n",
    "# Get user input for total heads and legs\n",
    "total_heads = int(input(\"Enter the total number of heads: \"))\n",
    "total_legs = int(input(\"Enter the total number of legs: \"))\n",
    "\n",
    "# Calculate the number of dogs and chickens\n",
    "result = calculate_animals(total_heads, total_legs)\n",
    "\n",
    "# Display the result\n",
    "print(\"Number of dogs:\", result[0])\n",
    "print(\"Number of chickens:\", result[1])"
   ]
  },
  {
   "cell_type": "markdown",
   "metadata": {},
   "source": [
    "---"
   ]
  },
  {
   "cell_type": "markdown",
   "metadata": {
    "id": "gJ7C5kZYt4BP"
   },
   "source": [
    "### Q7:- Write a program to find the sum of squares of first n natural numbers where n will be provided by the user."
   ]
  },
  {
   "cell_type": "code",
   "execution_count": 43,
   "metadata": {
    "id": "_tHsmEHzt2nX"
   },
   "outputs": [
    {
     "name": "stdout",
     "output_type": "stream",
     "text": [
      "Enter a number: 3\n",
      "14\n",
      "enter the number3\n",
      "14.0\n"
     ]
    }
   ],
   "source": [
    "# Write your code here\n",
    "n = int(input(\"Enter a number: \"))\n",
    "\n",
    "sum = 0\n",
    "for i in range(0, n+1):\n",
    "    sum+=i**2\n",
    "print(sum)    \n",
    "\n",
    "# OR\n",
    "n = int(input('enter the number'))\n",
    "\n",
    "result = (n*(n+1)*(2*n + 1))/6\n",
    "print(result)"
   ]
  },
  {
   "cell_type": "markdown",
   "metadata": {},
   "source": [
    "---"
   ]
  },
  {
   "cell_type": "markdown",
   "metadata": {
    "id": "FHrMM7g-yG1h"
   },
   "source": [
    "### Q8:- Given the first 2 terms of an Arithmetic Series.Find the Nth term of the series. Assume all inputs are provided by the user."
   ]
  },
  {
   "cell_type": "code",
   "execution_count": 45,
   "metadata": {
    "id": "go4_kmZmyVSx"
   },
   "outputs": [
    {
     "name": "stdout",
     "output_type": "stream",
     "text": [
      "Enter the length of series: 5\n",
      "Enter the first term of the series: 3\n",
      "Enter the second term of the series: 6\n",
      "15\n"
     ]
    }
   ],
   "source": [
    "# Write your code here\n",
    "n = int(input(\"Enter the length of series: \"))\n",
    "num1 = int(input(\"Enter the first term of the series: \"))\n",
    "num2 = int(input(\"Enter the second term of the series: \"))\n",
    "\n",
    "diff = num2 - num1\n",
    "\n",
    "ameam = (num1) + (n-1)*diff\n",
    "print(ameam)"
   ]
  },
  {
   "cell_type": "markdown",
   "metadata": {},
   "source": [
    "---"
   ]
  },
  {
   "cell_type": "markdown",
   "metadata": {
    "id": "QgyRX_es1oum"
   },
   "source": [
    "### Q9:- Given 2 fractions, find the sum of those 2 fractions.Take the numerator and denominator values of the fractions from the user."
   ]
  },
  {
   "cell_type": "code",
   "execution_count": 50,
   "metadata": {
    "id": "X05xqFS1yW16"
   },
   "outputs": [
    {
     "name": "stdout",
     "output_type": "stream",
     "text": [
      "Enter the first numerator: 3\n",
      "Enter the first denominator: 7\n",
      "Enter the second numerator: 2\n",
      "Enter the second denominator: 11\n",
      "0.6103896103896104\n",
      "47/77\n"
     ]
    }
   ],
   "source": [
    "# Write your code here\n",
    "num1 = int(input(\"Enter the first numerator: \"))\n",
    "den1 = int(input(\"Enter the first denominator: \"))\n",
    "num2 = int(input(\"Enter the second numerator: \"))\n",
    "den2 = int(input(\"Enter the second denominator: \"))\n",
    "\n",
    "final = (num1/den1) + (num2/den2)\n",
    "print(final)\n",
    "\n",
    "# OR\n",
    "rn = (num1*den2) + (num2*den1)\n",
    "dn = den1*den2\n",
    "\n",
    "print(\"{}/{}\".format(rn, dn))"
   ]
  },
  {
   "cell_type": "markdown",
   "metadata": {},
   "source": [
    "---"
   ]
  },
  {
   "cell_type": "markdown",
   "metadata": {
    "id": "eaql38ln13u7"
   },
   "source": [
    "### Q10:- Given the height, width and breadth of a milk tank, you have to find out how many glasses of milk can be obtained? Assume all the inputs are provided by the user.\n",
    "\n",
    "\n",
    "\n",
    "Input:<br>\n",
    "Dimensions of the milk tank<br>\n",
    "H = 20cm, L = 20cm, B = 20cm\n",
    "<br><br>\n",
    "Dimensions of the glass<br>\n",
    "h = 3cm, r = 1cm"
   ]
  },
  {
   "cell_type": "code",
   "execution_count": 51,
   "metadata": {
    "id": "FePZqno74eWv"
   },
   "outputs": [
    {
     "name": "stdout",
     "output_type": "stream",
     "text": [
      "Enter the height: 12\n",
      "Enter the length: 23\n",
      "Enter the breadth: 22\n",
      "Enter the height: 3\n",
      "Enter the radius: 4\n",
      "40\n"
     ]
    }
   ],
   "source": [
    "# Write your code here\n",
    "# imensions of the milk tank\n",
    "H = float(input(\"Enter the height: \"))\n",
    "L = float(input(\"Enter the length: \"))\n",
    "B = float(input(\"Enter the breadth: \"))\n",
    "\n",
    "# Dimensions of the glass\n",
    "h = float(input(\"Enter the height: \"))\n",
    "r = float(input(\"Enter the radius: \"))\n",
    "\n",
    "n_glass = int((H*L*B)/(3.14*r*r*h))\n",
    "print(n_glass)"
   ]
  }
 ],
 "metadata": {
  "colab": {
   "provenance": []
  },
  "kernelspec": {
   "display_name": "Python 3 (ipykernel)",
   "language": "python",
   "name": "python3"
  },
  "language_info": {
   "codemirror_mode": {
    "name": "ipython",
    "version": 3
   },
   "file_extension": ".py",
   "mimetype": "text/x-python",
   "name": "python",
   "nbconvert_exporter": "python",
   "pygments_lexer": "ipython3",
   "version": "3.9.17"
  }
 },
 "nbformat": 4,
 "nbformat_minor": 1
}
