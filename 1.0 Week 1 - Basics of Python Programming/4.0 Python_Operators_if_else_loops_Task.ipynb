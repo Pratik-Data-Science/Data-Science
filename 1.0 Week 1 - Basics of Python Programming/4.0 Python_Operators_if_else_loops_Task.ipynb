{
 "cells": [
  {
   "cell_type": "markdown",
   "metadata": {},
   "source": [
    "# Task - Python Operators, if else statement, loops"
   ]
  },
  {
   "cell_type": "markdown",
   "metadata": {},
   "source": [
    "---"
   ]
  },
  {
   "cell_type": "markdown",
   "metadata": {
    "id": "w6RlOAXV2PWh"
   },
   "source": [
    "##### `Problem 1`: Write a program that will give you in hand monthly salary after deduction on CTC - HRA(10%), DA(5%), PF(3%) and taxes deduction as below:\n",
    "\n",
    "> Salary(Lakhs) : Tax(%)\n",
    "\n",
    "*   Below 5 : 0%\n",
    "*   5-10 : 10%\n",
    "*   10-20 : 20%\n",
    "*   aboove 20 : 30%"
   ]
  },
  {
   "cell_type": "code",
   "execution_count": 1,
   "metadata": {
    "id": "7tMHvKYO2etI"
   },
   "outputs": [
    {
     "name": "stdout",
     "output_type": "stream",
     "text": [
      "Enter the ctc in lakhs: 6\n",
      "4.32\n"
     ]
    }
   ],
   "source": [
    "# Write code here\n",
    "ctc = int(input(\"Enter the ctc in lakhs: \"))\n",
    "if ctc < 5:\n",
    "    salary = ctc - 0.1*ctc - 0.05*ctc - 0.03*ctc\n",
    "elif ((ctc >= 5) & (ctc <10)):\n",
    "    salary = ctc - 0.1*ctc - 0.05*ctc - 0.03*ctc - 0.1*ctc\n",
    "elif ((ctc >= 10) & (ctc <20)):\n",
    "    salary = ctc - 0.1*ctc - 0.05*ctc - 0.03*ctc - 0.2*ctc\n",
    "else:\n",
    "    salary = ctc - 0.1*ctc - 0.05*ctc - 0.03*ctc - 0.3*ctc\n",
    "    \n",
    "print(salary)"
   ]
  },
  {
   "cell_type": "markdown",
   "metadata": {},
   "source": [
    "---"
   ]
  },
  {
   "cell_type": "markdown",
   "metadata": {
    "id": "tYzCGqwl2hfN"
   },
   "source": [
    "##### `Problem 2`: Write a program that take a user input of three angles and will find out whether it can form a triangle or not."
   ]
  },
  {
   "cell_type": "code",
   "execution_count": 26,
   "metadata": {
    "id": "FYEqln-I2kxV"
   },
   "outputs": [
    {
     "name": "stdout",
     "output_type": "stream",
     "text": [
      "Enter first angle: 4\n",
      "Enter second angle: 4\n",
      "Enter third angle: 4\n",
      "Triangle can not be formed\n"
     ]
    }
   ],
   "source": [
    "# Write code here\n",
    "angle1 = float(input(\"Enter first angle: \"))\n",
    "angle2 = float(input(\"Enter second angle: \"))\n",
    "angle3 = float(input(\"Enter third angle: \"))\n",
    "\n",
    "if ((angle1+angle2+angle3) == 180) and angle1>0 and angle2>0 and angle3>0:\n",
    "    print(\"Traingle can be formed\")\n",
    "else:\n",
    "    print(\"Triangle can not be formed\")"
   ]
  },
  {
   "cell_type": "markdown",
   "metadata": {},
   "source": [
    "---"
   ]
  },
  {
   "cell_type": "markdown",
   "metadata": {
    "id": "5vEpPh8C2pE4"
   },
   "source": [
    "##### `Problem 3`: Write a program that will take user input of cost price and selling price and determines whether its a loss or a profit."
   ]
  },
  {
   "cell_type": "code",
   "execution_count": 28,
   "metadata": {
    "id": "jDwBXlkO2sfl"
   },
   "outputs": [
    {
     "name": "stdout",
     "output_type": "stream",
     "text": [
      "Enter cost price: 33\n",
      "Ebter selling price: 33\n",
      "No profit no loss\n"
     ]
    }
   ],
   "source": [
    "# Write code here\n",
    "cp = int(input(\"Enter cost price: \"))\n",
    "sp = int(input(\"Ebter selling price: \"))\n",
    "\n",
    "if (sp-cp) >0:\n",
    "    print(\"Profit\")\n",
    "elif (sp-cp) <0:\n",
    "    print(\"loss\")\n",
    "else:\n",
    "    print(\"No profit no loss\")"
   ]
  },
  {
   "cell_type": "markdown",
   "metadata": {},
   "source": [
    "---"
   ]
  },
  {
   "cell_type": "markdown",
   "metadata": {
    "id": "J_FG_cJW2ugT"
   },
   "source": [
    "##### `Problem 4`: Write a menu-driven program -\n",
    "1. cm to ft\n",
    "2. km to miles\n",
    "3. USD to INR\n",
    "4. exit"
   ]
  },
  {
   "cell_type": "code",
   "execution_count": 29,
   "metadata": {
    "id": "yBHhaCGQ2zpD"
   },
   "outputs": [
    {
     "name": "stdout",
     "output_type": "stream",
     "text": [
      "\n",
      "    Hi, please select an option \n",
      "    1. Enter 1 to convert cm to feet\n",
      "    2. Enter 2 to convert km to miles\n",
      "    3. Enter 3 to convert USD to INR3\n",
      "Enter the values in usd3\n",
      "250.23\n"
     ]
    }
   ],
   "source": [
    "# Write code here\n",
    "menu = int(input(\"\"\"\n",
    "    Hi, please select an option \n",
    "    1. Enter 1 to convert cm to feet\n",
    "    2. Enter 2 to convert km to miles\n",
    "    3. Enter 3 to convert USD to INR\"\"\"))\n",
    "\n",
    "if menu == 1:\n",
    "    cm = int(input(\"Enter the values in cm\"))\n",
    "    feet = 0.0328*cm\n",
    "    print(feet)\n",
    "elif menu == 2:\n",
    "    km = int(input(\"Enter the values in km\"))\n",
    "    miles = 0.621371*km\n",
    "    print(miles)\n",
    "elif menu == 3:\n",
    "    usd = int(input(\"Enter the values in usd\"))\n",
    "    inr = 83.41*usd\n",
    "    print(inr)\n",
    "else:\n",
    "    print(\"exit\")"
   ]
  },
  {
   "cell_type": "markdown",
   "metadata": {},
   "source": [
    "---"
   ]
  },
  {
   "cell_type": "markdown",
   "metadata": {
    "id": "LJJ30_Yw27ZU"
   },
   "source": [
    "##### `Problem 5` - Exercise 12: Display Fibonacci series up to 10 terms.\n",
    "\n",
    "*Note: The Fibonacci Sequence is a series of numbers. The next number is found by adding up the two numbers before it. The first two numbers are 0 and 1. For example, 0, 1, 1, 2, 3, 5, 8, 13, 21. The next number in this series above is 13+21 = 34*"
   ]
  },
  {
   "cell_type": "code",
   "execution_count": 2,
   "metadata": {
    "id": "ae_1rpe52-5R"
   },
   "outputs": [
    {
     "name": "stdout",
     "output_type": "stream",
     "text": [
      "0 1 1 2 3 5 8 13 21 34 0\n",
      "1\n",
      "1\n",
      "2\n",
      "3\n",
      "5\n",
      "8\n",
      "13\n",
      "21\n",
      "34\n"
     ]
    }
   ],
   "source": [
    "# Write code here\n",
    "n = 10\n",
    "num1 = 0\n",
    "num2 = 1\n",
    "next_num = num1\n",
    "count = 1\n",
    "\n",
    "while count<=n:\n",
    "    print(next_num, end=\" \")\n",
    "    count+=1\n",
    "    num1, num2 = num2, next_num\n",
    "    next_num = num1+num2\n",
    "    \n",
    "    \n",
    "    \n",
    "# OR\n",
    "num1 = 0\n",
    "num2 = 1\n",
    "\n",
    "for i in range(10):\n",
    "    print(num1)\n",
    "    next_num = num1 +num2\n",
    "    \n",
    "    num1 = num2\n",
    "    num2 = next_num"
   ]
  },
  {
   "cell_type": "markdown",
   "metadata": {},
   "source": [
    "---"
   ]
  },
  {
   "cell_type": "markdown",
   "metadata": {
    "id": "pk_I_S4m3PT5"
   },
   "source": [
    "##### `Problem 6` - Find the factorial of a given number.\n",
    "\n",
    "Write a program to use the loop to find the factorial of a given number.\n",
    "\n",
    "The factorial (symbol: `!`) means to multiply all whole numbers from the chosen number down to 1.\n",
    "\n",
    "For example: calculate the factorial of 5\n",
    "\n",
    "```bash\n",
    "5! = 5 × 4 × 3 × 2 × 1 = 120\n",
    "```\n",
    "\n",
    "Output:\n",
    "\n",
    "```bash\n",
    "120\n",
    "```"
   ]
  },
  {
   "cell_type": "code",
   "execution_count": 36,
   "metadata": {
    "id": "lzXxHegx3Rkc"
   },
   "outputs": [
    {
     "name": "stdout",
     "output_type": "stream",
     "text": [
      "Enter a number: 5\n",
      "120\n",
      "120\n"
     ]
    }
   ],
   "source": [
    "# Write code here\n",
    "n = int(input(\"Enter a number: \"))\n",
    "count = 1\n",
    "fact = 1\n",
    "\n",
    "while count <= n:\n",
    "    fact = fact*count\n",
    "    count+=1\n",
    "print(fact)\n",
    "\n",
    "\n",
    "# OR\n",
    "fact = 1\n",
    "for i in range(1, n+1):\n",
    "    fact = fact*i\n",
    "    \n",
    "print(fact)"
   ]
  },
  {
   "cell_type": "markdown",
   "metadata": {},
   "source": [
    "---"
   ]
  },
  {
   "cell_type": "markdown",
   "metadata": {
    "id": "-17IOi-g3UpU"
   },
   "source": [
    "##### `Problem 7` - Reverse a given integer number.\n",
    "\n",
    "Example:\n",
    "\n",
    "`Input:`\n",
    "\n",
    "```bash\n",
    "76542\n",
    "```\n",
    "\n",
    "`Output:`\n",
    "\n",
    "```bash\n",
    "24567\n",
    "```"
   ]
  },
  {
   "cell_type": "code",
   "execution_count": 38,
   "metadata": {
    "id": "wJwLpKCr3aVA"
   },
   "outputs": [
    {
     "name": "stdout",
     "output_type": "stream",
     "text": [
      "Enter the number: 76542\n",
      "24567\n"
     ]
    }
   ],
   "source": [
    "# Write code here\n",
    "# num = int(input(\"Enter a number: \"))\n",
    "\n",
    "num = int(input(\"Enter the number: \"))\n",
    "\n",
    "rev = 0\n",
    "\n",
    "while num >0:\n",
    "    last = num%10\n",
    "    rev = rev*10 + last\n",
    "    num = num//10\n",
    "print(rev)"
   ]
  },
  {
   "cell_type": "markdown",
   "metadata": {},
   "source": [
    "---"
   ]
  },
  {
   "cell_type": "markdown",
   "metadata": {
    "id": "-t8PJQaY3sHf"
   },
   "source": [
    "##### `Problem 8`: Take a user input as integer N. Find out the sum from 1 to N. If any number if divisible by 5, then skip that number. And if the sum is greater than 300, don't need to calculate the sum further more. Print the final result. And don't use for loop to solve this problem.\n",
    "\n",
    "**Example 1:**\n",
    "\n",
    "`Input:`\n",
    "\n",
    "```bash\n",
    "30\n",
    "```\n",
    "\n",
    "`Output:`\n",
    "\n",
    "```bash\n",
    "276\n",
    "```"
   ]
  },
  {
   "cell_type": "code",
   "execution_count": 48,
   "metadata": {
    "id": "GZB6mGMP3ujT"
   },
   "outputs": [
    {
     "name": "stdout",
     "output_type": "stream",
     "text": [
      "Enter a number: 30\n",
      "276\n"
     ]
    }
   ],
   "source": [
    "# Write code here\n",
    "num = int(input(\"Enter a number: \"))\n",
    "\n",
    "sumall = 0\n",
    "for i in range(1, num+1):\n",
    "    if (i%5 != 0):\n",
    "        sumall = sumall + i\n",
    "        \n",
    "    if sumall >300:\n",
    "        sumall-=i\n",
    "        break\n",
    "        \n",
    "print(sumall)"
   ]
  },
  {
   "cell_type": "markdown",
   "metadata": {},
   "source": [
    "---"
   ]
  },
  {
   "cell_type": "markdown",
   "metadata": {
    "id": "Q7ggImeA3xm4"
   },
   "source": [
    "##### `Problem 9`: Write a program that keeps on accepting a number from the user until the user enters Zero. Display the sum and average of all the numbers."
   ]
  },
  {
   "cell_type": "code",
   "execution_count": 51,
   "metadata": {
    "id": "t_YDSZDe4Kdo"
   },
   "outputs": [
    {
     "name": "stdout",
     "output_type": "stream",
     "text": [
      "Enter a number: 2\n",
      "Enter a number: 2\n",
      "Enter a number: 2\n",
      "Enter a number: 2\n",
      "Enter a number: 2\n",
      "Enter a number: 0\n",
      "10\n",
      "2.0\n"
     ]
    }
   ],
   "source": [
    "# Write code here\n",
    "sum = 0\n",
    "count = 0\n",
    "\n",
    "while True:\n",
    "    num = int(input(\"Enter a number: \"))\n",
    "    if num == 0:\n",
    "        break\n",
    "    if num != 0:\n",
    "        sum = sum + num\n",
    "        count = count + 1   \n",
    "        \n",
    "print(sum)\n",
    "print(sum/count)\n"
   ]
  },
  {
   "cell_type": "markdown",
   "metadata": {},
   "source": [
    "---"
   ]
  },
  {
   "cell_type": "markdown",
   "metadata": {
    "id": "6EhvEMvm4R7s"
   },
   "source": [
    "##### `Problem 10`: Write a program which will find all such numbers which are divisible by 7 but are not a multiple of 5, between 2000 and 3200 (both included). The numbers obtained should be printed in a comma-separated sequence on a single line."
   ]
  },
  {
   "cell_type": "code",
   "execution_count": 3,
   "metadata": {
    "id": "d6RgP1B34T6c"
   },
   "outputs": [
    {
     "name": "stdout",
     "output_type": "stream",
     "text": [
      "2002,2009,2016,2023,2037,2044,2051,2058,2072,2079,2086,2093,2107,2114,2121,2128,2142,2149,2156,2163,2177,2184,2191,2198,2212,2219,2226,2233,2247,2254,2261,2268,2282,2289,2296,2303,2317,2324,2331,2338,2352,2359,2366,2373,2387,2394,2401,2408,2422,2429,2436,2443,2457,2464,2471,2478,2492,2499,2506,2513,2527,2534,2541,2548,2562,2569,2576,2583,2597,2604,2611,2618,2632,2639,2646,2653,2667,2674,2681,2688,2702,2709,2716,2723,2737,2744,2751,2758,2772,2779,2786,2793,2807,2814,2821,2828,2842,2849,2856,2863,2877,2884,2891,2898,2912,2919,2926,2933,2947,2954,2961,2968,2982,2989,2996,3003,3017,3024,3031,3038,3052,3059,3066,3073,3087,3094,3101,3108,3122,3129,3136,3143,3157,3164,3171,3178,3192,3199\n"
     ]
    }
   ],
   "source": [
    "# Write code here\n",
    "l = []\n",
    "for i in range(2000, 3201):\n",
    "    if i%7 == 0 and i%5 !=0:\n",
    "        l.append(str((i)))\n",
    "                 \n",
    "                 \n",
    "print(\",\".join(l))"
   ]
  },
  {
   "cell_type": "markdown",
   "metadata": {},
   "source": [
    "---"
   ]
  },
  {
   "cell_type": "markdown",
   "metadata": {
    "id": "tYvmRR-G4Vp4"
   },
   "source": [
    "##### `Problem 11`: Write a program, which will find all such numbers between 1000 and 3000 (both included) such that each digit of the number is an even number. The numbers obtained should be printed in a space-separated sequence on a single line.\n",
    "\n"
   ]
  },
  {
   "cell_type": "code",
   "execution_count": 64,
   "metadata": {
    "id": "k6Gs1kIf4k19"
   },
   "outputs": [
    {
     "name": "stdout",
     "output_type": "stream",
     "text": [
      "2000,2002,2004,2006,2008,2020,2022,2024,2026,2028,2040,2042,2044,2046,2048,2060,2062,2064,2066,2068,2080,2082,2084,2086,2088,2200,2202,2204,2206,2208,2220,2222,2224,2226,2228,2240,2242,2244,2246,2248,2260,2262,2264,2266,2268,2280,2282,2284,2286,2288,2400,2402,2404,2406,2408,2420,2422,2424,2426,2428,2440,2442,2444,2446,2448,2460,2462,2464,2466,2468,2480,2482,2484,2486,2488,2600,2602,2604,2606,2608,2620,2622,2624,2626,2628,2640,2642,2644,2646,2648,2660,2662,2664,2666,2668,2680,2682,2684,2686,2688,2800,2802,2804,2806,2808,2820,2822,2824,2826,2828,2840,2842,2844,2846,2848,2860,2862,2864,2866,2868,2880,2882,2884,2886,2888\n"
     ]
    }
   ],
   "source": [
    "# Write code here\n",
    "\n",
    "L = []\n",
    "for i in range(1000, 3001):\n",
    "    flag = True\n",
    "    \n",
    "    curr = i\n",
    "    \n",
    "    while curr > 0:\n",
    "        last = curr%10\n",
    "        if last %2 != 0:\n",
    "            flag = False\n",
    "            break\n",
    "        curr = curr//10\n",
    "        \n",
    "    if flag:\n",
    "        L.append(str(i))\n",
    "        \n",
    "print(\",\".join(L))"
   ]
  },
  {
   "cell_type": "markdown",
   "metadata": {},
   "source": [
    "---"
   ]
  },
  {
   "cell_type": "markdown",
   "metadata": {
    "id": "GV18IINT4mf5"
   },
   "source": [
    "##### `Problem 12`: A robot moves in a plane starting from the original point (0,0). The robot can move toward UP, DOWN, LEFT and RIGHT with a given steps.\n",
    "The trace of robot movement is shown as the following:\n",
    "```\n",
    "UP 5\n",
    "DOWN 3\n",
    "LEFT 3\n",
    "RIGHT 2\n",
    "!\n",
    "```\n",
    "> The numbers after the direction are steps.\n",
    "\n",
    "> `!` means robot stop there.\n",
    "\n",
    "**Please write a program to compute the distance from current position after a sequence of movement and original point.**\n",
    "\n",
    "*If the distance is a float, then just print the nearest integer.*\n",
    "\n",
    "Example:\n",
    "\n",
    "`Input`:\n",
    "```\n",
    "UP 5\n",
    "DOWN 3\n",
    "LEFT 3\n",
    "RIGHT 2\n",
    "!\n",
    "```\n",
    "`Output`:\n",
    "```\n",
    "2\n",
    "```"
   ]
  },
  {
   "cell_type": "code",
   "execution_count": 69,
   "metadata": {
    "id": "6UNMC2aR4w5x"
   },
   "outputs": [
    {
     "name": "stdout",
     "output_type": "stream",
     "text": [
      "Enter the robot pathUP 5\n",
      "Enter the robot pathDOWN 5\n",
      "Enter the robot pathLEFT 5\n",
      "Enter the robot pathRIGHT 5\n",
      "Enter the robot path!\n",
      "0.0\n"
     ]
    }
   ],
   "source": [
    "# Write code here\n",
    "pos = [0,0]\n",
    "\n",
    "while True:\n",
    "    s = input(\"Enter the robot path as 'Direction' 'Steps': \")\n",
    "    \n",
    "    if s == \"!\":\n",
    "        break\n",
    "    direction = s.split()[0]\n",
    "    steps = int(s.split()[1])\n",
    "    \n",
    "    if direction == \"UP\":\n",
    "        pos[1] = pos[1] + steps\n",
    "        \n",
    "    if direction == \"DOWN\":\n",
    "        pos[1] = pos[1] - steps\n",
    "        \n",
    "    if direction == \"LEFT\":\n",
    "        pos[0] = pos[0] - steps\n",
    "        \n",
    "    if direction == \"RIGHT\":\n",
    "        pos[0] = pos[0] + steps\n",
    "    else:\n",
    "        pass\n",
    "    \n",
    "print((pos[0]**2 + pos[1]**2)**0.5)"
   ]
  },
  {
   "cell_type": "markdown",
   "metadata": {},
   "source": [
    "---"
   ]
  },
  {
   "cell_type": "markdown",
   "metadata": {
    "id": "3fsAIAhK5GYY"
   },
   "source": [
    "##### `Problem 13`:Write a program to print whether a given number is a prime number or not"
   ]
  },
  {
   "cell_type": "code",
   "execution_count": 4,
   "metadata": {
    "id": "j6y91lxy5LZs"
   },
   "outputs": [
    {
     "name": "stdout",
     "output_type": "stream",
     "text": [
      "Enter the number44\n",
      "Not a prime number\n"
     ]
    }
   ],
   "source": [
    "# Write code here\n",
    "n = int(input(\"Enter the number\"))\n",
    "\n",
    "flag = True\n",
    "for i in range(2,n):\n",
    "    if n%i == 0:\n",
    "        flag = False\n",
    "        break\n",
    "        \n",
    "if flag == True:\n",
    "    print(\"Prime number\")\n",
    "else:\n",
    "    print(\"Not a prime number\")"
   ]
  },
  {
   "cell_type": "markdown",
   "metadata": {},
   "source": [
    "---"
   ]
  },
  {
   "cell_type": "markdown",
   "metadata": {
    "id": "asAbmbK-5NHv"
   },
   "source": [
    "##### `Problem 14`:Print all the Armstrong numbers in a given range.\n",
    "Range will be provided by the user<br>\n",
    "Armstrong number is a number that is equal to the sum of cubes of its digits. For example 0, 1, 153, 370, 371 and 407 are the Armstrong numbers."
   ]
  },
  {
   "cell_type": "code",
   "execution_count": 25,
   "metadata": {
    "id": "PZuI67pm5jCT"
   },
   "outputs": [
    {
     "name": "stdout",
     "output_type": "stream",
     "text": [
      "Enter the lower range: 0\n",
      "Enter the upper range: 410\n",
      "0\n",
      "1\n",
      "153\n",
      "370\n",
      "371\n",
      "407\n"
     ]
    }
   ],
   "source": [
    "# Write code here\n",
    "lower = int(input(\"Enter the lower range: \"))\n",
    "upper = int(input(\"Enter the upper range: \"))\n",
    "\n",
    "for num in range(lower, upper + 1):\n",
    "    sumall = 0\n",
    "    temp = num\n",
    "    \n",
    "    while temp > 0:\n",
    "        digit = temp % 10\n",
    "        sumall += digit ** 3\n",
    "        temp //= 10\n",
    "\n",
    "    if num == sumall:\n",
    "        print(num)"
   ]
  },
  {
   "cell_type": "markdown",
   "metadata": {},
   "source": [
    "---"
   ]
  },
  {
   "cell_type": "markdown",
   "metadata": {
    "id": "ClCQZMqT7gK0"
   },
   "source": [
    "##### `Problem 15`:Calculate the angle between the hour hand and minute hand.\n",
    "\n",
    "Note: There can be two angles between hands; we need to print a minimum of two. Also, we need to print the floor of the final result angle. For example, if the final angle is 10.61, we need to print 10.\n",
    "\n",
    "Input:<br>\n",
    "H = 9 , M = 0<br>\n",
    "Output:<br>\n",
    "90<br>\n",
    "Explanation:<br>\n",
    "The minimum angle between hour and minute\n",
    "hand when the time is 9 is 90 degress."
   ]
  },
  {
   "cell_type": "code",
   "execution_count": 43,
   "metadata": {
    "id": "tNBTCZML7jy_",
    "scrolled": true
   },
   "outputs": [
    {
     "name": "stdout",
     "output_type": "stream",
     "text": [
      "Enter hour value: 9\n",
      "Enter minute value: 0\n",
      "The angle between the hour hand and minute hand at 9:0 is 90.0 degrees.\n"
     ]
    }
   ],
   "source": [
    "# Write code here\n",
    "def calc_clock_angle(hour, minute):\n",
    "    # Calculate the angles made by the hour and minute hands with 12 o'clock\n",
    "    hour_angle = (hour%12 + minute/60) * 30  # 30 degrees per hour\n",
    "    minute_angle = minute * 6  # 6 degrees per minute\n",
    "\n",
    "    # Calculate the absolute difference between the two angles\n",
    "    angle = abs(hour_angle - minute_angle)\n",
    "\n",
    "    # Return the smaller angle of the two possible angles\n",
    "    return min(angle, 360 - angle)\n",
    "\n",
    "# Example usage\n",
    "hour = int(input(\"Enter hour value: \"))\n",
    "minute = int(input(\"Enter minute value: \"))\n",
    "\n",
    "angle = calc_clock_angle(hour, minute)\n",
    "print(\"The angle between the hour hand and minute hand at {hour}:{minute} is {angle} degrees.\".format(hour = hour, minute = minute, angle = angle))"
   ]
  },
  {
   "cell_type": "markdown",
   "metadata": {},
   "source": [
    "---"
   ]
  },
  {
   "cell_type": "markdown",
   "metadata": {
    "id": "GwacF9Co72Qc"
   },
   "source": [
    "##### `Problem 16`:Given two rectangles, find if the given two rectangles overlap or not. A rectangle is denoted by providing the x and y coordinates of two points: the left top corner and the right bottom corner of the rectangle. Two rectangles sharing a side are considered overlapping. (L1 and R1 are the extreme points of the first rectangle and L2 and R2 are the extreme points of the second rectangle).\n",
    "\n",
    "Note: It may be assumed that the rectangles are parallel to the coordinate axis.\n",
    "\n",
    "<img src='https://www.geeksforgeeks.org/wp-content/uploads/rectanglesOverlap.png' width='300' height='200'>"
   ]
  },
  {
   "cell_type": "code",
   "execution_count": 47,
   "metadata": {
    "id": "6rrw_lpH78Rs"
   },
   "outputs": [
    {
     "name": "stdout",
     "output_type": "stream",
     "text": [
      "Overlap\n"
     ]
    }
   ],
   "source": [
    "# Write code here\n",
    "\n",
    "# Returns true if two rectangles(l1, r1) and (l2, r2) overlap\n",
    "\n",
    "l1 = (0, 10)\n",
    "r1 = (10, 0)\n",
    "l2 = (5, 5)\n",
    "r2 = (15, 0)\n",
    "\n",
    "# If the points are not rectagle but a point itself\n",
    "if l1[0] == r1[0] or l1[1] == r1[1] or l2[0] == r2[0] or l2[1] == r2[1]:\n",
    "    print(\"Do not overlap\")\n",
    "    \n",
    "# If the rectangles are to left or right of each other\n",
    "elif l1[0] > r2[0] or l2[0] > r1[0]:\n",
    "    print(\"Do not overlap\")\n",
    "\n",
    "# If the rectangles are above or below of each other\n",
    "elif r1[1] > l2[1] or r2[1] >l1[1]:\n",
    "    print(\"Do not overlap\")\n",
    "else:\n",
    "    print(\"Overlap\")"
   ]
  }
 ],
 "metadata": {
  "colab": {
   "provenance": []
  },
  "kernelspec": {
   "display_name": "Python 3 (ipykernel)",
   "language": "python",
   "name": "python3"
  },
  "language_info": {
   "codemirror_mode": {
    "name": "ipython",
    "version": 3
   },
   "file_extension": ".py",
   "mimetype": "text/x-python",
   "name": "python",
   "nbconvert_exporter": "python",
   "pygments_lexer": "ipython3",
   "version": "3.9.17"
  }
 },
 "nbformat": 4,
 "nbformat_minor": 1
}
