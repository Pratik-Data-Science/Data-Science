{
 "cells": [
  {
   "cell_type": "markdown",
   "id": "54c7cea1",
   "metadata": {},
   "source": [
    "# Basics of Python - Theory"
   ]
  },
  {
   "cell_type": "markdown",
   "id": "d7a4808f",
   "metadata": {},
   "source": [
    "---"
   ]
  },
  {
   "cell_type": "markdown",
   "id": "62e66782",
   "metadata": {},
   "source": [
    "### 1. Basics of Python"
   ]
  },
  {
   "cell_type": "markdown",
   "id": "5b7e651b",
   "metadata": {},
   "source": [
    "---"
   ]
  },
  {
   "cell_type": "markdown",
   "id": "761f09a5",
   "metadata": {},
   "source": [
    "#### What is Python?"
   ]
  },
  {
   "cell_type": "markdown",
   "id": "93c5873d",
   "metadata": {},
   "source": [
    "Python is a high level programming language known for its simplicity and readability. It has a huge library and built in functions making it a versatile language for various applications. It is widely used for web devlopment, data analysis, machine learning, artificail intelligence, scientific computing, etc"
   ]
  },
  {
   "cell_type": "markdown",
   "id": "6ccab614",
   "metadata": {},
   "source": [
    "---"
   ]
  },
  {
   "cell_type": "markdown",
   "id": "cab3c357",
   "metadata": {},
   "source": [
    "#### Why Python?"
   ]
  },
  {
   "cell_type": "markdown",
   "id": "2ae4b1b4",
   "metadata": {},
   "source": [
    "Although Python(1991) was developed before Java(1995), but it took time for it to gain popularity. Below are the reasons because of which Python is so widely used today specially in the field of Data Science<br>\n",
    "<b>1. Design Philosphy:</b> Funadamental belief or principle on which Python was developed was to make it easy to understand for the user. Python is probably one of the most easiest language to learn.<br>\n",
    "<b>2. Simplicity and Readability:</b> Python syntax are very well indented, they are very clear and easy to understand<br>\n",
    "<b>3. Rich ecosystem:</b> A lot of methods and functions to be used for built in data types, a vast collection of libraries and frameworks for diverse application such as data science, machine learning, web development etc makes it more popular<br>\n",
    "<b>4. General Purpose:</b> Python is a general purpose programming language. It supports a lot of programming paradigms. It can be used to built desktop software, data science, create websites, etc<br>\n",
    "<b>5. Community Support:</b> Python has a huge and supportive community, providing support, sharing knowledge, contributing by creating new libraries in order to simplify our work<br>\n",
    "<b>6. Platform Compatibility:</b> Python is compatible with majority of the operating system, which helps in seamless development and deployment across platforms"
   ]
  },
  {
   "cell_type": "markdown",
   "id": "5f0a6372",
   "metadata": {},
   "source": [
    "---"
   ]
  },
  {
   "cell_type": "markdown",
   "id": "62423551",
   "metadata": {},
   "source": [
    "#### Why Python is used for Data Science"
   ]
  },
  {
   "cell_type": "markdown",
   "id": "0d5c6233",
   "metadata": {},
   "source": [
    "Python is famous for Data Science because of following reasons<br>\n",
    "<b>1. Easy to learn:</b> Its easy to learn nature made to popular and forst choice for Data Science. Data Science was initially conceptualized and learned by statisticians and mathematicians. So in order to implement the concepts they had to learn some programming language. Data Science beaning simple and easy to learn, it became the first choice. This is the reason that people coming from different domain also find a fit in Data Science domain as well.<br>\n",
    "<b>2. Rich ecosystme:</b> Python provides a huge libraries and tools which shows a high proximity with mathematics and statistics. numpy, pandas, scikit-learn, matplotlib, seaborn, etc, all these libraries make it easy to work with data<br>\n",
    "<b>3. Community Support:</b> Large and active community, providing abundant resource and support made it popular<br>\n",
    "<b>4. Integration with Other Technologies:</b> Python can integrate with different databases, big data technologies, cloud services, etc, which makes it suiatble for handling diverse data sources"
   ]
  },
  {
   "cell_type": "markdown",
   "id": "7599607a",
   "metadata": {},
   "source": [
    "---"
   ]
  },
  {
   "cell_type": "markdown",
   "id": "f11e91e2",
   "metadata": {},
   "source": [
    "#### We know that Python is slow compared to other programming languages, how it solves this issue?"
   ]
  },
  {
   "cell_type": "markdown",
   "id": "5b152477",
   "metadata": {},
   "source": [
    "When compared to widely used programming languages like Java, C, C++, python is slow. There Python uses np.ndarray to work with data which makes it fast. Although we work with dataframes but using ndarray for calculation makes it fast. This capability is built in C++ and is provides by NumPy librarye"
   ]
  },
  {
   "cell_type": "markdown",
   "id": "7867cb8f",
   "metadata": {},
   "source": [
    "---"
   ]
  },
  {
   "cell_type": "markdown",
   "id": "28fa31b8",
   "metadata": {},
   "source": [
    "#### Is Python a case sensitive language?"
   ]
  },
  {
   "cell_type": "markdown",
   "id": "6309f547",
   "metadata": {},
   "source": [
    "Yes, Python is a case senitive language"
   ]
  },
  {
   "cell_type": "markdown",
   "id": "eb48bd79",
   "metadata": {},
   "source": [
    "---"
   ]
  },
  {
   "cell_type": "markdown",
   "id": "17d3f0f7",
   "metadata": {},
   "source": [
    "#### What is print function in Python used for?"
   ]
  },
  {
   "cell_type": "markdown",
   "id": "db51b468",
   "metadata": {},
   "source": [
    "It is used to print anything that we pass to this function. One thing that makes print function of python different from other language is that, we can print different values belonging to different data types. values that we get while using print function is by default seperated by space and end by line change"
   ]
  },
  {
   "cell_type": "code",
   "execution_count": 2,
   "id": "20dfdd6b",
   "metadata": {},
   "outputs": [
    {
     "name": "stdout",
     "output_type": "stream",
     "text": [
      "12345678\n"
     ]
    }
   ],
   "source": [
    "print()"
   ]
  },
  {
   "cell_type": "code",
   "execution_count": 1,
   "id": "2e381e29",
   "metadata": {},
   "outputs": [
    {
     "name": "stdout",
     "output_type": "stream",
     "text": [
      "1234\n",
      "I love Data Science\n",
      "1234 I love Data Science 7.8 True\n"
     ]
    }
   ],
   "source": [
    "print(1234)\n",
    "print(\"I love Data Science\")\n",
    "print(1234, \"I love Data Science\", 7.8, True)"
   ]
  },
  {
   "cell_type": "code",
   "execution_count": 5,
   "id": "2faf91c4",
   "metadata": {},
   "outputs": [
    {
     "name": "stdout",
     "output_type": "stream",
     "text": [
      "1234\n",
      "I love Data Science\n"
     ]
    }
   ],
   "source": [
    "print(1234)\n",
    "print(\"I love Data Science\")"
   ]
  },
  {
   "cell_type": "markdown",
   "id": "fdff73eb",
   "metadata": {},
   "source": [
    "---"
   ]
  },
  {
   "cell_type": "markdown",
   "id": "3502c225",
   "metadata": {},
   "source": [
    "#### What is a data type and different data types used in Python"
   ]
  },
  {
   "cell_type": "markdown",
   "id": "b8120d97",
   "metadata": {},
   "source": [
    "Data type is a an attribute of data that tells the complier or interpreter how the programmer intends to use the data. Basically it means how many different types of data a programming language can work with. In Python we do not have do define a data type. It is intelligent enough to detect the data type while creating a variable. Below are the data types used in Python<br>\n",
    "<b>1. Integer:</b> It can handle a huge integral value - 10^308<br>\n",
    "<b>2. Float/Decimal:</b> It can also handle a huge values - 1.7*10^208<br>\n",
    "<b>3. String/Text</b><br>\n",
    "<b>4. Boolean</b><br>\n",
    "<b>5. Complex Numbers</b><br>\n",
    "<b>6. List:</b> list is a versatile and mutable collection of items. It's defined by square brackets [] and items within the list are separated by commas. Lists can contain elements of different data types, and they can grow or shrink in size as needed.<br>\n",
    "<b>7. Tuple:</b> tuple is an ordered and immutable collection of elements. It's defined by using parentheses () and items within the tuple are separated by commas. Once a tuple is created, its elements cannot be changed, added, or removed.<br>\n",
    "<b>8. Set:</b> set is an unordered collection of unique elements. It's defined using curly braces or by using the set() function with a sequence (like a list or a tuple) as an argument. Sets do not allow duplicate elements, and they are mutable, meaning you can add or remove items after creation.<br>\n",
    "<b>9. Dictionary:</b> dictionary is a collection of key-value pairs. It's defined using curly braces and key-value pairs are separated by colons. Each key in a dictionary must be unique, and it's used to access its corresponding value."
   ]
  },
  {
   "cell_type": "code",
   "execution_count": 19,
   "id": "6fde26a7",
   "metadata": {},
   "outputs": [],
   "source": [
    "x = dict({\"name\":'Rahul', \"Age\":'32'})"
   ]
  },
  {
   "cell_type": "code",
   "execution_count": 8,
   "id": "64a47d60",
   "metadata": {},
   "outputs": [
    {
     "data": {
      "text/plain": [
       "list"
      ]
     },
     "execution_count": 8,
     "metadata": {},
     "output_type": "execute_result"
    }
   ],
   "source": [
    "l = [1,2,3,4]\n",
    "type(l)"
   ]
  },
  {
   "cell_type": "code",
   "execution_count": 10,
   "id": "244b94c4",
   "metadata": {},
   "outputs": [
    {
     "data": {
      "text/plain": [
       "tuple"
      ]
     },
     "execution_count": 10,
     "metadata": {},
     "output_type": "execute_result"
    }
   ],
   "source": [
    "l = (1,2,3,4)\n",
    "type(l)"
   ]
  },
  {
   "cell_type": "code",
   "execution_count": 11,
   "id": "91d83e92",
   "metadata": {},
   "outputs": [
    {
     "data": {
      "text/plain": [
       "set"
      ]
     },
     "execution_count": 11,
     "metadata": {},
     "output_type": "execute_result"
    }
   ],
   "source": [
    "l = {1,2,3,4,5}\n",
    "type(l)"
   ]
  },
  {
   "cell_type": "code",
   "execution_count": 13,
   "id": "0ae0b1fe",
   "metadata": {},
   "outputs": [],
   "source": [
    "l = [1,2,3,4,1,2,3,2,2,3,1]"
   ]
  },
  {
   "cell_type": "code",
   "execution_count": 14,
   "id": "0a516e29",
   "metadata": {},
   "outputs": [
    {
     "data": {
      "text/plain": [
       "[1, 2, 3, 4, 1, 2, 3, 2, 2, 3, 1]"
      ]
     },
     "execution_count": 14,
     "metadata": {},
     "output_type": "execute_result"
    }
   ],
   "source": [
    "l"
   ]
  },
  {
   "cell_type": "code",
   "execution_count": 16,
   "id": "2041c4ca",
   "metadata": {},
   "outputs": [],
   "source": [
    "x = set(l)"
   ]
  },
  {
   "cell_type": "code",
   "execution_count": 17,
   "id": "bfa64048",
   "metadata": {},
   "outputs": [
    {
     "data": {
      "text/plain": [
       "{1, 2, 3, 4}"
      ]
     },
     "execution_count": 17,
     "metadata": {},
     "output_type": "execute_result"
    }
   ],
   "source": [
    "x"
   ]
  },
  {
   "cell_type": "markdown",
   "id": "01f48c9c",
   "metadata": {},
   "source": [
    "---"
   ]
  },
  {
   "cell_type": "markdown",
   "id": "902d35be",
   "metadata": {},
   "source": [
    "#### How to check the data type of a data in Python"
   ]
  },
  {
   "cell_type": "markdown",
   "id": "30cd2857",
   "metadata": {},
   "source": [
    "Data type can be checked using type() function"
   ]
  },
  {
   "cell_type": "markdown",
   "id": "6a3bf2be",
   "metadata": {},
   "source": [
    "---"
   ]
  },
  {
   "cell_type": "markdown",
   "id": "ea2447fe",
   "metadata": {},
   "source": [
    "#### What is variable?"
   ]
  },
  {
   "cell_type": "markdown",
   "id": "bbcb1d5c",
   "metadata": {},
   "source": [
    "Variable is a container for future use. It is used for storing data "
   ]
  },
  {
   "cell_type": "markdown",
   "id": "bd7977ef",
   "metadata": {},
   "source": [
    "---"
   ]
  },
  {
   "cell_type": "markdown",
   "id": "8b3ea5f1",
   "metadata": {},
   "source": [
    "#### What is dynamic typing?"
   ]
  },
  {
   "cell_type": "markdown",
   "id": "e43d3071",
   "metadata": {},
   "source": [
    "Dynamic typing refers to the feature where the type of a variable is interpreted during execution, not during the compilation phase. This means that you don't have to declare the type of a variable when you define it. Instead, Python automatically determines the type based on the value assigned to it."
   ]
  },
  {
   "cell_type": "code",
   "execution_count": 25,
   "id": "48f10f29",
   "metadata": {},
   "outputs": [],
   "source": [
    "# int a = 3\n",
    "a = 3"
   ]
  },
  {
   "cell_type": "code",
   "execution_count": 26,
   "id": "d5520c46",
   "metadata": {},
   "outputs": [
    {
     "data": {
      "text/plain": [
       "int"
      ]
     },
     "execution_count": 26,
     "metadata": {},
     "output_type": "execute_result"
    }
   ],
   "source": [
    "type(a)"
   ]
  },
  {
   "cell_type": "markdown",
   "id": "2cdf870a",
   "metadata": {},
   "source": [
    "---"
   ]
  },
  {
   "cell_type": "markdown",
   "id": "56e5c6d3",
   "metadata": {},
   "source": [
    "#### What is static typing?"
   ]
  },
  {
   "cell_type": "markdown",
   "id": "c9dcd623",
   "metadata": {},
   "source": [
    "Static typing refers to the feature where the type of a variable is interpreted during the compilation phase. This means that we have to declare the type of a variable when we define it."
   ]
  },
  {
   "cell_type": "markdown",
   "id": "52f57e7f",
   "metadata": {},
   "source": [
    "---"
   ]
  },
  {
   "cell_type": "markdown",
   "id": "49cc3c4f",
   "metadata": {},
   "source": [
    "#### What is dynamic binding?"
   ]
  },
  {
   "cell_type": "markdown",
   "id": "22bdf22e",
   "metadata": {},
   "source": [
    "When we create a variable and there is no fixed data type and it subject to change depending on the kind of values we want to store, it is called dynamic binding. E.g. - Python"
   ]
  },
  {
   "cell_type": "code",
   "execution_count": 36,
   "id": "6a581ce1",
   "metadata": {},
   "outputs": [],
   "source": [
    "a = 3"
   ]
  },
  {
   "cell_type": "code",
   "execution_count": 37,
   "id": "1c1e76b6",
   "metadata": {},
   "outputs": [
    {
     "data": {
      "text/plain": [
       "1820212423024"
      ]
     },
     "execution_count": 37,
     "metadata": {},
     "output_type": "execute_result"
    }
   ],
   "source": [
    "id(a)"
   ]
  },
  {
   "cell_type": "code",
   "execution_count": 38,
   "id": "c447e1c3",
   "metadata": {},
   "outputs": [],
   "source": [
    "a = \"Sahil\""
   ]
  },
  {
   "cell_type": "code",
   "execution_count": 39,
   "id": "a378763c",
   "metadata": {},
   "outputs": [
    {
     "data": {
      "text/plain": [
       "1820326022256"
      ]
     },
     "execution_count": 39,
     "metadata": {},
     "output_type": "execute_result"
    }
   ],
   "source": [
    "id(a)"
   ]
  },
  {
   "cell_type": "code",
   "execution_count": 31,
   "id": "cba4209d",
   "metadata": {},
   "outputs": [
    {
     "name": "stdout",
     "output_type": "stream",
     "text": [
      "Sahil\n"
     ]
    }
   ],
   "source": [
    "print(a)"
   ]
  },
  {
   "cell_type": "code",
   "execution_count": 30,
   "id": "f7dc904a",
   "metadata": {},
   "outputs": [
    {
     "data": {
      "text/plain": [
       "str"
      ]
     },
     "execution_count": 30,
     "metadata": {},
     "output_type": "execute_result"
    }
   ],
   "source": [
    "type(a)"
   ]
  },
  {
   "cell_type": "markdown",
   "id": "4c3ef668",
   "metadata": {},
   "source": [
    "---"
   ]
  },
  {
   "cell_type": "markdown",
   "id": "bf34e4c8",
   "metadata": {},
   "source": [
    "#### What is static binding?"
   ]
  },
  {
   "cell_type": "markdown",
   "id": "f0282330",
   "metadata": {},
   "source": [
    "When we create a variable and there is a fixed data type and it does to change depending on the kind of values we want to store, it is called dynamic binding. E.g. - Java, C, C++"
   ]
  },
  {
   "cell_type": "markdown",
   "id": "807b38f8",
   "metadata": {},
   "source": [
    "---"
   ]
  },
  {
   "cell_type": "markdown",
   "id": "9b4457d5",
   "metadata": {},
   "source": [
    "#### What is Compilation?"
   ]
  },
  {
   "cell_type": "markdown",
   "id": "fcd7fef3",
   "metadata": {},
   "source": [
    "Compilation is a process of converting human redable code to machine readable code (binary). It converts the entire code at a time"
   ]
  },
  {
   "cell_type": "markdown",
   "id": "9b15bdcc",
   "metadata": {},
   "source": [
    "---"
   ]
  },
  {
   "cell_type": "markdown",
   "id": "85f4a2b6",
   "metadata": {},
   "source": [
    "#### What is Interpreter?"
   ]
  },
  {
   "cell_type": "markdown",
   "id": "62b32a2a",
   "metadata": {},
   "source": [
    "Interpreter is also a process of converting human redable code to machine readable code (binary). It converts the code from source code to machine code line by line. It is generally slower than complier"
   ]
  },
  {
   "cell_type": "markdown",
   "id": "62a6239c",
   "metadata": {},
   "source": [
    "---"
   ]
  },
  {
   "cell_type": "markdown",
   "id": "6712f4d1",
   "metadata": {},
   "source": [
    "#### What are keywords?"
   ]
  },
  {
   "cell_type": "markdown",
   "id": "083ee54c",
   "metadata": {},
   "source": [
    "There are few words which is reserved by the programming language which they use for a special purpose. In Python there are 36 keywords which has been reserved"
   ]
  },
  {
   "cell_type": "code",
   "execution_count": 1,
   "id": "d6db1c3b",
   "metadata": {},
   "outputs": [
    {
     "name": "stdout",
     "output_type": "stream",
     "text": [
      "No. of keywords present in current version : 36\n",
      "['False', 'None', 'True', '__peg_parser__', 'and', 'as', 'assert', 'async', 'await', 'break', 'class', 'continue', 'def', 'del', 'elif', 'else', 'except', 'finally', 'for', 'from', 'global', 'if', 'import', 'in', 'is', 'lambda', 'nonlocal', 'not', 'or', 'pass', 'raise', 'return', 'try', 'while', 'with', 'yield']\n"
     ]
    }
   ],
   "source": [
    "# import keyword library \n",
    "import keyword \n",
    "list = keyword.kwlist \n",
    "print(\"No. of keywords present in current version :\", \n",
    "len(list)) \n",
    "print(list) "
   ]
  },
  {
   "cell_type": "markdown",
   "id": "b35265be",
   "metadata": {},
   "source": [
    "---"
   ]
  },
  {
   "cell_type": "markdown",
   "id": "a0db7ad5",
   "metadata": {},
   "source": [
    "#### What are identifiers?"
   ]
  },
  {
   "cell_type": "markdown",
   "id": "4995995e",
   "metadata": {},
   "source": [
    "Identifiers in programming are names given to different elements in the code, such as variables, functions, classes, and so on. These names are used to uniquely identify and reference these elements within the program. There are few rules that needs to be followed in Python\n",
    "1. We can't start the name of a variable with a numerical digit\n",
    "2. Only special character that we can use is underscore\n",
    "3. Identifiers can not be keywords\n",
    "4. Identifiers are case sensitive\n",
    "5. There is usually a maximum length for identifiers"
   ]
  },
  {
   "cell_type": "code",
   "execution_count": 54,
   "id": "731fd151",
   "metadata": {},
   "outputs": [
    {
     "name": "stdout",
     "output_type": "stream",
     "text": [
      "Variable   Type    Data/Info\n",
      "----------------------------\n",
      "A          int     2\n",
      "a          int     1\n",
      "a_b_c      int     1\n",
      "abc        int     1\n",
      "l          list    n=11\n",
      "print      int     1\n",
      "type       int     1\n",
      "x          dict    n=2\n"
     ]
    }
   ],
   "source": [
    "%whos"
   ]
  },
  {
   "cell_type": "markdown",
   "id": "61e1f4a9",
   "metadata": {},
   "source": [
    "---"
   ]
  },
  {
   "cell_type": "markdown",
   "id": "50786be5",
   "metadata": {},
   "source": [
    "#### What is implicit type conversion?"
   ]
  },
  {
   "cell_type": "markdown",
   "id": "890f8218",
   "metadata": {},
   "source": [
    "When a programming language automatically converts one data type to another without requiring explicit instructions from the programmer is callled implicit type conversion"
   ]
  },
  {
   "cell_type": "code",
   "execution_count": 58,
   "id": "c895d071",
   "metadata": {},
   "outputs": [
    {
     "data": {
      "text/plain": [
       "16.34"
      ]
     },
     "execution_count": 58,
     "metadata": {},
     "output_type": "execute_result"
    }
   ],
   "source": [
    "a = 7\n",
    "b = 9.34\n",
    "c = a+b\n",
    "c"
   ]
  },
  {
   "cell_type": "markdown",
   "id": "31932af0",
   "metadata": {},
   "source": [
    "---"
   ]
  },
  {
   "cell_type": "markdown",
   "id": "13000e04",
   "metadata": {},
   "source": [
    "#### What is explicit type conversion?"
   ]
  },
  {
   "cell_type": "markdown",
   "id": "a33776b9",
   "metadata": {},
   "source": [
    "When a programmer manually converts a value from one data type to another, it is called explicit type conversion"
   ]
  },
  {
   "cell_type": "markdown",
   "id": "eb5a2164",
   "metadata": {},
   "source": [
    "---"
   ]
  },
  {
   "cell_type": "markdown",
   "id": "7840f079",
   "metadata": {},
   "source": [
    "#### What are literals?"
   ]
  },
  {
   "cell_type": "markdown",
   "id": "0acb98a5",
   "metadata": {},
   "source": [
    "Whatever values we store in a variable is called literal"
   ]
  },
  {
   "cell_type": "markdown",
   "id": "1e9757aa",
   "metadata": {},
   "source": [
    "---"
   ]
  },
  {
   "cell_type": "markdown",
   "id": "b1c5883d",
   "metadata": {},
   "source": [
    "#### What are Operators? What are different operators in Python?"
   ]
  },
  {
   "cell_type": "markdown",
   "id": "d6c0d13c",
   "metadata": {},
   "source": [
    "Operators are symbols or keywords that perform operations on one or more operands. They are used to carry out mathematical, logical, and relational computations within a program<br>\n",
    "<b>1. Arithmetic Operators:</b> Perform basic mathematical operations such as addition, subtraction, multiplication, division, and more.<br>\n",
    "<b>2. Comparison/Relational operators:</b> Compare two values and return a Boolean result (True or False) based on the comparison, e.g., equal to, not equal to, greater than, less than, etc.<br>\n",
    "<b>3. Logical Operators:</b> Combine multiple conditions and return a Boolean result, e.g., AND, OR, NOT.<br>\n",
    "<b>4. Assignment Operators:</b> Assign values to variables, e.g., =, +=, -=, *=, /=.<br>\n",
    "<b>5. Bitwise Operators:</b> Perform bit-level operations on binary representations of numbers, e.g., bitwise AND, OR, XOR, etc.<br>\n",
    "<b>6. Membership Operators:</b> Check for the existence of a value within a sequence, e.g., in, not in.<br>\n",
    "<b>7. Identity Operators:</b> Check if two operands refer to the same object, e.g., is, is not."
   ]
  },
  {
   "cell_type": "code",
   "execution_count": 60,
   "id": "d6d3a59c",
   "metadata": {},
   "outputs": [
    {
     "data": {
      "text/plain": [
       "False"
      ]
     },
     "execution_count": 60,
     "metadata": {},
     "output_type": "execute_result"
    }
   ],
   "source": [
    "l = [1,2,3,4,5]\n",
    "8 in l"
   ]
  },
  {
   "cell_type": "markdown",
   "id": "8684bb1d",
   "metadata": {},
   "source": [
    "---"
   ]
  },
  {
   "cell_type": "markdown",
   "id": "0eeec88e",
   "metadata": {},
   "source": [
    "#### What are if-else statement?"
   ]
  },
  {
   "cell_type": "markdown",
   "id": "dc562499",
   "metadata": {},
   "source": [
    "The \"if-else\" statement is a fundamental control structure in programming that allows for conditional execution of code. It's used to make decisions in a program based on certain conditions.\n",
    "1. The \"if\" statement checks a condition, and if the condition is true, it executes a block of code.\n",
    "2. The \"else\" statement is used in conjunction with \"if.\" If the condition in the \"if\" statement is false, the code within the \"else\" block is executed.<br>\n",
    "<br>\n",
    "Its benefits include the ability to control the flow of a program, enabling different actions to be taken based on varying conditions. This provides flexibility and the ability to handle different scenarios. Additionally, if-else statements are fundamental in creating logic and algorithms, making them a powerful tool for writing efficient and dynamic code."
   ]
  },
  {
   "cell_type": "markdown",
   "id": "8c1a2d02",
   "metadata": {},
   "source": [
    "---"
   ]
  },
  {
   "cell_type": "markdown",
   "id": "4ad49bdc",
   "metadata": {},
   "source": [
    "#### What is modules in Python?"
   ]
  },
  {
   "cell_type": "markdown",
   "id": "10d3a174",
   "metadata": {},
   "source": [
    "Module is a file that contains a lot of function, which we can import and use it for our own purpose. The benefit of using modules is that we don't have to write everything from scratch, instead we can utilize the code written by someone else. This principle is called <b>code reusability."
   ]
  },
  {
   "cell_type": "markdown",
   "id": "9cc8122a",
   "metadata": {},
   "source": [
    "---"
   ]
  },
  {
   "cell_type": "markdown",
   "id": "2f2ffd9f",
   "metadata": {},
   "source": [
    "#### What are loops?"
   ]
  },
  {
   "cell_type": "markdown",
   "id": "4351b132",
   "metadata": {},
   "source": [
    "Loops are programming structures that allow a set of instructions to be repeated multiple times. They are used to automate repetitive tasks, iterate over data sets, and perform operations until certain conditions are met."
   ]
  },
  {
   "cell_type": "markdown",
   "id": "d7660e99",
   "metadata": {},
   "source": [
    "---"
   ]
  },
  {
   "cell_type": "markdown",
   "id": "d6bdeb12",
   "metadata": {},
   "source": [
    "#### What is a while loop?"
   ]
  },
  {
   "cell_type": "markdown",
   "id": "35597196",
   "metadata": {},
   "source": [
    "A \"while\" loop is a control flow statement that repeatedly executes a block of code as long as a specified condition is true. It's useful when the number of iterations is not known beforehand."
   ]
  },
  {
   "cell_type": "markdown",
   "id": "05759212",
   "metadata": {},
   "source": [
    "---"
   ]
  },
  {
   "cell_type": "markdown",
   "id": "7a493c7c",
   "metadata": {},
   "source": [
    "#### What is for loop?"
   ]
  },
  {
   "cell_type": "markdown",
   "id": "15075540",
   "metadata": {},
   "source": [
    "A \"for\" loop is used for iterating over a sequence (such as a list, tuple, or range of numbers) and executes a block of code a specific number of times."
   ]
  },
  {
   "cell_type": "markdown",
   "id": "b1c175fa",
   "metadata": {},
   "source": [
    "---"
   ]
  },
  {
   "cell_type": "markdown",
   "id": "3215421c",
   "metadata": {},
   "source": [
    "#### What are loop control statements?"
   ]
  },
  {
   "cell_type": "markdown",
   "id": "bf73ca70",
   "metadata": {},
   "source": [
    "Loop control statements are used to alter the execution of loops in a programming language. The three main loop control statements are:<br>\n",
    "<b>1. Break:</b> This statement is used to exit the loop prematurely, regardless of whether the loop condition is still true.<br>\n",
    "<b>2. Continue:</b> When this statement is encountered, the current iteration of the loop is stopped, and the program continues with the next iteration.<br>\n",
    "<b>3. Pass:</b> In some languages, \"pass\" is used as a placeholder where no action is required. It is often used when a statement is syntactically required but no action is needed.<br>\n",
    "<br>\n",
    "These control statements provide flexibility and allow programmers to fine-tune the behavior of loops based on specific conditions. If you need more information or examples, feel free to ask!"
   ]
  },
  {
   "cell_type": "markdown",
   "id": "a23f31ca",
   "metadata": {},
   "source": [
    "---"
   ]
  },
  {
   "cell_type": "markdown",
   "id": "c613cc6c",
   "metadata": {},
   "source": [
    "#### What are Strings?"
   ]
  },
  {
   "cell_type": "markdown",
   "id": "ccabf0f5",
   "metadata": {},
   "source": [
    "Strings are sequence of characters. In python specifically, strings are a sequence of unicode characters. It is defined using single quotes (''), double quotes (\"\") or triple quotes (''' '''). Here are some key points about strings in Python:<br>\n",
    "<b>1. String Manipulation:</b> Python provides a variety of operations for manipulating strings, such as concatenation (+), repetition (*), slicing, and more.<br>\n",
    "<b>2. Immutable:</b> Once a string is created, it cannot be changed. Any operation that appears to modify a string actually creates a new string.<br>\n",
    "<b>3. Accessing Characters:</b> Individual characters in a string can be accessed using indexing as Python uses zero-based indexing, so the first character is at index 0.<br>\n",
    "<b>4. String Methods:</b> Python provides a wide range of built-in string methods for tasks like formatting, searching, replacing, and manipulating strings.<br>\n",
    "<b>5. String Formatting:</b> Python supports multiple ways to format strings, including the % operator, the format() method, and f-strings (introduced in Python 3.6).<br>\n",
    "<b>6. Unicode Support:</b> Python 3 uses Unicode for strings, allowing for the representation of characters from multiple languages and scripts.<br>\n",
    "<b>7. Raw Strings:</b> Python supports raw strings, which are useful when working with regular expressions and paths."
   ]
  },
  {
   "cell_type": "markdown",
   "id": "dc43405b",
   "metadata": {},
   "source": [
    "---"
   ]
  },
  {
   "cell_type": "markdown",
   "id": "91aad140",
   "metadata": {},
   "source": [
    "#### What is indexing?"
   ]
  },
  {
   "cell_type": "markdown",
   "id": "8f146fb5",
   "metadata": {},
   "source": [
    "- Indexing refers to accessing individual elements within a sequence using their position.\n",
    "- In Python, indexing is zero-based, meaning the first element has an index of 0, the second element has an index of 1, and so on.\n",
    "- Negative indexing is also possible, where -1 refers to the last element, -2 refers to the second last, and so on."
   ]
  },
  {
   "cell_type": "markdown",
   "id": "7ecfd355",
   "metadata": {},
   "source": [
    "---"
   ]
  },
  {
   "cell_type": "markdown",
   "id": "73594216",
   "metadata": {},
   "source": [
    "#### What is slicing?"
   ]
  },
  {
   "cell_type": "markdown",
   "id": "840e9d05",
   "metadata": {},
   "source": [
    "- Slicing is the technique of obtaining a subset of elements from a sequence.\n",
    "- It is done by specifying a range of indices using the syntax seq[start:stop:step] where start is the starting index, stop is the ending index (exclusive), and step is the step value."
   ]
  },
  {
   "cell_type": "markdown",
   "id": "ffadcc59",
   "metadata": {},
   "source": [
    "---"
   ]
  },
  {
   "cell_type": "markdown",
   "id": "49c7c4ad",
   "metadata": {},
   "source": [
    "#### Is string in Python mutable?"
   ]
  },
  {
   "cell_type": "markdown",
   "id": "aabff1c1",
   "metadata": {},
   "source": [
    "No, strings in Python are immutuable. This is the reason that it does not support item assignment, menaning once the string has been created it can not be changed"
   ]
  },
  {
   "cell_type": "markdown",
   "id": "b1e9dc7c",
   "metadata": {},
   "source": [
    "---"
   ]
  },
  {
   "cell_type": "markdown",
   "id": "f5f092b5",
   "metadata": {},
   "source": [
    "#### What is format function in Python?"
   ]
  },
  {
   "cell_type": "markdown",
   "id": "48e53e76",
   "metadata": {},
   "source": [
    "In Python, the format() function is used to format strings, allowing for dynamic insertion of values into a string template. It provides a powerful way to create well-formatted strings with placeholders for variables."
   ]
  },
  {
   "cell_type": "markdown",
   "id": "f419e775",
   "metadata": {},
   "source": [
    "---"
   ]
  },
  {
   "cell_type": "markdown",
   "id": "e60104b6",
   "metadata": {},
   "source": [
    "### 2. Time Complexity"
   ]
  },
  {
   "cell_type": "markdown",
   "id": "57e4fe42",
   "metadata": {},
   "source": [
    "---"
   ]
  },
  {
   "cell_type": "markdown",
   "id": "14b1f851",
   "metadata": {},
   "source": [
    "#### What is efficiency?"
   ]
  },
  {
   "cell_type": "markdown",
   "id": "3cb2c43a",
   "metadata": {},
   "source": [
    "Efficiency refers to how well a program utilizes computational resources such as time, memory, and energy to perform a task. An efficient program executes its tasks with minimal waste of resources, leading to faster execution, lower memory usage, and reduced energy consumption.\n",
    "Efficiency in programming can be assessed in several ways:<br>\n",
    "<b>1. Time Efficiency:</b> This refers to how quickly a program can complete its tasks. An efficient program minimizes the time taken to execute algorithms and process data.<br>\n",
    "<b> 2.Space Efficiency:</b> Also known as memory efficiency, it relates to how much memory a program uses. An efficient program minimizes memory usage, reducing the need for additional storage.<br>\n",
    "<b>3. Algorithmic Efficiency:</b> This focuses on the effectiveness of algorithms used in a program. An efficient algorithm performs its task with the fewest possible operations.<br>\n",
    "Efficiency is crucial in programming, especially in large-scale applications, as it impacts performance, scalability, and cost-effectiveness. Programmers often strive to write code that is both correct and efficient, taking into account factors such as algorithm choice, data structures, and optimization techniques.<br>\n",
    "By designing and implementing efficient programs, developers can ensure that their software performs well, meets user expectations, and operates effectively within resource constraints."
   ]
  },
  {
   "cell_type": "markdown",
   "id": "6108c424",
   "metadata": {},
   "source": [
    "---"
   ]
  },
  {
   "cell_type": "markdown",
   "id": "97f958ca",
   "metadata": {},
   "source": [
    "#### What is Time Complexity?"
   ]
  },
  {
   "cell_type": "markdown",
   "id": "8469d605",
   "metadata": {},
   "source": [
    "Time complexity is a concept used to analyze the efficiency of algorithms in terms of the time it takes to run as a function of the size of the input. It helps in understanding how the algorithm's runtime grows as the input size increases."
   ]
  },
  {
   "cell_type": "markdown",
   "id": "104fbe23",
   "metadata": {},
   "source": [
    "---"
   ]
  },
  {
   "cell_type": "markdown",
   "id": "9bcc606e",
   "metadata": {},
   "source": [
    "#### What are techniques to measure time complexity?"
   ]
  },
  {
   "cell_type": "markdown",
   "id": "7807da7b",
   "metadata": {},
   "source": [
    "Below are 3 techniques through which we can measure time complexity:<br>\n",
    "<br>\n",
    "<b>1. Measuring time:</b> We can simply measure the time it takes to run a piece of code using our clock. But this technique has few flaws because of which it is not the primary choice. Below are the demerits of using this technique:<br>\n",
    "    a. Time varies if a simple implemnation change is forced into our code<br>\n",
    "    b. It depends on the machine that we are using it<br>\n",
    "    c. It is not capable for small input<br>\n",
    "    d. Time varies for different inputs, but can't establish the relationship\n",
    "    \n",
    "<b>2. Counting Operations:</b> In a particular code, we count the total number of operations it performs. This approach is independent of machine on which we are using it. Below are the benefits of using this approach: <br>\n",
    "a. Different time for different algorithm<br>\n",
    "b. Different machine different time<br>\n",
    "c. Time varies for different inputs, and we can establish the relationship<br>\n",
    "<br>\n",
    "Below are the flaws in using this approach:<br>\n",
    "a. Time varies if a simple implemnation change is forced into our code<br>\n",
    "b. There is no clear definition of which all operations to count<br>\n",
    "\n",
    "<b>3. Orders of Growth:</b> This is the best way to evaluate the time complexity and is highly used in industry. Lets start with the goal that we want to achieve:<br>\n",
    "a. We want to evaluate program's efficiency when input is very big<br>\n",
    "b. We want to express the growth of program's runtime as input size grows. Basically we want to establish a mathematical relationship between the size of the input and the time taken to execute it<br>\n",
    "c. We want to put an upper bound on growth - as tight as possible. Basically we want to consider the worst case scenario<br>\n",
    "d. Do not need to be precide: \"order of\" not \"exact\" growth\n",
    "e. We will look at the largest factors in run time (which section of the program will take the maximum amount of time)<br>\n",
    "\n",
    "It is often expressed using big O notation (O()), which provides an upper bound on the growth rate of an algorithm's running time in terms of the input size.<br>\n",
    "For example:<br>\n",
    "a. O(1) represents constant time complexity. The algorithm's runtime does not depend on the input size. e.g - Indexing in a list<br>\n",
    "b. O(log n) represents logarithmic time complexity. The algorithm's runtime grows logarithmically as the input size increases. e.g - Binary search<br>\n",
    "c. O(nlog n) represents logarithmic time complexity. The algorithm's runtime grows n times logarithmically as the input size increases. e.g - Sorting algorithm (Merge sort)<br>\n",
    "d. O(n) represents linear time complexity. The algorithm's runtime grows linearly with the input size. <br>\n",
    "e. O(n^2) represents quadratic time complexity. The algorithm's runtime grows quadratically with the input size.<br>"
   ]
  },
  {
   "cell_type": "markdown",
   "id": "db94f6a6",
   "metadata": {},
   "source": [
    "---"
   ]
  }
 ],
 "metadata": {
  "kernelspec": {
   "display_name": "Python 3 (ipykernel)",
   "language": "python",
   "name": "python3"
  },
  "language_info": {
   "codemirror_mode": {
    "name": "ipython",
    "version": 3
   },
   "file_extension": ".py",
   "mimetype": "text/x-python",
   "name": "python",
   "nbconvert_exporter": "python",
   "pygments_lexer": "ipython3",
   "version": "3.9.17"
  }
 },
 "nbformat": 4,
 "nbformat_minor": 5
}
